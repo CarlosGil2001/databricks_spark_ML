{
 "cells": [
  {
   "cell_type": "markdown",
   "metadata": {
    "application/vnd.databricks.v1+cell": {
     "cellMetadata": {},
     "inputWidgets": {},
     "nuid": "1552992d-74ec-4f3c-af99-451356d1f1a6",
     "showTitle": false,
     "title": ""
    }
   },
   "source": [
    "### **Predicción:** ¿Cúantas veces será compartido un artículo del Blog?"
   ]
  },
  {
   "cell_type": "markdown",
   "metadata": {
    "application/vnd.databricks.v1+cell": {
     "cellMetadata": {},
     "inputWidgets": {},
     "nuid": "dd283a10-fbd2-4497-936a-aa11733165c8",
     "showTitle": false,
     "title": ""
    }
   },
   "source": [
    "### Paso 1: Cargar Dataset"
   ]
  },
  {
   "cell_type": "code",
   "execution_count": 0,
   "metadata": {
    "application/vnd.databricks.v1+cell": {
     "cellMetadata": {},
     "inputWidgets": {},
     "nuid": "fa87a5d2-e66e-4259-a438-80b266687e2a",
     "showTitle": false,
     "title": ""
    }
   },
   "outputs": [],
   "source": [
    "import pandas as pd\n",
    "from pyspark.sql.functions import *"
   ]
  },
  {
   "cell_type": "code",
   "execution_count": 0,
   "metadata": {
    "application/vnd.databricks.v1+cell": {
     "cellMetadata": {},
     "inputWidgets": {},
     "nuid": "6482be4c-f067-47c9-b0ac-35c938b94601",
     "showTitle": false,
     "title": ""
    }
   },
   "outputs": [
    {
     "output_type": "display_data",
     "data": {
      "text/html": [
       "<style scoped>\n",
       "  .table-result-container {\n",
       "    max-height: 300px;\n",
       "    overflow: auto;\n",
       "  }\n",
       "  table, th, td {\n",
       "    border: 1px solid black;\n",
       "    border-collapse: collapse;\n",
       "  }\n",
       "  th, td {\n",
       "    padding: 5px;\n",
       "  }\n",
       "  th {\n",
       "    text-align: left;\n",
       "  }\n",
       "</style><div class='table-result-container'><table class='table-result'><thead style='background-color: white'><tr><th>Title</th><th>url</th><th>Word count</th><th># of Links</th><th># of comments</th><th># Images video</th><th>Elapsed days</th><th># Shares</th></tr></thead><tbody><tr><td>What is Machine Learning and how do we use it in Signals?</td><td>https://blog.signals.network/what-is-machine-learning-and-how-do-we-use-it-in-signals-6797e720d636</td><td>1888</td><td>1</td><td>2</td><td>2</td><td>34</td><td>200000</td></tr><tr><td>10 Companies Using Machine Learning in Cool Ways</td><td>null</td><td>1742</td><td>9</td><td>null</td><td>9</td><td>5</td><td>25000</td></tr><tr><td>How Artificial Intelligence Is Revolutionizing the Sector</td><td>null</td><td>962</td><td>6</td><td>0</td><td>1</td><td>10</td><td>42000</td></tr><tr><td>Dbrain and the Blockchain of Artificial Intelligence</td><td>null</td><td>1221</td><td>3</td><td>null</td><td>2</td><td>68</td><td>200000</td></tr><tr><td>Nasa finds entire solar system filled with eight planets like our own</td><td>null</td><td>2039</td><td>1</td><td>104</td><td>4</td><td>131</td><td>200000</td></tr><tr><td>5 ways Data Science and Machine Learning impact business</td><td>null</td><td>761</td><td>0</td><td>null</td><td>1</td><td>14</td><td>21000</td></tr><tr><td>200 universities just launched 600 free online courses. Here’s the full list.</td><td>https://qz.com/1120344/200-universities-just-launched-600-free-online-courses-heres-the-full-list/</td><td>6462</td><td>600</td><td>28</td><td>2</td><td>170</td><td>200000</td></tr><tr><td>How Machine Learning can help Cryptocurrency Traders Maximize their Gains</td><td>https://cryptovest.com/news/how-machine-learning-can-help-cryptocurrency-traders-maximize-their-gains/?utm_source=SocialAnimal&utm_medium=referral</td><td>753</td><td>3</td><td>0</td><td>1</td><td>78</td><td>77000</td></tr><tr><td>Tech companies should stop pretending AI won’t destroy jobs</td><td>https://www.technologyreview.com/s/610298/tech-companies-should-stop-pretending-ai-wont-destroy-jobs/</td><td>1118</td><td>2</td><td>null</td><td>1</td><td>62</td><td>59400</td></tr><tr><td>Artificial intelligence is going to completely change your life</td><td>null</td><td>1581</td><td>4</td><td>null</td><td>2</td><td>60</td><td>35000</td></tr><tr><td>Facebook robots shut down after they talk to each other in language only they understand</td><td>null</td><td>2090</td><td>1</td><td>95</td><td>1</td><td>267</td><td>100000</td></tr><tr><td>A visual introduction to machine learning</td><td>http://www.r2d3.us/visual-intro-to-machine-learning-part-1/?utm_source=SocialAnimal&utm_medium=referral</td><td>1099</td><td>4</td><td>null</td><td>15</td><td>1002</td><td>350000</td></tr><tr><td>10 Breakthrough Technologies 2018</td><td>null</td><td>3900</td><td>30</td><td>null</td><td>10</td><td>62</td><td>20000</td></tr><tr><td>Google CEO Sundar Pichai says AI is more profound than electricity or fire</td><td>null</td><td>256</td><td>0</td><td>27</td><td>1</td><td>95</td><td>29000</td></tr><tr><td>How machine learning is changing the financial industry</td><td>null</td><td>1267</td><td>2</td><td>null</td><td>4</td><td>124</td><td>37000</td></tr><tr><td>New AI can work out whether you're gay or straight from a photograph</td><td>https://www.theguardian.com/technology/2017/sep/07/new-artificial-intelligence-can-tell-whether-youre-gay-or-straight-from-a-photograph</td><td>971</td><td>10</td><td>null</td><td>1</td><td>228</td><td>67300</td></tr><tr><td>Researchers have linked a human brain to the Internet for the first time ever</td><td>https://futurism.com/researchers-have-linked-a-human-brain-to-the-internet-for-the-first-time-ever/</td><td>369</td><td>6</td><td>null</td><td>1</td><td>222</td><td>60100</td></tr><tr><td>Who’s a good AI? Dog-based data creates a canine machine learning system</td><td>https://techcrunch.com/2018/04/11/whos-a-good-ai-dog-based-data-creates-a-canine-machine-learning-system/</td><td>635</td><td>3</td><td>1</td><td>2</td><td>12</td><td>3200</td></tr><tr><td>Which One to Choose for Your Problem</td><td>null</td><td>1631</td><td>6</td><td>6</td><td>9</td><td>180</td><td>37000</td></tr><tr><td>A computer was asked to predict which start-ups would be successful. The results were astonishing</td><td>null</td><td>571</td><td>4</td><td>null</td><td>1</td><td>277</td><td>55000</td></tr><tr><td>AI Is Inventing Languages Humans Can’t Understand. Should We Stop It?</td><td>https://www.fastcodesign.com/90132632/ai-is-inventing-its-own-perfect-languages-should-we-let-it</td><td>1333</td><td>8</td><td>null</td><td>4</td><td>284</td><td>54800</td></tr><tr><td>An Artificial Intelligence Developed Its Own Non-Human Language</td><td>https://www.theatlantic.com/technology/archive/2017/06/artificial-intelligence-develops-its-own-non-human-language/530436/</td><td>364</td><td>5</td><td>null</td><td>2</td><td>313</td><td>54600</td></tr><tr><td>Denmark's largest bank is using AI and machine learning to ‘tear everything apart’ – and it’s starting to pay off</td><td>null</td><td>515</td><td>2</td><td>null</td><td>5</td><td>173</td><td>27000</td></tr><tr><td>How Artificial Intelligence Is Key for Autonomous Vehicle Development</td><td>null</td><td>1135</td><td>8</td><td>0</td><td>1</td><td>146</td><td>20000</td></tr><tr><td>Machine Learning Zone: OpenAI competition takes on Sonic the Hedgehog</td><td>null</td><td>666</td><td>4</td><td>0</td><td>3</td><td>18</td><td>2400</td></tr><tr><td>How neural networks are trained</td><td>https://ml4a.github.io/ml4a/how_neural_networks_are_trained/</td><td>8401</td><td>30</td><td>null</td><td>21</td><td>113</td><td>14000</td></tr><tr><td>Reverie Labs uses new machine learning algorithms to fix drug development bottlenecks</td><td>null</td><td>787</td><td>4</td><td>0</td><td>1</td><td>39</td><td>3800</td></tr><tr><td>Machine Learning Applied to Big Data, Explained</td><td>null</td><td>421</td><td>2</td><td>null</td><td>1</td><td>277</td><td>26000</td></tr><tr><td>Physicists have discovered what makes neural networks so extraordinarily powerful</td><td>null</td><td>1065</td><td>1</td><td>19</td><td>1</td><td>171</td><td>14000</td></tr><tr><td>Turning Design Mockups Into Code With Deep Learning</td><td>null</td><td>5892</td><td>21</td><td>null</td><td>20</td><td>104</td><td>7100</td></tr><tr><td>A deep-learning machine was trained to spot criminals by looking at mugshots</td><td>null</td><td>908</td><td>2</td><td>null</td><td>1</td><td>226</td><td>14000</td></tr><tr><td>Getting Value from MachineLearning Isn’t About Fancier Algorithms — It’s About Making It Easier to Use</td><td>null</td><td>1260</td><td>6</td><td>4</td><td>1</td><td>49</td><td>3000</td></tr><tr><td>The Amazing Ways Tesla Is Using Artificial Intelligence And Big Data</td><td>null</td><td>950</td><td>6</td><td>null</td><td>1</td><td>106</td><td>5600</td></tr><tr><td>10 Machine LearningAlgorithms You Should Know to Become a Data Scientist - DZone AI</td><td>null</td><td>1761</td><td>49</td><td>4</td><td>10</td><td>30</td><td>1500</td></tr><tr><td>Google’s Artificial-Intelligence Wizard Unveils a New Twist on Neural Networks</td><td>null</td><td>911</td><td>10</td><td>23</td><td>1</td><td>174</td><td>8400</td></tr><tr><td>and the part artificial intelligence has to play</td><td>null</td><td>971</td><td>5</td><td>null</td><td>2</td><td>127</td><td>5300</td></tr><tr><td>How Amazon Rebuilt Itself Around Artificial Intelligence</td><td>null</td><td>4420</td><td>13</td><td>12</td><td>8</td><td>82</td><td>3400</td></tr><tr><td>Feature Labs launches out of MIT to accelerate the development of machinelearning algorithms</td><td>null</td><td>458</td><td>1</td><td>0</td><td>2</td><td>61</td><td>2500</td></tr><tr><td>CometML wants to do for machine learning what GitHub did for code</td><td>null</td><td>458</td><td>3</td><td>0</td><td>3</td><td>19</td><td>757</td></tr><tr><td>Why it’s a big deal that AI knows how to bluff in poker</td><td>null</td><td>782</td><td>8</td><td>5</td><td>1</td><td>176</td><td>6400</td></tr><tr><td>Discussing the limits of artificial intelligence</td><td>null</td><td>2080</td><td>4</td><td>0</td><td>4</td><td>127</td><td>3600</td></tr><tr><td>Crean inteligencia artificial para evaluar incendios y catástrofes naturales</td><td>https://www.fayerwayer.com/2018/04/crean-inteligencia-artificial-evaluar-incendios-catastrofes-naturales</td><td>250</td><td>4</td><td>1</td><td>2</td><td>1</td><td>22</td></tr><tr><td>What's the difference between data science, machinelearning, and artificialintelligence?</td><td>http://varianceexplained.org/r/ds-ml-ai/</td><td>1763</td><td>1</td><td>29</td><td>1</td><td>105</td><td>2300</td></tr><tr><td>The Artificial Intelligence Startups Redefining Industries</td><td>null</td><td>650</td><td>10</td><td>0</td><td>3</td><td>133</td><td>2800</td></tr><tr><td>Top 20 PythonAI and MachineLearning Open Source Projects</td><td>https://www.kdnuggets.com/2018/02/top-20-python-ai-machine-learning-open-source-projects.html</td><td>1184</td><td>39</td><td>8</td><td>1</td><td>63</td><td>1300</td></tr><tr><td>5 Key Artificial IntelligencePredictions For 2018: HowMachine Learning Will Change Everything</td><td>https://www.forbes.com/sites/bernardmarr/2017/12/18/5-key-artificial-intelligence-predictions-for-2018-how-machine-learning-will-change-everything/</td><td>957</td><td>9</td><td>null</td><td>1</td><td>127</td><td>2500</td></tr><tr><td>Pythonovertakes R, becomes the leader in Data Science, MachineLearningplatforms</td><td>https://www.kdnuggets.com/2017/08/python-overtakes-r-leader-analytics-data-science.html</td><td>627</td><td>2</td><td>5</td><td>4</td><td>239</td><td>4500</td></tr><tr><td>¿Podremos crear máquinas verdaderamente inteligentes?</td><td>https://elpais.com/tecnologia/2018/03/27/actualidad/1522139782_730950.html</td><td>895</td><td>1</td><td>13</td><td>1</td><td>23</td><td>422</td></tr><tr><td>Artificial Intelligence Isn't Killing Jobs; It's Killing Business Models</td><td>null</td><td>1097</td><td>2</td><td>null</td><td>1</td><td>89</td><td>1600</td></tr><tr><td>3 Things AI Can Already Do for Your Company</td><td>null</td><td>4437</td><td>3</td><td>2</td><td>3</td><td>113</td><td>2000</td></tr><tr><td>10 Ways Machine Learning Is Revolutionizing Manufacturing In 2018</td><td>https://www.forbes.com/sites/louiscolumbus/2018/03/11/10-ways-machine-learning-is-revolutionizing-manufacturing-in-2018/#7199e52623ac</td><td>1262</td><td>10</td><td>null</td><td>10</td><td>44</td><td>715</td></tr><tr><td>10 Ways Machine Learning Is Revolutionizing Marketing</td><td>https://www.forbes.com/sites/louiscolumbus/2018/02/25/10-ways-machine-learning-is-revolutionizing-marketing/#4219d395bb64</td><td>1738</td><td>32</td><td>null</td><td>9</td><td>58</td><td>907</td></tr><tr><td>Top 10 Machine LearningAlgorithms for Beginners</td><td>null</td><td>1813</td><td>6</td><td>null</td><td>5</td><td>186</td><td>2800</td></tr><tr><td>A Tour of The Top 10 Algorithms for MachineLearning Newbies</td><td>null</td><td>2400</td><td>5</td><td>21</td><td>11</td><td>94</td><td>1300</td></tr><tr><td>What’s the difference betweenartificial intelligence, machinelearning, and deep learning? | Qualcomm</td><td>https://www.qualcomm.com/news/onq/2017/09/01/whats-difference-between-artificial-intelligence-machine-learning-and-deep</td><td>662</td><td>2</td><td>null</td><td>4</td><td>234</td><td>3000</td></tr><tr><td>How Quantum Computers Will Revolutionize ArtificialIntelligence, MachineLearning And Big Data</td><td>https://www.forbes.com/sites/bernardmarr/2017/09/05/how-quantum-computers-will-revolutionize-artificial-intelligence-machine-learning-and-big-data/</td><td>800</td><td>6</td><td>null</td><td>2</td><td>231</td><td>2800</td></tr><tr><td>Jack Ma: Artificialintelligence, machine learningmay cause World War III</td><td>http://www.businessinsider.com/alibaba-stock-price-jack-ma-artificial-intelligence-machine-learning-may-cause-world-war-iii-2017-6</td><td>367</td><td>5</td><td>null</td><td>1</td><td>307</td><td>3300</td></tr><tr><td>Google and MIT’s new machine learning algorithmsretouch your photos before you take them</td><td>null</td><td>507</td><td>8</td><td>13</td><td>2</td><td>265</td><td>2600</td></tr><tr><td>How to create a NeuralNetwork in JavaScript in only 30 lines of code</td><td>null</td><td>992</td><td>10</td><td>30</td><td>6</td><td>250</td><td>2300</td></tr><tr><td>PythonOvertakes R for Data Science and MachineLearning</td><td>https://www.datasciencecentral.com/profiles/blogs/python-overtakes-r-for-data-science-and-machine-learning</td><td>499</td><td>10</td><td>5</td><td>2</td><td>237</td><td>1400</td></tr><tr><td>Salesforce created an algorithm that automatically summarizes text using machine learning</td><td>null</td><td>619</td><td>10</td><td>3</td><td>1</td><td>345</td><td>1800</td></tr><tr><td>Construir inteligencia artificial que construya inteligencia artificial</td><td>https://www.nytimes.com/es/2017/11/07/inteligencia-artificial-auto-ml-google/</td><td>1152</td><td>8</td><td>null</td><td>3</td><td>168</td><td>867</td></tr><tr><td>MachineLearningWorkflows in Python from Scratch Part 1: Data Preparation</td><td>https://www.kdnuggets.com/2017/05/machine-learning-workflows-python-scratch-part-1.html</td><td>2363</td><td>4</td><td>null</td><td>4</td><td>330</td><td>1500</td></tr><tr><td>Por qué ‘machine learning’ sera la tecnología más importante en 2018</td><td>https://elpais.com/tecnologia/2017/11/28/actualidad/1511866764_933798.html</td><td>988</td><td>1</td><td>0</td><td>1</td><td>147</td><td>631</td></tr><tr><td>Get started with machinelearning using Python</td><td>https://www.analyticsvidhya.com/blog/2017/05/pydata-amsterdam-2017-machine-learning-deep-learning-data-science/</td><td>759</td><td>20</td><td>1</td><td>1</td><td>328</td><td>1200</td></tr><tr><td>MachineLearningExercises in Python: An Introductory Tutorial Series</td><td>https://www.kdnuggets.com/2017/07/machine-learning-exercises-python-introductory-tutorial-series.html</td><td>1098</td><td>8</td><td>null</td><td>3</td><td>272</td><td>950</td></tr><tr><td>22 talks from PyData 2017 | Deep Learning, MachineLearning & NLP</td><td>https://www.analyticsvidhya.com/blog/2017/05/pydata-amsterdam-2017-machine-learning-deep-learning-data-science/</td><td>2797</td><td>22</td><td>7</td><td>22</td><td>349</td><td>1200</td></tr><tr><td>La inteligencia artificial ya diagnostica enfermedades tan bien como los médicos</td><td>http://www.lavanguardia.com/ciencia/cuerpo-humano/20180223/44950677766/inteligencia-artificial-machine-learning-diagnosticar-enfermedades-medicos-eficiencia.html?platform=hootsuite</td><td>1120</td><td>2</td><td>0</td><td>4</td><td>60</td><td>196</td></tr><tr><td>Modern Machine LearningAlgorithms: Strengths and Weaknesses</td><td>null</td><td>2488</td><td>11</td><td>null</td><td>5</td><td>343</td><td>1100</td></tr><tr><td>Core ML and Vision: MachineLearning in iOS 11 Tutorial</td><td>https://www.raywenderlich.com/164213/coreml-and-vision-machine-learning-in-ios-11-tutorial</td><td>2049</td><td>12</td><td>23</td><td>7</td><td>319</td><td>668</td></tr><tr><td>Tutorial to deploy Machine Learning models in Production as APIs (using Flask)</td><td>https://www.analyticsvidhya.com/blog/2017/09/machine-learning-models-as-apis-using-flask/</td><td>2542</td><td>2</td><td>0</td><td>4</td><td>208</td><td>424</td></tr><tr><td>Getting the NDA out of the Way with Machine Learning</td><td>https://blog.bigml.com/2018/04/18/getting-the-nda-out-of-the-way-with-machine-learning/</td><td>1011</td><td>15</td><td>0</td><td>2</td><td>6</td><td>8</td></tr><tr><td>Tutorial on Automated MachineLearning using MLBox</td><td>https://www.analyticsvidhya.com/blog/2017/07/mlbox-library-automated-machine-learning/</td><td>2189</td><td>3</td><td>11</td><td>8</td><td>292</td><td>367</td></tr><tr><td>[Log] 0: Allegro.AI nabs $11M for ‘deep learning as a service’, for businesses to build computer vision products</td><td>[Log] 0: https://techcrunch.com/2018/04/25/allegro-ai-nabs-11m-for-a-platform-that-helps-businesses-build-computer-vision-based-services/</td><td>1864</td><td>6</td><td>12</td><td>2</td><td>1</td><td>42406</td></tr><tr><td>[Log] 1: Want to fool a computer vision system? Just tweak some colors</td><td>[Log] 1: https://techcrunch.com/2018/04/16/want-to-fool-a-computer-vision-system-just-tweak-some-colors/</td><td>990</td><td>6</td><td>7</td><td>3</td><td>2</td><td>1733</td></tr><tr><td>[Log] 2: UK report urges action to combat AI bias</td><td>[Log] 2: https://techcrunch.com/2018/04/16/uk-report-urges-action-to-combat-ai-bias/</td><td>1741</td><td>5</td><td>10</td><td>3</td><td>3</td><td>35691</td></tr><tr><td>[Log] 3: The 10 most exciting open source projects of 2018</td><td>[Log] 3: http://blog.honeypot.io/most-exciting-open-source-projects-2018/</td><td>1229</td><td>5</td><td>6</td><td>4</td><td>4</td><td>11061</td></tr><tr><td>[Log] 4: Why 2018 will be the year apps go to the edge</td><td>[Log] 4: https://techcrunch.com/2018/04/03/why-2018-will-be-the-year-apps-go-to-the-edge/</td><td>2975</td><td>3</td><td>0</td><td>2</td><td>5</td><td>51319</td></tr><tr><td>[Log] 5: Arm chips with Nvidia AI could change the Internet of Things</td><td>[Log] 5: https://techcrunch.com/2018/03/27/arm-chips-will-with-nvidia-ai-could-change-the-internet-of-things/</td><td>1864</td><td>1</td><td>10</td><td>4</td><td>6</td><td>30756</td></tr><tr><td>[Log] 6: Precious uses artificial intelligence to help parents figure out what to do with all their baby photos</td><td>[Log] 6: https://techcrunch.com/2018/03/27/precious-uses-artificial-intelligence-to-help-parents-figure-out-what-to-do-with-all-their-baby-photos/</td><td>2460</td><td>1</td><td>12</td><td>2</td><td>7</td><td>58425</td></tr><tr><td>[Log] 7: Learning To See – Making deep neural network predictions on live camera input</td><td>[Log] 7: http://www.creativeapplications.net/openframeworks/learning-to-see-making-deep-neural-network-predictions-on-live-camera-input/</td><td>2136</td><td>5</td><td>9</td><td>3</td><td>8</td><td>48060</td></tr><tr><td>[Log] 8: IBM launches deep learning as a service inside its Watson Studio</td><td>[Log] 8: https://techcrunch.com/2018/03/19/ibm-launches-deep-learning-as-a-service-inside-its-watson-studio/</td><td>2833</td><td>7</td><td>0</td><td>2</td><td>9</td><td>0</td></tr><tr><td>[Log] 9: Here are 64 startups that launched today at Y Combinator’s W18 Demo Day</td><td>[Log] 9: https://techcrunch.com/2018/03/19/here-are-64-startups-that-launched-today-at-y-combinators-w18-demo-day/</td><td>1995</td><td>7</td><td>6</td><td>6</td><td>10</td><td>4988</td></tr><tr><td>[Log] 10: Voicery makes synthesized voices sound more like humans</td><td>[Log] 10: https://techcrunch.com/2018/03/14/voicery-makes-synthesized-voices-sound-more-like-humans/</td><td>2332</td><td>5</td><td>1</td><td>6</td><td>11</td><td>27984</td></tr><tr><td>[Log] 11: MIT’s new chip could bring neural nets to battery-powered gadgets</td><td>[Log] 11: https://techcrunch.com/2018/02/14/mits-new-chip-could-bring-neural-nets-to-battery-powered-gadgets/?ncid=rss</td><td>1998</td><td>6</td><td>3</td><td>3</td><td>12</td><td>45455</td></tr><tr><td>[Log] 12: Ingenieros de la Universidad de Chile sofistican mecanismos para interactuar con robots</td><td>[Log] 12: https://www.fayerwayer.com/2018/01/universidad-chile-interactuar-robots/</td><td>3442</td><td>3</td><td>9</td><td>2</td><td>13</td><td>76585</td></tr><tr><td>[Log] 13: Sleep deprivation is making product teams age faster and think slower</td><td>[Log] 13: https://mixpanel.com/blog/2018/01/11/well-slept-teams-build-better-products/</td><td>2696</td><td>6</td><td>5</td><td>1</td><td>14</td><td>24264</td></tr><tr><td>[Log] 14: Frank Chen will make you a believer in AI</td><td>[Log] 14: https://mixpanel.com/blog/2017/12/12/frank-chen-ai-andreessen-horowitz/</td><td>1913</td><td>5</td><td>1</td><td>6</td><td>15</td><td>5261</td></tr><tr><td>[Log] 15: Story roundup: data to be grateful for this holiday season</td><td>[Log] 15: https://mixpanel.com/blog/2017/11/22/story-roundup-data-to-be-grateful-for/</td><td>1858</td><td>8</td><td>5</td><td>2</td><td>16</td><td>25548</td></tr><tr><td>[Log] 16: Story roundup: data to be grateful for this holiday season</td><td>[Log] 16: https://mxpnlcms.wpengine.com/blog/2017/11/22/story-roundup-data-to-be-grateful-for/</td><td>2457</td><td>3</td><td>3</td><td>4</td><td>17</td><td>0</td></tr><tr><td>[Log] 17: Aprendizaje Profundo: una Guía rápida</td><td>[Log] 17: http://www.aprendemachinelearning.com/aprendizaje-profundo-una-guia-rapida/</td><td>2592</td><td>1</td><td>12</td><td>6</td><td>18</td><td>56376</td></tr><tr><td>[Log] 18: Principales Algoritmos usados en Machine Learning</td><td>[Log] 18: http://www.aprendemachinelearning.com/principales-algoritmos-usados-en-machine-learning/</td><td>1718</td><td>2</td><td>12</td><td>2</td><td>19</td><td>13315</td></tr><tr><td>[Log] 19: Aplicaciones del Machine Learning</td><td>[Log] 19: http://www.aprendemachinelearning.com/aplicaciones-del-machine-learning/</td><td>1293</td><td>8</td><td>7</td><td>6</td><td>20</td><td>27476</td></tr><tr><td>[Log] 20: Mapbox acquires neural network startup Mapdata to help it expand into AR maps</td><td>[Log] 20: https://techcrunch.com/2017/11/03/mapbox-acquires-mapdata-to-help-it-expand-into-ar-maps/?ncid=rss</td><td>3023</td><td>7</td><td>6</td><td>1</td><td>21</td><td>55170</td></tr><tr><td>[Log] 21: How video game tech makes neural networks possible</td><td>[Log] 21: https://techcrunch.com/2017/10/27/how-video-game-tech-makes-neural-networks-possible/?ncid=rss</td><td>3485</td><td>2</td><td>10</td><td>6</td><td>22</td><td>871</td></tr><tr><td>[Log] 22: Google introduces Neural Networks API in developer preview of Android 8.1</td><td>[Log] 22: https://techcrunch.com/2017/10/25/google-introduces-neural-networks-api-in-developer-preview-of-android-8-1/?ncid=rss</td><td>2093</td><td>3</td><td>14</td><td>2</td><td>23</td><td>39767</td></tr><tr><td>[Log] 23: The Brain and Body Are Really One, Especially When It Comes to Emotions</td><td>[Log] 23: http://www.blog-thebrain.org/advanced/2017/10/11/the-brain-and-body-are-really-one-especially-when-it-comes-to-emotions/</td><td>1490</td><td>7</td><td>0</td><td>1</td><td>24</td><td>16390</td></tr><tr><td>[Log] 24: The Brain: The History of an Organ Like No Other</td><td>[Log] 24: http://www.blog-thebrain.org/advanced/2017/09/26/1395/</td><td>1238</td><td>6</td><td>8</td><td>5</td><td>25</td><td>23832</td></tr><tr><td>[Log] 25: Apple’s new TrueDepth Camera System and its Implications</td><td>[Log] 25: https://www.cygnismedia.com/blog/true-depth-camera-system/</td><td>2583</td><td>1</td><td>8</td><td>6</td><td>26</td><td>12269</td></tr><tr><td>[Log] 26: Frank Lessons on AI from the Developer of the World’s First Hotdog Recognizer</td><td>[Log] 26: https://mxpnlcms.wpengine.com/blog/2017/08/31/frank-lessons-on-ai-from-tim-anglade/</td><td>1007</td><td>2</td><td>7</td><td>6</td><td>27</td><td>10574</td></tr><tr><td>[Log] 27: Humans Are the Product of Dynamic Processes on Multiple Time Scales</td><td>[Log] 27: http://www.blog-thebrain.org/advanced/2017/08/21/humans-are-the-product-of-dynamic-processes-on-multiple-time-scales/</td><td>978</td><td>8</td><td>0</td><td>1</td><td>28</td><td>24206</td></tr><tr><td>[Log] 28: Prisma shifts focus to b2b with an API for AI-powered mobile effects</td><td>[Log] 28: https://techcrunch.com/2017/08/19/prisma-shifts-focus-to-b2b-with-an-api-for-ai-powered-mobile-effects/?ncid=rss</td><td>3019</td><td>5</td><td>3</td><td>2</td><td>29</td><td>13586</td></tr><tr><td>[Log] 29: Teleport’s neural networks let you try before you hair dye</td><td>[Log] 29: https://techcrunch.com/2017/08/09/teleports-neural-networks-let-you-try-before-you-hair-dye/?ncid=rss</td><td>3289</td><td>3</td><td>8</td><td>6</td><td>30</td><td>81403</td></tr><tr><td>[Log] 30: Facebook finishes its move to neural machine translation</td><td>[Log] 30: https://techcrunch.com/2017/08/03/facebook-finishes-its-move-to-neural-machine-translation/?ncid=rss</td><td>2347</td><td>5</td><td>3</td><td>1</td><td>31</td><td>21123</td></tr><tr><td>[Log] 31: What you should know about AI</td><td>[Log] 31: https://techcrunch.com/2017/08/01/what-you-should-know-about-ai/?ncid=rss</td><td>2224</td><td>8</td><td>2</td><td>3</td><td>32</td><td>32248</td></tr><tr><td>[Log] 32: HBO’s Silicon Valley on A.I. driven products: Not HotDog</td><td>[Log] 32: https://mxpnlcms.wpengine.com/blog/2017/07/27/ai-driven-products-hbo-silicon-valley/</td><td>1778</td><td>4</td><td>11</td><td>6</td><td>33</td><td>8001</td></tr><tr><td>[Log] 33: Why the future of deep learning depends on finding good data</td><td>[Log] 33: https://techcrunch.com/2017/07/21/why-the-future-of-deep-learning-depends-on-finding-good-data/?ncid=rss</td><td>1150</td><td>6</td><td>3</td><td>4</td><td>34</td><td>23288</td></tr><tr><td>[Log] 34: MIT is building a system that can identify a recipe using pictures of food</td><td>[Log] 34: https://techcrunch.com/2017/07/20/mit-is-building-a-system-that-can-identify-a-recipe-using-pictures-of-food/?ncid=rss</td><td>2528</td><td>5</td><td>6</td><td>2</td><td>35</td><td>53720</td></tr><tr><td>[Log] 35: Apple launches machine learning research site</td><td>[Log] 35: https://techcrunch.com/2017/07/19/apple-launches-machine-learning-research-site/?ncid=rss</td><td>2486</td><td>1</td><td>13</td><td>6</td><td>36</td><td>53449</td></tr><tr><td>[Log] 36: Metaphors for the Brain’s Anatomy and Functioning</td><td>[Log] 36: http://www.blog-thebrain.org/advanced/2017/07/14/1362/</td><td>2317</td><td>7</td><td>8</td><td>5</td><td>37</td><td>52712</td></tr><tr><td>[Log] 37: Computed Curation – Curating photography with neural networks</td><td>[Log] 37: http://www.creativeapplications.net/js/computed-curation-curating-photography-with-neural-networks/</td><td>2369</td><td>3</td><td>5</td><td>2</td><td>38</td><td>39681</td></tr><tr><td>[Log] 38: MIT CSAIL research offers a fully automated way to peer inside neural nets</td><td>[Log] 38: https://techcrunch.com/2017/06/30/mit-csail-research-offers-a-fully-automated-way-to-peer-inside-neural-nets/?ncid=rss</td><td>1612</td><td>5</td><td>5</td><td>2</td><td>39</td><td>39091</td></tr><tr><td>[Log] 39: Microsoft launches a new service for training deep neural networks on Azure</td><td>[Log] 39: https://techcrunch.com/2017/05/10/microsoft-launches-a-new-service-for-training-deep-neural-networks-on-azure/?ncid=rss</td><td>1136</td><td>6</td><td>14</td><td>3</td><td>40</td><td>28116</td></tr><tr><td>[Log] 40: Someone scraped 40,000 Tinder selfies to make a facial dataset for AI experiments</td><td>[Log] 40: https://techcrunch.com/2017/04/28/someone-scraped-40000-tinder-selfies-to-make-a-facial-dataset-for-ai-experiments/?ncid=rss</td><td>2721</td><td>3</td><td>14</td><td>6</td><td>41</td><td>25850</td></tr><tr><td>[Log] 41: 10 Machine Learning Examples in JavaScript</td><td>[Log] 41: http://tutorialzine.com/2017/04/10-machine-learning-examples-in-javascript/</td><td>3480</td><td>1</td><td>14</td><td>3</td><td>42</td><td>20880</td></tr><tr><td>[Log] 42: Neural networks made easy</td><td>[Log] 42: https://techcrunch.com/2017/04/13/neural-networks-made-easy/?ncid=rss</td><td>1143</td><td>8</td><td>5</td><td>6</td><td>43</td><td>17145</td></tr><tr><td>[Log] 43: Google DeepMind open sources Sonnet so you can build neural networks in TensorFlow even quicker</td><td>[Log] 43: https://techcrunch.com/2017/04/07/google-deepmind-open-sources-sonnet-so-you-can-build-neural-networks-in-tensorflow-even-quicker/?ncid=rss</td><td>2428</td><td>4</td><td>10</td><td>3</td><td>44</td><td>57058</td></tr><tr><td>[Log] 44: Google’s smarter, A.I.-powered translation system expands to more languages</td><td>[Log] 44: https://techcrunch.com/2017/03/06/googles-smarter-a-i-powered-translation-system-expands-to-more-languages/?ncid=rss</td><td>2877</td><td>4</td><td>2</td><td>6</td><td>45</td><td>19420</td></tr><tr><td>[Log] 45: Mark Zuckerberg’s ‘Jarvis’ Addresses AI’s Biggest Challenges</td><td>[Log] 45: https://www.cygnismedia.com/blog/artificial-intelligence-challenges/</td><td>776</td><td>1</td><td>7</td><td>6</td><td>46</td><td>3298</td></tr><tr><td>[Log] 46: Embark’s self-driving truck is ready to assist human drivers</td><td>[Log] 46: https://techcrunch.com/2017/02/24/embarks-self-driving-truck-is-ready-to-assist-human-drivers/?ncid=rss</td><td>1284</td><td>8</td><td>5</td><td>2</td><td>47</td><td>31137</td></tr><tr><td>\"[Log] 47: \"\"Zoom</td><td> Enhance\"\" Could Become a Reality</td><td> Thanks to Google\"</td><td>[Log] 47: http://www.hongkiat.com/blog/google-zoom-enhance-technology/</td><td>1145</td><td>6</td><td>11</td><td>2</td></tr><tr><td>[Log] 48: FaceApp uses neural networks for photorealistic selfie tweaks</td><td>[Log] 48: https://techcrunch.com/2017/02/08/faceapp-uses-neural-networks-for-photorealistic-selfie-tweaks/?ncid=rss</td><td>1793</td><td>7</td><td>13</td><td>4</td><td>49</td><td>34515</td></tr><tr><td>[Log] 49: Mark Cuban on Why You Need to Study Artificial Intelligence or You’ll be a Dinosaur in 3 Years</td><td>[Log] 49: https://bothsidesofthetable.com/mark-cuban-on-why-you-need-to-study-artificial-intelligence-or-youll-be-a-dinosaur-in-3-years-db3447bea1b4?source=rss----97f98e5df342---4</td><td>2904</td><td>7</td><td>14</td><td>1</td><td>50</td><td>7260</td></tr><tr><td>[Log] 50: A First Brain-Imaging Study on the Effects of LSD</td><td>[Log] 50: http://www.blog-thebrain.org/advanced/2017/01/09/1281/</td><td>1473</td><td>3</td><td>14</td><td>3</td><td>51</td><td>0</td></tr><tr><td>[Log] 51: Mark Zuckerberg’s ‘Jarvis’ Addresses AI’s Biggest Challenges</td><td>[Log] 51: http://www.cygnismedia.com/blog/artificial-intelligence-challenges/</td><td>2894</td><td>5</td><td>6</td><td>3</td><td>52</td><td>23152</td></tr><tr><td>[Log] 52: Some Amazing Predictions Based on Brain Connectivity</td><td>[Log] 52: http://www.blog-thebrain.org/advanced/2016/12/12/some-amazing-predictions-based-on-brain-connectivity/</td><td>1932</td><td>7</td><td>0</td><td>2</td><td>53</td><td>30912</td></tr><tr><td>[Log] 53: Google’s AI Experiments help you understand neural networks by playing with them</td><td>[Log] 53: http://feedproxy.google.com/~r/Techcrunch/~3/WUoKqCnvY5M/</td><td>3225</td><td>1</td><td>4</td><td>3</td><td>54</td><td>34669</td></tr><tr><td>[Log] 54: Facebook Caffe2Go Deep-Learning System Powers Video ‘Style Transfer’ Test</td><td>[Log] 54: http://www.adweek.com/socialtimes/caffe2go/647127</td><td>3185</td><td>4</td><td>6</td><td>5</td><td>55</td><td>12740</td></tr><tr><td>[Log] 55: Is Machine Learning the Big Bad Wolf of Media? Whisper doesn’t think so.</td><td>[Log] 55: https://blog.mixpanel.com/2016/11/08/whisper-machine-learning/</td><td>2068</td><td>7</td><td>3</td><td>2</td><td>56</td><td>36707</td></tr><tr><td>[Log] 56: Os nosos centros tecnolóxicos e de investigación presentan este xoves no CESGA os seus avances en tecnoloxías intelixentes</td><td>[Log] 56: http://www.codigocero.com/Os-nosos-centros-tecnoloxicos-e-de-investigacion-presentan-este-xoves-no-CESGA</td><td>2354</td><td>1</td><td>8</td><td>4</td><td>57</td><td>1177</td></tr><tr><td>[Log] 57: Psychologist Scans Own Brain Twice per Week for a Year and a Half</td><td>[Log] 57: http://www.blog-thebrain.org/advanced/2016/10/20/psychologist-scans-own-brain-twice-per-week-for-a-year-and-a-half/</td><td>2921</td><td>1</td><td>13</td><td>4</td><td>58</td><td>48927</td></tr><tr><td>[Log] 58: Deep learning takes on GIFs, fashion, doodles and more at ACM Multimedia</td><td>[Log] 58: http://feedproxy.google.com/~r/Techcrunch/~3/HZlZ28umjr4/</td><td>2211</td><td>8</td><td>7</td><td>3</td><td>59</td><td>11055</td></tr><tr><td>[Log] 59: A xornada sobre Machine Learning do CESGA abranguerá máis de dúas ducias de relatorios</td><td>[Log] 59: http://www.codigocero.com/A-xornada-sobre-Machine-Learning-do-CESGA-abranguera-mais-de-duas-ducias-de</td><td>2865</td><td>3</td><td>8</td><td>6</td><td>60</td><td>49421</td></tr><tr><td>[Log] 60: Google unleashes deep learning tech on language with Neural Machine Translation</td><td>[Log] 60: http://feedproxy.google.com/~r/Techcrunch/~3/YEhcHjfYfYs/</td><td>1674</td><td>5</td><td>2</td><td>2</td><td>61</td><td>23018</td></tr><tr><td>[Log] 61: Facebook’s Artificial Intelligence Research lab releases open source fastText on GitHub</td><td>[Log] 61: http://feedproxy.google.com/~r/Techcrunch/~3/ROB5oi8KuFI/</td><td>2282</td><td>1</td><td>1</td><td>3</td><td>62</td><td>54198</td></tr><tr><td>[Log] 62: Hearing is like seeing for our brains and for machines</td><td>[Log] 62: http://feedproxy.google.com/~r/Techcrunch/~3/E4r0_mb2r9E/</td><td>2636</td><td>3</td><td>10</td><td>2</td><td>63</td><td>659</td></tr><tr><td>[Log] 63: The hard thing about machine learning</td><td>[Log] 63: https://blog.mixpanel.com/2016/08/03/hard-thing-about-machine-learning/</td><td>774</td><td>3</td><td>1</td><td>1</td><td>64</td><td>16641</td></tr><tr><td>[Log] 64: Convolutional Neural Networks in iOS 10 and macOS</td><td>[Log] 64: http://invasivecode.tumblr.com/post/147955476650</td><td>1030</td><td>8</td><td>11</td><td>1</td><td>65</td><td>19828</td></tr><tr><td>[Log] 65: Researchers use neural networks to turn face sketches into photos</td><td>[Log] 65: http://feedproxy.google.com/~r/Techcrunch/~3/CXC0RaDqeKo/</td><td>734</td><td>8</td><td>9</td><td>2</td><td>66</td><td>15047</td></tr><tr><td>[Log] 66: Machine Learning in Swift for iOS</td><td>[Log] 66: http://invasivecode.tumblr.com/post/146272280155</td><td>743</td><td>3</td><td>5</td><td>4</td><td>67</td><td>16160</td></tr><tr><td>[Log] 67: Introducing Gravity Jack Research: An Inside Look At The Heart of Our Innovation Center</td><td>[Log] 67: https://gravityjack.com/news/gravity-jack-research-inside-look/</td><td>1514</td><td>2</td><td>7</td><td>1</td><td>68</td><td>34065</td></tr><tr><td>[Log] 68: Twitter pays up to $150M for Magic Pony Technology, which uses neural networks to improve images</td><td>[Log] 68: http://feedproxy.google.com/~r/Techcrunch/~3/YL8NcsD8nog/</td><td>2854</td><td>3</td><td>8</td><td>2</td><td>69</td><td>17124</td></tr><tr><td>[Log] 69: Learn deeply, but baby, don’t fear the Skynet</td><td>[Log] 69: http://feedproxy.google.com/~r/Techcrunch/~3/Y2-DiQSRzRo/</td><td>1443</td><td>5</td><td>12</td><td>4</td><td>70</td><td>15512</td></tr><tr><td>[Log] 70: Neural networks: Artificial intelligence and our future</td><td>[Log] 70: http://feedproxy.google.com/~r/Techcrunch/~3/vt6py_Preqg/</td><td>1817</td><td>5</td><td>13</td><td>2</td><td>71</td><td>9085</td></tr><tr><td>[Log] 71: Conscious Awareness and Integration of Brain Activity: They Go Together</td><td>[Log] 71: http://www.blog-thebrain.org/advanced/2016/06/13/conscious-awareness-and-integration-brain-activity-they-go-together/</td><td>3241</td><td>8</td><td>4</td><td>4</td><td>72</td><td>81025</td></tr><tr><td>[Log] 72: What Should We Do With All of That Content?</td><td>[Log] 72: http://www.adweek.com/socialtimes/what-should-we-do-with-all-of-that-content/638662</td><td>1266</td><td>6</td><td>4</td><td>2</td><td>73</td><td>16458</td></tr><tr><td>[Log] 73: ¿Qué es el Machine Learning?</td><td>[Log] 73: http://jarroba.com/que-es-el-machine-learning/</td><td>2275</td><td>4</td><td>2</td><td>6</td><td>74</td><td>55738</td></tr><tr><td>[Log] 74: Magic Pony’s neural network dreams up new imagery to expand an existing picture</td><td>[Log] 74: http://feedproxy.google.com/~r/Techcrunch/~3/V2vOBiN91Y8/</td><td>1264</td><td>1</td><td>1</td><td>5</td><td>75</td><td>18012</td></tr><tr><td>[Log] 75: From recording to reacting: Neural networks are changing notions of surveillance</td><td>[Log] 75: http://feedproxy.google.com/~r/Techcrunch/~3/-ELdi2uNQ2A/</td><td>2212</td><td>3</td><td>13</td><td>6</td><td>76</td><td>35392</td></tr><tr><td>[Log] 76: NVIDIA announces a supercomputer aimed at deep learning and AI</td><td>[Log] 76: http://feedproxy.google.com/~r/Techcrunch/~3/3zv0iKyNavw/</td><td>1871</td><td>6</td><td>14</td><td>4</td><td>77</td><td>26194</td></tr><tr><td>[Log] 77: Following Artificial Intelligence Breakthrough, European Go Champion Loses Against Computer</td><td>[Log] 77: http://feedproxy.google.com/~r/Techcrunch/~3/R83TWzcalgI/</td><td>2513</td><td>7</td><td>3</td><td>4</td><td>78</td><td>55914</td></tr><tr><td>[Log] 78: Years & Years Releases Music Video Created With Google’s DeepDream Technology</td><td>[Log] 78: http://feedproxy.google.com/~r/Techcrunch/~3/WH1cezmHceA/</td><td>1443</td><td>7</td><td>8</td><td>1</td><td>79</td><td>3968</td></tr><tr><td>[Log] 79: Facebook Updates Progress on Artificial Intelligence</td><td>[Log] 79: http://www.adweek.com/socialtimes/artificial-intelligence-update/629412</td><td>912</td><td>5</td><td>14</td><td>6</td><td>80</td><td>1824</td></tr><tr><td>[Log] 80: On Neuromarketing and Conversions – Interview with Tim Ash [+Webinar]</td><td>[Log] 80: http://blog.getresponse.com/on-neuromarketing-and-conversions-interview-with-tim-ash-webinar.html</td><td>2366</td><td>2</td><td>12</td><td>1</td><td>81</td><td>2958</td></tr><tr><td>[Log] 81: Understanding Artificial Intelligence &#8211; and Why We Fear It</td><td>[Log] 81: http://rss.feedsportal.com/c/35261/f/656072/s/481c0ec8/sc/14/l/0L0Shongkiat0N0Cblog0Cunderstanding0Eartificial0Eintelligence0C/story01.htm</td><td>1542</td><td>6</td><td>1</td><td>6</td><td>82</td><td>22359</td></tr><tr><td>[Log] 82: The “Coming Out” of the Electrical Synapse</td><td>[Log] 82: http://www.blog-thebrain.org/advanced/2015/03/14/988/</td><td>1201</td><td>1</td><td>0</td><td>1</td><td>83</td><td>8707</td></tr><tr><td>[Log] 83: How Google Uses Machine Learning And Neural Networks To Optimize Data Centers</td><td>[Log] 83: http://feedproxy.google.com/~r/Techcrunch/~3/pqloDGxiqb8/</td><td>3239</td><td>3</td><td>11</td><td>1</td><td>84</td><td>3239</td></tr><tr><td>[Log] 84: Zuck Knows If You've Been Bad Or Good, So Be Good For Goodness' Sake</td><td>[Log] 84: http://feedproxy.google.com/~r/Techcrunch/~3/tFA-5Utj6vA/</td><td>2566</td><td>3</td><td>8</td><td>4</td><td>85</td><td>25019</td></tr><tr><td>[Log] 85: Microsoft Improves Windows Phone Voice Recognition: 2X Faster, 15% More Accurate</td><td>[Log] 85: http://feedproxy.google.com/~r/Techcrunch/~3/8me_bd7gHv0/</td><td>2089</td><td>4</td><td>4</td><td>1</td><td>86</td><td>49614</td></tr><tr><td>[Log] 86: How Google's Acquisition Of DNNresearch Allowed It To Build Its Impressive Google+ Photo Search In 6 Months</td><td>[Log] 86: http://feedproxy.google.com/~r/Techcrunch/~3/vW_ie-I_fss/</td><td>1530</td><td>4</td><td>12</td><td>3</td><td>87</td><td>33660</td></tr><tr><td>[Log] 87: Google's Cloud Is Eating Apple's Lunch</td><td>[Log] 87: http://feedproxy.google.com/~r/Techcrunch/~3/gRBLqOod1rs/</td><td>953</td><td>6</td><td>13</td><td>2</td><td>88</td><td>5956</td></tr></tbody></table></div>"
      ]
     },
     "metadata": {
      "application/vnd.databricks.v1+output": {
       "addedWidgets": {},
       "aggData": [],
       "aggError": "",
       "aggOverflow": false,
       "aggSchema": [],
       "aggSeriesLimitReached": false,
       "aggType": "",
       "arguments": {},
       "columnCustomDisplayInfos": {},
       "data": [
        [
         "What is Machine Learning and how do we use it in Signals?",
         "https://blog.signals.network/what-is-machine-learning-and-how-do-we-use-it-in-signals-6797e720d636",
         "1888",
         "1",
         2,
         2,
         34,
         200000
        ],
        [
         "10 Companies Using Machine Learning in Cool Ways",
         null,
         "1742",
         "9",
         null,
         9,
         5,
         25000
        ],
        [
         "How Artificial Intelligence Is Revolutionizing the Sector",
         null,
         "962",
         "6",
         0,
         1,
         10,
         42000
        ],
        [
         "Dbrain and the Blockchain of Artificial Intelligence",
         null,
         "1221",
         "3",
         null,
         2,
         68,
         200000
        ],
        [
         "Nasa finds entire solar system filled with eight planets like our own",
         null,
         "2039",
         "1",
         104,
         4,
         131,
         200000
        ],
        [
         "5 ways Data Science and Machine Learning impact business",
         null,
         "761",
         "0",
         null,
         1,
         14,
         21000
        ],
        [
         "200 universities just launched 600 free online courses. Here’s the full list.",
         "https://qz.com/1120344/200-universities-just-launched-600-free-online-courses-heres-the-full-list/",
         "6462",
         "600",
         28,
         2,
         170,
         200000
        ],
        [
         "How Machine Learning can help Cryptocurrency Traders Maximize their Gains",
         "https://cryptovest.com/news/how-machine-learning-can-help-cryptocurrency-traders-maximize-their-gains/?utm_source=SocialAnimal&utm_medium=referral",
         "753",
         "3",
         0,
         1,
         78,
         77000
        ],
        [
         "Tech companies should stop pretending AI won’t destroy jobs",
         "https://www.technologyreview.com/s/610298/tech-companies-should-stop-pretending-ai-wont-destroy-jobs/",
         "1118",
         "2",
         null,
         1,
         62,
         59400
        ],
        [
         "Artificial intelligence is going to completely change your life",
         null,
         "1581",
         "4",
         null,
         2,
         60,
         35000
        ],
        [
         "Facebook robots shut down after they talk to each other in language only they understand",
         null,
         "2090",
         "1",
         95,
         1,
         267,
         100000
        ],
        [
         "A visual introduction to machine learning",
         "http://www.r2d3.us/visual-intro-to-machine-learning-part-1/?utm_source=SocialAnimal&utm_medium=referral",
         "1099",
         "4",
         null,
         15,
         1002,
         350000
        ],
        [
         "10 Breakthrough Technologies 2018",
         null,
         "3900",
         "30",
         null,
         10,
         62,
         20000
        ],
        [
         "Google CEO Sundar Pichai says AI is more profound than electricity or fire",
         null,
         "256",
         "0",
         27,
         1,
         95,
         29000
        ],
        [
         "How machine learning is changing the financial industry",
         null,
         "1267",
         "2",
         null,
         4,
         124,
         37000
        ],
        [
         "New AI can work out whether you're gay or straight from a photograph",
         "https://www.theguardian.com/technology/2017/sep/07/new-artificial-intelligence-can-tell-whether-youre-gay-or-straight-from-a-photograph",
         "971",
         "10",
         null,
         1,
         228,
         67300
        ],
        [
         "Researchers have linked a human brain to the Internet for the first time ever",
         "https://futurism.com/researchers-have-linked-a-human-brain-to-the-internet-for-the-first-time-ever/",
         "369",
         "6",
         null,
         1,
         222,
         60100
        ],
        [
         "Who’s a good AI? Dog-based data creates a canine machine learning system",
         "https://techcrunch.com/2018/04/11/whos-a-good-ai-dog-based-data-creates-a-canine-machine-learning-system/",
         "635",
         "3",
         1,
         2,
         12,
         3200
        ],
        [
         "Which One to Choose for Your Problem",
         null,
         "1631",
         "6",
         6,
         9,
         180,
         37000
        ],
        [
         "A computer was asked to predict which start-ups would be successful. The results were astonishing",
         null,
         "571",
         "4",
         null,
         1,
         277,
         55000
        ],
        [
         "AI Is Inventing Languages Humans Can’t Understand. Should We Stop It?",
         "https://www.fastcodesign.com/90132632/ai-is-inventing-its-own-perfect-languages-should-we-let-it",
         "1333",
         "8",
         null,
         4,
         284,
         54800
        ],
        [
         "An Artificial Intelligence Developed Its Own Non-Human Language",
         "https://www.theatlantic.com/technology/archive/2017/06/artificial-intelligence-develops-its-own-non-human-language/530436/",
         "364",
         "5",
         null,
         2,
         313,
         54600
        ],
        [
         "Denmark's largest bank is using AI and machine learning to ‘tear everything apart’ – and it’s starting to pay off",
         null,
         "515",
         "2",
         null,
         5,
         173,
         27000
        ],
        [
         "How Artificial Intelligence Is Key for Autonomous Vehicle Development",
         null,
         "1135",
         "8",
         0,
         1,
         146,
         20000
        ],
        [
         "Machine Learning Zone: OpenAI competition takes on Sonic the Hedgehog",
         null,
         "666",
         "4",
         0,
         3,
         18,
         2400
        ],
        [
         "How neural networks are trained",
         "https://ml4a.github.io/ml4a/how_neural_networks_are_trained/",
         "8401",
         "30",
         null,
         21,
         113,
         14000
        ],
        [
         "Reverie Labs uses new machine learning algorithms to fix drug development bottlenecks",
         null,
         "787",
         "4",
         0,
         1,
         39,
         3800
        ],
        [
         "Machine Learning Applied to Big Data, Explained",
         null,
         "421",
         "2",
         null,
         1,
         277,
         26000
        ],
        [
         "Physicists have discovered what makes neural networks so extraordinarily powerful",
         null,
         "1065",
         "1",
         19,
         1,
         171,
         14000
        ],
        [
         "Turning Design Mockups Into Code With Deep Learning",
         null,
         "5892",
         "21",
         null,
         20,
         104,
         7100
        ],
        [
         "A deep-learning machine was trained to spot criminals by looking at mugshots",
         null,
         "908",
         "2",
         null,
         1,
         226,
         14000
        ],
        [
         "Getting Value from MachineLearning Isn’t About Fancier Algorithms — It’s About Making It Easier to Use",
         null,
         "1260",
         "6",
         4,
         1,
         49,
         3000
        ],
        [
         "The Amazing Ways Tesla Is Using Artificial Intelligence And Big Data",
         null,
         "950",
         "6",
         null,
         1,
         106,
         5600
        ],
        [
         "10 Machine LearningAlgorithms You Should Know to Become a Data Scientist - DZone AI",
         null,
         "1761",
         "49",
         4,
         10,
         30,
         1500
        ],
        [
         "Google’s Artificial-Intelligence Wizard Unveils a New Twist on Neural Networks",
         null,
         "911",
         "10",
         23,
         1,
         174,
         8400
        ],
        [
         "and the part artificial intelligence has to play",
         null,
         "971",
         "5",
         null,
         2,
         127,
         5300
        ],
        [
         "How Amazon Rebuilt Itself Around Artificial Intelligence",
         null,
         "4420",
         "13",
         12,
         8,
         82,
         3400
        ],
        [
         "Feature Labs launches out of MIT to accelerate the development of machinelearning algorithms",
         null,
         "458",
         "1",
         0,
         2,
         61,
         2500
        ],
        [
         "CometML wants to do for machine learning what GitHub did for code",
         null,
         "458",
         "3",
         0,
         3,
         19,
         757
        ],
        [
         "Why it’s a big deal that AI knows how to bluff in poker",
         null,
         "782",
         "8",
         5,
         1,
         176,
         6400
        ],
        [
         "Discussing the limits of artificial intelligence",
         null,
         "2080",
         "4",
         0,
         4,
         127,
         3600
        ],
        [
         "Crean inteligencia artificial para evaluar incendios y catástrofes naturales",
         "https://www.fayerwayer.com/2018/04/crean-inteligencia-artificial-evaluar-incendios-catastrofes-naturales",
         "250",
         "4",
         1,
         2,
         1,
         22
        ],
        [
         "What's the difference between data science, machinelearning, and artificialintelligence?",
         "http://varianceexplained.org/r/ds-ml-ai/",
         "1763",
         "1",
         29,
         1,
         105,
         2300
        ],
        [
         "The Artificial Intelligence Startups Redefining Industries",
         null,
         "650",
         "10",
         0,
         3,
         133,
         2800
        ],
        [
         "Top 20 PythonAI and MachineLearning Open Source Projects",
         "https://www.kdnuggets.com/2018/02/top-20-python-ai-machine-learning-open-source-projects.html",
         "1184",
         "39",
         8,
         1,
         63,
         1300
        ],
        [
         "5 Key Artificial IntelligencePredictions For 2018: HowMachine Learning Will Change Everything",
         "https://www.forbes.com/sites/bernardmarr/2017/12/18/5-key-artificial-intelligence-predictions-for-2018-how-machine-learning-will-change-everything/",
         "957",
         "9",
         null,
         1,
         127,
         2500
        ],
        [
         "Pythonovertakes R, becomes the leader in Data Science, MachineLearningplatforms",
         "https://www.kdnuggets.com/2017/08/python-overtakes-r-leader-analytics-data-science.html",
         "627",
         "2",
         5,
         4,
         239,
         4500
        ],
        [
         "¿Podremos crear máquinas verdaderamente inteligentes?",
         "https://elpais.com/tecnologia/2018/03/27/actualidad/1522139782_730950.html",
         "895",
         "1",
         13,
         1,
         23,
         422
        ],
        [
         "Artificial Intelligence Isn't Killing Jobs; It's Killing Business Models",
         null,
         "1097",
         "2",
         null,
         1,
         89,
         1600
        ],
        [
         "3 Things AI Can Already Do for Your Company",
         null,
         "4437",
         "3",
         2,
         3,
         113,
         2000
        ],
        [
         "10 Ways Machine Learning Is Revolutionizing Manufacturing In 2018",
         "https://www.forbes.com/sites/louiscolumbus/2018/03/11/10-ways-machine-learning-is-revolutionizing-manufacturing-in-2018/#7199e52623ac",
         "1262",
         "10",
         null,
         10,
         44,
         715
        ],
        [
         "10 Ways Machine Learning Is Revolutionizing Marketing",
         "https://www.forbes.com/sites/louiscolumbus/2018/02/25/10-ways-machine-learning-is-revolutionizing-marketing/#4219d395bb64",
         "1738",
         "32",
         null,
         9,
         58,
         907
        ],
        [
         "Top 10 Machine LearningAlgorithms for Beginners",
         null,
         "1813",
         "6",
         null,
         5,
         186,
         2800
        ],
        [
         "A Tour of The Top 10 Algorithms for MachineLearning Newbies",
         null,
         "2400",
         "5",
         21,
         11,
         94,
         1300
        ],
        [
         "What’s the difference betweenartificial intelligence, machinelearning, and deep learning? | Qualcomm",
         "https://www.qualcomm.com/news/onq/2017/09/01/whats-difference-between-artificial-intelligence-machine-learning-and-deep",
         "662",
         "2",
         null,
         4,
         234,
         3000
        ],
        [
         "How Quantum Computers Will Revolutionize ArtificialIntelligence, MachineLearning And Big Data",
         "https://www.forbes.com/sites/bernardmarr/2017/09/05/how-quantum-computers-will-revolutionize-artificial-intelligence-machine-learning-and-big-data/",
         "800",
         "6",
         null,
         2,
         231,
         2800
        ],
        [
         "Jack Ma: Artificialintelligence, machine learningmay cause World War III",
         "http://www.businessinsider.com/alibaba-stock-price-jack-ma-artificial-intelligence-machine-learning-may-cause-world-war-iii-2017-6",
         "367",
         "5",
         null,
         1,
         307,
         3300
        ],
        [
         "Google and MIT’s new machine learning algorithmsretouch your photos before you take them",
         null,
         "507",
         "8",
         13,
         2,
         265,
         2600
        ],
        [
         "How to create a NeuralNetwork in JavaScript in only 30 lines of code",
         null,
         "992",
         "10",
         30,
         6,
         250,
         2300
        ],
        [
         "PythonOvertakes R for Data Science and MachineLearning",
         "https://www.datasciencecentral.com/profiles/blogs/python-overtakes-r-for-data-science-and-machine-learning",
         "499",
         "10",
         5,
         2,
         237,
         1400
        ],
        [
         "Salesforce created an algorithm that automatically summarizes text using machine learning",
         null,
         "619",
         "10",
         3,
         1,
         345,
         1800
        ],
        [
         "Construir inteligencia artificial que construya inteligencia artificial",
         "https://www.nytimes.com/es/2017/11/07/inteligencia-artificial-auto-ml-google/",
         "1152",
         "8",
         null,
         3,
         168,
         867
        ],
        [
         "MachineLearningWorkflows in Python from Scratch Part 1: Data Preparation",
         "https://www.kdnuggets.com/2017/05/machine-learning-workflows-python-scratch-part-1.html",
         "2363",
         "4",
         null,
         4,
         330,
         1500
        ],
        [
         "Por qué ‘machine learning’ sera la tecnología más importante en 2018",
         "https://elpais.com/tecnologia/2017/11/28/actualidad/1511866764_933798.html",
         "988",
         "1",
         0,
         1,
         147,
         631
        ],
        [
         "Get started with machinelearning using Python",
         "https://www.analyticsvidhya.com/blog/2017/05/pydata-amsterdam-2017-machine-learning-deep-learning-data-science/",
         "759",
         "20",
         1,
         1,
         328,
         1200
        ],
        [
         "MachineLearningExercises in Python: An Introductory Tutorial Series",
         "https://www.kdnuggets.com/2017/07/machine-learning-exercises-python-introductory-tutorial-series.html",
         "1098",
         "8",
         null,
         3,
         272,
         950
        ],
        [
         "22 talks from PyData 2017 | Deep Learning, MachineLearning & NLP",
         "https://www.analyticsvidhya.com/blog/2017/05/pydata-amsterdam-2017-machine-learning-deep-learning-data-science/",
         "2797",
         "22",
         7,
         22,
         349,
         1200
        ],
        [
         "La inteligencia artificial ya diagnostica enfermedades tan bien como los médicos",
         "http://www.lavanguardia.com/ciencia/cuerpo-humano/20180223/44950677766/inteligencia-artificial-machine-learning-diagnosticar-enfermedades-medicos-eficiencia.html?platform=hootsuite",
         "1120",
         "2",
         0,
         4,
         60,
         196
        ],
        [
         "Modern Machine LearningAlgorithms: Strengths and Weaknesses",
         null,
         "2488",
         "11",
         null,
         5,
         343,
         1100
        ],
        [
         "Core ML and Vision: MachineLearning in iOS 11 Tutorial",
         "https://www.raywenderlich.com/164213/coreml-and-vision-machine-learning-in-ios-11-tutorial",
         "2049",
         "12",
         23,
         7,
         319,
         668
        ],
        [
         "Tutorial to deploy Machine Learning models in Production as APIs (using Flask)",
         "https://www.analyticsvidhya.com/blog/2017/09/machine-learning-models-as-apis-using-flask/",
         "2542",
         "2",
         0,
         4,
         208,
         424
        ],
        [
         "Getting the NDA out of the Way with Machine Learning",
         "https://blog.bigml.com/2018/04/18/getting-the-nda-out-of-the-way-with-machine-learning/",
         "1011",
         "15",
         0,
         2,
         6,
         8
        ],
        [
         "Tutorial on Automated MachineLearning using MLBox",
         "https://www.analyticsvidhya.com/blog/2017/07/mlbox-library-automated-machine-learning/",
         "2189",
         "3",
         11,
         8,
         292,
         367
        ],
        [
         "[Log] 0: Allegro.AI nabs $11M for ‘deep learning as a service’, for businesses to build computer vision products",
         "[Log] 0: https://techcrunch.com/2018/04/25/allegro-ai-nabs-11m-for-a-platform-that-helps-businesses-build-computer-vision-based-services/",
         "1864",
         "6",
         12,
         2,
         1,
         42406
        ],
        [
         "[Log] 1: Want to fool a computer vision system? Just tweak some colors",
         "[Log] 1: https://techcrunch.com/2018/04/16/want-to-fool-a-computer-vision-system-just-tweak-some-colors/",
         "990",
         "6",
         7,
         3,
         2,
         1733
        ],
        [
         "[Log] 2: UK report urges action to combat AI bias",
         "[Log] 2: https://techcrunch.com/2018/04/16/uk-report-urges-action-to-combat-ai-bias/",
         "1741",
         "5",
         10,
         3,
         3,
         35691
        ],
        [
         "[Log] 3: The 10 most exciting open source projects of 2018",
         "[Log] 3: http://blog.honeypot.io/most-exciting-open-source-projects-2018/",
         "1229",
         "5",
         6,
         4,
         4,
         11061
        ],
        [
         "[Log] 4: Why 2018 will be the year apps go to the edge",
         "[Log] 4: https://techcrunch.com/2018/04/03/why-2018-will-be-the-year-apps-go-to-the-edge/",
         "2975",
         "3",
         0,
         2,
         5,
         51319
        ],
        [
         "[Log] 5: Arm chips with Nvidia AI could change the Internet of Things",
         "[Log] 5: https://techcrunch.com/2018/03/27/arm-chips-will-with-nvidia-ai-could-change-the-internet-of-things/",
         "1864",
         "1",
         10,
         4,
         6,
         30756
        ],
        [
         "[Log] 6: Precious uses artificial intelligence to help parents figure out what to do with all their baby photos",
         "[Log] 6: https://techcrunch.com/2018/03/27/precious-uses-artificial-intelligence-to-help-parents-figure-out-what-to-do-with-all-their-baby-photos/",
         "2460",
         "1",
         12,
         2,
         7,
         58425
        ],
        [
         "[Log] 7: Learning To See – Making deep neural network predictions on live camera input",
         "[Log] 7: http://www.creativeapplications.net/openframeworks/learning-to-see-making-deep-neural-network-predictions-on-live-camera-input/",
         "2136",
         "5",
         9,
         3,
         8,
         48060
        ],
        [
         "[Log] 8: IBM launches deep learning as a service inside its Watson Studio",
         "[Log] 8: https://techcrunch.com/2018/03/19/ibm-launches-deep-learning-as-a-service-inside-its-watson-studio/",
         "2833",
         "7",
         0,
         2,
         9,
         0
        ],
        [
         "[Log] 9: Here are 64 startups that launched today at Y Combinator’s W18 Demo Day",
         "[Log] 9: https://techcrunch.com/2018/03/19/here-are-64-startups-that-launched-today-at-y-combinators-w18-demo-day/",
         "1995",
         "7",
         6,
         6,
         10,
         4988
        ],
        [
         "[Log] 10: Voicery makes synthesized voices sound more like humans",
         "[Log] 10: https://techcrunch.com/2018/03/14/voicery-makes-synthesized-voices-sound-more-like-humans/",
         "2332",
         "5",
         1,
         6,
         11,
         27984
        ],
        [
         "[Log] 11: MIT’s new chip could bring neural nets to battery-powered gadgets",
         "[Log] 11: https://techcrunch.com/2018/02/14/mits-new-chip-could-bring-neural-nets-to-battery-powered-gadgets/?ncid=rss",
         "1998",
         "6",
         3,
         3,
         12,
         45455
        ],
        [
         "[Log] 12: Ingenieros de la Universidad de Chile sofistican mecanismos para interactuar con robots",
         "[Log] 12: https://www.fayerwayer.com/2018/01/universidad-chile-interactuar-robots/",
         "3442",
         "3",
         9,
         2,
         13,
         76585
        ],
        [
         "[Log] 13: Sleep deprivation is making product teams age faster and think slower",
         "[Log] 13: https://mixpanel.com/blog/2018/01/11/well-slept-teams-build-better-products/",
         "2696",
         "6",
         5,
         1,
         14,
         24264
        ],
        [
         "[Log] 14: Frank Chen will make you a believer in AI",
         "[Log] 14: https://mixpanel.com/blog/2017/12/12/frank-chen-ai-andreessen-horowitz/",
         "1913",
         "5",
         1,
         6,
         15,
         5261
        ],
        [
         "[Log] 15: Story roundup: data to be grateful for this holiday season",
         "[Log] 15: https://mixpanel.com/blog/2017/11/22/story-roundup-data-to-be-grateful-for/",
         "1858",
         "8",
         5,
         2,
         16,
         25548
        ],
        [
         "[Log] 16: Story roundup: data to be grateful for this holiday season",
         "[Log] 16: https://mxpnlcms.wpengine.com/blog/2017/11/22/story-roundup-data-to-be-grateful-for/",
         "2457",
         "3",
         3,
         4,
         17,
         0
        ],
        [
         "[Log] 17: Aprendizaje Profundo: una Guía rápida",
         "[Log] 17: http://www.aprendemachinelearning.com/aprendizaje-profundo-una-guia-rapida/",
         "2592",
         "1",
         12,
         6,
         18,
         56376
        ],
        [
         "[Log] 18: Principales Algoritmos usados en Machine Learning",
         "[Log] 18: http://www.aprendemachinelearning.com/principales-algoritmos-usados-en-machine-learning/",
         "1718",
         "2",
         12,
         2,
         19,
         13315
        ],
        [
         "[Log] 19: Aplicaciones del Machine Learning",
         "[Log] 19: http://www.aprendemachinelearning.com/aplicaciones-del-machine-learning/",
         "1293",
         "8",
         7,
         6,
         20,
         27476
        ],
        [
         "[Log] 20: Mapbox acquires neural network startup Mapdata to help it expand into AR maps",
         "[Log] 20: https://techcrunch.com/2017/11/03/mapbox-acquires-mapdata-to-help-it-expand-into-ar-maps/?ncid=rss",
         "3023",
         "7",
         6,
         1,
         21,
         55170
        ],
        [
         "[Log] 21: How video game tech makes neural networks possible",
         "[Log] 21: https://techcrunch.com/2017/10/27/how-video-game-tech-makes-neural-networks-possible/?ncid=rss",
         "3485",
         "2",
         10,
         6,
         22,
         871
        ],
        [
         "[Log] 22: Google introduces Neural Networks API in developer preview of Android 8.1",
         "[Log] 22: https://techcrunch.com/2017/10/25/google-introduces-neural-networks-api-in-developer-preview-of-android-8-1/?ncid=rss",
         "2093",
         "3",
         14,
         2,
         23,
         39767
        ],
        [
         "[Log] 23: The Brain and Body Are Really One, Especially When It Comes to Emotions",
         "[Log] 23: http://www.blog-thebrain.org/advanced/2017/10/11/the-brain-and-body-are-really-one-especially-when-it-comes-to-emotions/",
         "1490",
         "7",
         0,
         1,
         24,
         16390
        ],
        [
         "[Log] 24: The Brain: The History of an Organ Like No Other",
         "[Log] 24: http://www.blog-thebrain.org/advanced/2017/09/26/1395/",
         "1238",
         "6",
         8,
         5,
         25,
         23832
        ],
        [
         "[Log] 25: Apple’s new TrueDepth Camera System and its Implications",
         "[Log] 25: https://www.cygnismedia.com/blog/true-depth-camera-system/",
         "2583",
         "1",
         8,
         6,
         26,
         12269
        ],
        [
         "[Log] 26: Frank Lessons on AI from the Developer of the World’s First Hotdog Recognizer",
         "[Log] 26: https://mxpnlcms.wpengine.com/blog/2017/08/31/frank-lessons-on-ai-from-tim-anglade/",
         "1007",
         "2",
         7,
         6,
         27,
         10574
        ],
        [
         "[Log] 27: Humans Are the Product of Dynamic Processes on Multiple Time Scales",
         "[Log] 27: http://www.blog-thebrain.org/advanced/2017/08/21/humans-are-the-product-of-dynamic-processes-on-multiple-time-scales/",
         "978",
         "8",
         0,
         1,
         28,
         24206
        ],
        [
         "[Log] 28: Prisma shifts focus to b2b with an API for AI-powered mobile effects",
         "[Log] 28: https://techcrunch.com/2017/08/19/prisma-shifts-focus-to-b2b-with-an-api-for-ai-powered-mobile-effects/?ncid=rss",
         "3019",
         "5",
         3,
         2,
         29,
         13586
        ],
        [
         "[Log] 29: Teleport’s neural networks let you try before you hair dye",
         "[Log] 29: https://techcrunch.com/2017/08/09/teleports-neural-networks-let-you-try-before-you-hair-dye/?ncid=rss",
         "3289",
         "3",
         8,
         6,
         30,
         81403
        ],
        [
         "[Log] 30: Facebook finishes its move to neural machine translation",
         "[Log] 30: https://techcrunch.com/2017/08/03/facebook-finishes-its-move-to-neural-machine-translation/?ncid=rss",
         "2347",
         "5",
         3,
         1,
         31,
         21123
        ],
        [
         "[Log] 31: What you should know about AI",
         "[Log] 31: https://techcrunch.com/2017/08/01/what-you-should-know-about-ai/?ncid=rss",
         "2224",
         "8",
         2,
         3,
         32,
         32248
        ],
        [
         "[Log] 32: HBO’s Silicon Valley on A.I. driven products: Not HotDog",
         "[Log] 32: https://mxpnlcms.wpengine.com/blog/2017/07/27/ai-driven-products-hbo-silicon-valley/",
         "1778",
         "4",
         11,
         6,
         33,
         8001
        ],
        [
         "[Log] 33: Why the future of deep learning depends on finding good data",
         "[Log] 33: https://techcrunch.com/2017/07/21/why-the-future-of-deep-learning-depends-on-finding-good-data/?ncid=rss",
         "1150",
         "6",
         3,
         4,
         34,
         23288
        ],
        [
         "[Log] 34: MIT is building a system that can identify a recipe using pictures of food",
         "[Log] 34: https://techcrunch.com/2017/07/20/mit-is-building-a-system-that-can-identify-a-recipe-using-pictures-of-food/?ncid=rss",
         "2528",
         "5",
         6,
         2,
         35,
         53720
        ],
        [
         "[Log] 35: Apple launches machine learning research site",
         "[Log] 35: https://techcrunch.com/2017/07/19/apple-launches-machine-learning-research-site/?ncid=rss",
         "2486",
         "1",
         13,
         6,
         36,
         53449
        ],
        [
         "[Log] 36: Metaphors for the Brain’s Anatomy and Functioning",
         "[Log] 36: http://www.blog-thebrain.org/advanced/2017/07/14/1362/",
         "2317",
         "7",
         8,
         5,
         37,
         52712
        ],
        [
         "[Log] 37: Computed Curation – Curating photography with neural networks",
         "[Log] 37: http://www.creativeapplications.net/js/computed-curation-curating-photography-with-neural-networks/",
         "2369",
         "3",
         5,
         2,
         38,
         39681
        ],
        [
         "[Log] 38: MIT CSAIL research offers a fully automated way to peer inside neural nets",
         "[Log] 38: https://techcrunch.com/2017/06/30/mit-csail-research-offers-a-fully-automated-way-to-peer-inside-neural-nets/?ncid=rss",
         "1612",
         "5",
         5,
         2,
         39,
         39091
        ],
        [
         "[Log] 39: Microsoft launches a new service for training deep neural networks on Azure",
         "[Log] 39: https://techcrunch.com/2017/05/10/microsoft-launches-a-new-service-for-training-deep-neural-networks-on-azure/?ncid=rss",
         "1136",
         "6",
         14,
         3,
         40,
         28116
        ],
        [
         "[Log] 40: Someone scraped 40,000 Tinder selfies to make a facial dataset for AI experiments",
         "[Log] 40: https://techcrunch.com/2017/04/28/someone-scraped-40000-tinder-selfies-to-make-a-facial-dataset-for-ai-experiments/?ncid=rss",
         "2721",
         "3",
         14,
         6,
         41,
         25850
        ],
        [
         "[Log] 41: 10 Machine Learning Examples in JavaScript",
         "[Log] 41: http://tutorialzine.com/2017/04/10-machine-learning-examples-in-javascript/",
         "3480",
         "1",
         14,
         3,
         42,
         20880
        ],
        [
         "[Log] 42: Neural networks made easy",
         "[Log] 42: https://techcrunch.com/2017/04/13/neural-networks-made-easy/?ncid=rss",
         "1143",
         "8",
         5,
         6,
         43,
         17145
        ],
        [
         "[Log] 43: Google DeepMind open sources Sonnet so you can build neural networks in TensorFlow even quicker",
         "[Log] 43: https://techcrunch.com/2017/04/07/google-deepmind-open-sources-sonnet-so-you-can-build-neural-networks-in-tensorflow-even-quicker/?ncid=rss",
         "2428",
         "4",
         10,
         3,
         44,
         57058
        ],
        [
         "[Log] 44: Google’s smarter, A.I.-powered translation system expands to more languages",
         "[Log] 44: https://techcrunch.com/2017/03/06/googles-smarter-a-i-powered-translation-system-expands-to-more-languages/?ncid=rss",
         "2877",
         "4",
         2,
         6,
         45,
         19420
        ],
        [
         "[Log] 45: Mark Zuckerberg’s ‘Jarvis’ Addresses AI’s Biggest Challenges",
         "[Log] 45: https://www.cygnismedia.com/blog/artificial-intelligence-challenges/",
         "776",
         "1",
         7,
         6,
         46,
         3298
        ],
        [
         "[Log] 46: Embark’s self-driving truck is ready to assist human drivers",
         "[Log] 46: https://techcrunch.com/2017/02/24/embarks-self-driving-truck-is-ready-to-assist-human-drivers/?ncid=rss",
         "1284",
         "8",
         5,
         2,
         47,
         31137
        ],
        [
         "\"[Log] 47: \"\"Zoom",
         " Enhance\"\" Could Become a Reality",
         " Thanks to Google\"",
         "[Log] 47: http://www.hongkiat.com/blog/google-zoom-enhance-technology/",
         1145,
         6,
         11,
         2
        ],
        [
         "[Log] 48: FaceApp uses neural networks for photorealistic selfie tweaks",
         "[Log] 48: https://techcrunch.com/2017/02/08/faceapp-uses-neural-networks-for-photorealistic-selfie-tweaks/?ncid=rss",
         "1793",
         "7",
         13,
         4,
         49,
         34515
        ],
        [
         "[Log] 49: Mark Cuban on Why You Need to Study Artificial Intelligence or You’ll be a Dinosaur in 3 Years",
         "[Log] 49: https://bothsidesofthetable.com/mark-cuban-on-why-you-need-to-study-artificial-intelligence-or-youll-be-a-dinosaur-in-3-years-db3447bea1b4?source=rss----97f98e5df342---4",
         "2904",
         "7",
         14,
         1,
         50,
         7260
        ],
        [
         "[Log] 50: A First Brain-Imaging Study on the Effects of LSD",
         "[Log] 50: http://www.blog-thebrain.org/advanced/2017/01/09/1281/",
         "1473",
         "3",
         14,
         3,
         51,
         0
        ],
        [
         "[Log] 51: Mark Zuckerberg’s ‘Jarvis’ Addresses AI’s Biggest Challenges",
         "[Log] 51: http://www.cygnismedia.com/blog/artificial-intelligence-challenges/",
         "2894",
         "5",
         6,
         3,
         52,
         23152
        ],
        [
         "[Log] 52: Some Amazing Predictions Based on Brain Connectivity",
         "[Log] 52: http://www.blog-thebrain.org/advanced/2016/12/12/some-amazing-predictions-based-on-brain-connectivity/",
         "1932",
         "7",
         0,
         2,
         53,
         30912
        ],
        [
         "[Log] 53: Google’s AI Experiments help you understand neural networks by playing with them",
         "[Log] 53: http://feedproxy.google.com/~r/Techcrunch/~3/WUoKqCnvY5M/",
         "3225",
         "1",
         4,
         3,
         54,
         34669
        ],
        [
         "[Log] 54: Facebook Caffe2Go Deep-Learning System Powers Video ‘Style Transfer’ Test",
         "[Log] 54: http://www.adweek.com/socialtimes/caffe2go/647127",
         "3185",
         "4",
         6,
         5,
         55,
         12740
        ],
        [
         "[Log] 55: Is Machine Learning the Big Bad Wolf of Media? Whisper doesn’t think so.",
         "[Log] 55: https://blog.mixpanel.com/2016/11/08/whisper-machine-learning/",
         "2068",
         "7",
         3,
         2,
         56,
         36707
        ],
        [
         "[Log] 56: Os nosos centros tecnolóxicos e de investigación presentan este xoves no CESGA os seus avances en tecnoloxías intelixentes",
         "[Log] 56: http://www.codigocero.com/Os-nosos-centros-tecnoloxicos-e-de-investigacion-presentan-este-xoves-no-CESGA",
         "2354",
         "1",
         8,
         4,
         57,
         1177
        ],
        [
         "[Log] 57: Psychologist Scans Own Brain Twice per Week for a Year and a Half",
         "[Log] 57: http://www.blog-thebrain.org/advanced/2016/10/20/psychologist-scans-own-brain-twice-per-week-for-a-year-and-a-half/",
         "2921",
         "1",
         13,
         4,
         58,
         48927
        ],
        [
         "[Log] 58: Deep learning takes on GIFs, fashion, doodles and more at ACM Multimedia",
         "[Log] 58: http://feedproxy.google.com/~r/Techcrunch/~3/HZlZ28umjr4/",
         "2211",
         "8",
         7,
         3,
         59,
         11055
        ],
        [
         "[Log] 59: A xornada sobre Machine Learning do CESGA abranguerá máis de dúas ducias de relatorios",
         "[Log] 59: http://www.codigocero.com/A-xornada-sobre-Machine-Learning-do-CESGA-abranguera-mais-de-duas-ducias-de",
         "2865",
         "3",
         8,
         6,
         60,
         49421
        ],
        [
         "[Log] 60: Google unleashes deep learning tech on language with Neural Machine Translation",
         "[Log] 60: http://feedproxy.google.com/~r/Techcrunch/~3/YEhcHjfYfYs/",
         "1674",
         "5",
         2,
         2,
         61,
         23018
        ],
        [
         "[Log] 61: Facebook’s Artificial Intelligence Research lab releases open source fastText on GitHub",
         "[Log] 61: http://feedproxy.google.com/~r/Techcrunch/~3/ROB5oi8KuFI/",
         "2282",
         "1",
         1,
         3,
         62,
         54198
        ],
        [
         "[Log] 62: Hearing is like seeing for our brains and for machines",
         "[Log] 62: http://feedproxy.google.com/~r/Techcrunch/~3/E4r0_mb2r9E/",
         "2636",
         "3",
         10,
         2,
         63,
         659
        ],
        [
         "[Log] 63: The hard thing about machine learning",
         "[Log] 63: https://blog.mixpanel.com/2016/08/03/hard-thing-about-machine-learning/",
         "774",
         "3",
         1,
         1,
         64,
         16641
        ],
        [
         "[Log] 64: Convolutional Neural Networks in iOS 10 and macOS",
         "[Log] 64: http://invasivecode.tumblr.com/post/147955476650",
         "1030",
         "8",
         11,
         1,
         65,
         19828
        ],
        [
         "[Log] 65: Researchers use neural networks to turn face sketches into photos",
         "[Log] 65: http://feedproxy.google.com/~r/Techcrunch/~3/CXC0RaDqeKo/",
         "734",
         "8",
         9,
         2,
         66,
         15047
        ],
        [
         "[Log] 66: Machine Learning in Swift for iOS",
         "[Log] 66: http://invasivecode.tumblr.com/post/146272280155",
         "743",
         "3",
         5,
         4,
         67,
         16160
        ],
        [
         "[Log] 67: Introducing Gravity Jack Research: An Inside Look At The Heart of Our Innovation Center",
         "[Log] 67: https://gravityjack.com/news/gravity-jack-research-inside-look/",
         "1514",
         "2",
         7,
         1,
         68,
         34065
        ],
        [
         "[Log] 68: Twitter pays up to $150M for Magic Pony Technology, which uses neural networks to improve images",
         "[Log] 68: http://feedproxy.google.com/~r/Techcrunch/~3/YL8NcsD8nog/",
         "2854",
         "3",
         8,
         2,
         69,
         17124
        ],
        [
         "[Log] 69: Learn deeply, but baby, don’t fear the Skynet",
         "[Log] 69: http://feedproxy.google.com/~r/Techcrunch/~3/Y2-DiQSRzRo/",
         "1443",
         "5",
         12,
         4,
         70,
         15512
        ],
        [
         "[Log] 70: Neural networks: Artificial intelligence and our future",
         "[Log] 70: http://feedproxy.google.com/~r/Techcrunch/~3/vt6py_Preqg/",
         "1817",
         "5",
         13,
         2,
         71,
         9085
        ],
        [
         "[Log] 71: Conscious Awareness and Integration of Brain Activity: They Go Together",
         "[Log] 71: http://www.blog-thebrain.org/advanced/2016/06/13/conscious-awareness-and-integration-brain-activity-they-go-together/",
         "3241",
         "8",
         4,
         4,
         72,
         81025
        ],
        [
         "[Log] 72: What Should We Do With All of That Content?",
         "[Log] 72: http://www.adweek.com/socialtimes/what-should-we-do-with-all-of-that-content/638662",
         "1266",
         "6",
         4,
         2,
         73,
         16458
        ],
        [
         "[Log] 73: ¿Qué es el Machine Learning?",
         "[Log] 73: http://jarroba.com/que-es-el-machine-learning/",
         "2275",
         "4",
         2,
         6,
         74,
         55738
        ],
        [
         "[Log] 74: Magic Pony’s neural network dreams up new imagery to expand an existing picture",
         "[Log] 74: http://feedproxy.google.com/~r/Techcrunch/~3/V2vOBiN91Y8/",
         "1264",
         "1",
         1,
         5,
         75,
         18012
        ],
        [
         "[Log] 75: From recording to reacting: Neural networks are changing notions of surveillance",
         "[Log] 75: http://feedproxy.google.com/~r/Techcrunch/~3/-ELdi2uNQ2A/",
         "2212",
         "3",
         13,
         6,
         76,
         35392
        ],
        [
         "[Log] 76: NVIDIA announces a supercomputer aimed at deep learning and AI",
         "[Log] 76: http://feedproxy.google.com/~r/Techcrunch/~3/3zv0iKyNavw/",
         "1871",
         "6",
         14,
         4,
         77,
         26194
        ],
        [
         "[Log] 77: Following Artificial Intelligence Breakthrough, European Go Champion Loses Against Computer",
         "[Log] 77: http://feedproxy.google.com/~r/Techcrunch/~3/R83TWzcalgI/",
         "2513",
         "7",
         3,
         4,
         78,
         55914
        ],
        [
         "[Log] 78: Years & Years Releases Music Video Created With Google’s DeepDream Technology",
         "[Log] 78: http://feedproxy.google.com/~r/Techcrunch/~3/WH1cezmHceA/",
         "1443",
         "7",
         8,
         1,
         79,
         3968
        ],
        [
         "[Log] 79: Facebook Updates Progress on Artificial Intelligence",
         "[Log] 79: http://www.adweek.com/socialtimes/artificial-intelligence-update/629412",
         "912",
         "5",
         14,
         6,
         80,
         1824
        ],
        [
         "[Log] 80: On Neuromarketing and Conversions – Interview with Tim Ash [+Webinar]",
         "[Log] 80: http://blog.getresponse.com/on-neuromarketing-and-conversions-interview-with-tim-ash-webinar.html",
         "2366",
         "2",
         12,
         1,
         81,
         2958
        ],
        [
         "[Log] 81: Understanding Artificial Intelligence &#8211; and Why We Fear It",
         "[Log] 81: http://rss.feedsportal.com/c/35261/f/656072/s/481c0ec8/sc/14/l/0L0Shongkiat0N0Cblog0Cunderstanding0Eartificial0Eintelligence0C/story01.htm",
         "1542",
         "6",
         1,
         6,
         82,
         22359
        ],
        [
         "[Log] 82: The “Coming Out” of the Electrical Synapse",
         "[Log] 82: http://www.blog-thebrain.org/advanced/2015/03/14/988/",
         "1201",
         "1",
         0,
         1,
         83,
         8707
        ],
        [
         "[Log] 83: How Google Uses Machine Learning And Neural Networks To Optimize Data Centers",
         "[Log] 83: http://feedproxy.google.com/~r/Techcrunch/~3/pqloDGxiqb8/",
         "3239",
         "3",
         11,
         1,
         84,
         3239
        ],
        [
         "[Log] 84: Zuck Knows If You've Been Bad Or Good, So Be Good For Goodness' Sake",
         "[Log] 84: http://feedproxy.google.com/~r/Techcrunch/~3/tFA-5Utj6vA/",
         "2566",
         "3",
         8,
         4,
         85,
         25019
        ],
        [
         "[Log] 85: Microsoft Improves Windows Phone Voice Recognition: 2X Faster, 15% More Accurate",
         "[Log] 85: http://feedproxy.google.com/~r/Techcrunch/~3/8me_bd7gHv0/",
         "2089",
         "4",
         4,
         1,
         86,
         49614
        ],
        [
         "[Log] 86: How Google's Acquisition Of DNNresearch Allowed It To Build Its Impressive Google+ Photo Search In 6 Months",
         "[Log] 86: http://feedproxy.google.com/~r/Techcrunch/~3/vW_ie-I_fss/",
         "1530",
         "4",
         12,
         3,
         87,
         33660
        ],
        [
         "[Log] 87: Google's Cloud Is Eating Apple's Lunch",
         "[Log] 87: http://feedproxy.google.com/~r/Techcrunch/~3/gRBLqOod1rs/",
         "953",
         "6",
         13,
         2,
         88,
         5956
        ]
       ],
       "datasetInfos": [],
       "dbfsResultPath": null,
       "isJsonSchema": true,
       "metadata": {},
       "overflow": false,
       "plotOptions": {
        "customPlotOptions": {},
        "displayType": "table",
        "pivotAggregation": null,
        "pivotColumns": null,
        "xColumns": null,
        "yColumns": null
       },
       "removedWidgets": [],
       "schema": [
        {
         "metadata": "{}",
         "name": "Title",
         "type": "\"string\""
        },
        {
         "metadata": "{}",
         "name": "url",
         "type": "\"string\""
        },
        {
         "metadata": "{}",
         "name": "Word count",
         "type": "\"string\""
        },
        {
         "metadata": "{}",
         "name": "# of Links",
         "type": "\"string\""
        },
        {
         "metadata": "{}",
         "name": "# of comments",
         "type": "\"integer\""
        },
        {
         "metadata": "{}",
         "name": "# Images video",
         "type": "\"integer\""
        },
        {
         "metadata": "{}",
         "name": "Elapsed days",
         "type": "\"integer\""
        },
        {
         "metadata": "{}",
         "name": "# Shares",
         "type": "\"integer\""
        }
       ],
       "type": "table"
      }
     },
     "output_type": "display_data"
    }
   ],
   "source": [
    "# Ruta y tipo del archivo\n",
    "file_location = \"/FileStore/tables/articulos_ml.csv\"\n",
    "file_type = \"csv\"\n",
    "\n",
    "# CSV opciones\n",
    "infer_schema = \"true\"\n",
    "first_row_is_header = \"true\" # primera fila como cabecera\n",
    "delimiter = \",\"\n",
    "\n",
    "# Leer la data\n",
    "articulos = spark.read.format(file_type) \\\n",
    "  .option(\"inferSchema\", infer_schema) \\\n",
    "  .option(\"header\", first_row_is_header) \\\n",
    "  .option(\"sep\", delimiter) \\\n",
    "  .load(file_location)\n",
    "\n",
    "display(articulos)"
   ]
  },
  {
   "cell_type": "markdown",
   "metadata": {
    "application/vnd.databricks.v1+cell": {
     "cellMetadata": {},
     "inputWidgets": {},
     "nuid": "7a196cbd-c29d-4a29-97f5-9953f5d0c6d7",
     "showTitle": false,
     "title": ""
    }
   },
   "source": [
    "#### Data Cleaning"
   ]
  },
  {
   "cell_type": "code",
   "execution_count": 0,
   "metadata": {
    "application/vnd.databricks.v1+cell": {
     "cellMetadata": {},
     "inputWidgets": {},
     "nuid": "0a2a0733-7a7b-441c-9626-26e9a5acf568",
     "showTitle": false,
     "title": ""
    }
   },
   "outputs": [
    {
     "output_type": "stream",
     "name": "stdout",
     "output_type": "stream",
     "text": [
      "Out[48]: [('Title', 'string'),\n ('url', 'string'),\n ('Word count', 'string'),\n ('# of Links', 'string'),\n ('# of comments', 'int'),\n ('# Images video', 'int'),\n ('Elapsed days', 'int'),\n ('# Shares', 'int')]"
     ]
    }
   ],
   "source": [
    "# Verificamos el tipo de datos de la data\n",
    "articulos.dtypes"
   ]
  },
  {
   "cell_type": "code",
   "execution_count": 0,
   "metadata": {
    "application/vnd.databricks.v1+cell": {
     "cellMetadata": {},
     "inputWidgets": {},
     "nuid": "1440a81f-a49c-4501-9595-cbe21905692b",
     "showTitle": false,
     "title": ""
    }
   },
   "outputs": [
    {
     "output_type": "stream",
     "name": "stdout",
     "output_type": "stream",
     "text": [
      "Out[49]: [('Title', 'string'),\n ('url', 'string'),\n ('Word count', 'int'),\n ('# of Links', 'int'),\n ('# of comments', 'int'),\n ('# Images video', 'int'),\n ('Elapsed days', 'int'),\n ('# Shares', 'int')]"
     ]
    }
   ],
   "source": [
    "# Cambiar el tipo de dato de las columnas \"Word count\" y \"# of Links\" \n",
    "articulos = articulos.withColumn(\"Word count\", \n",
    "                                  articulos[\"Word count\"]\n",
    "                                  .cast('int'))\n",
    "\n",
    "articulos = articulos.withColumn(\"# of Links\", \n",
    "                                  articulos[\"# of Links\"]\n",
    "                                  .cast('int'))\n",
    "articulos.dtypes"
   ]
  },
  {
   "cell_type": "code",
   "execution_count": 0,
   "metadata": {
    "application/vnd.databricks.v1+cell": {
     "cellMetadata": {},
     "inputWidgets": {},
     "nuid": "aa2c5031-49fa-474f-9596-a84fdb5ea5ff",
     "showTitle": false,
     "title": ""
    }
   },
   "outputs": [
    {
     "output_type": "display_data",
     "data": {
      "text/html": [
       "<style scoped>\n",
       "  .table-result-container {\n",
       "    max-height: 300px;\n",
       "    overflow: auto;\n",
       "  }\n",
       "  table, th, td {\n",
       "    border: 1px solid black;\n",
       "    border-collapse: collapse;\n",
       "  }\n",
       "  th, td {\n",
       "    padding: 5px;\n",
       "  }\n",
       "  th {\n",
       "    text-align: left;\n",
       "  }\n",
       "</style><div class='table-result-container'><table class='table-result'><thead style='background-color: white'><tr><th>summary</th><th>Word count</th><th># of comments</th><th># Images video</th><th>Elapsed days</th><th># Shares</th></tr></thead><tbody><tr><td>count</td><td>160</td><td>129</td><td>161</td><td>161</td><td>161</td></tr><tr><td>mean</td><td>1812.40625</td><td>17.573643410852714</td><td>3.6956521739130435</td><td>97.8944099378882</td><td>27916.35403726708</td></tr><tr><td>stddev</td><td>1144.2888445270803</td><td>100.89929812641464</td><td>3.4206057180360423</td><td>114.47601290687888</td><td>43426.80731031956</td></tr><tr><td>min</td><td>250</td><td>0</td><td>1</td><td>1</td><td>0</td></tr><tr><td>25%</td><td>988</td><td>2</td><td>1</td><td>30</td><td>2800</td></tr><tr><td>50%</td><td>1674</td><td>6</td><td>3</td><td>62</td><td>16458</td></tr><tr><td>75%</td><td>2369</td><td>12</td><td>5</td><td>124</td><td>35691</td></tr><tr><td>max</td><td>8401</td><td>1145</td><td>22</td><td>1002</td><td>350000</td></tr></tbody></table></div>"
      ]
     },
     "metadata": {
      "application/vnd.databricks.v1+output": {
       "addedWidgets": {},
       "aggData": [],
       "aggError": "",
       "aggOverflow": false,
       "aggSchema": [],
       "aggSeriesLimitReached": false,
       "aggType": "",
       "arguments": {},
       "columnCustomDisplayInfos": {},
       "data": [
        [
         "count",
         "160",
         "129",
         "161",
         "161",
         "161"
        ],
        [
         "mean",
         "1812.40625",
         "17.573643410852714",
         "3.6956521739130435",
         "97.8944099378882",
         "27916.35403726708"
        ],
        [
         "stddev",
         "1144.2888445270803",
         "100.89929812641464",
         "3.4206057180360423",
         "114.47601290687888",
         "43426.80731031956"
        ],
        [
         "min",
         "250",
         "0",
         "1",
         "1",
         "0"
        ],
        [
         "25%",
         "988",
         "2",
         "1",
         "30",
         "2800"
        ],
        [
         "50%",
         "1674",
         "6",
         "3",
         "62",
         "16458"
        ],
        [
         "75%",
         "2369",
         "12",
         "5",
         "124",
         "35691"
        ],
        [
         "max",
         "8401",
         "1145",
         "22",
         "1002",
         "350000"
        ]
       ],
       "datasetInfos": [],
       "dbfsResultPath": null,
       "isJsonSchema": true,
       "metadata": {},
       "overflow": false,
       "plotOptions": {
        "customPlotOptions": {},
        "displayType": "table",
        "pivotAggregation": null,
        "pivotColumns": null,
        "xColumns": null,
        "yColumns": null
       },
       "removedWidgets": [],
       "schema": [
        {
         "metadata": "{}",
         "name": "summary",
         "type": "\"string\""
        },
        {
         "metadata": "{}",
         "name": "Word count",
         "type": "\"string\""
        },
        {
         "metadata": "{}",
         "name": "# of comments",
         "type": "\"string\""
        },
        {
         "metadata": "{}",
         "name": "# Images video",
         "type": "\"string\""
        },
        {
         "metadata": "{}",
         "name": "Elapsed days",
         "type": "\"string\""
        },
        {
         "metadata": "{}",
         "name": "# Shares",
         "type": "\"string\""
        }
       ],
       "type": "table"
      }
     },
     "output_type": "display_data"
    }
   ],
   "source": [
    "# Realizamos una descripción general\n",
    "display(articulos.select(\"Word count\",\"# of comments\",\"# Images video\",\"Elapsed days\",\"# Shares\").summary())"
   ]
  },
  {
   "cell_type": "markdown",
   "metadata": {
    "application/vnd.databricks.v1+cell": {
     "cellMetadata": {},
     "inputWidgets": {},
     "nuid": "455f3aa0-0795-49ce-87cb-38df35cca3a3",
     "showTitle": false,
     "title": ""
    }
   },
   "source": [
    "- La media de \"Word count\" es de 1812 palabras.\n",
    "- Existe un artículo con un máximo de palabras de 8401 y un mínimo de 250.\n",
    "- En la salida, un mínimo de 0 y un máximo de 350000."
   ]
  },
  {
   "cell_type": "code",
   "execution_count": 0,
   "metadata": {
    "application/vnd.databricks.v1+cell": {
     "cellMetadata": {},
     "inputWidgets": {},
     "nuid": "f759cd75-0e5a-48ab-b4bc-144979143917",
     "showTitle": false,
     "title": ""
    }
   },
   "outputs": [
    {
     "output_type": "stream",
     "name": "stdout",
     "output_type": "stream",
     "text": [
      "+-----+---+----------+----------+-------------+--------------+------------+--------+\n|Title|url|Word count|# of Links|# of comments|# Images video|Elapsed days|# Shares|\n+-----+---+----------+----------+-------------+--------------+------------+--------+\n|    0| 39|         1|         1|           32|             0|           0|       0|\n+-----+---+----------+----------+-------------+--------------+------------+--------+\n\n"
     ]
    }
   ],
   "source": [
    "# Contar los valores nulos por las columnas\n",
    "articulos.select([count(when(isnan(c) | col(c).isNull(), c)).alias(c) for c in articulos.columns]).show()"
   ]
  },
  {
   "cell_type": "markdown",
   "metadata": {
    "application/vnd.databricks.v1+cell": {
     "cellMetadata": {},
     "inputWidgets": {},
     "nuid": "6715851b-5682-4b9c-bcdf-06c9f6733756",
     "showTitle": false,
     "title": ""
    }
   },
   "source": [
    "#### Una manera de reemplazar los valores nulos es mediante el promedio en columnas numéricas"
   ]
  },
  {
   "cell_type": "code",
   "execution_count": 0,
   "metadata": {
    "application/vnd.databricks.v1+cell": {
     "cellMetadata": {},
     "inputWidgets": {},
     "nuid": "64fe67a8-16c3-44a8-8fdd-ea484ac44346",
     "showTitle": false,
     "title": ""
    }
   },
   "outputs": [],
   "source": [
    "# En este caso lo manejaremos con Pandas\n",
    "articulos_pd = articulos.toPandas() # Para manejar un Dataframe Spark como Pandas"
   ]
  },
  {
   "cell_type": "code",
   "execution_count": 0,
   "metadata": {
    "application/vnd.databricks.v1+cell": {
     "cellMetadata": {},
     "inputWidgets": {},
     "nuid": "d47745c8-5125-49f8-9f07-a515a2e335e9",
     "showTitle": false,
     "title": ""
    }
   },
   "outputs": [],
   "source": [
    "# Reemplazar los valores NULL por el promedio\n",
    "\n",
    "# Para la columna \"# of comments\"\n",
    "articulos_pd['# of comments']=articulos_pd['# of comments'].fillna(articulos_pd['# of comments'].mean())\n",
    "# Para la columna \"# of Links\"\n",
    "articulos_pd['# of Links']=articulos_pd['# of Links'].fillna(articulos_pd['# of Links'].mean())\n",
    "# Para la columna \"Word count\"\n",
    "articulos_pd['Word count']=articulos_pd['Word count'].fillna(articulos_pd['Word count'].mean())"
   ]
  },
  {
   "cell_type": "code",
   "execution_count": 0,
   "metadata": {
    "application/vnd.databricks.v1+cell": {
     "cellMetadata": {},
     "inputWidgets": {},
     "nuid": "8ce51752-b144-4f52-aa9a-d7442ea83ae3",
     "showTitle": false,
     "title": ""
    }
   },
   "outputs": [
    {
     "output_type": "stream",
     "name": "stdout",
     "output_type": "stream",
     "text": [
      "Out[54]: Title             False\nurl                True\nWord count        False\n# of Links        False\n# of comments     False\n# Images video    False\nElapsed days      False\n# Shares          False\ndtype: bool"
     ]
    }
   ],
   "source": [
    "# Observamos que ya no hay valores NULL en las columnas numéricas\n",
    "articulos_pd.isnull().any()"
   ]
  },
  {
   "cell_type": "code",
   "execution_count": 0,
   "metadata": {
    "application/vnd.databricks.v1+cell": {
     "cellMetadata": {},
     "inputWidgets": {},
     "nuid": "d96f8577-a918-4bf0-adc9-9b6fc21406a1",
     "showTitle": false,
     "title": ""
    }
   },
   "outputs": [],
   "source": [
    "# Cambiamos el tipo de dato de la columna \"# of comments\" a int\n",
    "articulos_pd['# of comments']=articulos_pd['# of comments'].astype('int64')"
   ]
  },
  {
   "cell_type": "markdown",
   "metadata": {
    "application/vnd.databricks.v1+cell": {
     "cellMetadata": {},
     "inputWidgets": {},
     "nuid": "963d7748-da9f-416f-a65d-6596eacd9c0c",
     "showTitle": false,
     "title": ""
    }
   },
   "source": [
    "### Visualización General"
   ]
  },
  {
   "cell_type": "markdown",
   "metadata": {
    "application/vnd.databricks.v1+cell": {
     "cellMetadata": {},
     "inputWidgets": {},
     "nuid": "3182b183-c665-4e1f-ba2b-58cb42380e48",
     "showTitle": false,
     "title": ""
    }
   },
   "source": [
    "#### Analizamos la cantidad de palabras (Word count)"
   ]
  },
  {
   "cell_type": "code",
   "execution_count": 0,
   "metadata": {
    "application/vnd.databricks.v1+cell": {
     "cellMetadata": {},
     "inputWidgets": {},
     "nuid": "766c5aed-3adc-4c1e-8057-9b083d15b616",
     "showTitle": false,
     "title": ""
    }
   },
   "outputs": [
    {
     "output_type": "display_data",
     "data": {
      "text/html": [
       "<html>\n",
       "<head><meta charset=\"utf-8\" /></head>\n",
       "<body>\n",
       "    <div>            <script src=\"https://cdnjs.cloudflare.com/ajax/libs/mathjax/2.7.5/MathJax.js?config=TeX-AMS-MML_SVG\"></script><script type=\"text/javascript\">if (window.MathJax) {MathJax.Hub.Config({SVG: {font: \"STIX-Web\"}});}</script>                <script type=\"text/javascript\">window.PlotlyConfig = {MathJaxConfig: 'local'};</script>\n",
       "        <script src=\"https://cdn.plot.ly/plotly-2.8.3.min.js\"></script>                <div id=\"c9e4ec2a-1487-4039-aa0b-a8c96afa6df7\" class=\"plotly-graph-div\" style=\"height:100%; width:100%;\"></div>            <script type=\"text/javascript\">                                    window.PLOTLYENV=window.PLOTLYENV || {};                                    if (document.getElementById(\"c9e4ec2a-1487-4039-aa0b-a8c96afa6df7\")) {                    Plotly.newPlot(                        \"c9e4ec2a-1487-4039-aa0b-a8c96afa6df7\",                        [{\"alignmentgroup\":\"True\",\"bingroup\":\"x\",\"hovertemplate\":\"Word count=%{x}<br>count=%{y}<extra></extra>\",\"legendgroup\":\"\",\"marker\":{\"color\":\"indianred\",\"pattern\":{\"shape\":\"\"}},\"name\":\"\",\"offsetgroup\":\"\",\"orientation\":\"v\",\"showlegend\":false,\"texttemplate\":\"%{value}\",\"x\":[1888.0,1742.0,962.0,1221.0,2039.0,761.0,6462.0,753.0,1118.0,1581.0,2090.0,1099.0,3900.0,256.0,1267.0,971.0,369.0,635.0,1631.0,571.0,1333.0,364.0,515.0,1135.0,666.0,8401.0,787.0,421.0,1065.0,5892.0,908.0,1260.0,950.0,1761.0,911.0,971.0,4420.0,458.0,458.0,782.0,2080.0,250.0,1763.0,650.0,1184.0,957.0,627.0,895.0,1097.0,4437.0,1262.0,1738.0,1813.0,2400.0,662.0,800.0,367.0,507.0,992.0,499.0,619.0,1152.0,2363.0,988.0,759.0,1098.0,2797.0,1120.0,2488.0,2049.0,2542.0,1011.0,2189.0,1864.0,990.0,1741.0,1229.0,2975.0,1864.0,2460.0,2136.0,2833.0,1995.0,2332.0,1998.0,3442.0,2696.0,1913.0,1858.0,2457.0,2592.0,1718.0,1293.0,3023.0,3485.0,2093.0,1490.0,1238.0,2583.0,1007.0,978.0,3019.0,3289.0,2347.0,2224.0,1778.0,1150.0,2528.0,2486.0,2317.0,2369.0,1612.0,1136.0,2721.0,3480.0,1143.0,2428.0,2877.0,776.0,1284.0,1812.40625,1793.0,2904.0,1473.0,2894.0,1932.0,3225.0,3185.0,2068.0,2354.0,2921.0,2211.0,2865.0,1674.0,2282.0,2636.0,774.0,1030.0,734.0,743.0,1514.0,2854.0,1443.0,1817.0,3241.0,1266.0,2275.0,1264.0,2212.0,1871.0,2513.0,1443.0,912.0,2366.0,1542.0,1201.0,3239.0,2566.0,2089.0,1530.0,953.0],\"xaxis\":\"x\",\"yaxis\":\"y\",\"type\":\"histogram\"}],                        {\"template\":{\"data\":{\"bar\":[{\"error_x\":{\"color\":\"#2a3f5f\"},\"error_y\":{\"color\":\"#2a3f5f\"},\"marker\":{\"line\":{\"color\":\"#E5ECF6\",\"width\":0.5},\"pattern\":{\"fillmode\":\"overlay\",\"size\":10,\"solidity\":0.2}},\"type\":\"bar\"}],\"barpolar\":[{\"marker\":{\"line\":{\"color\":\"#E5ECF6\",\"width\":0.5},\"pattern\":{\"fillmode\":\"overlay\",\"size\":10,\"solidity\":0.2}},\"type\":\"barpolar\"}],\"carpet\":[{\"aaxis\":{\"endlinecolor\":\"#2a3f5f\",\"gridcolor\":\"white\",\"linecolor\":\"white\",\"minorgridcolor\":\"white\",\"startlinecolor\":\"#2a3f5f\"},\"baxis\":{\"endlinecolor\":\"#2a3f5f\",\"gridcolor\":\"white\",\"linecolor\":\"white\",\"minorgridcolor\":\"white\",\"startlinecolor\":\"#2a3f5f\"},\"type\":\"carpet\"}],\"choropleth\":[{\"colorbar\":{\"outlinewidth\":0,\"ticks\":\"\"},\"type\":\"choropleth\"}],\"contour\":[{\"colorbar\":{\"outlinewidth\":0,\"ticks\":\"\"},\"colorscale\":[[0.0,\"#0d0887\"],[0.1111111111111111,\"#46039f\"],[0.2222222222222222,\"#7201a8\"],[0.3333333333333333,\"#9c179e\"],[0.4444444444444444,\"#bd3786\"],[0.5555555555555556,\"#d8576b\"],[0.6666666666666666,\"#ed7953\"],[0.7777777777777778,\"#fb9f3a\"],[0.8888888888888888,\"#fdca26\"],[1.0,\"#f0f921\"]],\"type\":\"contour\"}],\"contourcarpet\":[{\"colorbar\":{\"outlinewidth\":0,\"ticks\":\"\"},\"type\":\"contourcarpet\"}],\"heatmap\":[{\"colorbar\":{\"outlinewidth\":0,\"ticks\":\"\"},\"colorscale\":[[0.0,\"#0d0887\"],[0.1111111111111111,\"#46039f\"],[0.2222222222222222,\"#7201a8\"],[0.3333333333333333,\"#9c179e\"],[0.4444444444444444,\"#bd3786\"],[0.5555555555555556,\"#d8576b\"],[0.6666666666666666,\"#ed7953\"],[0.7777777777777778,\"#fb9f3a\"],[0.8888888888888888,\"#fdca26\"],[1.0,\"#f0f921\"]],\"type\":\"heatmap\"}],\"heatmapgl\":[{\"colorbar\":{\"outlinewidth\":0,\"ticks\":\"\"},\"colorscale\":[[0.0,\"#0d0887\"],[0.1111111111111111,\"#46039f\"],[0.2222222222222222,\"#7201a8\"],[0.3333333333333333,\"#9c179e\"],[0.4444444444444444,\"#bd3786\"],[0.5555555555555556,\"#d8576b\"],[0.6666666666666666,\"#ed7953\"],[0.7777777777777778,\"#fb9f3a\"],[0.8888888888888888,\"#fdca26\"],[1.0,\"#f0f921\"]],\"type\":\"heatmapgl\"}],\"histogram\":[{\"marker\":{\"pattern\":{\"fillmode\":\"overlay\",\"size\":10,\"solidity\":0.2}},\"type\":\"histogram\"}],\"histogram2d\":[{\"colorbar\":{\"outlinewidth\":0,\"ticks\":\"\"},\"colorscale\":[[0.0,\"#0d0887\"],[0.1111111111111111,\"#46039f\"],[0.2222222222222222,\"#7201a8\"],[0.3333333333333333,\"#9c179e\"],[0.4444444444444444,\"#bd3786\"],[0.5555555555555556,\"#d8576b\"],[0.6666666666666666,\"#ed7953\"],[0.7777777777777778,\"#fb9f3a\"],[0.8888888888888888,\"#fdca26\"],[1.0,\"#f0f921\"]],\"type\":\"histogram2d\"}],\"histogram2dcontour\":[{\"colorbar\":{\"outlinewidth\":0,\"ticks\":\"\"},\"colorscale\":[[0.0,\"#0d0887\"],[0.1111111111111111,\"#46039f\"],[0.2222222222222222,\"#7201a8\"],[0.3333333333333333,\"#9c179e\"],[0.4444444444444444,\"#bd3786\"],[0.5555555555555556,\"#d8576b\"],[0.6666666666666666,\"#ed7953\"],[0.7777777777777778,\"#fb9f3a\"],[0.8888888888888888,\"#fdca26\"],[1.0,\"#f0f921\"]],\"type\":\"histogram2dcontour\"}],\"mesh3d\":[{\"colorbar\":{\"outlinewidth\":0,\"ticks\":\"\"},\"type\":\"mesh3d\"}],\"parcoords\":[{\"line\":{\"colorbar\":{\"outlinewidth\":0,\"ticks\":\"\"}},\"type\":\"parcoords\"}],\"pie\":[{\"automargin\":true,\"type\":\"pie\"}],\"scatter\":[{\"marker\":{\"colorbar\":{\"outlinewidth\":0,\"ticks\":\"\"}},\"type\":\"scatter\"}],\"scatter3d\":[{\"line\":{\"colorbar\":{\"outlinewidth\":0,\"ticks\":\"\"}},\"marker\":{\"colorbar\":{\"outlinewidth\":0,\"ticks\":\"\"}},\"type\":\"scatter3d\"}],\"scattercarpet\":[{\"marker\":{\"colorbar\":{\"outlinewidth\":0,\"ticks\":\"\"}},\"type\":\"scattercarpet\"}],\"scattergeo\":[{\"marker\":{\"colorbar\":{\"outlinewidth\":0,\"ticks\":\"\"}},\"type\":\"scattergeo\"}],\"scattergl\":[{\"marker\":{\"colorbar\":{\"outlinewidth\":0,\"ticks\":\"\"}},\"type\":\"scattergl\"}],\"scattermapbox\":[{\"marker\":{\"colorbar\":{\"outlinewidth\":0,\"ticks\":\"\"}},\"type\":\"scattermapbox\"}],\"scatterpolar\":[{\"marker\":{\"colorbar\":{\"outlinewidth\":0,\"ticks\":\"\"}},\"type\":\"scatterpolar\"}],\"scatterpolargl\":[{\"marker\":{\"colorbar\":{\"outlinewidth\":0,\"ticks\":\"\"}},\"type\":\"scatterpolargl\"}],\"scatterternary\":[{\"marker\":{\"colorbar\":{\"outlinewidth\":0,\"ticks\":\"\"}},\"type\":\"scatterternary\"}],\"surface\":[{\"colorbar\":{\"outlinewidth\":0,\"ticks\":\"\"},\"colorscale\":[[0.0,\"#0d0887\"],[0.1111111111111111,\"#46039f\"],[0.2222222222222222,\"#7201a8\"],[0.3333333333333333,\"#9c179e\"],[0.4444444444444444,\"#bd3786\"],[0.5555555555555556,\"#d8576b\"],[0.6666666666666666,\"#ed7953\"],[0.7777777777777778,\"#fb9f3a\"],[0.8888888888888888,\"#fdca26\"],[1.0,\"#f0f921\"]],\"type\":\"surface\"}],\"table\":[{\"cells\":{\"fill\":{\"color\":\"#EBF0F8\"},\"line\":{\"color\":\"white\"}},\"header\":{\"fill\":{\"color\":\"#C8D4E3\"},\"line\":{\"color\":\"white\"}},\"type\":\"table\"}]},\"layout\":{\"annotationdefaults\":{\"arrowcolor\":\"#2a3f5f\",\"arrowhead\":0,\"arrowwidth\":1},\"autotypenumbers\":\"strict\",\"coloraxis\":{\"colorbar\":{\"outlinewidth\":0,\"ticks\":\"\"}},\"colorscale\":{\"diverging\":[[0,\"#8e0152\"],[0.1,\"#c51b7d\"],[0.2,\"#de77ae\"],[0.3,\"#f1b6da\"],[0.4,\"#fde0ef\"],[0.5,\"#f7f7f7\"],[0.6,\"#e6f5d0\"],[0.7,\"#b8e186\"],[0.8,\"#7fbc41\"],[0.9,\"#4d9221\"],[1,\"#276419\"]],\"sequential\":[[0.0,\"#0d0887\"],[0.1111111111111111,\"#46039f\"],[0.2222222222222222,\"#7201a8\"],[0.3333333333333333,\"#9c179e\"],[0.4444444444444444,\"#bd3786\"],[0.5555555555555556,\"#d8576b\"],[0.6666666666666666,\"#ed7953\"],[0.7777777777777778,\"#fb9f3a\"],[0.8888888888888888,\"#fdca26\"],[1.0,\"#f0f921\"]],\"sequentialminus\":[[0.0,\"#0d0887\"],[0.1111111111111111,\"#46039f\"],[0.2222222222222222,\"#7201a8\"],[0.3333333333333333,\"#9c179e\"],[0.4444444444444444,\"#bd3786\"],[0.5555555555555556,\"#d8576b\"],[0.6666666666666666,\"#ed7953\"],[0.7777777777777778,\"#fb9f3a\"],[0.8888888888888888,\"#fdca26\"],[1.0,\"#f0f921\"]]},\"colorway\":[\"#636efa\",\"#EF553B\",\"#00cc96\",\"#ab63fa\",\"#FFA15A\",\"#19d3f3\",\"#FF6692\",\"#B6E880\",\"#FF97FF\",\"#FECB52\"],\"font\":{\"color\":\"#2a3f5f\"},\"geo\":{\"bgcolor\":\"white\",\"lakecolor\":\"white\",\"landcolor\":\"#E5ECF6\",\"showlakes\":true,\"showland\":true,\"subunitcolor\":\"white\"},\"hoverlabel\":{\"align\":\"left\"},\"hovermode\":\"closest\",\"mapbox\":{\"style\":\"light\"},\"paper_bgcolor\":\"white\",\"plot_bgcolor\":\"#E5ECF6\",\"polar\":{\"angularaxis\":{\"gridcolor\":\"white\",\"linecolor\":\"white\",\"ticks\":\"\"},\"bgcolor\":\"#E5ECF6\",\"radialaxis\":{\"gridcolor\":\"white\",\"linecolor\":\"white\",\"ticks\":\"\"}},\"scene\":{\"xaxis\":{\"backgroundcolor\":\"#E5ECF6\",\"gridcolor\":\"white\",\"gridwidth\":2,\"linecolor\":\"white\",\"showbackground\":true,\"ticks\":\"\",\"zerolinecolor\":\"white\"},\"yaxis\":{\"backgroundcolor\":\"#E5ECF6\",\"gridcolor\":\"white\",\"gridwidth\":2,\"linecolor\":\"white\",\"showbackground\":true,\"ticks\":\"\",\"zerolinecolor\":\"white\"},\"zaxis\":{\"backgroundcolor\":\"#E5ECF6\",\"gridcolor\":\"white\",\"gridwidth\":2,\"linecolor\":\"white\",\"showbackground\":true,\"ticks\":\"\",\"zerolinecolor\":\"white\"}},\"shapedefaults\":{\"line\":{\"color\":\"#2a3f5f\"}},\"ternary\":{\"aaxis\":{\"gridcolor\":\"white\",\"linecolor\":\"white\",\"ticks\":\"\"},\"baxis\":{\"gridcolor\":\"white\",\"linecolor\":\"white\",\"ticks\":\"\"},\"bgcolor\":\"#E5ECF6\",\"caxis\":{\"gridcolor\":\"white\",\"linecolor\":\"white\",\"ticks\":\"\"}},\"title\":{\"x\":0.05},\"xaxis\":{\"automargin\":true,\"gridcolor\":\"white\",\"linecolor\":\"white\",\"ticks\":\"\",\"title\":{\"standoff\":15},\"zerolinecolor\":\"white\",\"zerolinewidth\":2},\"yaxis\":{\"automargin\":true,\"gridcolor\":\"white\",\"linecolor\":\"white\",\"ticks\":\"\",\"title\":{\"standoff\":15},\"zerolinecolor\":\"white\",\"zerolinewidth\":2}}},\"xaxis\":{\"anchor\":\"y\",\"domain\":[0.0,1.0],\"title\":{\"text\":\"Word count\"}},\"yaxis\":{\"anchor\":\"x\",\"domain\":[0.0,1.0],\"title\":{\"text\":\"count\"}},\"legend\":{\"tracegroupgap\":0},\"title\":{\"text\":\"Cantidad de Palabras\"},\"barmode\":\"relative\"},                        {\"responsive\": true}                    )                };                            </script>        </div>\n",
       "</body>\n",
       "</html>"
      ]
     },
     "metadata": {
      "application/vnd.databricks.v1+output": {
       "addedWidgets": {},
       "arguments": {},
       "data": "<html>\n<head><meta charset=\"utf-8\" /></head>\n<body>\n    <div>            <script src=\"https://cdnjs.cloudflare.com/ajax/libs/mathjax/2.7.5/MathJax.js?config=TeX-AMS-MML_SVG\"></script><script type=\"text/javascript\">if (window.MathJax) {MathJax.Hub.Config({SVG: {font: \"STIX-Web\"}});}</script>                <script type=\"text/javascript\">window.PlotlyConfig = {MathJaxConfig: 'local'};</script>\n        <script src=\"https://cdn.plot.ly/plotly-2.8.3.min.js\"></script>                <div id=\"c9e4ec2a-1487-4039-aa0b-a8c96afa6df7\" class=\"plotly-graph-div\" style=\"height:100%; width:100%;\"></div>            <script type=\"text/javascript\">                                    window.PLOTLYENV=window.PLOTLYENV || {};                                    if (document.getElementById(\"c9e4ec2a-1487-4039-aa0b-a8c96afa6df7\")) {                    Plotly.newPlot(                        \"c9e4ec2a-1487-4039-aa0b-a8c96afa6df7\",                        [{\"alignmentgroup\":\"True\",\"bingroup\":\"x\",\"hovertemplate\":\"Word count=%{x}<br>count=%{y}<extra></extra>\",\"legendgroup\":\"\",\"marker\":{\"color\":\"indianred\",\"pattern\":{\"shape\":\"\"}},\"name\":\"\",\"offsetgroup\":\"\",\"orientation\":\"v\",\"showlegend\":false,\"texttemplate\":\"%{value}\",\"x\":[1888.0,1742.0,962.0,1221.0,2039.0,761.0,6462.0,753.0,1118.0,1581.0,2090.0,1099.0,3900.0,256.0,1267.0,971.0,369.0,635.0,1631.0,571.0,1333.0,364.0,515.0,1135.0,666.0,8401.0,787.0,421.0,1065.0,5892.0,908.0,1260.0,950.0,1761.0,911.0,971.0,4420.0,458.0,458.0,782.0,2080.0,250.0,1763.0,650.0,1184.0,957.0,627.0,895.0,1097.0,4437.0,1262.0,1738.0,1813.0,2400.0,662.0,800.0,367.0,507.0,992.0,499.0,619.0,1152.0,2363.0,988.0,759.0,1098.0,2797.0,1120.0,2488.0,2049.0,2542.0,1011.0,2189.0,1864.0,990.0,1741.0,1229.0,2975.0,1864.0,2460.0,2136.0,2833.0,1995.0,2332.0,1998.0,3442.0,2696.0,1913.0,1858.0,2457.0,2592.0,1718.0,1293.0,3023.0,3485.0,2093.0,1490.0,1238.0,2583.0,1007.0,978.0,3019.0,3289.0,2347.0,2224.0,1778.0,1150.0,2528.0,2486.0,2317.0,2369.0,1612.0,1136.0,2721.0,3480.0,1143.0,2428.0,2877.0,776.0,1284.0,1812.40625,1793.0,2904.0,1473.0,2894.0,1932.0,3225.0,3185.0,2068.0,2354.0,2921.0,2211.0,2865.0,1674.0,2282.0,2636.0,774.0,1030.0,734.0,743.0,1514.0,2854.0,1443.0,1817.0,3241.0,1266.0,2275.0,1264.0,2212.0,1871.0,2513.0,1443.0,912.0,2366.0,1542.0,1201.0,3239.0,2566.0,2089.0,1530.0,953.0],\"xaxis\":\"x\",\"yaxis\":\"y\",\"type\":\"histogram\"}],                        {\"template\":{\"data\":{\"bar\":[{\"error_x\":{\"color\":\"#2a3f5f\"},\"error_y\":{\"color\":\"#2a3f5f\"},\"marker\":{\"line\":{\"color\":\"#E5ECF6\",\"width\":0.5},\"pattern\":{\"fillmode\":\"overlay\",\"size\":10,\"solidity\":0.2}},\"type\":\"bar\"}],\"barpolar\":[{\"marker\":{\"line\":{\"color\":\"#E5ECF6\",\"width\":0.5},\"pattern\":{\"fillmode\":\"overlay\",\"size\":10,\"solidity\":0.2}},\"type\":\"barpolar\"}],\"carpet\":[{\"aaxis\":{\"endlinecolor\":\"#2a3f5f\",\"gridcolor\":\"white\",\"linecolor\":\"white\",\"minorgridcolor\":\"white\",\"startlinecolor\":\"#2a3f5f\"},\"baxis\":{\"endlinecolor\":\"#2a3f5f\",\"gridcolor\":\"white\",\"linecolor\":\"white\",\"minorgridcolor\":\"white\",\"startlinecolor\":\"#2a3f5f\"},\"type\":\"carpet\"}],\"choropleth\":[{\"colorbar\":{\"outlinewidth\":0,\"ticks\":\"\"},\"type\":\"choropleth\"}],\"contour\":[{\"colorbar\":{\"outlinewidth\":0,\"ticks\":\"\"},\"colorscale\":[[0.0,\"#0d0887\"],[0.1111111111111111,\"#46039f\"],[0.2222222222222222,\"#7201a8\"],[0.3333333333333333,\"#9c179e\"],[0.4444444444444444,\"#bd3786\"],[0.5555555555555556,\"#d8576b\"],[0.6666666666666666,\"#ed7953\"],[0.7777777777777778,\"#fb9f3a\"],[0.8888888888888888,\"#fdca26\"],[1.0,\"#f0f921\"]],\"type\":\"contour\"}],\"contourcarpet\":[{\"colorbar\":{\"outlinewidth\":0,\"ticks\":\"\"},\"type\":\"contourcarpet\"}],\"heatmap\":[{\"colorbar\":{\"outlinewidth\":0,\"ticks\":\"\"},\"colorscale\":[[0.0,\"#0d0887\"],[0.1111111111111111,\"#46039f\"],[0.2222222222222222,\"#7201a8\"],[0.3333333333333333,\"#9c179e\"],[0.4444444444444444,\"#bd3786\"],[0.5555555555555556,\"#d8576b\"],[0.6666666666666666,\"#ed7953\"],[0.7777777777777778,\"#fb9f3a\"],[0.8888888888888888,\"#fdca26\"],[1.0,\"#f0f921\"]],\"type\":\"heatmap\"}],\"heatmapgl\":[{\"colorbar\":{\"outlinewidth\":0,\"ticks\":\"\"},\"colorscale\":[[0.0,\"#0d0887\"],[0.1111111111111111,\"#46039f\"],[0.2222222222222222,\"#7201a8\"],[0.3333333333333333,\"#9c179e\"],[0.4444444444444444,\"#bd3786\"],[0.5555555555555556,\"#d8576b\"],[0.6666666666666666,\"#ed7953\"],[0.7777777777777778,\"#fb9f3a\"],[0.8888888888888888,\"#fdca26\"],[1.0,\"#f0f921\"]],\"type\":\"heatmapgl\"}],\"histogram\":[{\"marker\":{\"pattern\":{\"fillmode\":\"overlay\",\"size\":10,\"solidity\":0.2}},\"type\":\"histogram\"}],\"histogram2d\":[{\"colorbar\":{\"outlinewidth\":0,\"ticks\":\"\"},\"colorscale\":[[0.0,\"#0d0887\"],[0.1111111111111111,\"#46039f\"],[0.2222222222222222,\"#7201a8\"],[0.3333333333333333,\"#9c179e\"],[0.4444444444444444,\"#bd3786\"],[0.5555555555555556,\"#d8576b\"],[0.6666666666666666,\"#ed7953\"],[0.7777777777777778,\"#fb9f3a\"],[0.8888888888888888,\"#fdca26\"],[1.0,\"#f0f921\"]],\"type\":\"histogram2d\"}],\"histogram2dcontour\":[{\"colorbar\":{\"outlinewidth\":0,\"ticks\":\"\"},\"colorscale\":[[0.0,\"#0d0887\"],[0.1111111111111111,\"#46039f\"],[0.2222222222222222,\"#7201a8\"],[0.3333333333333333,\"#9c179e\"],[0.4444444444444444,\"#bd3786\"],[0.5555555555555556,\"#d8576b\"],[0.6666666666666666,\"#ed7953\"],[0.7777777777777778,\"#fb9f3a\"],[0.8888888888888888,\"#fdca26\"],[1.0,\"#f0f921\"]],\"type\":\"histogram2dcontour\"}],\"mesh3d\":[{\"colorbar\":{\"outlinewidth\":0,\"ticks\":\"\"},\"type\":\"mesh3d\"}],\"parcoords\":[{\"line\":{\"colorbar\":{\"outlinewidth\":0,\"ticks\":\"\"}},\"type\":\"parcoords\"}],\"pie\":[{\"automargin\":true,\"type\":\"pie\"}],\"scatter\":[{\"marker\":{\"colorbar\":{\"outlinewidth\":0,\"ticks\":\"\"}},\"type\":\"scatter\"}],\"scatter3d\":[{\"line\":{\"colorbar\":{\"outlinewidth\":0,\"ticks\":\"\"}},\"marker\":{\"colorbar\":{\"outlinewidth\":0,\"ticks\":\"\"}},\"type\":\"scatter3d\"}],\"scattercarpet\":[{\"marker\":{\"colorbar\":{\"outlinewidth\":0,\"ticks\":\"\"}},\"type\":\"scattercarpet\"}],\"scattergeo\":[{\"marker\":{\"colorbar\":{\"outlinewidth\":0,\"ticks\":\"\"}},\"type\":\"scattergeo\"}],\"scattergl\":[{\"marker\":{\"colorbar\":{\"outlinewidth\":0,\"ticks\":\"\"}},\"type\":\"scattergl\"}],\"scattermapbox\":[{\"marker\":{\"colorbar\":{\"outlinewidth\":0,\"ticks\":\"\"}},\"type\":\"scattermapbox\"}],\"scatterpolar\":[{\"marker\":{\"colorbar\":{\"outlinewidth\":0,\"ticks\":\"\"}},\"type\":\"scatterpolar\"}],\"scatterpolargl\":[{\"marker\":{\"colorbar\":{\"outlinewidth\":0,\"ticks\":\"\"}},\"type\":\"scatterpolargl\"}],\"scatterternary\":[{\"marker\":{\"colorbar\":{\"outlinewidth\":0,\"ticks\":\"\"}},\"type\":\"scatterternary\"}],\"surface\":[{\"colorbar\":{\"outlinewidth\":0,\"ticks\":\"\"},\"colorscale\":[[0.0,\"#0d0887\"],[0.1111111111111111,\"#46039f\"],[0.2222222222222222,\"#7201a8\"],[0.3333333333333333,\"#9c179e\"],[0.4444444444444444,\"#bd3786\"],[0.5555555555555556,\"#d8576b\"],[0.6666666666666666,\"#ed7953\"],[0.7777777777777778,\"#fb9f3a\"],[0.8888888888888888,\"#fdca26\"],[1.0,\"#f0f921\"]],\"type\":\"surface\"}],\"table\":[{\"cells\":{\"fill\":{\"color\":\"#EBF0F8\"},\"line\":{\"color\":\"white\"}},\"header\":{\"fill\":{\"color\":\"#C8D4E3\"},\"line\":{\"color\":\"white\"}},\"type\":\"table\"}]},\"layout\":{\"annotationdefaults\":{\"arrowcolor\":\"#2a3f5f\",\"arrowhead\":0,\"arrowwidth\":1},\"autotypenumbers\":\"strict\",\"coloraxis\":{\"colorbar\":{\"outlinewidth\":0,\"ticks\":\"\"}},\"colorscale\":{\"diverging\":[[0,\"#8e0152\"],[0.1,\"#c51b7d\"],[0.2,\"#de77ae\"],[0.3,\"#f1b6da\"],[0.4,\"#fde0ef\"],[0.5,\"#f7f7f7\"],[0.6,\"#e6f5d0\"],[0.7,\"#b8e186\"],[0.8,\"#7fbc41\"],[0.9,\"#4d9221\"],[1,\"#276419\"]],\"sequential\":[[0.0,\"#0d0887\"],[0.1111111111111111,\"#46039f\"],[0.2222222222222222,\"#7201a8\"],[0.3333333333333333,\"#9c179e\"],[0.4444444444444444,\"#bd3786\"],[0.5555555555555556,\"#d8576b\"],[0.6666666666666666,\"#ed7953\"],[0.7777777777777778,\"#fb9f3a\"],[0.8888888888888888,\"#fdca26\"],[1.0,\"#f0f921\"]],\"sequentialminus\":[[0.0,\"#0d0887\"],[0.1111111111111111,\"#46039f\"],[0.2222222222222222,\"#7201a8\"],[0.3333333333333333,\"#9c179e\"],[0.4444444444444444,\"#bd3786\"],[0.5555555555555556,\"#d8576b\"],[0.6666666666666666,\"#ed7953\"],[0.7777777777777778,\"#fb9f3a\"],[0.8888888888888888,\"#fdca26\"],[1.0,\"#f0f921\"]]},\"colorway\":[\"#636efa\",\"#EF553B\",\"#00cc96\",\"#ab63fa\",\"#FFA15A\",\"#19d3f3\",\"#FF6692\",\"#B6E880\",\"#FF97FF\",\"#FECB52\"],\"font\":{\"color\":\"#2a3f5f\"},\"geo\":{\"bgcolor\":\"white\",\"lakecolor\":\"white\",\"landcolor\":\"#E5ECF6\",\"showlakes\":true,\"showland\":true,\"subunitcolor\":\"white\"},\"hoverlabel\":{\"align\":\"left\"},\"hovermode\":\"closest\",\"mapbox\":{\"style\":\"light\"},\"paper_bgcolor\":\"white\",\"plot_bgcolor\":\"#E5ECF6\",\"polar\":{\"angularaxis\":{\"gridcolor\":\"white\",\"linecolor\":\"white\",\"ticks\":\"\"},\"bgcolor\":\"#E5ECF6\",\"radialaxis\":{\"gridcolor\":\"white\",\"linecolor\":\"white\",\"ticks\":\"\"}},\"scene\":{\"xaxis\":{\"backgroundcolor\":\"#E5ECF6\",\"gridcolor\":\"white\",\"gridwidth\":2,\"linecolor\":\"white\",\"showbackground\":true,\"ticks\":\"\",\"zerolinecolor\":\"white\"},\"yaxis\":{\"backgroundcolor\":\"#E5ECF6\",\"gridcolor\":\"white\",\"gridwidth\":2,\"linecolor\":\"white\",\"showbackground\":true,\"ticks\":\"\",\"zerolinecolor\":\"white\"},\"zaxis\":{\"backgroundcolor\":\"#E5ECF6\",\"gridcolor\":\"white\",\"gridwidth\":2,\"linecolor\":\"white\",\"showbackground\":true,\"ticks\":\"\",\"zerolinecolor\":\"white\"}},\"shapedefaults\":{\"line\":{\"color\":\"#2a3f5f\"}},\"ternary\":{\"aaxis\":{\"gridcolor\":\"white\",\"linecolor\":\"white\",\"ticks\":\"\"},\"baxis\":{\"gridcolor\":\"white\",\"linecolor\":\"white\",\"ticks\":\"\"},\"bgcolor\":\"#E5ECF6\",\"caxis\":{\"gridcolor\":\"white\",\"linecolor\":\"white\",\"ticks\":\"\"}},\"title\":{\"x\":0.05},\"xaxis\":{\"automargin\":true,\"gridcolor\":\"white\",\"linecolor\":\"white\",\"ticks\":\"\",\"title\":{\"standoff\":15},\"zerolinecolor\":\"white\",\"zerolinewidth\":2},\"yaxis\":{\"automargin\":true,\"gridcolor\":\"white\",\"linecolor\":\"white\",\"ticks\":\"\",\"title\":{\"standoff\":15},\"zerolinecolor\":\"white\",\"zerolinewidth\":2}}},\"xaxis\":{\"anchor\":\"y\",\"domain\":[0.0,1.0],\"title\":{\"text\":\"Word count\"}},\"yaxis\":{\"anchor\":\"x\",\"domain\":[0.0,1.0],\"title\":{\"text\":\"count\"}},\"legend\":{\"tracegroupgap\":0},\"title\":{\"text\":\"Cantidad de Palabras\"},\"barmode\":\"relative\"},                        {\"responsive\": true}                    )                };                            </script>        </div>\n</body>\n</html>",
       "datasetInfos": [],
       "metadata": {},
       "removedWidgets": [],
       "textData": null,
       "type": "htmlSandbox"
      }
     },
     "output_type": "display_data"
    }
   ],
   "source": [
    "import plotly.express as px\n",
    "px.histogram(articulos_pd['Word count'], x=\"Word count\", title=\"Cantidad de Palabras\",color_discrete_sequence=['indianred'],text_auto=True)"
   ]
  },
  {
   "cell_type": "markdown",
   "metadata": {
    "application/vnd.databricks.v1+cell": {
     "cellMetadata": {},
     "inputWidgets": {},
     "nuid": "64178f39-d142-4822-bd75-b6f63107e02d",
     "showTitle": false,
     "title": ""
    }
   },
   "source": [
    "Podemos observar que donde se concentran mayormente los registros para **Word count** es de 3500."
   ]
  },
  {
   "cell_type": "markdown",
   "metadata": {
    "application/vnd.databricks.v1+cell": {
     "cellMetadata": {},
     "inputWidgets": {},
     "nuid": "c7ff56b8-d94d-462f-8ca4-a7c970c8cbb6",
     "showTitle": false,
     "title": ""
    }
   },
   "source": [
    "#### Analizamos la cantidad de link (# of Links)"
   ]
  },
  {
   "cell_type": "code",
   "execution_count": 0,
   "metadata": {
    "application/vnd.databricks.v1+cell": {
     "cellMetadata": {},
     "inputWidgets": {},
     "nuid": "edfd09d9-9ebc-4a65-8699-9810cbbc957b",
     "showTitle": false,
     "title": ""
    }
   },
   "outputs": [
    {
     "output_type": "display_data",
     "data": {
      "text/html": [
       "<html>\n",
       "<head><meta charset=\"utf-8\" /></head>\n",
       "<body>\n",
       "    <div>            <script src=\"https://cdnjs.cloudflare.com/ajax/libs/mathjax/2.7.5/MathJax.js?config=TeX-AMS-MML_SVG\"></script><script type=\"text/javascript\">if (window.MathJax) {MathJax.Hub.Config({SVG: {font: \"STIX-Web\"}});}</script>                <script type=\"text/javascript\">window.PlotlyConfig = {MathJaxConfig: 'local'};</script>\n",
       "        <script src=\"https://cdn.plot.ly/plotly-2.8.3.min.js\"></script>                <div id=\"8cfb9528-e958-4379-b586-7c32dcc72480\" class=\"plotly-graph-div\" style=\"height:100%; width:100%;\"></div>            <script type=\"text/javascript\">                                    window.PLOTLYENV=window.PLOTLYENV || {};                                    if (document.getElementById(\"8cfb9528-e958-4379-b586-7c32dcc72480\")) {                    Plotly.newPlot(                        \"8cfb9528-e958-4379-b586-7c32dcc72480\",                        [{\"alignmentgroup\":\"True\",\"bingroup\":\"x\",\"hovertemplate\":\"# of Links=%{x}<br>count=%{y}<extra></extra>\",\"legendgroup\":\"\",\"marker\":{\"color\":\"blue\",\"pattern\":{\"shape\":\"\"}},\"name\":\"\",\"offsetgroup\":\"\",\"orientation\":\"v\",\"showlegend\":false,\"texttemplate\":\"%{value}\",\"x\":[1.0,9.0,6.0,3.0,1.0,0.0,600.0,3.0,2.0,4.0,1.0,4.0,30.0,0.0,2.0,10.0,6.0,3.0,6.0,4.0,8.0,5.0,2.0,8.0,4.0,30.0,4.0,2.0,1.0,21.0,2.0,6.0,6.0,49.0,10.0,5.0,13.0,1.0,3.0,8.0,4.0,4.0,1.0,10.0,39.0,9.0,2.0,1.0,2.0,3.0,10.0,32.0,6.0,5.0,2.0,6.0,5.0,8.0,10.0,10.0,10.0,8.0,4.0,1.0,20.0,8.0,22.0,2.0,11.0,12.0,2.0,15.0,3.0,6.0,6.0,5.0,5.0,3.0,1.0,1.0,5.0,7.0,7.0,5.0,6.0,3.0,6.0,5.0,8.0,3.0,1.0,2.0,8.0,7.0,2.0,3.0,7.0,6.0,1.0,2.0,8.0,5.0,3.0,5.0,8.0,4.0,6.0,5.0,1.0,7.0,3.0,5.0,6.0,3.0,1.0,8.0,4.0,4.0,1.0,8.0,9.7625,7.0,7.0,3.0,5.0,7.0,1.0,4.0,7.0,1.0,1.0,8.0,3.0,5.0,1.0,3.0,3.0,8.0,8.0,3.0,2.0,3.0,5.0,5.0,8.0,6.0,4.0,1.0,3.0,6.0,7.0,7.0,5.0,2.0,6.0,1.0,3.0,3.0,4.0,4.0,6.0],\"xaxis\":\"x\",\"yaxis\":\"y\",\"type\":\"histogram\"}],                        {\"template\":{\"data\":{\"bar\":[{\"error_x\":{\"color\":\"#2a3f5f\"},\"error_y\":{\"color\":\"#2a3f5f\"},\"marker\":{\"line\":{\"color\":\"#E5ECF6\",\"width\":0.5},\"pattern\":{\"fillmode\":\"overlay\",\"size\":10,\"solidity\":0.2}},\"type\":\"bar\"}],\"barpolar\":[{\"marker\":{\"line\":{\"color\":\"#E5ECF6\",\"width\":0.5},\"pattern\":{\"fillmode\":\"overlay\",\"size\":10,\"solidity\":0.2}},\"type\":\"barpolar\"}],\"carpet\":[{\"aaxis\":{\"endlinecolor\":\"#2a3f5f\",\"gridcolor\":\"white\",\"linecolor\":\"white\",\"minorgridcolor\":\"white\",\"startlinecolor\":\"#2a3f5f\"},\"baxis\":{\"endlinecolor\":\"#2a3f5f\",\"gridcolor\":\"white\",\"linecolor\":\"white\",\"minorgridcolor\":\"white\",\"startlinecolor\":\"#2a3f5f\"},\"type\":\"carpet\"}],\"choropleth\":[{\"colorbar\":{\"outlinewidth\":0,\"ticks\":\"\"},\"type\":\"choropleth\"}],\"contour\":[{\"colorbar\":{\"outlinewidth\":0,\"ticks\":\"\"},\"colorscale\":[[0.0,\"#0d0887\"],[0.1111111111111111,\"#46039f\"],[0.2222222222222222,\"#7201a8\"],[0.3333333333333333,\"#9c179e\"],[0.4444444444444444,\"#bd3786\"],[0.5555555555555556,\"#d8576b\"],[0.6666666666666666,\"#ed7953\"],[0.7777777777777778,\"#fb9f3a\"],[0.8888888888888888,\"#fdca26\"],[1.0,\"#f0f921\"]],\"type\":\"contour\"}],\"contourcarpet\":[{\"colorbar\":{\"outlinewidth\":0,\"ticks\":\"\"},\"type\":\"contourcarpet\"}],\"heatmap\":[{\"colorbar\":{\"outlinewidth\":0,\"ticks\":\"\"},\"colorscale\":[[0.0,\"#0d0887\"],[0.1111111111111111,\"#46039f\"],[0.2222222222222222,\"#7201a8\"],[0.3333333333333333,\"#9c179e\"],[0.4444444444444444,\"#bd3786\"],[0.5555555555555556,\"#d8576b\"],[0.6666666666666666,\"#ed7953\"],[0.7777777777777778,\"#fb9f3a\"],[0.8888888888888888,\"#fdca26\"],[1.0,\"#f0f921\"]],\"type\":\"heatmap\"}],\"heatmapgl\":[{\"colorbar\":{\"outlinewidth\":0,\"ticks\":\"\"},\"colorscale\":[[0.0,\"#0d0887\"],[0.1111111111111111,\"#46039f\"],[0.2222222222222222,\"#7201a8\"],[0.3333333333333333,\"#9c179e\"],[0.4444444444444444,\"#bd3786\"],[0.5555555555555556,\"#d8576b\"],[0.6666666666666666,\"#ed7953\"],[0.7777777777777778,\"#fb9f3a\"],[0.8888888888888888,\"#fdca26\"],[1.0,\"#f0f921\"]],\"type\":\"heatmapgl\"}],\"histogram\":[{\"marker\":{\"pattern\":{\"fillmode\":\"overlay\",\"size\":10,\"solidity\":0.2}},\"type\":\"histogram\"}],\"histogram2d\":[{\"colorbar\":{\"outlinewidth\":0,\"ticks\":\"\"},\"colorscale\":[[0.0,\"#0d0887\"],[0.1111111111111111,\"#46039f\"],[0.2222222222222222,\"#7201a8\"],[0.3333333333333333,\"#9c179e\"],[0.4444444444444444,\"#bd3786\"],[0.5555555555555556,\"#d8576b\"],[0.6666666666666666,\"#ed7953\"],[0.7777777777777778,\"#fb9f3a\"],[0.8888888888888888,\"#fdca26\"],[1.0,\"#f0f921\"]],\"type\":\"histogram2d\"}],\"histogram2dcontour\":[{\"colorbar\":{\"outlinewidth\":0,\"ticks\":\"\"},\"colorscale\":[[0.0,\"#0d0887\"],[0.1111111111111111,\"#46039f\"],[0.2222222222222222,\"#7201a8\"],[0.3333333333333333,\"#9c179e\"],[0.4444444444444444,\"#bd3786\"],[0.5555555555555556,\"#d8576b\"],[0.6666666666666666,\"#ed7953\"],[0.7777777777777778,\"#fb9f3a\"],[0.8888888888888888,\"#fdca26\"],[1.0,\"#f0f921\"]],\"type\":\"histogram2dcontour\"}],\"mesh3d\":[{\"colorbar\":{\"outlinewidth\":0,\"ticks\":\"\"},\"type\":\"mesh3d\"}],\"parcoords\":[{\"line\":{\"colorbar\":{\"outlinewidth\":0,\"ticks\":\"\"}},\"type\":\"parcoords\"}],\"pie\":[{\"automargin\":true,\"type\":\"pie\"}],\"scatter\":[{\"marker\":{\"colorbar\":{\"outlinewidth\":0,\"ticks\":\"\"}},\"type\":\"scatter\"}],\"scatter3d\":[{\"line\":{\"colorbar\":{\"outlinewidth\":0,\"ticks\":\"\"}},\"marker\":{\"colorbar\":{\"outlinewidth\":0,\"ticks\":\"\"}},\"type\":\"scatter3d\"}],\"scattercarpet\":[{\"marker\":{\"colorbar\":{\"outlinewidth\":0,\"ticks\":\"\"}},\"type\":\"scattercarpet\"}],\"scattergeo\":[{\"marker\":{\"colorbar\":{\"outlinewidth\":0,\"ticks\":\"\"}},\"type\":\"scattergeo\"}],\"scattergl\":[{\"marker\":{\"colorbar\":{\"outlinewidth\":0,\"ticks\":\"\"}},\"type\":\"scattergl\"}],\"scattermapbox\":[{\"marker\":{\"colorbar\":{\"outlinewidth\":0,\"ticks\":\"\"}},\"type\":\"scattermapbox\"}],\"scatterpolar\":[{\"marker\":{\"colorbar\":{\"outlinewidth\":0,\"ticks\":\"\"}},\"type\":\"scatterpolar\"}],\"scatterpolargl\":[{\"marker\":{\"colorbar\":{\"outlinewidth\":0,\"ticks\":\"\"}},\"type\":\"scatterpolargl\"}],\"scatterternary\":[{\"marker\":{\"colorbar\":{\"outlinewidth\":0,\"ticks\":\"\"}},\"type\":\"scatterternary\"}],\"surface\":[{\"colorbar\":{\"outlinewidth\":0,\"ticks\":\"\"},\"colorscale\":[[0.0,\"#0d0887\"],[0.1111111111111111,\"#46039f\"],[0.2222222222222222,\"#7201a8\"],[0.3333333333333333,\"#9c179e\"],[0.4444444444444444,\"#bd3786\"],[0.5555555555555556,\"#d8576b\"],[0.6666666666666666,\"#ed7953\"],[0.7777777777777778,\"#fb9f3a\"],[0.8888888888888888,\"#fdca26\"],[1.0,\"#f0f921\"]],\"type\":\"surface\"}],\"table\":[{\"cells\":{\"fill\":{\"color\":\"#EBF0F8\"},\"line\":{\"color\":\"white\"}},\"header\":{\"fill\":{\"color\":\"#C8D4E3\"},\"line\":{\"color\":\"white\"}},\"type\":\"table\"}]},\"layout\":{\"annotationdefaults\":{\"arrowcolor\":\"#2a3f5f\",\"arrowhead\":0,\"arrowwidth\":1},\"autotypenumbers\":\"strict\",\"coloraxis\":{\"colorbar\":{\"outlinewidth\":0,\"ticks\":\"\"}},\"colorscale\":{\"diverging\":[[0,\"#8e0152\"],[0.1,\"#c51b7d\"],[0.2,\"#de77ae\"],[0.3,\"#f1b6da\"],[0.4,\"#fde0ef\"],[0.5,\"#f7f7f7\"],[0.6,\"#e6f5d0\"],[0.7,\"#b8e186\"],[0.8,\"#7fbc41\"],[0.9,\"#4d9221\"],[1,\"#276419\"]],\"sequential\":[[0.0,\"#0d0887\"],[0.1111111111111111,\"#46039f\"],[0.2222222222222222,\"#7201a8\"],[0.3333333333333333,\"#9c179e\"],[0.4444444444444444,\"#bd3786\"],[0.5555555555555556,\"#d8576b\"],[0.6666666666666666,\"#ed7953\"],[0.7777777777777778,\"#fb9f3a\"],[0.8888888888888888,\"#fdca26\"],[1.0,\"#f0f921\"]],\"sequentialminus\":[[0.0,\"#0d0887\"],[0.1111111111111111,\"#46039f\"],[0.2222222222222222,\"#7201a8\"],[0.3333333333333333,\"#9c179e\"],[0.4444444444444444,\"#bd3786\"],[0.5555555555555556,\"#d8576b\"],[0.6666666666666666,\"#ed7953\"],[0.7777777777777778,\"#fb9f3a\"],[0.8888888888888888,\"#fdca26\"],[1.0,\"#f0f921\"]]},\"colorway\":[\"#636efa\",\"#EF553B\",\"#00cc96\",\"#ab63fa\",\"#FFA15A\",\"#19d3f3\",\"#FF6692\",\"#B6E880\",\"#FF97FF\",\"#FECB52\"],\"font\":{\"color\":\"#2a3f5f\"},\"geo\":{\"bgcolor\":\"white\",\"lakecolor\":\"white\",\"landcolor\":\"#E5ECF6\",\"showlakes\":true,\"showland\":true,\"subunitcolor\":\"white\"},\"hoverlabel\":{\"align\":\"left\"},\"hovermode\":\"closest\",\"mapbox\":{\"style\":\"light\"},\"paper_bgcolor\":\"white\",\"plot_bgcolor\":\"#E5ECF6\",\"polar\":{\"angularaxis\":{\"gridcolor\":\"white\",\"linecolor\":\"white\",\"ticks\":\"\"},\"bgcolor\":\"#E5ECF6\",\"radialaxis\":{\"gridcolor\":\"white\",\"linecolor\":\"white\",\"ticks\":\"\"}},\"scene\":{\"xaxis\":{\"backgroundcolor\":\"#E5ECF6\",\"gridcolor\":\"white\",\"gridwidth\":2,\"linecolor\":\"white\",\"showbackground\":true,\"ticks\":\"\",\"zerolinecolor\":\"white\"},\"yaxis\":{\"backgroundcolor\":\"#E5ECF6\",\"gridcolor\":\"white\",\"gridwidth\":2,\"linecolor\":\"white\",\"showbackground\":true,\"ticks\":\"\",\"zerolinecolor\":\"white\"},\"zaxis\":{\"backgroundcolor\":\"#E5ECF6\",\"gridcolor\":\"white\",\"gridwidth\":2,\"linecolor\":\"white\",\"showbackground\":true,\"ticks\":\"\",\"zerolinecolor\":\"white\"}},\"shapedefaults\":{\"line\":{\"color\":\"#2a3f5f\"}},\"ternary\":{\"aaxis\":{\"gridcolor\":\"white\",\"linecolor\":\"white\",\"ticks\":\"\"},\"baxis\":{\"gridcolor\":\"white\",\"linecolor\":\"white\",\"ticks\":\"\"},\"bgcolor\":\"#E5ECF6\",\"caxis\":{\"gridcolor\":\"white\",\"linecolor\":\"white\",\"ticks\":\"\"}},\"title\":{\"x\":0.05},\"xaxis\":{\"automargin\":true,\"gridcolor\":\"white\",\"linecolor\":\"white\",\"ticks\":\"\",\"title\":{\"standoff\":15},\"zerolinecolor\":\"white\",\"zerolinewidth\":2},\"yaxis\":{\"automargin\":true,\"gridcolor\":\"white\",\"linecolor\":\"white\",\"ticks\":\"\",\"title\":{\"standoff\":15},\"zerolinecolor\":\"white\",\"zerolinewidth\":2}}},\"xaxis\":{\"anchor\":\"y\",\"domain\":[0.0,1.0],\"title\":{\"text\":\"# of Links\"}},\"yaxis\":{\"anchor\":\"x\",\"domain\":[0.0,1.0],\"title\":{\"text\":\"count\"}},\"legend\":{\"tracegroupgap\":0},\"title\":{\"text\":\"Cantidad de links\"},\"barmode\":\"relative\"},                        {\"responsive\": true}                    )                };                            </script>        </div>\n",
       "</body>\n",
       "</html>"
      ]
     },
     "metadata": {
      "application/vnd.databricks.v1+output": {
       "addedWidgets": {},
       "arguments": {},
       "data": "<html>\n<head><meta charset=\"utf-8\" /></head>\n<body>\n    <div>            <script src=\"https://cdnjs.cloudflare.com/ajax/libs/mathjax/2.7.5/MathJax.js?config=TeX-AMS-MML_SVG\"></script><script type=\"text/javascript\">if (window.MathJax) {MathJax.Hub.Config({SVG: {font: \"STIX-Web\"}});}</script>                <script type=\"text/javascript\">window.PlotlyConfig = {MathJaxConfig: 'local'};</script>\n        <script src=\"https://cdn.plot.ly/plotly-2.8.3.min.js\"></script>                <div id=\"8cfb9528-e958-4379-b586-7c32dcc72480\" class=\"plotly-graph-div\" style=\"height:100%; width:100%;\"></div>            <script type=\"text/javascript\">                                    window.PLOTLYENV=window.PLOTLYENV || {};                                    if (document.getElementById(\"8cfb9528-e958-4379-b586-7c32dcc72480\")) {                    Plotly.newPlot(                        \"8cfb9528-e958-4379-b586-7c32dcc72480\",                        [{\"alignmentgroup\":\"True\",\"bingroup\":\"x\",\"hovertemplate\":\"# of Links=%{x}<br>count=%{y}<extra></extra>\",\"legendgroup\":\"\",\"marker\":{\"color\":\"blue\",\"pattern\":{\"shape\":\"\"}},\"name\":\"\",\"offsetgroup\":\"\",\"orientation\":\"v\",\"showlegend\":false,\"texttemplate\":\"%{value}\",\"x\":[1.0,9.0,6.0,3.0,1.0,0.0,600.0,3.0,2.0,4.0,1.0,4.0,30.0,0.0,2.0,10.0,6.0,3.0,6.0,4.0,8.0,5.0,2.0,8.0,4.0,30.0,4.0,2.0,1.0,21.0,2.0,6.0,6.0,49.0,10.0,5.0,13.0,1.0,3.0,8.0,4.0,4.0,1.0,10.0,39.0,9.0,2.0,1.0,2.0,3.0,10.0,32.0,6.0,5.0,2.0,6.0,5.0,8.0,10.0,10.0,10.0,8.0,4.0,1.0,20.0,8.0,22.0,2.0,11.0,12.0,2.0,15.0,3.0,6.0,6.0,5.0,5.0,3.0,1.0,1.0,5.0,7.0,7.0,5.0,6.0,3.0,6.0,5.0,8.0,3.0,1.0,2.0,8.0,7.0,2.0,3.0,7.0,6.0,1.0,2.0,8.0,5.0,3.0,5.0,8.0,4.0,6.0,5.0,1.0,7.0,3.0,5.0,6.0,3.0,1.0,8.0,4.0,4.0,1.0,8.0,9.7625,7.0,7.0,3.0,5.0,7.0,1.0,4.0,7.0,1.0,1.0,8.0,3.0,5.0,1.0,3.0,3.0,8.0,8.0,3.0,2.0,3.0,5.0,5.0,8.0,6.0,4.0,1.0,3.0,6.0,7.0,7.0,5.0,2.0,6.0,1.0,3.0,3.0,4.0,4.0,6.0],\"xaxis\":\"x\",\"yaxis\":\"y\",\"type\":\"histogram\"}],                        {\"template\":{\"data\":{\"bar\":[{\"error_x\":{\"color\":\"#2a3f5f\"},\"error_y\":{\"color\":\"#2a3f5f\"},\"marker\":{\"line\":{\"color\":\"#E5ECF6\",\"width\":0.5},\"pattern\":{\"fillmode\":\"overlay\",\"size\":10,\"solidity\":0.2}},\"type\":\"bar\"}],\"barpolar\":[{\"marker\":{\"line\":{\"color\":\"#E5ECF6\",\"width\":0.5},\"pattern\":{\"fillmode\":\"overlay\",\"size\":10,\"solidity\":0.2}},\"type\":\"barpolar\"}],\"carpet\":[{\"aaxis\":{\"endlinecolor\":\"#2a3f5f\",\"gridcolor\":\"white\",\"linecolor\":\"white\",\"minorgridcolor\":\"white\",\"startlinecolor\":\"#2a3f5f\"},\"baxis\":{\"endlinecolor\":\"#2a3f5f\",\"gridcolor\":\"white\",\"linecolor\":\"white\",\"minorgridcolor\":\"white\",\"startlinecolor\":\"#2a3f5f\"},\"type\":\"carpet\"}],\"choropleth\":[{\"colorbar\":{\"outlinewidth\":0,\"ticks\":\"\"},\"type\":\"choropleth\"}],\"contour\":[{\"colorbar\":{\"outlinewidth\":0,\"ticks\":\"\"},\"colorscale\":[[0.0,\"#0d0887\"],[0.1111111111111111,\"#46039f\"],[0.2222222222222222,\"#7201a8\"],[0.3333333333333333,\"#9c179e\"],[0.4444444444444444,\"#bd3786\"],[0.5555555555555556,\"#d8576b\"],[0.6666666666666666,\"#ed7953\"],[0.7777777777777778,\"#fb9f3a\"],[0.8888888888888888,\"#fdca26\"],[1.0,\"#f0f921\"]],\"type\":\"contour\"}],\"contourcarpet\":[{\"colorbar\":{\"outlinewidth\":0,\"ticks\":\"\"},\"type\":\"contourcarpet\"}],\"heatmap\":[{\"colorbar\":{\"outlinewidth\":0,\"ticks\":\"\"},\"colorscale\":[[0.0,\"#0d0887\"],[0.1111111111111111,\"#46039f\"],[0.2222222222222222,\"#7201a8\"],[0.3333333333333333,\"#9c179e\"],[0.4444444444444444,\"#bd3786\"],[0.5555555555555556,\"#d8576b\"],[0.6666666666666666,\"#ed7953\"],[0.7777777777777778,\"#fb9f3a\"],[0.8888888888888888,\"#fdca26\"],[1.0,\"#f0f921\"]],\"type\":\"heatmap\"}],\"heatmapgl\":[{\"colorbar\":{\"outlinewidth\":0,\"ticks\":\"\"},\"colorscale\":[[0.0,\"#0d0887\"],[0.1111111111111111,\"#46039f\"],[0.2222222222222222,\"#7201a8\"],[0.3333333333333333,\"#9c179e\"],[0.4444444444444444,\"#bd3786\"],[0.5555555555555556,\"#d8576b\"],[0.6666666666666666,\"#ed7953\"],[0.7777777777777778,\"#fb9f3a\"],[0.8888888888888888,\"#fdca26\"],[1.0,\"#f0f921\"]],\"type\":\"heatmapgl\"}],\"histogram\":[{\"marker\":{\"pattern\":{\"fillmode\":\"overlay\",\"size\":10,\"solidity\":0.2}},\"type\":\"histogram\"}],\"histogram2d\":[{\"colorbar\":{\"outlinewidth\":0,\"ticks\":\"\"},\"colorscale\":[[0.0,\"#0d0887\"],[0.1111111111111111,\"#46039f\"],[0.2222222222222222,\"#7201a8\"],[0.3333333333333333,\"#9c179e\"],[0.4444444444444444,\"#bd3786\"],[0.5555555555555556,\"#d8576b\"],[0.6666666666666666,\"#ed7953\"],[0.7777777777777778,\"#fb9f3a\"],[0.8888888888888888,\"#fdca26\"],[1.0,\"#f0f921\"]],\"type\":\"histogram2d\"}],\"histogram2dcontour\":[{\"colorbar\":{\"outlinewidth\":0,\"ticks\":\"\"},\"colorscale\":[[0.0,\"#0d0887\"],[0.1111111111111111,\"#46039f\"],[0.2222222222222222,\"#7201a8\"],[0.3333333333333333,\"#9c179e\"],[0.4444444444444444,\"#bd3786\"],[0.5555555555555556,\"#d8576b\"],[0.6666666666666666,\"#ed7953\"],[0.7777777777777778,\"#fb9f3a\"],[0.8888888888888888,\"#fdca26\"],[1.0,\"#f0f921\"]],\"type\":\"histogram2dcontour\"}],\"mesh3d\":[{\"colorbar\":{\"outlinewidth\":0,\"ticks\":\"\"},\"type\":\"mesh3d\"}],\"parcoords\":[{\"line\":{\"colorbar\":{\"outlinewidth\":0,\"ticks\":\"\"}},\"type\":\"parcoords\"}],\"pie\":[{\"automargin\":true,\"type\":\"pie\"}],\"scatter\":[{\"marker\":{\"colorbar\":{\"outlinewidth\":0,\"ticks\":\"\"}},\"type\":\"scatter\"}],\"scatter3d\":[{\"line\":{\"colorbar\":{\"outlinewidth\":0,\"ticks\":\"\"}},\"marker\":{\"colorbar\":{\"outlinewidth\":0,\"ticks\":\"\"}},\"type\":\"scatter3d\"}],\"scattercarpet\":[{\"marker\":{\"colorbar\":{\"outlinewidth\":0,\"ticks\":\"\"}},\"type\":\"scattercarpet\"}],\"scattergeo\":[{\"marker\":{\"colorbar\":{\"outlinewidth\":0,\"ticks\":\"\"}},\"type\":\"scattergeo\"}],\"scattergl\":[{\"marker\":{\"colorbar\":{\"outlinewidth\":0,\"ticks\":\"\"}},\"type\":\"scattergl\"}],\"scattermapbox\":[{\"marker\":{\"colorbar\":{\"outlinewidth\":0,\"ticks\":\"\"}},\"type\":\"scattermapbox\"}],\"scatterpolar\":[{\"marker\":{\"colorbar\":{\"outlinewidth\":0,\"ticks\":\"\"}},\"type\":\"scatterpolar\"}],\"scatterpolargl\":[{\"marker\":{\"colorbar\":{\"outlinewidth\":0,\"ticks\":\"\"}},\"type\":\"scatterpolargl\"}],\"scatterternary\":[{\"marker\":{\"colorbar\":{\"outlinewidth\":0,\"ticks\":\"\"}},\"type\":\"scatterternary\"}],\"surface\":[{\"colorbar\":{\"outlinewidth\":0,\"ticks\":\"\"},\"colorscale\":[[0.0,\"#0d0887\"],[0.1111111111111111,\"#46039f\"],[0.2222222222222222,\"#7201a8\"],[0.3333333333333333,\"#9c179e\"],[0.4444444444444444,\"#bd3786\"],[0.5555555555555556,\"#d8576b\"],[0.6666666666666666,\"#ed7953\"],[0.7777777777777778,\"#fb9f3a\"],[0.8888888888888888,\"#fdca26\"],[1.0,\"#f0f921\"]],\"type\":\"surface\"}],\"table\":[{\"cells\":{\"fill\":{\"color\":\"#EBF0F8\"},\"line\":{\"color\":\"white\"}},\"header\":{\"fill\":{\"color\":\"#C8D4E3\"},\"line\":{\"color\":\"white\"}},\"type\":\"table\"}]},\"layout\":{\"annotationdefaults\":{\"arrowcolor\":\"#2a3f5f\",\"arrowhead\":0,\"arrowwidth\":1},\"autotypenumbers\":\"strict\",\"coloraxis\":{\"colorbar\":{\"outlinewidth\":0,\"ticks\":\"\"}},\"colorscale\":{\"diverging\":[[0,\"#8e0152\"],[0.1,\"#c51b7d\"],[0.2,\"#de77ae\"],[0.3,\"#f1b6da\"],[0.4,\"#fde0ef\"],[0.5,\"#f7f7f7\"],[0.6,\"#e6f5d0\"],[0.7,\"#b8e186\"],[0.8,\"#7fbc41\"],[0.9,\"#4d9221\"],[1,\"#276419\"]],\"sequential\":[[0.0,\"#0d0887\"],[0.1111111111111111,\"#46039f\"],[0.2222222222222222,\"#7201a8\"],[0.3333333333333333,\"#9c179e\"],[0.4444444444444444,\"#bd3786\"],[0.5555555555555556,\"#d8576b\"],[0.6666666666666666,\"#ed7953\"],[0.7777777777777778,\"#fb9f3a\"],[0.8888888888888888,\"#fdca26\"],[1.0,\"#f0f921\"]],\"sequentialminus\":[[0.0,\"#0d0887\"],[0.1111111111111111,\"#46039f\"],[0.2222222222222222,\"#7201a8\"],[0.3333333333333333,\"#9c179e\"],[0.4444444444444444,\"#bd3786\"],[0.5555555555555556,\"#d8576b\"],[0.6666666666666666,\"#ed7953\"],[0.7777777777777778,\"#fb9f3a\"],[0.8888888888888888,\"#fdca26\"],[1.0,\"#f0f921\"]]},\"colorway\":[\"#636efa\",\"#EF553B\",\"#00cc96\",\"#ab63fa\",\"#FFA15A\",\"#19d3f3\",\"#FF6692\",\"#B6E880\",\"#FF97FF\",\"#FECB52\"],\"font\":{\"color\":\"#2a3f5f\"},\"geo\":{\"bgcolor\":\"white\",\"lakecolor\":\"white\",\"landcolor\":\"#E5ECF6\",\"showlakes\":true,\"showland\":true,\"subunitcolor\":\"white\"},\"hoverlabel\":{\"align\":\"left\"},\"hovermode\":\"closest\",\"mapbox\":{\"style\":\"light\"},\"paper_bgcolor\":\"white\",\"plot_bgcolor\":\"#E5ECF6\",\"polar\":{\"angularaxis\":{\"gridcolor\":\"white\",\"linecolor\":\"white\",\"ticks\":\"\"},\"bgcolor\":\"#E5ECF6\",\"radialaxis\":{\"gridcolor\":\"white\",\"linecolor\":\"white\",\"ticks\":\"\"}},\"scene\":{\"xaxis\":{\"backgroundcolor\":\"#E5ECF6\",\"gridcolor\":\"white\",\"gridwidth\":2,\"linecolor\":\"white\",\"showbackground\":true,\"ticks\":\"\",\"zerolinecolor\":\"white\"},\"yaxis\":{\"backgroundcolor\":\"#E5ECF6\",\"gridcolor\":\"white\",\"gridwidth\":2,\"linecolor\":\"white\",\"showbackground\":true,\"ticks\":\"\",\"zerolinecolor\":\"white\"},\"zaxis\":{\"backgroundcolor\":\"#E5ECF6\",\"gridcolor\":\"white\",\"gridwidth\":2,\"linecolor\":\"white\",\"showbackground\":true,\"ticks\":\"\",\"zerolinecolor\":\"white\"}},\"shapedefaults\":{\"line\":{\"color\":\"#2a3f5f\"}},\"ternary\":{\"aaxis\":{\"gridcolor\":\"white\",\"linecolor\":\"white\",\"ticks\":\"\"},\"baxis\":{\"gridcolor\":\"white\",\"linecolor\":\"white\",\"ticks\":\"\"},\"bgcolor\":\"#E5ECF6\",\"caxis\":{\"gridcolor\":\"white\",\"linecolor\":\"white\",\"ticks\":\"\"}},\"title\":{\"x\":0.05},\"xaxis\":{\"automargin\":true,\"gridcolor\":\"white\",\"linecolor\":\"white\",\"ticks\":\"\",\"title\":{\"standoff\":15},\"zerolinecolor\":\"white\",\"zerolinewidth\":2},\"yaxis\":{\"automargin\":true,\"gridcolor\":\"white\",\"linecolor\":\"white\",\"ticks\":\"\",\"title\":{\"standoff\":15},\"zerolinecolor\":\"white\",\"zerolinewidth\":2}}},\"xaxis\":{\"anchor\":\"y\",\"domain\":[0.0,1.0],\"title\":{\"text\":\"# of Links\"}},\"yaxis\":{\"anchor\":\"x\",\"domain\":[0.0,1.0],\"title\":{\"text\":\"count\"}},\"legend\":{\"tracegroupgap\":0},\"title\":{\"text\":\"Cantidad de links\"},\"barmode\":\"relative\"},                        {\"responsive\": true}                    )                };                            </script>        </div>\n</body>\n</html>",
       "datasetInfos": [],
       "metadata": {},
       "removedWidgets": [],
       "textData": null,
       "type": "htmlSandbox"
      }
     },
     "output_type": "display_data"
    }
   ],
   "source": [
    "px.histogram(articulos_pd['# of Links'], x=\"# of Links\", title=\"Cantidad de links\",color_discrete_sequence=['blue'],text_auto=True)"
   ]
  },
  {
   "cell_type": "markdown",
   "metadata": {
    "application/vnd.databricks.v1+cell": {
     "cellMetadata": {},
     "inputWidgets": {},
     "nuid": "5c96b936-3cd7-4842-979f-a64118da14a7",
     "showTitle": false,
     "title": ""
    }
   },
   "source": [
    "Podemos observar que donde se concentran mayormente los registros para **# of comments** es de 50."
   ]
  },
  {
   "cell_type": "markdown",
   "metadata": {
    "application/vnd.databricks.v1+cell": {
     "cellMetadata": {},
     "inputWidgets": {},
     "nuid": "b45b2035-01c3-4b0c-ae0b-538c144d7518",
     "showTitle": false,
     "title": ""
    }
   },
   "source": [
    "#### Analizamos la cantidad de comentarios (# of comments)"
   ]
  },
  {
   "cell_type": "code",
   "execution_count": 0,
   "metadata": {
    "application/vnd.databricks.v1+cell": {
     "cellMetadata": {},
     "inputWidgets": {},
     "nuid": "623e1af1-3b8f-4be8-81fd-7f783eba7a7a",
     "showTitle": false,
     "title": ""
    }
   },
   "outputs": [
    {
     "output_type": "display_data",
     "data": {
      "text/html": [
       "<html>\n",
       "<head><meta charset=\"utf-8\" /></head>\n",
       "<body>\n",
       "    <div>            <script src=\"https://cdnjs.cloudflare.com/ajax/libs/mathjax/2.7.5/MathJax.js?config=TeX-AMS-MML_SVG\"></script><script type=\"text/javascript\">if (window.MathJax) {MathJax.Hub.Config({SVG: {font: \"STIX-Web\"}});}</script>                <script type=\"text/javascript\">window.PlotlyConfig = {MathJaxConfig: 'local'};</script>\n",
       "        <script src=\"https://cdn.plot.ly/plotly-2.8.3.min.js\"></script>                <div id=\"2649750a-5f20-4aae-bc35-9e39b209eb5f\" class=\"plotly-graph-div\" style=\"height:100%; width:100%;\"></div>            <script type=\"text/javascript\">                                    window.PLOTLYENV=window.PLOTLYENV || {};                                    if (document.getElementById(\"2649750a-5f20-4aae-bc35-9e39b209eb5f\")) {                    Plotly.newPlot(                        \"2649750a-5f20-4aae-bc35-9e39b209eb5f\",                        [{\"alignmentgroup\":\"True\",\"bingroup\":\"x\",\"hovertemplate\":\"# of comments=%{x}<br>count=%{y}<extra></extra>\",\"legendgroup\":\"\",\"marker\":{\"color\":\"green\",\"pattern\":{\"shape\":\"\"}},\"name\":\"\",\"offsetgroup\":\"\",\"orientation\":\"v\",\"showlegend\":false,\"texttemplate\":\"%{value}\",\"x\":[2,17,0,17,104,17,28,0,17,17,95,17,17,27,17,17,17,1,6,17,17,17,17,0,0,17,0,17,19,17,17,4,17,4,23,17,12,0,0,5,0,1,29,0,8,17,5,13,17,2,17,17,17,21,17,17,17,13,30,5,3,17,17,0,1,17,7,0,17,23,0,0,11,12,7,10,6,0,10,12,9,0,6,1,3,9,5,1,5,3,12,12,7,6,10,14,0,8,8,7,0,3,8,3,2,11,3,6,13,8,5,5,14,14,14,5,10,2,7,5,1145,13,14,14,6,0,4,6,3,8,13,7,8,2,1,10,1,11,9,5,7,8,12,13,4,4,2,1,13,14,3,8,14,12,1,0,11,8,4,12,13],\"xaxis\":\"x\",\"yaxis\":\"y\",\"type\":\"histogram\"}],                        {\"template\":{\"data\":{\"bar\":[{\"error_x\":{\"color\":\"#2a3f5f\"},\"error_y\":{\"color\":\"#2a3f5f\"},\"marker\":{\"line\":{\"color\":\"#E5ECF6\",\"width\":0.5},\"pattern\":{\"fillmode\":\"overlay\",\"size\":10,\"solidity\":0.2}},\"type\":\"bar\"}],\"barpolar\":[{\"marker\":{\"line\":{\"color\":\"#E5ECF6\",\"width\":0.5},\"pattern\":{\"fillmode\":\"overlay\",\"size\":10,\"solidity\":0.2}},\"type\":\"barpolar\"}],\"carpet\":[{\"aaxis\":{\"endlinecolor\":\"#2a3f5f\",\"gridcolor\":\"white\",\"linecolor\":\"white\",\"minorgridcolor\":\"white\",\"startlinecolor\":\"#2a3f5f\"},\"baxis\":{\"endlinecolor\":\"#2a3f5f\",\"gridcolor\":\"white\",\"linecolor\":\"white\",\"minorgridcolor\":\"white\",\"startlinecolor\":\"#2a3f5f\"},\"type\":\"carpet\"}],\"choropleth\":[{\"colorbar\":{\"outlinewidth\":0,\"ticks\":\"\"},\"type\":\"choropleth\"}],\"contour\":[{\"colorbar\":{\"outlinewidth\":0,\"ticks\":\"\"},\"colorscale\":[[0.0,\"#0d0887\"],[0.1111111111111111,\"#46039f\"],[0.2222222222222222,\"#7201a8\"],[0.3333333333333333,\"#9c179e\"],[0.4444444444444444,\"#bd3786\"],[0.5555555555555556,\"#d8576b\"],[0.6666666666666666,\"#ed7953\"],[0.7777777777777778,\"#fb9f3a\"],[0.8888888888888888,\"#fdca26\"],[1.0,\"#f0f921\"]],\"type\":\"contour\"}],\"contourcarpet\":[{\"colorbar\":{\"outlinewidth\":0,\"ticks\":\"\"},\"type\":\"contourcarpet\"}],\"heatmap\":[{\"colorbar\":{\"outlinewidth\":0,\"ticks\":\"\"},\"colorscale\":[[0.0,\"#0d0887\"],[0.1111111111111111,\"#46039f\"],[0.2222222222222222,\"#7201a8\"],[0.3333333333333333,\"#9c179e\"],[0.4444444444444444,\"#bd3786\"],[0.5555555555555556,\"#d8576b\"],[0.6666666666666666,\"#ed7953\"],[0.7777777777777778,\"#fb9f3a\"],[0.8888888888888888,\"#fdca26\"],[1.0,\"#f0f921\"]],\"type\":\"heatmap\"}],\"heatmapgl\":[{\"colorbar\":{\"outlinewidth\":0,\"ticks\":\"\"},\"colorscale\":[[0.0,\"#0d0887\"],[0.1111111111111111,\"#46039f\"],[0.2222222222222222,\"#7201a8\"],[0.3333333333333333,\"#9c179e\"],[0.4444444444444444,\"#bd3786\"],[0.5555555555555556,\"#d8576b\"],[0.6666666666666666,\"#ed7953\"],[0.7777777777777778,\"#fb9f3a\"],[0.8888888888888888,\"#fdca26\"],[1.0,\"#f0f921\"]],\"type\":\"heatmapgl\"}],\"histogram\":[{\"marker\":{\"pattern\":{\"fillmode\":\"overlay\",\"size\":10,\"solidity\":0.2}},\"type\":\"histogram\"}],\"histogram2d\":[{\"colorbar\":{\"outlinewidth\":0,\"ticks\":\"\"},\"colorscale\":[[0.0,\"#0d0887\"],[0.1111111111111111,\"#46039f\"],[0.2222222222222222,\"#7201a8\"],[0.3333333333333333,\"#9c179e\"],[0.4444444444444444,\"#bd3786\"],[0.5555555555555556,\"#d8576b\"],[0.6666666666666666,\"#ed7953\"],[0.7777777777777778,\"#fb9f3a\"],[0.8888888888888888,\"#fdca26\"],[1.0,\"#f0f921\"]],\"type\":\"histogram2d\"}],\"histogram2dcontour\":[{\"colorbar\":{\"outlinewidth\":0,\"ticks\":\"\"},\"colorscale\":[[0.0,\"#0d0887\"],[0.1111111111111111,\"#46039f\"],[0.2222222222222222,\"#7201a8\"],[0.3333333333333333,\"#9c179e\"],[0.4444444444444444,\"#bd3786\"],[0.5555555555555556,\"#d8576b\"],[0.6666666666666666,\"#ed7953\"],[0.7777777777777778,\"#fb9f3a\"],[0.8888888888888888,\"#fdca26\"],[1.0,\"#f0f921\"]],\"type\":\"histogram2dcontour\"}],\"mesh3d\":[{\"colorbar\":{\"outlinewidth\":0,\"ticks\":\"\"},\"type\":\"mesh3d\"}],\"parcoords\":[{\"line\":{\"colorbar\":{\"outlinewidth\":0,\"ticks\":\"\"}},\"type\":\"parcoords\"}],\"pie\":[{\"automargin\":true,\"type\":\"pie\"}],\"scatter\":[{\"marker\":{\"colorbar\":{\"outlinewidth\":0,\"ticks\":\"\"}},\"type\":\"scatter\"}],\"scatter3d\":[{\"line\":{\"colorbar\":{\"outlinewidth\":0,\"ticks\":\"\"}},\"marker\":{\"colorbar\":{\"outlinewidth\":0,\"ticks\":\"\"}},\"type\":\"scatter3d\"}],\"scattercarpet\":[{\"marker\":{\"colorbar\":{\"outlinewidth\":0,\"ticks\":\"\"}},\"type\":\"scattercarpet\"}],\"scattergeo\":[{\"marker\":{\"colorbar\":{\"outlinewidth\":0,\"ticks\":\"\"}},\"type\":\"scattergeo\"}],\"scattergl\":[{\"marker\":{\"colorbar\":{\"outlinewidth\":0,\"ticks\":\"\"}},\"type\":\"scattergl\"}],\"scattermapbox\":[{\"marker\":{\"colorbar\":{\"outlinewidth\":0,\"ticks\":\"\"}},\"type\":\"scattermapbox\"}],\"scatterpolar\":[{\"marker\":{\"colorbar\":{\"outlinewidth\":0,\"ticks\":\"\"}},\"type\":\"scatterpolar\"}],\"scatterpolargl\":[{\"marker\":{\"colorbar\":{\"outlinewidth\":0,\"ticks\":\"\"}},\"type\":\"scatterpolargl\"}],\"scatterternary\":[{\"marker\":{\"colorbar\":{\"outlinewidth\":0,\"ticks\":\"\"}},\"type\":\"scatterternary\"}],\"surface\":[{\"colorbar\":{\"outlinewidth\":0,\"ticks\":\"\"},\"colorscale\":[[0.0,\"#0d0887\"],[0.1111111111111111,\"#46039f\"],[0.2222222222222222,\"#7201a8\"],[0.3333333333333333,\"#9c179e\"],[0.4444444444444444,\"#bd3786\"],[0.5555555555555556,\"#d8576b\"],[0.6666666666666666,\"#ed7953\"],[0.7777777777777778,\"#fb9f3a\"],[0.8888888888888888,\"#fdca26\"],[1.0,\"#f0f921\"]],\"type\":\"surface\"}],\"table\":[{\"cells\":{\"fill\":{\"color\":\"#EBF0F8\"},\"line\":{\"color\":\"white\"}},\"header\":{\"fill\":{\"color\":\"#C8D4E3\"},\"line\":{\"color\":\"white\"}},\"type\":\"table\"}]},\"layout\":{\"annotationdefaults\":{\"arrowcolor\":\"#2a3f5f\",\"arrowhead\":0,\"arrowwidth\":1},\"autotypenumbers\":\"strict\",\"coloraxis\":{\"colorbar\":{\"outlinewidth\":0,\"ticks\":\"\"}},\"colorscale\":{\"diverging\":[[0,\"#8e0152\"],[0.1,\"#c51b7d\"],[0.2,\"#de77ae\"],[0.3,\"#f1b6da\"],[0.4,\"#fde0ef\"],[0.5,\"#f7f7f7\"],[0.6,\"#e6f5d0\"],[0.7,\"#b8e186\"],[0.8,\"#7fbc41\"],[0.9,\"#4d9221\"],[1,\"#276419\"]],\"sequential\":[[0.0,\"#0d0887\"],[0.1111111111111111,\"#46039f\"],[0.2222222222222222,\"#7201a8\"],[0.3333333333333333,\"#9c179e\"],[0.4444444444444444,\"#bd3786\"],[0.5555555555555556,\"#d8576b\"],[0.6666666666666666,\"#ed7953\"],[0.7777777777777778,\"#fb9f3a\"],[0.8888888888888888,\"#fdca26\"],[1.0,\"#f0f921\"]],\"sequentialminus\":[[0.0,\"#0d0887\"],[0.1111111111111111,\"#46039f\"],[0.2222222222222222,\"#7201a8\"],[0.3333333333333333,\"#9c179e\"],[0.4444444444444444,\"#bd3786\"],[0.5555555555555556,\"#d8576b\"],[0.6666666666666666,\"#ed7953\"],[0.7777777777777778,\"#fb9f3a\"],[0.8888888888888888,\"#fdca26\"],[1.0,\"#f0f921\"]]},\"colorway\":[\"#636efa\",\"#EF553B\",\"#00cc96\",\"#ab63fa\",\"#FFA15A\",\"#19d3f3\",\"#FF6692\",\"#B6E880\",\"#FF97FF\",\"#FECB52\"],\"font\":{\"color\":\"#2a3f5f\"},\"geo\":{\"bgcolor\":\"white\",\"lakecolor\":\"white\",\"landcolor\":\"#E5ECF6\",\"showlakes\":true,\"showland\":true,\"subunitcolor\":\"white\"},\"hoverlabel\":{\"align\":\"left\"},\"hovermode\":\"closest\",\"mapbox\":{\"style\":\"light\"},\"paper_bgcolor\":\"white\",\"plot_bgcolor\":\"#E5ECF6\",\"polar\":{\"angularaxis\":{\"gridcolor\":\"white\",\"linecolor\":\"white\",\"ticks\":\"\"},\"bgcolor\":\"#E5ECF6\",\"radialaxis\":{\"gridcolor\":\"white\",\"linecolor\":\"white\",\"ticks\":\"\"}},\"scene\":{\"xaxis\":{\"backgroundcolor\":\"#E5ECF6\",\"gridcolor\":\"white\",\"gridwidth\":2,\"linecolor\":\"white\",\"showbackground\":true,\"ticks\":\"\",\"zerolinecolor\":\"white\"},\"yaxis\":{\"backgroundcolor\":\"#E5ECF6\",\"gridcolor\":\"white\",\"gridwidth\":2,\"linecolor\":\"white\",\"showbackground\":true,\"ticks\":\"\",\"zerolinecolor\":\"white\"},\"zaxis\":{\"backgroundcolor\":\"#E5ECF6\",\"gridcolor\":\"white\",\"gridwidth\":2,\"linecolor\":\"white\",\"showbackground\":true,\"ticks\":\"\",\"zerolinecolor\":\"white\"}},\"shapedefaults\":{\"line\":{\"color\":\"#2a3f5f\"}},\"ternary\":{\"aaxis\":{\"gridcolor\":\"white\",\"linecolor\":\"white\",\"ticks\":\"\"},\"baxis\":{\"gridcolor\":\"white\",\"linecolor\":\"white\",\"ticks\":\"\"},\"bgcolor\":\"#E5ECF6\",\"caxis\":{\"gridcolor\":\"white\",\"linecolor\":\"white\",\"ticks\":\"\"}},\"title\":{\"x\":0.05},\"xaxis\":{\"automargin\":true,\"gridcolor\":\"white\",\"linecolor\":\"white\",\"ticks\":\"\",\"title\":{\"standoff\":15},\"zerolinecolor\":\"white\",\"zerolinewidth\":2},\"yaxis\":{\"automargin\":true,\"gridcolor\":\"white\",\"linecolor\":\"white\",\"ticks\":\"\",\"title\":{\"standoff\":15},\"zerolinecolor\":\"white\",\"zerolinewidth\":2}}},\"xaxis\":{\"anchor\":\"y\",\"domain\":[0.0,1.0],\"title\":{\"text\":\"# of comments\"}},\"yaxis\":{\"anchor\":\"x\",\"domain\":[0.0,1.0],\"title\":{\"text\":\"count\"}},\"legend\":{\"tracegroupgap\":0},\"title\":{\"text\":\"Cantidad de Comentarios\"},\"barmode\":\"relative\"},                        {\"responsive\": true}                    )                };                            </script>        </div>\n",
       "</body>\n",
       "</html>"
      ]
     },
     "metadata": {
      "application/vnd.databricks.v1+output": {
       "addedWidgets": {},
       "arguments": {},
       "data": "<html>\n<head><meta charset=\"utf-8\" /></head>\n<body>\n    <div>            <script src=\"https://cdnjs.cloudflare.com/ajax/libs/mathjax/2.7.5/MathJax.js?config=TeX-AMS-MML_SVG\"></script><script type=\"text/javascript\">if (window.MathJax) {MathJax.Hub.Config({SVG: {font: \"STIX-Web\"}});}</script>                <script type=\"text/javascript\">window.PlotlyConfig = {MathJaxConfig: 'local'};</script>\n        <script src=\"https://cdn.plot.ly/plotly-2.8.3.min.js\"></script>                <div id=\"2649750a-5f20-4aae-bc35-9e39b209eb5f\" class=\"plotly-graph-div\" style=\"height:100%; width:100%;\"></div>            <script type=\"text/javascript\">                                    window.PLOTLYENV=window.PLOTLYENV || {};                                    if (document.getElementById(\"2649750a-5f20-4aae-bc35-9e39b209eb5f\")) {                    Plotly.newPlot(                        \"2649750a-5f20-4aae-bc35-9e39b209eb5f\",                        [{\"alignmentgroup\":\"True\",\"bingroup\":\"x\",\"hovertemplate\":\"# of comments=%{x}<br>count=%{y}<extra></extra>\",\"legendgroup\":\"\",\"marker\":{\"color\":\"green\",\"pattern\":{\"shape\":\"\"}},\"name\":\"\",\"offsetgroup\":\"\",\"orientation\":\"v\",\"showlegend\":false,\"texttemplate\":\"%{value}\",\"x\":[2,17,0,17,104,17,28,0,17,17,95,17,17,27,17,17,17,1,6,17,17,17,17,0,0,17,0,17,19,17,17,4,17,4,23,17,12,0,0,5,0,1,29,0,8,17,5,13,17,2,17,17,17,21,17,17,17,13,30,5,3,17,17,0,1,17,7,0,17,23,0,0,11,12,7,10,6,0,10,12,9,0,6,1,3,9,5,1,5,3,12,12,7,6,10,14,0,8,8,7,0,3,8,3,2,11,3,6,13,8,5,5,14,14,14,5,10,2,7,5,1145,13,14,14,6,0,4,6,3,8,13,7,8,2,1,10,1,11,9,5,7,8,12,13,4,4,2,1,13,14,3,8,14,12,1,0,11,8,4,12,13],\"xaxis\":\"x\",\"yaxis\":\"y\",\"type\":\"histogram\"}],                        {\"template\":{\"data\":{\"bar\":[{\"error_x\":{\"color\":\"#2a3f5f\"},\"error_y\":{\"color\":\"#2a3f5f\"},\"marker\":{\"line\":{\"color\":\"#E5ECF6\",\"width\":0.5},\"pattern\":{\"fillmode\":\"overlay\",\"size\":10,\"solidity\":0.2}},\"type\":\"bar\"}],\"barpolar\":[{\"marker\":{\"line\":{\"color\":\"#E5ECF6\",\"width\":0.5},\"pattern\":{\"fillmode\":\"overlay\",\"size\":10,\"solidity\":0.2}},\"type\":\"barpolar\"}],\"carpet\":[{\"aaxis\":{\"endlinecolor\":\"#2a3f5f\",\"gridcolor\":\"white\",\"linecolor\":\"white\",\"minorgridcolor\":\"white\",\"startlinecolor\":\"#2a3f5f\"},\"baxis\":{\"endlinecolor\":\"#2a3f5f\",\"gridcolor\":\"white\",\"linecolor\":\"white\",\"minorgridcolor\":\"white\",\"startlinecolor\":\"#2a3f5f\"},\"type\":\"carpet\"}],\"choropleth\":[{\"colorbar\":{\"outlinewidth\":0,\"ticks\":\"\"},\"type\":\"choropleth\"}],\"contour\":[{\"colorbar\":{\"outlinewidth\":0,\"ticks\":\"\"},\"colorscale\":[[0.0,\"#0d0887\"],[0.1111111111111111,\"#46039f\"],[0.2222222222222222,\"#7201a8\"],[0.3333333333333333,\"#9c179e\"],[0.4444444444444444,\"#bd3786\"],[0.5555555555555556,\"#d8576b\"],[0.6666666666666666,\"#ed7953\"],[0.7777777777777778,\"#fb9f3a\"],[0.8888888888888888,\"#fdca26\"],[1.0,\"#f0f921\"]],\"type\":\"contour\"}],\"contourcarpet\":[{\"colorbar\":{\"outlinewidth\":0,\"ticks\":\"\"},\"type\":\"contourcarpet\"}],\"heatmap\":[{\"colorbar\":{\"outlinewidth\":0,\"ticks\":\"\"},\"colorscale\":[[0.0,\"#0d0887\"],[0.1111111111111111,\"#46039f\"],[0.2222222222222222,\"#7201a8\"],[0.3333333333333333,\"#9c179e\"],[0.4444444444444444,\"#bd3786\"],[0.5555555555555556,\"#d8576b\"],[0.6666666666666666,\"#ed7953\"],[0.7777777777777778,\"#fb9f3a\"],[0.8888888888888888,\"#fdca26\"],[1.0,\"#f0f921\"]],\"type\":\"heatmap\"}],\"heatmapgl\":[{\"colorbar\":{\"outlinewidth\":0,\"ticks\":\"\"},\"colorscale\":[[0.0,\"#0d0887\"],[0.1111111111111111,\"#46039f\"],[0.2222222222222222,\"#7201a8\"],[0.3333333333333333,\"#9c179e\"],[0.4444444444444444,\"#bd3786\"],[0.5555555555555556,\"#d8576b\"],[0.6666666666666666,\"#ed7953\"],[0.7777777777777778,\"#fb9f3a\"],[0.8888888888888888,\"#fdca26\"],[1.0,\"#f0f921\"]],\"type\":\"heatmapgl\"}],\"histogram\":[{\"marker\":{\"pattern\":{\"fillmode\":\"overlay\",\"size\":10,\"solidity\":0.2}},\"type\":\"histogram\"}],\"histogram2d\":[{\"colorbar\":{\"outlinewidth\":0,\"ticks\":\"\"},\"colorscale\":[[0.0,\"#0d0887\"],[0.1111111111111111,\"#46039f\"],[0.2222222222222222,\"#7201a8\"],[0.3333333333333333,\"#9c179e\"],[0.4444444444444444,\"#bd3786\"],[0.5555555555555556,\"#d8576b\"],[0.6666666666666666,\"#ed7953\"],[0.7777777777777778,\"#fb9f3a\"],[0.8888888888888888,\"#fdca26\"],[1.0,\"#f0f921\"]],\"type\":\"histogram2d\"}],\"histogram2dcontour\":[{\"colorbar\":{\"outlinewidth\":0,\"ticks\":\"\"},\"colorscale\":[[0.0,\"#0d0887\"],[0.1111111111111111,\"#46039f\"],[0.2222222222222222,\"#7201a8\"],[0.3333333333333333,\"#9c179e\"],[0.4444444444444444,\"#bd3786\"],[0.5555555555555556,\"#d8576b\"],[0.6666666666666666,\"#ed7953\"],[0.7777777777777778,\"#fb9f3a\"],[0.8888888888888888,\"#fdca26\"],[1.0,\"#f0f921\"]],\"type\":\"histogram2dcontour\"}],\"mesh3d\":[{\"colorbar\":{\"outlinewidth\":0,\"ticks\":\"\"},\"type\":\"mesh3d\"}],\"parcoords\":[{\"line\":{\"colorbar\":{\"outlinewidth\":0,\"ticks\":\"\"}},\"type\":\"parcoords\"}],\"pie\":[{\"automargin\":true,\"type\":\"pie\"}],\"scatter\":[{\"marker\":{\"colorbar\":{\"outlinewidth\":0,\"ticks\":\"\"}},\"type\":\"scatter\"}],\"scatter3d\":[{\"line\":{\"colorbar\":{\"outlinewidth\":0,\"ticks\":\"\"}},\"marker\":{\"colorbar\":{\"outlinewidth\":0,\"ticks\":\"\"}},\"type\":\"scatter3d\"}],\"scattercarpet\":[{\"marker\":{\"colorbar\":{\"outlinewidth\":0,\"ticks\":\"\"}},\"type\":\"scattercarpet\"}],\"scattergeo\":[{\"marker\":{\"colorbar\":{\"outlinewidth\":0,\"ticks\":\"\"}},\"type\":\"scattergeo\"}],\"scattergl\":[{\"marker\":{\"colorbar\":{\"outlinewidth\":0,\"ticks\":\"\"}},\"type\":\"scattergl\"}],\"scattermapbox\":[{\"marker\":{\"colorbar\":{\"outlinewidth\":0,\"ticks\":\"\"}},\"type\":\"scattermapbox\"}],\"scatterpolar\":[{\"marker\":{\"colorbar\":{\"outlinewidth\":0,\"ticks\":\"\"}},\"type\":\"scatterpolar\"}],\"scatterpolargl\":[{\"marker\":{\"colorbar\":{\"outlinewidth\":0,\"ticks\":\"\"}},\"type\":\"scatterpolargl\"}],\"scatterternary\":[{\"marker\":{\"colorbar\":{\"outlinewidth\":0,\"ticks\":\"\"}},\"type\":\"scatterternary\"}],\"surface\":[{\"colorbar\":{\"outlinewidth\":0,\"ticks\":\"\"},\"colorscale\":[[0.0,\"#0d0887\"],[0.1111111111111111,\"#46039f\"],[0.2222222222222222,\"#7201a8\"],[0.3333333333333333,\"#9c179e\"],[0.4444444444444444,\"#bd3786\"],[0.5555555555555556,\"#d8576b\"],[0.6666666666666666,\"#ed7953\"],[0.7777777777777778,\"#fb9f3a\"],[0.8888888888888888,\"#fdca26\"],[1.0,\"#f0f921\"]],\"type\":\"surface\"}],\"table\":[{\"cells\":{\"fill\":{\"color\":\"#EBF0F8\"},\"line\":{\"color\":\"white\"}},\"header\":{\"fill\":{\"color\":\"#C8D4E3\"},\"line\":{\"color\":\"white\"}},\"type\":\"table\"}]},\"layout\":{\"annotationdefaults\":{\"arrowcolor\":\"#2a3f5f\",\"arrowhead\":0,\"arrowwidth\":1},\"autotypenumbers\":\"strict\",\"coloraxis\":{\"colorbar\":{\"outlinewidth\":0,\"ticks\":\"\"}},\"colorscale\":{\"diverging\":[[0,\"#8e0152\"],[0.1,\"#c51b7d\"],[0.2,\"#de77ae\"],[0.3,\"#f1b6da\"],[0.4,\"#fde0ef\"],[0.5,\"#f7f7f7\"],[0.6,\"#e6f5d0\"],[0.7,\"#b8e186\"],[0.8,\"#7fbc41\"],[0.9,\"#4d9221\"],[1,\"#276419\"]],\"sequential\":[[0.0,\"#0d0887\"],[0.1111111111111111,\"#46039f\"],[0.2222222222222222,\"#7201a8\"],[0.3333333333333333,\"#9c179e\"],[0.4444444444444444,\"#bd3786\"],[0.5555555555555556,\"#d8576b\"],[0.6666666666666666,\"#ed7953\"],[0.7777777777777778,\"#fb9f3a\"],[0.8888888888888888,\"#fdca26\"],[1.0,\"#f0f921\"]],\"sequentialminus\":[[0.0,\"#0d0887\"],[0.1111111111111111,\"#46039f\"],[0.2222222222222222,\"#7201a8\"],[0.3333333333333333,\"#9c179e\"],[0.4444444444444444,\"#bd3786\"],[0.5555555555555556,\"#d8576b\"],[0.6666666666666666,\"#ed7953\"],[0.7777777777777778,\"#fb9f3a\"],[0.8888888888888888,\"#fdca26\"],[1.0,\"#f0f921\"]]},\"colorway\":[\"#636efa\",\"#EF553B\",\"#00cc96\",\"#ab63fa\",\"#FFA15A\",\"#19d3f3\",\"#FF6692\",\"#B6E880\",\"#FF97FF\",\"#FECB52\"],\"font\":{\"color\":\"#2a3f5f\"},\"geo\":{\"bgcolor\":\"white\",\"lakecolor\":\"white\",\"landcolor\":\"#E5ECF6\",\"showlakes\":true,\"showland\":true,\"subunitcolor\":\"white\"},\"hoverlabel\":{\"align\":\"left\"},\"hovermode\":\"closest\",\"mapbox\":{\"style\":\"light\"},\"paper_bgcolor\":\"white\",\"plot_bgcolor\":\"#E5ECF6\",\"polar\":{\"angularaxis\":{\"gridcolor\":\"white\",\"linecolor\":\"white\",\"ticks\":\"\"},\"bgcolor\":\"#E5ECF6\",\"radialaxis\":{\"gridcolor\":\"white\",\"linecolor\":\"white\",\"ticks\":\"\"}},\"scene\":{\"xaxis\":{\"backgroundcolor\":\"#E5ECF6\",\"gridcolor\":\"white\",\"gridwidth\":2,\"linecolor\":\"white\",\"showbackground\":true,\"ticks\":\"\",\"zerolinecolor\":\"white\"},\"yaxis\":{\"backgroundcolor\":\"#E5ECF6\",\"gridcolor\":\"white\",\"gridwidth\":2,\"linecolor\":\"white\",\"showbackground\":true,\"ticks\":\"\",\"zerolinecolor\":\"white\"},\"zaxis\":{\"backgroundcolor\":\"#E5ECF6\",\"gridcolor\":\"white\",\"gridwidth\":2,\"linecolor\":\"white\",\"showbackground\":true,\"ticks\":\"\",\"zerolinecolor\":\"white\"}},\"shapedefaults\":{\"line\":{\"color\":\"#2a3f5f\"}},\"ternary\":{\"aaxis\":{\"gridcolor\":\"white\",\"linecolor\":\"white\",\"ticks\":\"\"},\"baxis\":{\"gridcolor\":\"white\",\"linecolor\":\"white\",\"ticks\":\"\"},\"bgcolor\":\"#E5ECF6\",\"caxis\":{\"gridcolor\":\"white\",\"linecolor\":\"white\",\"ticks\":\"\"}},\"title\":{\"x\":0.05},\"xaxis\":{\"automargin\":true,\"gridcolor\":\"white\",\"linecolor\":\"white\",\"ticks\":\"\",\"title\":{\"standoff\":15},\"zerolinecolor\":\"white\",\"zerolinewidth\":2},\"yaxis\":{\"automargin\":true,\"gridcolor\":\"white\",\"linecolor\":\"white\",\"ticks\":\"\",\"title\":{\"standoff\":15},\"zerolinecolor\":\"white\",\"zerolinewidth\":2}}},\"xaxis\":{\"anchor\":\"y\",\"domain\":[0.0,1.0],\"title\":{\"text\":\"# of comments\"}},\"yaxis\":{\"anchor\":\"x\",\"domain\":[0.0,1.0],\"title\":{\"text\":\"count\"}},\"legend\":{\"tracegroupgap\":0},\"title\":{\"text\":\"Cantidad de Comentarios\"},\"barmode\":\"relative\"},                        {\"responsive\": true}                    )                };                            </script>        </div>\n</body>\n</html>",
       "datasetInfos": [],
       "metadata": {},
       "removedWidgets": [],
       "textData": null,
       "type": "htmlSandbox"
      }
     },
     "output_type": "display_data"
    }
   ],
   "source": [
    "px.histogram(articulos_pd['# of comments'], x=\"# of comments\", title=\"Cantidad de Comentarios\",color_discrete_sequence=['green'],text_auto=True)"
   ]
  },
  {
   "cell_type": "markdown",
   "metadata": {
    "application/vnd.databricks.v1+cell": {
     "cellMetadata": {},
     "inputWidgets": {},
     "nuid": "7d3f5784-4e84-4492-a0dd-ad7042e128c6",
     "showTitle": false,
     "title": ""
    }
   },
   "source": [
    "Podemos observar que donde se concentran mayormente los registros para **# of comments** es de 50."
   ]
  },
  {
   "cell_type": "markdown",
   "metadata": {
    "application/vnd.databricks.v1+cell": {
     "cellMetadata": {},
     "inputWidgets": {},
     "nuid": "37bc8bd1-1076-4852-8177-eb91e06d7604",
     "showTitle": false,
     "title": ""
    }
   },
   "source": [
    "#### Analizamos la cantidad de compartidos (# Shares)"
   ]
  },
  {
   "cell_type": "code",
   "execution_count": 0,
   "metadata": {
    "application/vnd.databricks.v1+cell": {
     "cellMetadata": {},
     "inputWidgets": {},
     "nuid": "50df45e6-428e-4257-95bc-864db4233cc1",
     "showTitle": false,
     "title": ""
    }
   },
   "outputs": [
    {
     "output_type": "display_data",
     "data": {
      "text/html": [
       "<html>\n",
       "<head><meta charset=\"utf-8\" /></head>\n",
       "<body>\n",
       "    <div>            <script src=\"https://cdnjs.cloudflare.com/ajax/libs/mathjax/2.7.5/MathJax.js?config=TeX-AMS-MML_SVG\"></script><script type=\"text/javascript\">if (window.MathJax) {MathJax.Hub.Config({SVG: {font: \"STIX-Web\"}});}</script>                <script type=\"text/javascript\">window.PlotlyConfig = {MathJaxConfig: 'local'};</script>\n",
       "        <script src=\"https://cdn.plot.ly/plotly-2.8.3.min.js\"></script>                <div id=\"3f462a20-7159-4da4-8937-3e911360899e\" class=\"plotly-graph-div\" style=\"height:100%; width:100%;\"></div>            <script type=\"text/javascript\">                                    window.PLOTLYENV=window.PLOTLYENV || {};                                    if (document.getElementById(\"3f462a20-7159-4da4-8937-3e911360899e\")) {                    Plotly.newPlot(                        \"3f462a20-7159-4da4-8937-3e911360899e\",                        [{\"alignmentgroup\":\"True\",\"bingroup\":\"x\",\"hovertemplate\":\"# Shares=%{x}<br>count=%{y}<extra></extra>\",\"legendgroup\":\"\",\"marker\":{\"color\":\"goldenrod\",\"pattern\":{\"shape\":\"\"}},\"name\":\"\",\"offsetgroup\":\"\",\"orientation\":\"v\",\"showlegend\":false,\"texttemplate\":\"%{value}\",\"x\":[200000,25000,42000,200000,200000,21000,200000,77000,59400,35000,100000,350000,20000,29000,37000,67300,60100,3200,37000,55000,54800,54600,27000,20000,2400,14000,3800,26000,14000,7100,14000,3000,5600,1500,8400,5300,3400,2500,757,6400,3600,22,2300,2800,1300,2500,4500,422,1600,2000,715,907,2800,1300,3000,2800,3300,2600,2300,1400,1800,867,1500,631,1200,950,1200,196,1100,668,424,8,367,42406,1733,35691,11061,51319,30756,58425,48060,0,4988,27984,45455,76585,24264,5261,25548,0,56376,13315,27476,55170,871,39767,16390,23832,12269,10574,24206,13586,81403,21123,32248,8001,23288,53720,53449,52712,39681,39091,28116,25850,20880,17145,57058,19420,3298,31137,2,34515,7260,0,23152,30912,34669,12740,36707,1177,48927,11055,49421,23018,54198,659,16641,19828,15047,16160,34065,17124,15512,9085,81025,16458,55738,18012,35392,26194,55914,3968,1824,2958,22359,8707,3239,25019,49614,33660,5956],\"xaxis\":\"x\",\"yaxis\":\"y\",\"type\":\"histogram\"}],                        {\"template\":{\"data\":{\"bar\":[{\"error_x\":{\"color\":\"#2a3f5f\"},\"error_y\":{\"color\":\"#2a3f5f\"},\"marker\":{\"line\":{\"color\":\"#E5ECF6\",\"width\":0.5},\"pattern\":{\"fillmode\":\"overlay\",\"size\":10,\"solidity\":0.2}},\"type\":\"bar\"}],\"barpolar\":[{\"marker\":{\"line\":{\"color\":\"#E5ECF6\",\"width\":0.5},\"pattern\":{\"fillmode\":\"overlay\",\"size\":10,\"solidity\":0.2}},\"type\":\"barpolar\"}],\"carpet\":[{\"aaxis\":{\"endlinecolor\":\"#2a3f5f\",\"gridcolor\":\"white\",\"linecolor\":\"white\",\"minorgridcolor\":\"white\",\"startlinecolor\":\"#2a3f5f\"},\"baxis\":{\"endlinecolor\":\"#2a3f5f\",\"gridcolor\":\"white\",\"linecolor\":\"white\",\"minorgridcolor\":\"white\",\"startlinecolor\":\"#2a3f5f\"},\"type\":\"carpet\"}],\"choropleth\":[{\"colorbar\":{\"outlinewidth\":0,\"ticks\":\"\"},\"type\":\"choropleth\"}],\"contour\":[{\"colorbar\":{\"outlinewidth\":0,\"ticks\":\"\"},\"colorscale\":[[0.0,\"#0d0887\"],[0.1111111111111111,\"#46039f\"],[0.2222222222222222,\"#7201a8\"],[0.3333333333333333,\"#9c179e\"],[0.4444444444444444,\"#bd3786\"],[0.5555555555555556,\"#d8576b\"],[0.6666666666666666,\"#ed7953\"],[0.7777777777777778,\"#fb9f3a\"],[0.8888888888888888,\"#fdca26\"],[1.0,\"#f0f921\"]],\"type\":\"contour\"}],\"contourcarpet\":[{\"colorbar\":{\"outlinewidth\":0,\"ticks\":\"\"},\"type\":\"contourcarpet\"}],\"heatmap\":[{\"colorbar\":{\"outlinewidth\":0,\"ticks\":\"\"},\"colorscale\":[[0.0,\"#0d0887\"],[0.1111111111111111,\"#46039f\"],[0.2222222222222222,\"#7201a8\"],[0.3333333333333333,\"#9c179e\"],[0.4444444444444444,\"#bd3786\"],[0.5555555555555556,\"#d8576b\"],[0.6666666666666666,\"#ed7953\"],[0.7777777777777778,\"#fb9f3a\"],[0.8888888888888888,\"#fdca26\"],[1.0,\"#f0f921\"]],\"type\":\"heatmap\"}],\"heatmapgl\":[{\"colorbar\":{\"outlinewidth\":0,\"ticks\":\"\"},\"colorscale\":[[0.0,\"#0d0887\"],[0.1111111111111111,\"#46039f\"],[0.2222222222222222,\"#7201a8\"],[0.3333333333333333,\"#9c179e\"],[0.4444444444444444,\"#bd3786\"],[0.5555555555555556,\"#d8576b\"],[0.6666666666666666,\"#ed7953\"],[0.7777777777777778,\"#fb9f3a\"],[0.8888888888888888,\"#fdca26\"],[1.0,\"#f0f921\"]],\"type\":\"heatmapgl\"}],\"histogram\":[{\"marker\":{\"pattern\":{\"fillmode\":\"overlay\",\"size\":10,\"solidity\":0.2}},\"type\":\"histogram\"}],\"histogram2d\":[{\"colorbar\":{\"outlinewidth\":0,\"ticks\":\"\"},\"colorscale\":[[0.0,\"#0d0887\"],[0.1111111111111111,\"#46039f\"],[0.2222222222222222,\"#7201a8\"],[0.3333333333333333,\"#9c179e\"],[0.4444444444444444,\"#bd3786\"],[0.5555555555555556,\"#d8576b\"],[0.6666666666666666,\"#ed7953\"],[0.7777777777777778,\"#fb9f3a\"],[0.8888888888888888,\"#fdca26\"],[1.0,\"#f0f921\"]],\"type\":\"histogram2d\"}],\"histogram2dcontour\":[{\"colorbar\":{\"outlinewidth\":0,\"ticks\":\"\"},\"colorscale\":[[0.0,\"#0d0887\"],[0.1111111111111111,\"#46039f\"],[0.2222222222222222,\"#7201a8\"],[0.3333333333333333,\"#9c179e\"],[0.4444444444444444,\"#bd3786\"],[0.5555555555555556,\"#d8576b\"],[0.6666666666666666,\"#ed7953\"],[0.7777777777777778,\"#fb9f3a\"],[0.8888888888888888,\"#fdca26\"],[1.0,\"#f0f921\"]],\"type\":\"histogram2dcontour\"}],\"mesh3d\":[{\"colorbar\":{\"outlinewidth\":0,\"ticks\":\"\"},\"type\":\"mesh3d\"}],\"parcoords\":[{\"line\":{\"colorbar\":{\"outlinewidth\":0,\"ticks\":\"\"}},\"type\":\"parcoords\"}],\"pie\":[{\"automargin\":true,\"type\":\"pie\"}],\"scatter\":[{\"marker\":{\"colorbar\":{\"outlinewidth\":0,\"ticks\":\"\"}},\"type\":\"scatter\"}],\"scatter3d\":[{\"line\":{\"colorbar\":{\"outlinewidth\":0,\"ticks\":\"\"}},\"marker\":{\"colorbar\":{\"outlinewidth\":0,\"ticks\":\"\"}},\"type\":\"scatter3d\"}],\"scattercarpet\":[{\"marker\":{\"colorbar\":{\"outlinewidth\":0,\"ticks\":\"\"}},\"type\":\"scattercarpet\"}],\"scattergeo\":[{\"marker\":{\"colorbar\":{\"outlinewidth\":0,\"ticks\":\"\"}},\"type\":\"scattergeo\"}],\"scattergl\":[{\"marker\":{\"colorbar\":{\"outlinewidth\":0,\"ticks\":\"\"}},\"type\":\"scattergl\"}],\"scattermapbox\":[{\"marker\":{\"colorbar\":{\"outlinewidth\":0,\"ticks\":\"\"}},\"type\":\"scattermapbox\"}],\"scatterpolar\":[{\"marker\":{\"colorbar\":{\"outlinewidth\":0,\"ticks\":\"\"}},\"type\":\"scatterpolar\"}],\"scatterpolargl\":[{\"marker\":{\"colorbar\":{\"outlinewidth\":0,\"ticks\":\"\"}},\"type\":\"scatterpolargl\"}],\"scatterternary\":[{\"marker\":{\"colorbar\":{\"outlinewidth\":0,\"ticks\":\"\"}},\"type\":\"scatterternary\"}],\"surface\":[{\"colorbar\":{\"outlinewidth\":0,\"ticks\":\"\"},\"colorscale\":[[0.0,\"#0d0887\"],[0.1111111111111111,\"#46039f\"],[0.2222222222222222,\"#7201a8\"],[0.3333333333333333,\"#9c179e\"],[0.4444444444444444,\"#bd3786\"],[0.5555555555555556,\"#d8576b\"],[0.6666666666666666,\"#ed7953\"],[0.7777777777777778,\"#fb9f3a\"],[0.8888888888888888,\"#fdca26\"],[1.0,\"#f0f921\"]],\"type\":\"surface\"}],\"table\":[{\"cells\":{\"fill\":{\"color\":\"#EBF0F8\"},\"line\":{\"color\":\"white\"}},\"header\":{\"fill\":{\"color\":\"#C8D4E3\"},\"line\":{\"color\":\"white\"}},\"type\":\"table\"}]},\"layout\":{\"annotationdefaults\":{\"arrowcolor\":\"#2a3f5f\",\"arrowhead\":0,\"arrowwidth\":1},\"autotypenumbers\":\"strict\",\"coloraxis\":{\"colorbar\":{\"outlinewidth\":0,\"ticks\":\"\"}},\"colorscale\":{\"diverging\":[[0,\"#8e0152\"],[0.1,\"#c51b7d\"],[0.2,\"#de77ae\"],[0.3,\"#f1b6da\"],[0.4,\"#fde0ef\"],[0.5,\"#f7f7f7\"],[0.6,\"#e6f5d0\"],[0.7,\"#b8e186\"],[0.8,\"#7fbc41\"],[0.9,\"#4d9221\"],[1,\"#276419\"]],\"sequential\":[[0.0,\"#0d0887\"],[0.1111111111111111,\"#46039f\"],[0.2222222222222222,\"#7201a8\"],[0.3333333333333333,\"#9c179e\"],[0.4444444444444444,\"#bd3786\"],[0.5555555555555556,\"#d8576b\"],[0.6666666666666666,\"#ed7953\"],[0.7777777777777778,\"#fb9f3a\"],[0.8888888888888888,\"#fdca26\"],[1.0,\"#f0f921\"]],\"sequentialminus\":[[0.0,\"#0d0887\"],[0.1111111111111111,\"#46039f\"],[0.2222222222222222,\"#7201a8\"],[0.3333333333333333,\"#9c179e\"],[0.4444444444444444,\"#bd3786\"],[0.5555555555555556,\"#d8576b\"],[0.6666666666666666,\"#ed7953\"],[0.7777777777777778,\"#fb9f3a\"],[0.8888888888888888,\"#fdca26\"],[1.0,\"#f0f921\"]]},\"colorway\":[\"#636efa\",\"#EF553B\",\"#00cc96\",\"#ab63fa\",\"#FFA15A\",\"#19d3f3\",\"#FF6692\",\"#B6E880\",\"#FF97FF\",\"#FECB52\"],\"font\":{\"color\":\"#2a3f5f\"},\"geo\":{\"bgcolor\":\"white\",\"lakecolor\":\"white\",\"landcolor\":\"#E5ECF6\",\"showlakes\":true,\"showland\":true,\"subunitcolor\":\"white\"},\"hoverlabel\":{\"align\":\"left\"},\"hovermode\":\"closest\",\"mapbox\":{\"style\":\"light\"},\"paper_bgcolor\":\"white\",\"plot_bgcolor\":\"#E5ECF6\",\"polar\":{\"angularaxis\":{\"gridcolor\":\"white\",\"linecolor\":\"white\",\"ticks\":\"\"},\"bgcolor\":\"#E5ECF6\",\"radialaxis\":{\"gridcolor\":\"white\",\"linecolor\":\"white\",\"ticks\":\"\"}},\"scene\":{\"xaxis\":{\"backgroundcolor\":\"#E5ECF6\",\"gridcolor\":\"white\",\"gridwidth\":2,\"linecolor\":\"white\",\"showbackground\":true,\"ticks\":\"\",\"zerolinecolor\":\"white\"},\"yaxis\":{\"backgroundcolor\":\"#E5ECF6\",\"gridcolor\":\"white\",\"gridwidth\":2,\"linecolor\":\"white\",\"showbackground\":true,\"ticks\":\"\",\"zerolinecolor\":\"white\"},\"zaxis\":{\"backgroundcolor\":\"#E5ECF6\",\"gridcolor\":\"white\",\"gridwidth\":2,\"linecolor\":\"white\",\"showbackground\":true,\"ticks\":\"\",\"zerolinecolor\":\"white\"}},\"shapedefaults\":{\"line\":{\"color\":\"#2a3f5f\"}},\"ternary\":{\"aaxis\":{\"gridcolor\":\"white\",\"linecolor\":\"white\",\"ticks\":\"\"},\"baxis\":{\"gridcolor\":\"white\",\"linecolor\":\"white\",\"ticks\":\"\"},\"bgcolor\":\"#E5ECF6\",\"caxis\":{\"gridcolor\":\"white\",\"linecolor\":\"white\",\"ticks\":\"\"}},\"title\":{\"x\":0.05},\"xaxis\":{\"automargin\":true,\"gridcolor\":\"white\",\"linecolor\":\"white\",\"ticks\":\"\",\"title\":{\"standoff\":15},\"zerolinecolor\":\"white\",\"zerolinewidth\":2},\"yaxis\":{\"automargin\":true,\"gridcolor\":\"white\",\"linecolor\":\"white\",\"ticks\":\"\",\"title\":{\"standoff\":15},\"zerolinecolor\":\"white\",\"zerolinewidth\":2}}},\"xaxis\":{\"anchor\":\"y\",\"domain\":[0.0,1.0],\"title\":{\"text\":\"# Shares\"}},\"yaxis\":{\"anchor\":\"x\",\"domain\":[0.0,1.0],\"title\":{\"text\":\"count\"}},\"legend\":{\"tracegroupgap\":0},\"title\":{\"text\":\"Cantidad de Compartidos\"},\"barmode\":\"relative\"},                        {\"responsive\": true}                    )                };                            </script>        </div>\n",
       "</body>\n",
       "</html>"
      ]
     },
     "metadata": {
      "application/vnd.databricks.v1+output": {
       "addedWidgets": {},
       "arguments": {},
       "data": "<html>\n<head><meta charset=\"utf-8\" /></head>\n<body>\n    <div>            <script src=\"https://cdnjs.cloudflare.com/ajax/libs/mathjax/2.7.5/MathJax.js?config=TeX-AMS-MML_SVG\"></script><script type=\"text/javascript\">if (window.MathJax) {MathJax.Hub.Config({SVG: {font: \"STIX-Web\"}});}</script>                <script type=\"text/javascript\">window.PlotlyConfig = {MathJaxConfig: 'local'};</script>\n        <script src=\"https://cdn.plot.ly/plotly-2.8.3.min.js\"></script>                <div id=\"3f462a20-7159-4da4-8937-3e911360899e\" class=\"plotly-graph-div\" style=\"height:100%; width:100%;\"></div>            <script type=\"text/javascript\">                                    window.PLOTLYENV=window.PLOTLYENV || {};                                    if (document.getElementById(\"3f462a20-7159-4da4-8937-3e911360899e\")) {                    Plotly.newPlot(                        \"3f462a20-7159-4da4-8937-3e911360899e\",                        [{\"alignmentgroup\":\"True\",\"bingroup\":\"x\",\"hovertemplate\":\"# Shares=%{x}<br>count=%{y}<extra></extra>\",\"legendgroup\":\"\",\"marker\":{\"color\":\"goldenrod\",\"pattern\":{\"shape\":\"\"}},\"name\":\"\",\"offsetgroup\":\"\",\"orientation\":\"v\",\"showlegend\":false,\"texttemplate\":\"%{value}\",\"x\":[200000,25000,42000,200000,200000,21000,200000,77000,59400,35000,100000,350000,20000,29000,37000,67300,60100,3200,37000,55000,54800,54600,27000,20000,2400,14000,3800,26000,14000,7100,14000,3000,5600,1500,8400,5300,3400,2500,757,6400,3600,22,2300,2800,1300,2500,4500,422,1600,2000,715,907,2800,1300,3000,2800,3300,2600,2300,1400,1800,867,1500,631,1200,950,1200,196,1100,668,424,8,367,42406,1733,35691,11061,51319,30756,58425,48060,0,4988,27984,45455,76585,24264,5261,25548,0,56376,13315,27476,55170,871,39767,16390,23832,12269,10574,24206,13586,81403,21123,32248,8001,23288,53720,53449,52712,39681,39091,28116,25850,20880,17145,57058,19420,3298,31137,2,34515,7260,0,23152,30912,34669,12740,36707,1177,48927,11055,49421,23018,54198,659,16641,19828,15047,16160,34065,17124,15512,9085,81025,16458,55738,18012,35392,26194,55914,3968,1824,2958,22359,8707,3239,25019,49614,33660,5956],\"xaxis\":\"x\",\"yaxis\":\"y\",\"type\":\"histogram\"}],                        {\"template\":{\"data\":{\"bar\":[{\"error_x\":{\"color\":\"#2a3f5f\"},\"error_y\":{\"color\":\"#2a3f5f\"},\"marker\":{\"line\":{\"color\":\"#E5ECF6\",\"width\":0.5},\"pattern\":{\"fillmode\":\"overlay\",\"size\":10,\"solidity\":0.2}},\"type\":\"bar\"}],\"barpolar\":[{\"marker\":{\"line\":{\"color\":\"#E5ECF6\",\"width\":0.5},\"pattern\":{\"fillmode\":\"overlay\",\"size\":10,\"solidity\":0.2}},\"type\":\"barpolar\"}],\"carpet\":[{\"aaxis\":{\"endlinecolor\":\"#2a3f5f\",\"gridcolor\":\"white\",\"linecolor\":\"white\",\"minorgridcolor\":\"white\",\"startlinecolor\":\"#2a3f5f\"},\"baxis\":{\"endlinecolor\":\"#2a3f5f\",\"gridcolor\":\"white\",\"linecolor\":\"white\",\"minorgridcolor\":\"white\",\"startlinecolor\":\"#2a3f5f\"},\"type\":\"carpet\"}],\"choropleth\":[{\"colorbar\":{\"outlinewidth\":0,\"ticks\":\"\"},\"type\":\"choropleth\"}],\"contour\":[{\"colorbar\":{\"outlinewidth\":0,\"ticks\":\"\"},\"colorscale\":[[0.0,\"#0d0887\"],[0.1111111111111111,\"#46039f\"],[0.2222222222222222,\"#7201a8\"],[0.3333333333333333,\"#9c179e\"],[0.4444444444444444,\"#bd3786\"],[0.5555555555555556,\"#d8576b\"],[0.6666666666666666,\"#ed7953\"],[0.7777777777777778,\"#fb9f3a\"],[0.8888888888888888,\"#fdca26\"],[1.0,\"#f0f921\"]],\"type\":\"contour\"}],\"contourcarpet\":[{\"colorbar\":{\"outlinewidth\":0,\"ticks\":\"\"},\"type\":\"contourcarpet\"}],\"heatmap\":[{\"colorbar\":{\"outlinewidth\":0,\"ticks\":\"\"},\"colorscale\":[[0.0,\"#0d0887\"],[0.1111111111111111,\"#46039f\"],[0.2222222222222222,\"#7201a8\"],[0.3333333333333333,\"#9c179e\"],[0.4444444444444444,\"#bd3786\"],[0.5555555555555556,\"#d8576b\"],[0.6666666666666666,\"#ed7953\"],[0.7777777777777778,\"#fb9f3a\"],[0.8888888888888888,\"#fdca26\"],[1.0,\"#f0f921\"]],\"type\":\"heatmap\"}],\"heatmapgl\":[{\"colorbar\":{\"outlinewidth\":0,\"ticks\":\"\"},\"colorscale\":[[0.0,\"#0d0887\"],[0.1111111111111111,\"#46039f\"],[0.2222222222222222,\"#7201a8\"],[0.3333333333333333,\"#9c179e\"],[0.4444444444444444,\"#bd3786\"],[0.5555555555555556,\"#d8576b\"],[0.6666666666666666,\"#ed7953\"],[0.7777777777777778,\"#fb9f3a\"],[0.8888888888888888,\"#fdca26\"],[1.0,\"#f0f921\"]],\"type\":\"heatmapgl\"}],\"histogram\":[{\"marker\":{\"pattern\":{\"fillmode\":\"overlay\",\"size\":10,\"solidity\":0.2}},\"type\":\"histogram\"}],\"histogram2d\":[{\"colorbar\":{\"outlinewidth\":0,\"ticks\":\"\"},\"colorscale\":[[0.0,\"#0d0887\"],[0.1111111111111111,\"#46039f\"],[0.2222222222222222,\"#7201a8\"],[0.3333333333333333,\"#9c179e\"],[0.4444444444444444,\"#bd3786\"],[0.5555555555555556,\"#d8576b\"],[0.6666666666666666,\"#ed7953\"],[0.7777777777777778,\"#fb9f3a\"],[0.8888888888888888,\"#fdca26\"],[1.0,\"#f0f921\"]],\"type\":\"histogram2d\"}],\"histogram2dcontour\":[{\"colorbar\":{\"outlinewidth\":0,\"ticks\":\"\"},\"colorscale\":[[0.0,\"#0d0887\"],[0.1111111111111111,\"#46039f\"],[0.2222222222222222,\"#7201a8\"],[0.3333333333333333,\"#9c179e\"],[0.4444444444444444,\"#bd3786\"],[0.5555555555555556,\"#d8576b\"],[0.6666666666666666,\"#ed7953\"],[0.7777777777777778,\"#fb9f3a\"],[0.8888888888888888,\"#fdca26\"],[1.0,\"#f0f921\"]],\"type\":\"histogram2dcontour\"}],\"mesh3d\":[{\"colorbar\":{\"outlinewidth\":0,\"ticks\":\"\"},\"type\":\"mesh3d\"}],\"parcoords\":[{\"line\":{\"colorbar\":{\"outlinewidth\":0,\"ticks\":\"\"}},\"type\":\"parcoords\"}],\"pie\":[{\"automargin\":true,\"type\":\"pie\"}],\"scatter\":[{\"marker\":{\"colorbar\":{\"outlinewidth\":0,\"ticks\":\"\"}},\"type\":\"scatter\"}],\"scatter3d\":[{\"line\":{\"colorbar\":{\"outlinewidth\":0,\"ticks\":\"\"}},\"marker\":{\"colorbar\":{\"outlinewidth\":0,\"ticks\":\"\"}},\"type\":\"scatter3d\"}],\"scattercarpet\":[{\"marker\":{\"colorbar\":{\"outlinewidth\":0,\"ticks\":\"\"}},\"type\":\"scattercarpet\"}],\"scattergeo\":[{\"marker\":{\"colorbar\":{\"outlinewidth\":0,\"ticks\":\"\"}},\"type\":\"scattergeo\"}],\"scattergl\":[{\"marker\":{\"colorbar\":{\"outlinewidth\":0,\"ticks\":\"\"}},\"type\":\"scattergl\"}],\"scattermapbox\":[{\"marker\":{\"colorbar\":{\"outlinewidth\":0,\"ticks\":\"\"}},\"type\":\"scattermapbox\"}],\"scatterpolar\":[{\"marker\":{\"colorbar\":{\"outlinewidth\":0,\"ticks\":\"\"}},\"type\":\"scatterpolar\"}],\"scatterpolargl\":[{\"marker\":{\"colorbar\":{\"outlinewidth\":0,\"ticks\":\"\"}},\"type\":\"scatterpolargl\"}],\"scatterternary\":[{\"marker\":{\"colorbar\":{\"outlinewidth\":0,\"ticks\":\"\"}},\"type\":\"scatterternary\"}],\"surface\":[{\"colorbar\":{\"outlinewidth\":0,\"ticks\":\"\"},\"colorscale\":[[0.0,\"#0d0887\"],[0.1111111111111111,\"#46039f\"],[0.2222222222222222,\"#7201a8\"],[0.3333333333333333,\"#9c179e\"],[0.4444444444444444,\"#bd3786\"],[0.5555555555555556,\"#d8576b\"],[0.6666666666666666,\"#ed7953\"],[0.7777777777777778,\"#fb9f3a\"],[0.8888888888888888,\"#fdca26\"],[1.0,\"#f0f921\"]],\"type\":\"surface\"}],\"table\":[{\"cells\":{\"fill\":{\"color\":\"#EBF0F8\"},\"line\":{\"color\":\"white\"}},\"header\":{\"fill\":{\"color\":\"#C8D4E3\"},\"line\":{\"color\":\"white\"}},\"type\":\"table\"}]},\"layout\":{\"annotationdefaults\":{\"arrowcolor\":\"#2a3f5f\",\"arrowhead\":0,\"arrowwidth\":1},\"autotypenumbers\":\"strict\",\"coloraxis\":{\"colorbar\":{\"outlinewidth\":0,\"ticks\":\"\"}},\"colorscale\":{\"diverging\":[[0,\"#8e0152\"],[0.1,\"#c51b7d\"],[0.2,\"#de77ae\"],[0.3,\"#f1b6da\"],[0.4,\"#fde0ef\"],[0.5,\"#f7f7f7\"],[0.6,\"#e6f5d0\"],[0.7,\"#b8e186\"],[0.8,\"#7fbc41\"],[0.9,\"#4d9221\"],[1,\"#276419\"]],\"sequential\":[[0.0,\"#0d0887\"],[0.1111111111111111,\"#46039f\"],[0.2222222222222222,\"#7201a8\"],[0.3333333333333333,\"#9c179e\"],[0.4444444444444444,\"#bd3786\"],[0.5555555555555556,\"#d8576b\"],[0.6666666666666666,\"#ed7953\"],[0.7777777777777778,\"#fb9f3a\"],[0.8888888888888888,\"#fdca26\"],[1.0,\"#f0f921\"]],\"sequentialminus\":[[0.0,\"#0d0887\"],[0.1111111111111111,\"#46039f\"],[0.2222222222222222,\"#7201a8\"],[0.3333333333333333,\"#9c179e\"],[0.4444444444444444,\"#bd3786\"],[0.5555555555555556,\"#d8576b\"],[0.6666666666666666,\"#ed7953\"],[0.7777777777777778,\"#fb9f3a\"],[0.8888888888888888,\"#fdca26\"],[1.0,\"#f0f921\"]]},\"colorway\":[\"#636efa\",\"#EF553B\",\"#00cc96\",\"#ab63fa\",\"#FFA15A\",\"#19d3f3\",\"#FF6692\",\"#B6E880\",\"#FF97FF\",\"#FECB52\"],\"font\":{\"color\":\"#2a3f5f\"},\"geo\":{\"bgcolor\":\"white\",\"lakecolor\":\"white\",\"landcolor\":\"#E5ECF6\",\"showlakes\":true,\"showland\":true,\"subunitcolor\":\"white\"},\"hoverlabel\":{\"align\":\"left\"},\"hovermode\":\"closest\",\"mapbox\":{\"style\":\"light\"},\"paper_bgcolor\":\"white\",\"plot_bgcolor\":\"#E5ECF6\",\"polar\":{\"angularaxis\":{\"gridcolor\":\"white\",\"linecolor\":\"white\",\"ticks\":\"\"},\"bgcolor\":\"#E5ECF6\",\"radialaxis\":{\"gridcolor\":\"white\",\"linecolor\":\"white\",\"ticks\":\"\"}},\"scene\":{\"xaxis\":{\"backgroundcolor\":\"#E5ECF6\",\"gridcolor\":\"white\",\"gridwidth\":2,\"linecolor\":\"white\",\"showbackground\":true,\"ticks\":\"\",\"zerolinecolor\":\"white\"},\"yaxis\":{\"backgroundcolor\":\"#E5ECF6\",\"gridcolor\":\"white\",\"gridwidth\":2,\"linecolor\":\"white\",\"showbackground\":true,\"ticks\":\"\",\"zerolinecolor\":\"white\"},\"zaxis\":{\"backgroundcolor\":\"#E5ECF6\",\"gridcolor\":\"white\",\"gridwidth\":2,\"linecolor\":\"white\",\"showbackground\":true,\"ticks\":\"\",\"zerolinecolor\":\"white\"}},\"shapedefaults\":{\"line\":{\"color\":\"#2a3f5f\"}},\"ternary\":{\"aaxis\":{\"gridcolor\":\"white\",\"linecolor\":\"white\",\"ticks\":\"\"},\"baxis\":{\"gridcolor\":\"white\",\"linecolor\":\"white\",\"ticks\":\"\"},\"bgcolor\":\"#E5ECF6\",\"caxis\":{\"gridcolor\":\"white\",\"linecolor\":\"white\",\"ticks\":\"\"}},\"title\":{\"x\":0.05},\"xaxis\":{\"automargin\":true,\"gridcolor\":\"white\",\"linecolor\":\"white\",\"ticks\":\"\",\"title\":{\"standoff\":15},\"zerolinecolor\":\"white\",\"zerolinewidth\":2},\"yaxis\":{\"automargin\":true,\"gridcolor\":\"white\",\"linecolor\":\"white\",\"ticks\":\"\",\"title\":{\"standoff\":15},\"zerolinecolor\":\"white\",\"zerolinewidth\":2}}},\"xaxis\":{\"anchor\":\"y\",\"domain\":[0.0,1.0],\"title\":{\"text\":\"# Shares\"}},\"yaxis\":{\"anchor\":\"x\",\"domain\":[0.0,1.0],\"title\":{\"text\":\"count\"}},\"legend\":{\"tracegroupgap\":0},\"title\":{\"text\":\"Cantidad de Compartidos\"},\"barmode\":\"relative\"},                        {\"responsive\": true}                    )                };                            </script>        </div>\n</body>\n</html>",
       "datasetInfos": [],
       "metadata": {},
       "removedWidgets": [],
       "textData": null,
       "type": "htmlSandbox"
      }
     },
     "output_type": "display_data"
    }
   ],
   "source": [
    "px.histogram(articulos_pd['# Shares'], x=\"# Shares\", title=\"Cantidad de Compartidos\",color_discrete_sequence=['goldenrod'],text_auto=True)"
   ]
  },
  {
   "cell_type": "markdown",
   "metadata": {
    "application/vnd.databricks.v1+cell": {
     "cellMetadata": {},
     "inputWidgets": {},
     "nuid": "74a8f3ca-9543-4196-9a50-a2bce1fb0446",
     "showTitle": false,
     "title": ""
    }
   },
   "source": [
    "Podemos observar que donde se concentra la mayor cantidad de registros para **# Shares** es en 80000"
   ]
  },
  {
   "cell_type": "markdown",
   "metadata": {
    "application/vnd.databricks.v1+cell": {
     "cellMetadata": {},
     "inputWidgets": {},
     "nuid": "334a3434-5c46-4583-a2c0-68d1209b89aa",
     "showTitle": false,
     "title": ""
    }
   },
   "source": [
    "##### Filtramos en donde mayormente se centran los datos"
   ]
  },
  {
   "cell_type": "code",
   "execution_count": 0,
   "metadata": {
    "application/vnd.databricks.v1+cell": {
     "cellMetadata": {},
     "inputWidgets": {},
     "nuid": "41bb27a8-dbae-403a-87b0-241d7a3769ac",
     "showTitle": false,
     "title": ""
    }
   },
   "outputs": [
    {
     "output_type": "display_data",
     "data": {
      "text/html": [
       "<style scoped>\n",
       "  .table-result-container {\n",
       "    max-height: 300px;\n",
       "    overflow: auto;\n",
       "  }\n",
       "  table, th, td {\n",
       "    border: 1px solid black;\n",
       "    border-collapse: collapse;\n",
       "  }\n",
       "  th, td {\n",
       "    padding: 5px;\n",
       "  }\n",
       "  th {\n",
       "    text-align: left;\n",
       "  }\n",
       "</style><div class='table-result-container'><table class='table-result'><thead style='background-color: white'><tr><th>Title</th><th>url</th><th>Word count</th><th># of Links</th><th># of comments</th><th># Images video</th><th>Elapsed days</th><th># Shares</th></tr></thead><tbody><tr><td>10 Companies Using Machine Learning in Cool Ways</td><td>null</td><td>1742.0</td><td>9.0</td><td>17</td><td>9</td><td>5</td><td>25000</td></tr><tr><td>How Artificial Intelligence Is Revolutionizing the Sector</td><td>null</td><td>962.0</td><td>6.0</td><td>0</td><td>1</td><td>10</td><td>42000</td></tr><tr><td>5 ways Data Science and Machine Learning impact business</td><td>null</td><td>761.0</td><td>0.0</td><td>17</td><td>1</td><td>14</td><td>21000</td></tr><tr><td>How Machine Learning can help Cryptocurrency Traders Maximize their Gains</td><td>https://cryptovest.com/news/how-machine-learning-can-help-cryptocurrency-traders-maximize-their-gains/?utm_source=SocialAnimal&utm_medium=referral</td><td>753.0</td><td>3.0</td><td>0</td><td>1</td><td>78</td><td>77000</td></tr><tr><td>Tech companies should stop pretending AI won’t destroy jobs</td><td>https://www.technologyreview.com/s/610298/tech-companies-should-stop-pretending-ai-wont-destroy-jobs/</td><td>1118.0</td><td>2.0</td><td>17</td><td>1</td><td>62</td><td>59400</td></tr><tr><td>Artificial intelligence is going to completely change your life</td><td>null</td><td>1581.0</td><td>4.0</td><td>17</td><td>2</td><td>60</td><td>35000</td></tr><tr><td>Google CEO Sundar Pichai says AI is more profound than electricity or fire</td><td>null</td><td>256.0</td><td>0.0</td><td>27</td><td>1</td><td>95</td><td>29000</td></tr><tr><td>How machine learning is changing the financial industry</td><td>null</td><td>1267.0</td><td>2.0</td><td>17</td><td>4</td><td>124</td><td>37000</td></tr><tr><td>New AI can work out whether you're gay or straight from a photograph</td><td>https://www.theguardian.com/technology/2017/sep/07/new-artificial-intelligence-can-tell-whether-youre-gay-or-straight-from-a-photograph</td><td>971.0</td><td>10.0</td><td>17</td><td>1</td><td>228</td><td>67300</td></tr><tr><td>Researchers have linked a human brain to the Internet for the first time ever</td><td>https://futurism.com/researchers-have-linked-a-human-brain-to-the-internet-for-the-first-time-ever/</td><td>369.0</td><td>6.0</td><td>17</td><td>1</td><td>222</td><td>60100</td></tr><tr><td>Who’s a good AI? Dog-based data creates a canine machine learning system</td><td>https://techcrunch.com/2018/04/11/whos-a-good-ai-dog-based-data-creates-a-canine-machine-learning-system/</td><td>635.0</td><td>3.0</td><td>1</td><td>2</td><td>12</td><td>3200</td></tr><tr><td>Which One to Choose for Your Problem</td><td>null</td><td>1631.0</td><td>6.0</td><td>6</td><td>9</td><td>180</td><td>37000</td></tr><tr><td>A computer was asked to predict which start-ups would be successful. The results were astonishing</td><td>null</td><td>571.0</td><td>4.0</td><td>17</td><td>1</td><td>277</td><td>55000</td></tr><tr><td>AI Is Inventing Languages Humans Can’t Understand. Should We Stop It?</td><td>https://www.fastcodesign.com/90132632/ai-is-inventing-its-own-perfect-languages-should-we-let-it</td><td>1333.0</td><td>8.0</td><td>17</td><td>4</td><td>284</td><td>54800</td></tr><tr><td>An Artificial Intelligence Developed Its Own Non-Human Language</td><td>https://www.theatlantic.com/technology/archive/2017/06/artificial-intelligence-develops-its-own-non-human-language/530436/</td><td>364.0</td><td>5.0</td><td>17</td><td>2</td><td>313</td><td>54600</td></tr><tr><td>Denmark's largest bank is using AI and machine learning to ‘tear everything apart’ – and it’s starting to pay off</td><td>null</td><td>515.0</td><td>2.0</td><td>17</td><td>5</td><td>173</td><td>27000</td></tr><tr><td>How Artificial Intelligence Is Key for Autonomous Vehicle Development</td><td>null</td><td>1135.0</td><td>8.0</td><td>0</td><td>1</td><td>146</td><td>20000</td></tr><tr><td>Machine Learning Zone: OpenAI competition takes on Sonic the Hedgehog</td><td>null</td><td>666.0</td><td>4.0</td><td>0</td><td>3</td><td>18</td><td>2400</td></tr><tr><td>Reverie Labs uses new machine learning algorithms to fix drug development bottlenecks</td><td>null</td><td>787.0</td><td>4.0</td><td>0</td><td>1</td><td>39</td><td>3800</td></tr><tr><td>Machine Learning Applied to Big Data, Explained</td><td>null</td><td>421.0</td><td>2.0</td><td>17</td><td>1</td><td>277</td><td>26000</td></tr><tr><td>Physicists have discovered what makes neural networks so extraordinarily powerful</td><td>null</td><td>1065.0</td><td>1.0</td><td>19</td><td>1</td><td>171</td><td>14000</td></tr><tr><td>A deep-learning machine was trained to spot criminals by looking at mugshots</td><td>null</td><td>908.0</td><td>2.0</td><td>17</td><td>1</td><td>226</td><td>14000</td></tr><tr><td>Getting Value from MachineLearning Isn’t About Fancier Algorithms — It’s About Making It Easier to Use</td><td>null</td><td>1260.0</td><td>6.0</td><td>4</td><td>1</td><td>49</td><td>3000</td></tr><tr><td>The Amazing Ways Tesla Is Using Artificial Intelligence And Big Data</td><td>null</td><td>950.0</td><td>6.0</td><td>17</td><td>1</td><td>106</td><td>5600</td></tr><tr><td>10 Machine LearningAlgorithms You Should Know to Become a Data Scientist - DZone AI</td><td>null</td><td>1761.0</td><td>49.0</td><td>4</td><td>10</td><td>30</td><td>1500</td></tr><tr><td>Google’s Artificial-Intelligence Wizard Unveils a New Twist on Neural Networks</td><td>null</td><td>911.0</td><td>10.0</td><td>23</td><td>1</td><td>174</td><td>8400</td></tr><tr><td>and the part artificial intelligence has to play</td><td>null</td><td>971.0</td><td>5.0</td><td>17</td><td>2</td><td>127</td><td>5300</td></tr><tr><td>Feature Labs launches out of MIT to accelerate the development of machinelearning algorithms</td><td>null</td><td>458.0</td><td>1.0</td><td>0</td><td>2</td><td>61</td><td>2500</td></tr><tr><td>CometML wants to do for machine learning what GitHub did for code</td><td>null</td><td>458.0</td><td>3.0</td><td>0</td><td>3</td><td>19</td><td>757</td></tr><tr><td>Why it’s a big deal that AI knows how to bluff in poker</td><td>null</td><td>782.0</td><td>8.0</td><td>5</td><td>1</td><td>176</td><td>6400</td></tr><tr><td>Discussing the limits of artificial intelligence</td><td>null</td><td>2080.0</td><td>4.0</td><td>0</td><td>4</td><td>127</td><td>3600</td></tr><tr><td>Crean inteligencia artificial para evaluar incendios y catástrofes naturales</td><td>https://www.fayerwayer.com/2018/04/crean-inteligencia-artificial-evaluar-incendios-catastrofes-naturales</td><td>250.0</td><td>4.0</td><td>1</td><td>2</td><td>1</td><td>22</td></tr><tr><td>What's the difference between data science, machinelearning, and artificialintelligence?</td><td>http://varianceexplained.org/r/ds-ml-ai/</td><td>1763.0</td><td>1.0</td><td>29</td><td>1</td><td>105</td><td>2300</td></tr><tr><td>The Artificial Intelligence Startups Redefining Industries</td><td>null</td><td>650.0</td><td>10.0</td><td>0</td><td>3</td><td>133</td><td>2800</td></tr><tr><td>Top 20 PythonAI and MachineLearning Open Source Projects</td><td>https://www.kdnuggets.com/2018/02/top-20-python-ai-machine-learning-open-source-projects.html</td><td>1184.0</td><td>39.0</td><td>8</td><td>1</td><td>63</td><td>1300</td></tr><tr><td>5 Key Artificial IntelligencePredictions For 2018: HowMachine Learning Will Change Everything</td><td>https://www.forbes.com/sites/bernardmarr/2017/12/18/5-key-artificial-intelligence-predictions-for-2018-how-machine-learning-will-change-everything/</td><td>957.0</td><td>9.0</td><td>17</td><td>1</td><td>127</td><td>2500</td></tr><tr><td>Pythonovertakes R, becomes the leader in Data Science, MachineLearningplatforms</td><td>https://www.kdnuggets.com/2017/08/python-overtakes-r-leader-analytics-data-science.html</td><td>627.0</td><td>2.0</td><td>5</td><td>4</td><td>239</td><td>4500</td></tr><tr><td>¿Podremos crear máquinas verdaderamente inteligentes?</td><td>https://elpais.com/tecnologia/2018/03/27/actualidad/1522139782_730950.html</td><td>895.0</td><td>1.0</td><td>13</td><td>1</td><td>23</td><td>422</td></tr><tr><td>Artificial Intelligence Isn't Killing Jobs; It's Killing Business Models</td><td>null</td><td>1097.0</td><td>2.0</td><td>17</td><td>1</td><td>89</td><td>1600</td></tr><tr><td>10 Ways Machine Learning Is Revolutionizing Manufacturing In 2018</td><td>https://www.forbes.com/sites/louiscolumbus/2018/03/11/10-ways-machine-learning-is-revolutionizing-manufacturing-in-2018/#7199e52623ac</td><td>1262.0</td><td>10.0</td><td>17</td><td>10</td><td>44</td><td>715</td></tr><tr><td>10 Ways Machine Learning Is Revolutionizing Marketing</td><td>https://www.forbes.com/sites/louiscolumbus/2018/02/25/10-ways-machine-learning-is-revolutionizing-marketing/#4219d395bb64</td><td>1738.0</td><td>32.0</td><td>17</td><td>9</td><td>58</td><td>907</td></tr><tr><td>Top 10 Machine LearningAlgorithms for Beginners</td><td>null</td><td>1813.0</td><td>6.0</td><td>17</td><td>5</td><td>186</td><td>2800</td></tr><tr><td>A Tour of The Top 10 Algorithms for MachineLearning Newbies</td><td>null</td><td>2400.0</td><td>5.0</td><td>21</td><td>11</td><td>94</td><td>1300</td></tr><tr><td>What’s the difference betweenartificial intelligence, machinelearning, and deep learning? | Qualcomm</td><td>https://www.qualcomm.com/news/onq/2017/09/01/whats-difference-between-artificial-intelligence-machine-learning-and-deep</td><td>662.0</td><td>2.0</td><td>17</td><td>4</td><td>234</td><td>3000</td></tr><tr><td>How Quantum Computers Will Revolutionize ArtificialIntelligence, MachineLearning And Big Data</td><td>https://www.forbes.com/sites/bernardmarr/2017/09/05/how-quantum-computers-will-revolutionize-artificial-intelligence-machine-learning-and-big-data/</td><td>800.0</td><td>6.0</td><td>17</td><td>2</td><td>231</td><td>2800</td></tr><tr><td>Jack Ma: Artificialintelligence, machine learningmay cause World War III</td><td>http://www.businessinsider.com/alibaba-stock-price-jack-ma-artificial-intelligence-machine-learning-may-cause-world-war-iii-2017-6</td><td>367.0</td><td>5.0</td><td>17</td><td>1</td><td>307</td><td>3300</td></tr><tr><td>Google and MIT’s new machine learning algorithmsretouch your photos before you take them</td><td>null</td><td>507.0</td><td>8.0</td><td>13</td><td>2</td><td>265</td><td>2600</td></tr><tr><td>How to create a NeuralNetwork in JavaScript in only 30 lines of code</td><td>null</td><td>992.0</td><td>10.0</td><td>30</td><td>6</td><td>250</td><td>2300</td></tr><tr><td>PythonOvertakes R for Data Science and MachineLearning</td><td>https://www.datasciencecentral.com/profiles/blogs/python-overtakes-r-for-data-science-and-machine-learning</td><td>499.0</td><td>10.0</td><td>5</td><td>2</td><td>237</td><td>1400</td></tr><tr><td>Salesforce created an algorithm that automatically summarizes text using machine learning</td><td>null</td><td>619.0</td><td>10.0</td><td>3</td><td>1</td><td>345</td><td>1800</td></tr><tr><td>Construir inteligencia artificial que construya inteligencia artificial</td><td>https://www.nytimes.com/es/2017/11/07/inteligencia-artificial-auto-ml-google/</td><td>1152.0</td><td>8.0</td><td>17</td><td>3</td><td>168</td><td>867</td></tr><tr><td>MachineLearningWorkflows in Python from Scratch Part 1: Data Preparation</td><td>https://www.kdnuggets.com/2017/05/machine-learning-workflows-python-scratch-part-1.html</td><td>2363.0</td><td>4.0</td><td>17</td><td>4</td><td>330</td><td>1500</td></tr><tr><td>Por qué ‘machine learning’ sera la tecnología más importante en 2018</td><td>https://elpais.com/tecnologia/2017/11/28/actualidad/1511866764_933798.html</td><td>988.0</td><td>1.0</td><td>0</td><td>1</td><td>147</td><td>631</td></tr><tr><td>Get started with machinelearning using Python</td><td>https://www.analyticsvidhya.com/blog/2017/05/pydata-amsterdam-2017-machine-learning-deep-learning-data-science/</td><td>759.0</td><td>20.0</td><td>1</td><td>1</td><td>328</td><td>1200</td></tr><tr><td>MachineLearningExercises in Python: An Introductory Tutorial Series</td><td>https://www.kdnuggets.com/2017/07/machine-learning-exercises-python-introductory-tutorial-series.html</td><td>1098.0</td><td>8.0</td><td>17</td><td>3</td><td>272</td><td>950</td></tr><tr><td>22 talks from PyData 2017 | Deep Learning, MachineLearning & NLP</td><td>https://www.analyticsvidhya.com/blog/2017/05/pydata-amsterdam-2017-machine-learning-deep-learning-data-science/</td><td>2797.0</td><td>22.0</td><td>7</td><td>22</td><td>349</td><td>1200</td></tr><tr><td>La inteligencia artificial ya diagnostica enfermedades tan bien como los médicos</td><td>http://www.lavanguardia.com/ciencia/cuerpo-humano/20180223/44950677766/inteligencia-artificial-machine-learning-diagnosticar-enfermedades-medicos-eficiencia.html?platform=hootsuite</td><td>1120.0</td><td>2.0</td><td>0</td><td>4</td><td>60</td><td>196</td></tr><tr><td>Modern Machine LearningAlgorithms: Strengths and Weaknesses</td><td>null</td><td>2488.0</td><td>11.0</td><td>17</td><td>5</td><td>343</td><td>1100</td></tr><tr><td>Core ML and Vision: MachineLearning in iOS 11 Tutorial</td><td>https://www.raywenderlich.com/164213/coreml-and-vision-machine-learning-in-ios-11-tutorial</td><td>2049.0</td><td>12.0</td><td>23</td><td>7</td><td>319</td><td>668</td></tr><tr><td>Tutorial to deploy Machine Learning models in Production as APIs (using Flask)</td><td>https://www.analyticsvidhya.com/blog/2017/09/machine-learning-models-as-apis-using-flask/</td><td>2542.0</td><td>2.0</td><td>0</td><td>4</td><td>208</td><td>424</td></tr><tr><td>Getting the NDA out of the Way with Machine Learning</td><td>https://blog.bigml.com/2018/04/18/getting-the-nda-out-of-the-way-with-machine-learning/</td><td>1011.0</td><td>15.0</td><td>0</td><td>2</td><td>6</td><td>8</td></tr><tr><td>Tutorial on Automated MachineLearning using MLBox</td><td>https://www.analyticsvidhya.com/blog/2017/07/mlbox-library-automated-machine-learning/</td><td>2189.0</td><td>3.0</td><td>11</td><td>8</td><td>292</td><td>367</td></tr><tr><td>[Log] 0: Allegro.AI nabs $11M for ‘deep learning as a service’, for businesses to build computer vision products</td><td>[Log] 0: https://techcrunch.com/2018/04/25/allegro-ai-nabs-11m-for-a-platform-that-helps-businesses-build-computer-vision-based-services/</td><td>1864.0</td><td>6.0</td><td>12</td><td>2</td><td>1</td><td>42406</td></tr><tr><td>[Log] 1: Want to fool a computer vision system? Just tweak some colors</td><td>[Log] 1: https://techcrunch.com/2018/04/16/want-to-fool-a-computer-vision-system-just-tweak-some-colors/</td><td>990.0</td><td>6.0</td><td>7</td><td>3</td><td>2</td><td>1733</td></tr><tr><td>[Log] 2: UK report urges action to combat AI bias</td><td>[Log] 2: https://techcrunch.com/2018/04/16/uk-report-urges-action-to-combat-ai-bias/</td><td>1741.0</td><td>5.0</td><td>10</td><td>3</td><td>3</td><td>35691</td></tr><tr><td>[Log] 3: The 10 most exciting open source projects of 2018</td><td>[Log] 3: http://blog.honeypot.io/most-exciting-open-source-projects-2018/</td><td>1229.0</td><td>5.0</td><td>6</td><td>4</td><td>4</td><td>11061</td></tr><tr><td>[Log] 4: Why 2018 will be the year apps go to the edge</td><td>[Log] 4: https://techcrunch.com/2018/04/03/why-2018-will-be-the-year-apps-go-to-the-edge/</td><td>2975.0</td><td>3.0</td><td>0</td><td>2</td><td>5</td><td>51319</td></tr><tr><td>[Log] 5: Arm chips with Nvidia AI could change the Internet of Things</td><td>[Log] 5: https://techcrunch.com/2018/03/27/arm-chips-will-with-nvidia-ai-could-change-the-internet-of-things/</td><td>1864.0</td><td>1.0</td><td>10</td><td>4</td><td>6</td><td>30756</td></tr><tr><td>[Log] 6: Precious uses artificial intelligence to help parents figure out what to do with all their baby photos</td><td>[Log] 6: https://techcrunch.com/2018/03/27/precious-uses-artificial-intelligence-to-help-parents-figure-out-what-to-do-with-all-their-baby-photos/</td><td>2460.0</td><td>1.0</td><td>12</td><td>2</td><td>7</td><td>58425</td></tr><tr><td>[Log] 7: Learning To See – Making deep neural network predictions on live camera input</td><td>[Log] 7: http://www.creativeapplications.net/openframeworks/learning-to-see-making-deep-neural-network-predictions-on-live-camera-input/</td><td>2136.0</td><td>5.0</td><td>9</td><td>3</td><td>8</td><td>48060</td></tr><tr><td>[Log] 8: IBM launches deep learning as a service inside its Watson Studio</td><td>[Log] 8: https://techcrunch.com/2018/03/19/ibm-launches-deep-learning-as-a-service-inside-its-watson-studio/</td><td>2833.0</td><td>7.0</td><td>0</td><td>2</td><td>9</td><td>0</td></tr><tr><td>[Log] 9: Here are 64 startups that launched today at Y Combinator’s W18 Demo Day</td><td>[Log] 9: https://techcrunch.com/2018/03/19/here-are-64-startups-that-launched-today-at-y-combinators-w18-demo-day/</td><td>1995.0</td><td>7.0</td><td>6</td><td>6</td><td>10</td><td>4988</td></tr><tr><td>[Log] 10: Voicery makes synthesized voices sound more like humans</td><td>[Log] 10: https://techcrunch.com/2018/03/14/voicery-makes-synthesized-voices-sound-more-like-humans/</td><td>2332.0</td><td>5.0</td><td>1</td><td>6</td><td>11</td><td>27984</td></tr><tr><td>[Log] 11: MIT’s new chip could bring neural nets to battery-powered gadgets</td><td>[Log] 11: https://techcrunch.com/2018/02/14/mits-new-chip-could-bring-neural-nets-to-battery-powered-gadgets/?ncid=rss</td><td>1998.0</td><td>6.0</td><td>3</td><td>3</td><td>12</td><td>45455</td></tr><tr><td>[Log] 12: Ingenieros de la Universidad de Chile sofistican mecanismos para interactuar con robots</td><td>[Log] 12: https://www.fayerwayer.com/2018/01/universidad-chile-interactuar-robots/</td><td>3442.0</td><td>3.0</td><td>9</td><td>2</td><td>13</td><td>76585</td></tr><tr><td>[Log] 13: Sleep deprivation is making product teams age faster and think slower</td><td>[Log] 13: https://mixpanel.com/blog/2018/01/11/well-slept-teams-build-better-products/</td><td>2696.0</td><td>6.0</td><td>5</td><td>1</td><td>14</td><td>24264</td></tr><tr><td>[Log] 14: Frank Chen will make you a believer in AI</td><td>[Log] 14: https://mixpanel.com/blog/2017/12/12/frank-chen-ai-andreessen-horowitz/</td><td>1913.0</td><td>5.0</td><td>1</td><td>6</td><td>15</td><td>5261</td></tr><tr><td>[Log] 15: Story roundup: data to be grateful for this holiday season</td><td>[Log] 15: https://mixpanel.com/blog/2017/11/22/story-roundup-data-to-be-grateful-for/</td><td>1858.0</td><td>8.0</td><td>5</td><td>2</td><td>16</td><td>25548</td></tr><tr><td>[Log] 16: Story roundup: data to be grateful for this holiday season</td><td>[Log] 16: https://mxpnlcms.wpengine.com/blog/2017/11/22/story-roundup-data-to-be-grateful-for/</td><td>2457.0</td><td>3.0</td><td>3</td><td>4</td><td>17</td><td>0</td></tr><tr><td>[Log] 17: Aprendizaje Profundo: una Guía rápida</td><td>[Log] 17: http://www.aprendemachinelearning.com/aprendizaje-profundo-una-guia-rapida/</td><td>2592.0</td><td>1.0</td><td>12</td><td>6</td><td>18</td><td>56376</td></tr><tr><td>[Log] 18: Principales Algoritmos usados en Machine Learning</td><td>[Log] 18: http://www.aprendemachinelearning.com/principales-algoritmos-usados-en-machine-learning/</td><td>1718.0</td><td>2.0</td><td>12</td><td>2</td><td>19</td><td>13315</td></tr><tr><td>[Log] 19: Aplicaciones del Machine Learning</td><td>[Log] 19: http://www.aprendemachinelearning.com/aplicaciones-del-machine-learning/</td><td>1293.0</td><td>8.0</td><td>7</td><td>6</td><td>20</td><td>27476</td></tr><tr><td>[Log] 20: Mapbox acquires neural network startup Mapdata to help it expand into AR maps</td><td>[Log] 20: https://techcrunch.com/2017/11/03/mapbox-acquires-mapdata-to-help-it-expand-into-ar-maps/?ncid=rss</td><td>3023.0</td><td>7.0</td><td>6</td><td>1</td><td>21</td><td>55170</td></tr><tr><td>[Log] 21: How video game tech makes neural networks possible</td><td>[Log] 21: https://techcrunch.com/2017/10/27/how-video-game-tech-makes-neural-networks-possible/?ncid=rss</td><td>3485.0</td><td>2.0</td><td>10</td><td>6</td><td>22</td><td>871</td></tr><tr><td>[Log] 22: Google introduces Neural Networks API in developer preview of Android 8.1</td><td>[Log] 22: https://techcrunch.com/2017/10/25/google-introduces-neural-networks-api-in-developer-preview-of-android-8-1/?ncid=rss</td><td>2093.0</td><td>3.0</td><td>14</td><td>2</td><td>23</td><td>39767</td></tr><tr><td>[Log] 23: The Brain and Body Are Really One, Especially When It Comes to Emotions</td><td>[Log] 23: http://www.blog-thebrain.org/advanced/2017/10/11/the-brain-and-body-are-really-one-especially-when-it-comes-to-emotions/</td><td>1490.0</td><td>7.0</td><td>0</td><td>1</td><td>24</td><td>16390</td></tr><tr><td>[Log] 24: The Brain: The History of an Organ Like No Other</td><td>[Log] 24: http://www.blog-thebrain.org/advanced/2017/09/26/1395/</td><td>1238.0</td><td>6.0</td><td>8</td><td>5</td><td>25</td><td>23832</td></tr><tr><td>[Log] 25: Apple’s new TrueDepth Camera System and its Implications</td><td>[Log] 25: https://www.cygnismedia.com/blog/true-depth-camera-system/</td><td>2583.0</td><td>1.0</td><td>8</td><td>6</td><td>26</td><td>12269</td></tr><tr><td>[Log] 26: Frank Lessons on AI from the Developer of the World’s First Hotdog Recognizer</td><td>[Log] 26: https://mxpnlcms.wpengine.com/blog/2017/08/31/frank-lessons-on-ai-from-tim-anglade/</td><td>1007.0</td><td>2.0</td><td>7</td><td>6</td><td>27</td><td>10574</td></tr><tr><td>[Log] 27: Humans Are the Product of Dynamic Processes on Multiple Time Scales</td><td>[Log] 27: http://www.blog-thebrain.org/advanced/2017/08/21/humans-are-the-product-of-dynamic-processes-on-multiple-time-scales/</td><td>978.0</td><td>8.0</td><td>0</td><td>1</td><td>28</td><td>24206</td></tr><tr><td>[Log] 28: Prisma shifts focus to b2b with an API for AI-powered mobile effects</td><td>[Log] 28: https://techcrunch.com/2017/08/19/prisma-shifts-focus-to-b2b-with-an-api-for-ai-powered-mobile-effects/?ncid=rss</td><td>3019.0</td><td>5.0</td><td>3</td><td>2</td><td>29</td><td>13586</td></tr><tr><td>[Log] 30: Facebook finishes its move to neural machine translation</td><td>[Log] 30: https://techcrunch.com/2017/08/03/facebook-finishes-its-move-to-neural-machine-translation/?ncid=rss</td><td>2347.0</td><td>5.0</td><td>3</td><td>1</td><td>31</td><td>21123</td></tr><tr><td>[Log] 31: What you should know about AI</td><td>[Log] 31: https://techcrunch.com/2017/08/01/what-you-should-know-about-ai/?ncid=rss</td><td>2224.0</td><td>8.0</td><td>2</td><td>3</td><td>32</td><td>32248</td></tr><tr><td>[Log] 32: HBO’s Silicon Valley on A.I. driven products: Not HotDog</td><td>[Log] 32: https://mxpnlcms.wpengine.com/blog/2017/07/27/ai-driven-products-hbo-silicon-valley/</td><td>1778.0</td><td>4.0</td><td>11</td><td>6</td><td>33</td><td>8001</td></tr><tr><td>[Log] 33: Why the future of deep learning depends on finding good data</td><td>[Log] 33: https://techcrunch.com/2017/07/21/why-the-future-of-deep-learning-depends-on-finding-good-data/?ncid=rss</td><td>1150.0</td><td>6.0</td><td>3</td><td>4</td><td>34</td><td>23288</td></tr><tr><td>[Log] 34: MIT is building a system that can identify a recipe using pictures of food</td><td>[Log] 34: https://techcrunch.com/2017/07/20/mit-is-building-a-system-that-can-identify-a-recipe-using-pictures-of-food/?ncid=rss</td><td>2528.0</td><td>5.0</td><td>6</td><td>2</td><td>35</td><td>53720</td></tr><tr><td>[Log] 35: Apple launches machine learning research site</td><td>[Log] 35: https://techcrunch.com/2017/07/19/apple-launches-machine-learning-research-site/?ncid=rss</td><td>2486.0</td><td>1.0</td><td>13</td><td>6</td><td>36</td><td>53449</td></tr><tr><td>[Log] 36: Metaphors for the Brain’s Anatomy and Functioning</td><td>[Log] 36: http://www.blog-thebrain.org/advanced/2017/07/14/1362/</td><td>2317.0</td><td>7.0</td><td>8</td><td>5</td><td>37</td><td>52712</td></tr><tr><td>[Log] 37: Computed Curation – Curating photography with neural networks</td><td>[Log] 37: http://www.creativeapplications.net/js/computed-curation-curating-photography-with-neural-networks/</td><td>2369.0</td><td>3.0</td><td>5</td><td>2</td><td>38</td><td>39681</td></tr><tr><td>[Log] 38: MIT CSAIL research offers a fully automated way to peer inside neural nets</td><td>[Log] 38: https://techcrunch.com/2017/06/30/mit-csail-research-offers-a-fully-automated-way-to-peer-inside-neural-nets/?ncid=rss</td><td>1612.0</td><td>5.0</td><td>5</td><td>2</td><td>39</td><td>39091</td></tr><tr><td>[Log] 39: Microsoft launches a new service for training deep neural networks on Azure</td><td>[Log] 39: https://techcrunch.com/2017/05/10/microsoft-launches-a-new-service-for-training-deep-neural-networks-on-azure/?ncid=rss</td><td>1136.0</td><td>6.0</td><td>14</td><td>3</td><td>40</td><td>28116</td></tr><tr><td>[Log] 40: Someone scraped 40,000 Tinder selfies to make a facial dataset for AI experiments</td><td>[Log] 40: https://techcrunch.com/2017/04/28/someone-scraped-40000-tinder-selfies-to-make-a-facial-dataset-for-ai-experiments/?ncid=rss</td><td>2721.0</td><td>3.0</td><td>14</td><td>6</td><td>41</td><td>25850</td></tr><tr><td>[Log] 41: 10 Machine Learning Examples in JavaScript</td><td>[Log] 41: http://tutorialzine.com/2017/04/10-machine-learning-examples-in-javascript/</td><td>3480.0</td><td>1.0</td><td>14</td><td>3</td><td>42</td><td>20880</td></tr><tr><td>[Log] 42: Neural networks made easy</td><td>[Log] 42: https://techcrunch.com/2017/04/13/neural-networks-made-easy/?ncid=rss</td><td>1143.0</td><td>8.0</td><td>5</td><td>6</td><td>43</td><td>17145</td></tr><tr><td>[Log] 43: Google DeepMind open sources Sonnet so you can build neural networks in TensorFlow even quicker</td><td>[Log] 43: https://techcrunch.com/2017/04/07/google-deepmind-open-sources-sonnet-so-you-can-build-neural-networks-in-tensorflow-even-quicker/?ncid=rss</td><td>2428.0</td><td>4.0</td><td>10</td><td>3</td><td>44</td><td>57058</td></tr><tr><td>[Log] 44: Google’s smarter, A.I.-powered translation system expands to more languages</td><td>[Log] 44: https://techcrunch.com/2017/03/06/googles-smarter-a-i-powered-translation-system-expands-to-more-languages/?ncid=rss</td><td>2877.0</td><td>4.0</td><td>2</td><td>6</td><td>45</td><td>19420</td></tr><tr><td>[Log] 45: Mark Zuckerberg’s ‘Jarvis’ Addresses AI’s Biggest Challenges</td><td>[Log] 45: https://www.cygnismedia.com/blog/artificial-intelligence-challenges/</td><td>776.0</td><td>1.0</td><td>7</td><td>6</td><td>46</td><td>3298</td></tr><tr><td>[Log] 46: Embark’s self-driving truck is ready to assist human drivers</td><td>[Log] 46: https://techcrunch.com/2017/02/24/embarks-self-driving-truck-is-ready-to-assist-human-drivers/?ncid=rss</td><td>1284.0</td><td>8.0</td><td>5</td><td>2</td><td>47</td><td>31137</td></tr><tr><td>\"[Log] 47: \"\"Zoom</td><td> Enhance\"\" Could Become a Reality</td><td>1812.40625</td><td>9.7625</td><td>1145</td><td>6</td><td>11</td><td>2</td></tr><tr><td>[Log] 48: FaceApp uses neural networks for photorealistic selfie tweaks</td><td>[Log] 48: https://techcrunch.com/2017/02/08/faceapp-uses-neural-networks-for-photorealistic-selfie-tweaks/?ncid=rss</td><td>1793.0</td><td>7.0</td><td>13</td><td>4</td><td>49</td><td>34515</td></tr><tr><td>[Log] 49: Mark Cuban on Why You Need to Study Artificial Intelligence or You’ll be a Dinosaur in 3 Years</td><td>[Log] 49: https://bothsidesofthetable.com/mark-cuban-on-why-you-need-to-study-artificial-intelligence-or-youll-be-a-dinosaur-in-3-years-db3447bea1b4?source=rss----97f98e5df342---4</td><td>2904.0</td><td>7.0</td><td>14</td><td>1</td><td>50</td><td>7260</td></tr><tr><td>[Log] 50: A First Brain-Imaging Study on the Effects of LSD</td><td>[Log] 50: http://www.blog-thebrain.org/advanced/2017/01/09/1281/</td><td>1473.0</td><td>3.0</td><td>14</td><td>3</td><td>51</td><td>0</td></tr><tr><td>[Log] 51: Mark Zuckerberg’s ‘Jarvis’ Addresses AI’s Biggest Challenges</td><td>[Log] 51: http://www.cygnismedia.com/blog/artificial-intelligence-challenges/</td><td>2894.0</td><td>5.0</td><td>6</td><td>3</td><td>52</td><td>23152</td></tr><tr><td>[Log] 52: Some Amazing Predictions Based on Brain Connectivity</td><td>[Log] 52: http://www.blog-thebrain.org/advanced/2016/12/12/some-amazing-predictions-based-on-brain-connectivity/</td><td>1932.0</td><td>7.0</td><td>0</td><td>2</td><td>53</td><td>30912</td></tr><tr><td>[Log] 53: Google’s AI Experiments help you understand neural networks by playing with them</td><td>[Log] 53: http://feedproxy.google.com/~r/Techcrunch/~3/WUoKqCnvY5M/</td><td>3225.0</td><td>1.0</td><td>4</td><td>3</td><td>54</td><td>34669</td></tr><tr><td>[Log] 54: Facebook Caffe2Go Deep-Learning System Powers Video ‘Style Transfer’ Test</td><td>[Log] 54: http://www.adweek.com/socialtimes/caffe2go/647127</td><td>3185.0</td><td>4.0</td><td>6</td><td>5</td><td>55</td><td>12740</td></tr><tr><td>[Log] 55: Is Machine Learning the Big Bad Wolf of Media? Whisper doesn’t think so.</td><td>[Log] 55: https://blog.mixpanel.com/2016/11/08/whisper-machine-learning/</td><td>2068.0</td><td>7.0</td><td>3</td><td>2</td><td>56</td><td>36707</td></tr><tr><td>[Log] 56: Os nosos centros tecnolóxicos e de investigación presentan este xoves no CESGA os seus avances en tecnoloxías intelixentes</td><td>[Log] 56: http://www.codigocero.com/Os-nosos-centros-tecnoloxicos-e-de-investigacion-presentan-este-xoves-no-CESGA</td><td>2354.0</td><td>1.0</td><td>8</td><td>4</td><td>57</td><td>1177</td></tr><tr><td>[Log] 57: Psychologist Scans Own Brain Twice per Week for a Year and a Half</td><td>[Log] 57: http://www.blog-thebrain.org/advanced/2016/10/20/psychologist-scans-own-brain-twice-per-week-for-a-year-and-a-half/</td><td>2921.0</td><td>1.0</td><td>13</td><td>4</td><td>58</td><td>48927</td></tr><tr><td>[Log] 58: Deep learning takes on GIFs, fashion, doodles and more at ACM Multimedia</td><td>[Log] 58: http://feedproxy.google.com/~r/Techcrunch/~3/HZlZ28umjr4/</td><td>2211.0</td><td>8.0</td><td>7</td><td>3</td><td>59</td><td>11055</td></tr><tr><td>[Log] 59: A xornada sobre Machine Learning do CESGA abranguerá máis de dúas ducias de relatorios</td><td>[Log] 59: http://www.codigocero.com/A-xornada-sobre-Machine-Learning-do-CESGA-abranguera-mais-de-duas-ducias-de</td><td>2865.0</td><td>3.0</td><td>8</td><td>6</td><td>60</td><td>49421</td></tr><tr><td>[Log] 60: Google unleashes deep learning tech on language with Neural Machine Translation</td><td>[Log] 60: http://feedproxy.google.com/~r/Techcrunch/~3/YEhcHjfYfYs/</td><td>1674.0</td><td>5.0</td><td>2</td><td>2</td><td>61</td><td>23018</td></tr><tr><td>[Log] 61: Facebook’s Artificial Intelligence Research lab releases open source fastText on GitHub</td><td>[Log] 61: http://feedproxy.google.com/~r/Techcrunch/~3/ROB5oi8KuFI/</td><td>2282.0</td><td>1.0</td><td>1</td><td>3</td><td>62</td><td>54198</td></tr><tr><td>[Log] 62: Hearing is like seeing for our brains and for machines</td><td>[Log] 62: http://feedproxy.google.com/~r/Techcrunch/~3/E4r0_mb2r9E/</td><td>2636.0</td><td>3.0</td><td>10</td><td>2</td><td>63</td><td>659</td></tr><tr><td>[Log] 63: The hard thing about machine learning</td><td>[Log] 63: https://blog.mixpanel.com/2016/08/03/hard-thing-about-machine-learning/</td><td>774.0</td><td>3.0</td><td>1</td><td>1</td><td>64</td><td>16641</td></tr><tr><td>[Log] 64: Convolutional Neural Networks in iOS 10 and macOS</td><td>[Log] 64: http://invasivecode.tumblr.com/post/147955476650</td><td>1030.0</td><td>8.0</td><td>11</td><td>1</td><td>65</td><td>19828</td></tr><tr><td>[Log] 65: Researchers use neural networks to turn face sketches into photos</td><td>[Log] 65: http://feedproxy.google.com/~r/Techcrunch/~3/CXC0RaDqeKo/</td><td>734.0</td><td>8.0</td><td>9</td><td>2</td><td>66</td><td>15047</td></tr><tr><td>[Log] 66: Machine Learning in Swift for iOS</td><td>[Log] 66: http://invasivecode.tumblr.com/post/146272280155</td><td>743.0</td><td>3.0</td><td>5</td><td>4</td><td>67</td><td>16160</td></tr><tr><td>[Log] 67: Introducing Gravity Jack Research: An Inside Look At The Heart of Our Innovation Center</td><td>[Log] 67: https://gravityjack.com/news/gravity-jack-research-inside-look/</td><td>1514.0</td><td>2.0</td><td>7</td><td>1</td><td>68</td><td>34065</td></tr><tr><td>[Log] 68: Twitter pays up to $150M for Magic Pony Technology, which uses neural networks to improve images</td><td>[Log] 68: http://feedproxy.google.com/~r/Techcrunch/~3/YL8NcsD8nog/</td><td>2854.0</td><td>3.0</td><td>8</td><td>2</td><td>69</td><td>17124</td></tr><tr><td>[Log] 69: Learn deeply, but baby, don’t fear the Skynet</td><td>[Log] 69: http://feedproxy.google.com/~r/Techcrunch/~3/Y2-DiQSRzRo/</td><td>1443.0</td><td>5.0</td><td>12</td><td>4</td><td>70</td><td>15512</td></tr><tr><td>[Log] 70: Neural networks: Artificial intelligence and our future</td><td>[Log] 70: http://feedproxy.google.com/~r/Techcrunch/~3/vt6py_Preqg/</td><td>1817.0</td><td>5.0</td><td>13</td><td>2</td><td>71</td><td>9085</td></tr><tr><td>[Log] 72: What Should We Do With All of That Content?</td><td>[Log] 72: http://www.adweek.com/socialtimes/what-should-we-do-with-all-of-that-content/638662</td><td>1266.0</td><td>6.0</td><td>4</td><td>2</td><td>73</td><td>16458</td></tr><tr><td>[Log] 73: ¿Qué es el Machine Learning?</td><td>[Log] 73: http://jarroba.com/que-es-el-machine-learning/</td><td>2275.0</td><td>4.0</td><td>2</td><td>6</td><td>74</td><td>55738</td></tr><tr><td>[Log] 74: Magic Pony’s neural network dreams up new imagery to expand an existing picture</td><td>[Log] 74: http://feedproxy.google.com/~r/Techcrunch/~3/V2vOBiN91Y8/</td><td>1264.0</td><td>1.0</td><td>1</td><td>5</td><td>75</td><td>18012</td></tr><tr><td>[Log] 75: From recording to reacting: Neural networks are changing notions of surveillance</td><td>[Log] 75: http://feedproxy.google.com/~r/Techcrunch/~3/-ELdi2uNQ2A/</td><td>2212.0</td><td>3.0</td><td>13</td><td>6</td><td>76</td><td>35392</td></tr><tr><td>[Log] 76: NVIDIA announces a supercomputer aimed at deep learning and AI</td><td>[Log] 76: http://feedproxy.google.com/~r/Techcrunch/~3/3zv0iKyNavw/</td><td>1871.0</td><td>6.0</td><td>14</td><td>4</td><td>77</td><td>26194</td></tr><tr><td>[Log] 77: Following Artificial Intelligence Breakthrough, European Go Champion Loses Against Computer</td><td>[Log] 77: http://feedproxy.google.com/~r/Techcrunch/~3/R83TWzcalgI/</td><td>2513.0</td><td>7.0</td><td>3</td><td>4</td><td>78</td><td>55914</td></tr><tr><td>[Log] 78: Years & Years Releases Music Video Created With Google’s DeepDream Technology</td><td>[Log] 78: http://feedproxy.google.com/~r/Techcrunch/~3/WH1cezmHceA/</td><td>1443.0</td><td>7.0</td><td>8</td><td>1</td><td>79</td><td>3968</td></tr><tr><td>[Log] 79: Facebook Updates Progress on Artificial Intelligence</td><td>[Log] 79: http://www.adweek.com/socialtimes/artificial-intelligence-update/629412</td><td>912.0</td><td>5.0</td><td>14</td><td>6</td><td>80</td><td>1824</td></tr><tr><td>[Log] 80: On Neuromarketing and Conversions – Interview with Tim Ash [+Webinar]</td><td>[Log] 80: http://blog.getresponse.com/on-neuromarketing-and-conversions-interview-with-tim-ash-webinar.html</td><td>2366.0</td><td>2.0</td><td>12</td><td>1</td><td>81</td><td>2958</td></tr><tr><td>[Log] 81: Understanding Artificial Intelligence &#8211; and Why We Fear It</td><td>[Log] 81: http://rss.feedsportal.com/c/35261/f/656072/s/481c0ec8/sc/14/l/0L0Shongkiat0N0Cblog0Cunderstanding0Eartificial0Eintelligence0C/story01.htm</td><td>1542.0</td><td>6.0</td><td>1</td><td>6</td><td>82</td><td>22359</td></tr><tr><td>[Log] 82: The “Coming Out” of the Electrical Synapse</td><td>[Log] 82: http://www.blog-thebrain.org/advanced/2015/03/14/988/</td><td>1201.0</td><td>1.0</td><td>0</td><td>1</td><td>83</td><td>8707</td></tr><tr><td>[Log] 83: How Google Uses Machine Learning And Neural Networks To Optimize Data Centers</td><td>[Log] 83: http://feedproxy.google.com/~r/Techcrunch/~3/pqloDGxiqb8/</td><td>3239.0</td><td>3.0</td><td>11</td><td>1</td><td>84</td><td>3239</td></tr><tr><td>[Log] 84: Zuck Knows If You've Been Bad Or Good, So Be Good For Goodness' Sake</td><td>[Log] 84: http://feedproxy.google.com/~r/Techcrunch/~3/tFA-5Utj6vA/</td><td>2566.0</td><td>3.0</td><td>8</td><td>4</td><td>85</td><td>25019</td></tr><tr><td>[Log] 85: Microsoft Improves Windows Phone Voice Recognition: 2X Faster, 15% More Accurate</td><td>[Log] 85: http://feedproxy.google.com/~r/Techcrunch/~3/8me_bd7gHv0/</td><td>2089.0</td><td>4.0</td><td>4</td><td>1</td><td>86</td><td>49614</td></tr><tr><td>[Log] 86: How Google's Acquisition Of DNNresearch Allowed It To Build Its Impressive Google+ Photo Search In 6 Months</td><td>[Log] 86: http://feedproxy.google.com/~r/Techcrunch/~3/vW_ie-I_fss/</td><td>1530.0</td><td>4.0</td><td>12</td><td>3</td><td>87</td><td>33660</td></tr><tr><td>[Log] 87: Google's Cloud Is Eating Apple's Lunch</td><td>[Log] 87: http://feedproxy.google.com/~r/Techcrunch/~3/gRBLqOod1rs/</td><td>953.0</td><td>6.0</td><td>13</td><td>2</td><td>88</td><td>5956</td></tr></tbody></table></div>"
      ]
     },
     "metadata": {
      "application/vnd.databricks.v1+output": {
       "addedWidgets": {},
       "aggData": [],
       "aggError": "",
       "aggOverflow": false,
       "aggSchema": [],
       "aggSeriesLimitReached": false,
       "aggType": "",
       "arguments": {},
       "columnCustomDisplayInfos": {},
       "data": [
        [
         "10 Companies Using Machine Learning in Cool Ways",
         null,
         1742.0,
         9.0,
         17,
         9,
         5,
         25000
        ],
        [
         "How Artificial Intelligence Is Revolutionizing the Sector",
         null,
         962.0,
         6.0,
         0,
         1,
         10,
         42000
        ],
        [
         "5 ways Data Science and Machine Learning impact business",
         null,
         761.0,
         0.0,
         17,
         1,
         14,
         21000
        ],
        [
         "How Machine Learning can help Cryptocurrency Traders Maximize their Gains",
         "https://cryptovest.com/news/how-machine-learning-can-help-cryptocurrency-traders-maximize-their-gains/?utm_source=SocialAnimal&utm_medium=referral",
         753.0,
         3.0,
         0,
         1,
         78,
         77000
        ],
        [
         "Tech companies should stop pretending AI won’t destroy jobs",
         "https://www.technologyreview.com/s/610298/tech-companies-should-stop-pretending-ai-wont-destroy-jobs/",
         1118.0,
         2.0,
         17,
         1,
         62,
         59400
        ],
        [
         "Artificial intelligence is going to completely change your life",
         null,
         1581.0,
         4.0,
         17,
         2,
         60,
         35000
        ],
        [
         "Google CEO Sundar Pichai says AI is more profound than electricity or fire",
         null,
         256.0,
         0.0,
         27,
         1,
         95,
         29000
        ],
        [
         "How machine learning is changing the financial industry",
         null,
         1267.0,
         2.0,
         17,
         4,
         124,
         37000
        ],
        [
         "New AI can work out whether you're gay or straight from a photograph",
         "https://www.theguardian.com/technology/2017/sep/07/new-artificial-intelligence-can-tell-whether-youre-gay-or-straight-from-a-photograph",
         971.0,
         10.0,
         17,
         1,
         228,
         67300
        ],
        [
         "Researchers have linked a human brain to the Internet for the first time ever",
         "https://futurism.com/researchers-have-linked-a-human-brain-to-the-internet-for-the-first-time-ever/",
         369.0,
         6.0,
         17,
         1,
         222,
         60100
        ],
        [
         "Who’s a good AI? Dog-based data creates a canine machine learning system",
         "https://techcrunch.com/2018/04/11/whos-a-good-ai-dog-based-data-creates-a-canine-machine-learning-system/",
         635.0,
         3.0,
         1,
         2,
         12,
         3200
        ],
        [
         "Which One to Choose for Your Problem",
         null,
         1631.0,
         6.0,
         6,
         9,
         180,
         37000
        ],
        [
         "A computer was asked to predict which start-ups would be successful. The results were astonishing",
         null,
         571.0,
         4.0,
         17,
         1,
         277,
         55000
        ],
        [
         "AI Is Inventing Languages Humans Can’t Understand. Should We Stop It?",
         "https://www.fastcodesign.com/90132632/ai-is-inventing-its-own-perfect-languages-should-we-let-it",
         1333.0,
         8.0,
         17,
         4,
         284,
         54800
        ],
        [
         "An Artificial Intelligence Developed Its Own Non-Human Language",
         "https://www.theatlantic.com/technology/archive/2017/06/artificial-intelligence-develops-its-own-non-human-language/530436/",
         364.0,
         5.0,
         17,
         2,
         313,
         54600
        ],
        [
         "Denmark's largest bank is using AI and machine learning to ‘tear everything apart’ – and it’s starting to pay off",
         null,
         515.0,
         2.0,
         17,
         5,
         173,
         27000
        ],
        [
         "How Artificial Intelligence Is Key for Autonomous Vehicle Development",
         null,
         1135.0,
         8.0,
         0,
         1,
         146,
         20000
        ],
        [
         "Machine Learning Zone: OpenAI competition takes on Sonic the Hedgehog",
         null,
         666.0,
         4.0,
         0,
         3,
         18,
         2400
        ],
        [
         "Reverie Labs uses new machine learning algorithms to fix drug development bottlenecks",
         null,
         787.0,
         4.0,
         0,
         1,
         39,
         3800
        ],
        [
         "Machine Learning Applied to Big Data, Explained",
         null,
         421.0,
         2.0,
         17,
         1,
         277,
         26000
        ],
        [
         "Physicists have discovered what makes neural networks so extraordinarily powerful",
         null,
         1065.0,
         1.0,
         19,
         1,
         171,
         14000
        ],
        [
         "A deep-learning machine was trained to spot criminals by looking at mugshots",
         null,
         908.0,
         2.0,
         17,
         1,
         226,
         14000
        ],
        [
         "Getting Value from MachineLearning Isn’t About Fancier Algorithms — It’s About Making It Easier to Use",
         null,
         1260.0,
         6.0,
         4,
         1,
         49,
         3000
        ],
        [
         "The Amazing Ways Tesla Is Using Artificial Intelligence And Big Data",
         null,
         950.0,
         6.0,
         17,
         1,
         106,
         5600
        ],
        [
         "10 Machine LearningAlgorithms You Should Know to Become a Data Scientist - DZone AI",
         null,
         1761.0,
         49.0,
         4,
         10,
         30,
         1500
        ],
        [
         "Google’s Artificial-Intelligence Wizard Unveils a New Twist on Neural Networks",
         null,
         911.0,
         10.0,
         23,
         1,
         174,
         8400
        ],
        [
         "and the part artificial intelligence has to play",
         null,
         971.0,
         5.0,
         17,
         2,
         127,
         5300
        ],
        [
         "Feature Labs launches out of MIT to accelerate the development of machinelearning algorithms",
         null,
         458.0,
         1.0,
         0,
         2,
         61,
         2500
        ],
        [
         "CometML wants to do for machine learning what GitHub did for code",
         null,
         458.0,
         3.0,
         0,
         3,
         19,
         757
        ],
        [
         "Why it’s a big deal that AI knows how to bluff in poker",
         null,
         782.0,
         8.0,
         5,
         1,
         176,
         6400
        ],
        [
         "Discussing the limits of artificial intelligence",
         null,
         2080.0,
         4.0,
         0,
         4,
         127,
         3600
        ],
        [
         "Crean inteligencia artificial para evaluar incendios y catástrofes naturales",
         "https://www.fayerwayer.com/2018/04/crean-inteligencia-artificial-evaluar-incendios-catastrofes-naturales",
         250.0,
         4.0,
         1,
         2,
         1,
         22
        ],
        [
         "What's the difference between data science, machinelearning, and artificialintelligence?",
         "http://varianceexplained.org/r/ds-ml-ai/",
         1763.0,
         1.0,
         29,
         1,
         105,
         2300
        ],
        [
         "The Artificial Intelligence Startups Redefining Industries",
         null,
         650.0,
         10.0,
         0,
         3,
         133,
         2800
        ],
        [
         "Top 20 PythonAI and MachineLearning Open Source Projects",
         "https://www.kdnuggets.com/2018/02/top-20-python-ai-machine-learning-open-source-projects.html",
         1184.0,
         39.0,
         8,
         1,
         63,
         1300
        ],
        [
         "5 Key Artificial IntelligencePredictions For 2018: HowMachine Learning Will Change Everything",
         "https://www.forbes.com/sites/bernardmarr/2017/12/18/5-key-artificial-intelligence-predictions-for-2018-how-machine-learning-will-change-everything/",
         957.0,
         9.0,
         17,
         1,
         127,
         2500
        ],
        [
         "Pythonovertakes R, becomes the leader in Data Science, MachineLearningplatforms",
         "https://www.kdnuggets.com/2017/08/python-overtakes-r-leader-analytics-data-science.html",
         627.0,
         2.0,
         5,
         4,
         239,
         4500
        ],
        [
         "¿Podremos crear máquinas verdaderamente inteligentes?",
         "https://elpais.com/tecnologia/2018/03/27/actualidad/1522139782_730950.html",
         895.0,
         1.0,
         13,
         1,
         23,
         422
        ],
        [
         "Artificial Intelligence Isn't Killing Jobs; It's Killing Business Models",
         null,
         1097.0,
         2.0,
         17,
         1,
         89,
         1600
        ],
        [
         "10 Ways Machine Learning Is Revolutionizing Manufacturing In 2018",
         "https://www.forbes.com/sites/louiscolumbus/2018/03/11/10-ways-machine-learning-is-revolutionizing-manufacturing-in-2018/#7199e52623ac",
         1262.0,
         10.0,
         17,
         10,
         44,
         715
        ],
        [
         "10 Ways Machine Learning Is Revolutionizing Marketing",
         "https://www.forbes.com/sites/louiscolumbus/2018/02/25/10-ways-machine-learning-is-revolutionizing-marketing/#4219d395bb64",
         1738.0,
         32.0,
         17,
         9,
         58,
         907
        ],
        [
         "Top 10 Machine LearningAlgorithms for Beginners",
         null,
         1813.0,
         6.0,
         17,
         5,
         186,
         2800
        ],
        [
         "A Tour of The Top 10 Algorithms for MachineLearning Newbies",
         null,
         2400.0,
         5.0,
         21,
         11,
         94,
         1300
        ],
        [
         "What’s the difference betweenartificial intelligence, machinelearning, and deep learning? | Qualcomm",
         "https://www.qualcomm.com/news/onq/2017/09/01/whats-difference-between-artificial-intelligence-machine-learning-and-deep",
         662.0,
         2.0,
         17,
         4,
         234,
         3000
        ],
        [
         "How Quantum Computers Will Revolutionize ArtificialIntelligence, MachineLearning And Big Data",
         "https://www.forbes.com/sites/bernardmarr/2017/09/05/how-quantum-computers-will-revolutionize-artificial-intelligence-machine-learning-and-big-data/",
         800.0,
         6.0,
         17,
         2,
         231,
         2800
        ],
        [
         "Jack Ma: Artificialintelligence, machine learningmay cause World War III",
         "http://www.businessinsider.com/alibaba-stock-price-jack-ma-artificial-intelligence-machine-learning-may-cause-world-war-iii-2017-6",
         367.0,
         5.0,
         17,
         1,
         307,
         3300
        ],
        [
         "Google and MIT’s new machine learning algorithmsretouch your photos before you take them",
         null,
         507.0,
         8.0,
         13,
         2,
         265,
         2600
        ],
        [
         "How to create a NeuralNetwork in JavaScript in only 30 lines of code",
         null,
         992.0,
         10.0,
         30,
         6,
         250,
         2300
        ],
        [
         "PythonOvertakes R for Data Science and MachineLearning",
         "https://www.datasciencecentral.com/profiles/blogs/python-overtakes-r-for-data-science-and-machine-learning",
         499.0,
         10.0,
         5,
         2,
         237,
         1400
        ],
        [
         "Salesforce created an algorithm that automatically summarizes text using machine learning",
         null,
         619.0,
         10.0,
         3,
         1,
         345,
         1800
        ],
        [
         "Construir inteligencia artificial que construya inteligencia artificial",
         "https://www.nytimes.com/es/2017/11/07/inteligencia-artificial-auto-ml-google/",
         1152.0,
         8.0,
         17,
         3,
         168,
         867
        ],
        [
         "MachineLearningWorkflows in Python from Scratch Part 1: Data Preparation",
         "https://www.kdnuggets.com/2017/05/machine-learning-workflows-python-scratch-part-1.html",
         2363.0,
         4.0,
         17,
         4,
         330,
         1500
        ],
        [
         "Por qué ‘machine learning’ sera la tecnología más importante en 2018",
         "https://elpais.com/tecnologia/2017/11/28/actualidad/1511866764_933798.html",
         988.0,
         1.0,
         0,
         1,
         147,
         631
        ],
        [
         "Get started with machinelearning using Python",
         "https://www.analyticsvidhya.com/blog/2017/05/pydata-amsterdam-2017-machine-learning-deep-learning-data-science/",
         759.0,
         20.0,
         1,
         1,
         328,
         1200
        ],
        [
         "MachineLearningExercises in Python: An Introductory Tutorial Series",
         "https://www.kdnuggets.com/2017/07/machine-learning-exercises-python-introductory-tutorial-series.html",
         1098.0,
         8.0,
         17,
         3,
         272,
         950
        ],
        [
         "22 talks from PyData 2017 | Deep Learning, MachineLearning & NLP",
         "https://www.analyticsvidhya.com/blog/2017/05/pydata-amsterdam-2017-machine-learning-deep-learning-data-science/",
         2797.0,
         22.0,
         7,
         22,
         349,
         1200
        ],
        [
         "La inteligencia artificial ya diagnostica enfermedades tan bien como los médicos",
         "http://www.lavanguardia.com/ciencia/cuerpo-humano/20180223/44950677766/inteligencia-artificial-machine-learning-diagnosticar-enfermedades-medicos-eficiencia.html?platform=hootsuite",
         1120.0,
         2.0,
         0,
         4,
         60,
         196
        ],
        [
         "Modern Machine LearningAlgorithms: Strengths and Weaknesses",
         null,
         2488.0,
         11.0,
         17,
         5,
         343,
         1100
        ],
        [
         "Core ML and Vision: MachineLearning in iOS 11 Tutorial",
         "https://www.raywenderlich.com/164213/coreml-and-vision-machine-learning-in-ios-11-tutorial",
         2049.0,
         12.0,
         23,
         7,
         319,
         668
        ],
        [
         "Tutorial to deploy Machine Learning models in Production as APIs (using Flask)",
         "https://www.analyticsvidhya.com/blog/2017/09/machine-learning-models-as-apis-using-flask/",
         2542.0,
         2.0,
         0,
         4,
         208,
         424
        ],
        [
         "Getting the NDA out of the Way with Machine Learning",
         "https://blog.bigml.com/2018/04/18/getting-the-nda-out-of-the-way-with-machine-learning/",
         1011.0,
         15.0,
         0,
         2,
         6,
         8
        ],
        [
         "Tutorial on Automated MachineLearning using MLBox",
         "https://www.analyticsvidhya.com/blog/2017/07/mlbox-library-automated-machine-learning/",
         2189.0,
         3.0,
         11,
         8,
         292,
         367
        ],
        [
         "[Log] 0: Allegro.AI nabs $11M for ‘deep learning as a service’, for businesses to build computer vision products",
         "[Log] 0: https://techcrunch.com/2018/04/25/allegro-ai-nabs-11m-for-a-platform-that-helps-businesses-build-computer-vision-based-services/",
         1864.0,
         6.0,
         12,
         2,
         1,
         42406
        ],
        [
         "[Log] 1: Want to fool a computer vision system? Just tweak some colors",
         "[Log] 1: https://techcrunch.com/2018/04/16/want-to-fool-a-computer-vision-system-just-tweak-some-colors/",
         990.0,
         6.0,
         7,
         3,
         2,
         1733
        ],
        [
         "[Log] 2: UK report urges action to combat AI bias",
         "[Log] 2: https://techcrunch.com/2018/04/16/uk-report-urges-action-to-combat-ai-bias/",
         1741.0,
         5.0,
         10,
         3,
         3,
         35691
        ],
        [
         "[Log] 3: The 10 most exciting open source projects of 2018",
         "[Log] 3: http://blog.honeypot.io/most-exciting-open-source-projects-2018/",
         1229.0,
         5.0,
         6,
         4,
         4,
         11061
        ],
        [
         "[Log] 4: Why 2018 will be the year apps go to the edge",
         "[Log] 4: https://techcrunch.com/2018/04/03/why-2018-will-be-the-year-apps-go-to-the-edge/",
         2975.0,
         3.0,
         0,
         2,
         5,
         51319
        ],
        [
         "[Log] 5: Arm chips with Nvidia AI could change the Internet of Things",
         "[Log] 5: https://techcrunch.com/2018/03/27/arm-chips-will-with-nvidia-ai-could-change-the-internet-of-things/",
         1864.0,
         1.0,
         10,
         4,
         6,
         30756
        ],
        [
         "[Log] 6: Precious uses artificial intelligence to help parents figure out what to do with all their baby photos",
         "[Log] 6: https://techcrunch.com/2018/03/27/precious-uses-artificial-intelligence-to-help-parents-figure-out-what-to-do-with-all-their-baby-photos/",
         2460.0,
         1.0,
         12,
         2,
         7,
         58425
        ],
        [
         "[Log] 7: Learning To See – Making deep neural network predictions on live camera input",
         "[Log] 7: http://www.creativeapplications.net/openframeworks/learning-to-see-making-deep-neural-network-predictions-on-live-camera-input/",
         2136.0,
         5.0,
         9,
         3,
         8,
         48060
        ],
        [
         "[Log] 8: IBM launches deep learning as a service inside its Watson Studio",
         "[Log] 8: https://techcrunch.com/2018/03/19/ibm-launches-deep-learning-as-a-service-inside-its-watson-studio/",
         2833.0,
         7.0,
         0,
         2,
         9,
         0
        ],
        [
         "[Log] 9: Here are 64 startups that launched today at Y Combinator’s W18 Demo Day",
         "[Log] 9: https://techcrunch.com/2018/03/19/here-are-64-startups-that-launched-today-at-y-combinators-w18-demo-day/",
         1995.0,
         7.0,
         6,
         6,
         10,
         4988
        ],
        [
         "[Log] 10: Voicery makes synthesized voices sound more like humans",
         "[Log] 10: https://techcrunch.com/2018/03/14/voicery-makes-synthesized-voices-sound-more-like-humans/",
         2332.0,
         5.0,
         1,
         6,
         11,
         27984
        ],
        [
         "[Log] 11: MIT’s new chip could bring neural nets to battery-powered gadgets",
         "[Log] 11: https://techcrunch.com/2018/02/14/mits-new-chip-could-bring-neural-nets-to-battery-powered-gadgets/?ncid=rss",
         1998.0,
         6.0,
         3,
         3,
         12,
         45455
        ],
        [
         "[Log] 12: Ingenieros de la Universidad de Chile sofistican mecanismos para interactuar con robots",
         "[Log] 12: https://www.fayerwayer.com/2018/01/universidad-chile-interactuar-robots/",
         3442.0,
         3.0,
         9,
         2,
         13,
         76585
        ],
        [
         "[Log] 13: Sleep deprivation is making product teams age faster and think slower",
         "[Log] 13: https://mixpanel.com/blog/2018/01/11/well-slept-teams-build-better-products/",
         2696.0,
         6.0,
         5,
         1,
         14,
         24264
        ],
        [
         "[Log] 14: Frank Chen will make you a believer in AI",
         "[Log] 14: https://mixpanel.com/blog/2017/12/12/frank-chen-ai-andreessen-horowitz/",
         1913.0,
         5.0,
         1,
         6,
         15,
         5261
        ],
        [
         "[Log] 15: Story roundup: data to be grateful for this holiday season",
         "[Log] 15: https://mixpanel.com/blog/2017/11/22/story-roundup-data-to-be-grateful-for/",
         1858.0,
         8.0,
         5,
         2,
         16,
         25548
        ],
        [
         "[Log] 16: Story roundup: data to be grateful for this holiday season",
         "[Log] 16: https://mxpnlcms.wpengine.com/blog/2017/11/22/story-roundup-data-to-be-grateful-for/",
         2457.0,
         3.0,
         3,
         4,
         17,
         0
        ],
        [
         "[Log] 17: Aprendizaje Profundo: una Guía rápida",
         "[Log] 17: http://www.aprendemachinelearning.com/aprendizaje-profundo-una-guia-rapida/",
         2592.0,
         1.0,
         12,
         6,
         18,
         56376
        ],
        [
         "[Log] 18: Principales Algoritmos usados en Machine Learning",
         "[Log] 18: http://www.aprendemachinelearning.com/principales-algoritmos-usados-en-machine-learning/",
         1718.0,
         2.0,
         12,
         2,
         19,
         13315
        ],
        [
         "[Log] 19: Aplicaciones del Machine Learning",
         "[Log] 19: http://www.aprendemachinelearning.com/aplicaciones-del-machine-learning/",
         1293.0,
         8.0,
         7,
         6,
         20,
         27476
        ],
        [
         "[Log] 20: Mapbox acquires neural network startup Mapdata to help it expand into AR maps",
         "[Log] 20: https://techcrunch.com/2017/11/03/mapbox-acquires-mapdata-to-help-it-expand-into-ar-maps/?ncid=rss",
         3023.0,
         7.0,
         6,
         1,
         21,
         55170
        ],
        [
         "[Log] 21: How video game tech makes neural networks possible",
         "[Log] 21: https://techcrunch.com/2017/10/27/how-video-game-tech-makes-neural-networks-possible/?ncid=rss",
         3485.0,
         2.0,
         10,
         6,
         22,
         871
        ],
        [
         "[Log] 22: Google introduces Neural Networks API in developer preview of Android 8.1",
         "[Log] 22: https://techcrunch.com/2017/10/25/google-introduces-neural-networks-api-in-developer-preview-of-android-8-1/?ncid=rss",
         2093.0,
         3.0,
         14,
         2,
         23,
         39767
        ],
        [
         "[Log] 23: The Brain and Body Are Really One, Especially When It Comes to Emotions",
         "[Log] 23: http://www.blog-thebrain.org/advanced/2017/10/11/the-brain-and-body-are-really-one-especially-when-it-comes-to-emotions/",
         1490.0,
         7.0,
         0,
         1,
         24,
         16390
        ],
        [
         "[Log] 24: The Brain: The History of an Organ Like No Other",
         "[Log] 24: http://www.blog-thebrain.org/advanced/2017/09/26/1395/",
         1238.0,
         6.0,
         8,
         5,
         25,
         23832
        ],
        [
         "[Log] 25: Apple’s new TrueDepth Camera System and its Implications",
         "[Log] 25: https://www.cygnismedia.com/blog/true-depth-camera-system/",
         2583.0,
         1.0,
         8,
         6,
         26,
         12269
        ],
        [
         "[Log] 26: Frank Lessons on AI from the Developer of the World’s First Hotdog Recognizer",
         "[Log] 26: https://mxpnlcms.wpengine.com/blog/2017/08/31/frank-lessons-on-ai-from-tim-anglade/",
         1007.0,
         2.0,
         7,
         6,
         27,
         10574
        ],
        [
         "[Log] 27: Humans Are the Product of Dynamic Processes on Multiple Time Scales",
         "[Log] 27: http://www.blog-thebrain.org/advanced/2017/08/21/humans-are-the-product-of-dynamic-processes-on-multiple-time-scales/",
         978.0,
         8.0,
         0,
         1,
         28,
         24206
        ],
        [
         "[Log] 28: Prisma shifts focus to b2b with an API for AI-powered mobile effects",
         "[Log] 28: https://techcrunch.com/2017/08/19/prisma-shifts-focus-to-b2b-with-an-api-for-ai-powered-mobile-effects/?ncid=rss",
         3019.0,
         5.0,
         3,
         2,
         29,
         13586
        ],
        [
         "[Log] 30: Facebook finishes its move to neural machine translation",
         "[Log] 30: https://techcrunch.com/2017/08/03/facebook-finishes-its-move-to-neural-machine-translation/?ncid=rss",
         2347.0,
         5.0,
         3,
         1,
         31,
         21123
        ],
        [
         "[Log] 31: What you should know about AI",
         "[Log] 31: https://techcrunch.com/2017/08/01/what-you-should-know-about-ai/?ncid=rss",
         2224.0,
         8.0,
         2,
         3,
         32,
         32248
        ],
        [
         "[Log] 32: HBO’s Silicon Valley on A.I. driven products: Not HotDog",
         "[Log] 32: https://mxpnlcms.wpengine.com/blog/2017/07/27/ai-driven-products-hbo-silicon-valley/",
         1778.0,
         4.0,
         11,
         6,
         33,
         8001
        ],
        [
         "[Log] 33: Why the future of deep learning depends on finding good data",
         "[Log] 33: https://techcrunch.com/2017/07/21/why-the-future-of-deep-learning-depends-on-finding-good-data/?ncid=rss",
         1150.0,
         6.0,
         3,
         4,
         34,
         23288
        ],
        [
         "[Log] 34: MIT is building a system that can identify a recipe using pictures of food",
         "[Log] 34: https://techcrunch.com/2017/07/20/mit-is-building-a-system-that-can-identify-a-recipe-using-pictures-of-food/?ncid=rss",
         2528.0,
         5.0,
         6,
         2,
         35,
         53720
        ],
        [
         "[Log] 35: Apple launches machine learning research site",
         "[Log] 35: https://techcrunch.com/2017/07/19/apple-launches-machine-learning-research-site/?ncid=rss",
         2486.0,
         1.0,
         13,
         6,
         36,
         53449
        ],
        [
         "[Log] 36: Metaphors for the Brain’s Anatomy and Functioning",
         "[Log] 36: http://www.blog-thebrain.org/advanced/2017/07/14/1362/",
         2317.0,
         7.0,
         8,
         5,
         37,
         52712
        ],
        [
         "[Log] 37: Computed Curation – Curating photography with neural networks",
         "[Log] 37: http://www.creativeapplications.net/js/computed-curation-curating-photography-with-neural-networks/",
         2369.0,
         3.0,
         5,
         2,
         38,
         39681
        ],
        [
         "[Log] 38: MIT CSAIL research offers a fully automated way to peer inside neural nets",
         "[Log] 38: https://techcrunch.com/2017/06/30/mit-csail-research-offers-a-fully-automated-way-to-peer-inside-neural-nets/?ncid=rss",
         1612.0,
         5.0,
         5,
         2,
         39,
         39091
        ],
        [
         "[Log] 39: Microsoft launches a new service for training deep neural networks on Azure",
         "[Log] 39: https://techcrunch.com/2017/05/10/microsoft-launches-a-new-service-for-training-deep-neural-networks-on-azure/?ncid=rss",
         1136.0,
         6.0,
         14,
         3,
         40,
         28116
        ],
        [
         "[Log] 40: Someone scraped 40,000 Tinder selfies to make a facial dataset for AI experiments",
         "[Log] 40: https://techcrunch.com/2017/04/28/someone-scraped-40000-tinder-selfies-to-make-a-facial-dataset-for-ai-experiments/?ncid=rss",
         2721.0,
         3.0,
         14,
         6,
         41,
         25850
        ],
        [
         "[Log] 41: 10 Machine Learning Examples in JavaScript",
         "[Log] 41: http://tutorialzine.com/2017/04/10-machine-learning-examples-in-javascript/",
         3480.0,
         1.0,
         14,
         3,
         42,
         20880
        ],
        [
         "[Log] 42: Neural networks made easy",
         "[Log] 42: https://techcrunch.com/2017/04/13/neural-networks-made-easy/?ncid=rss",
         1143.0,
         8.0,
         5,
         6,
         43,
         17145
        ],
        [
         "[Log] 43: Google DeepMind open sources Sonnet so you can build neural networks in TensorFlow even quicker",
         "[Log] 43: https://techcrunch.com/2017/04/07/google-deepmind-open-sources-sonnet-so-you-can-build-neural-networks-in-tensorflow-even-quicker/?ncid=rss",
         2428.0,
         4.0,
         10,
         3,
         44,
         57058
        ],
        [
         "[Log] 44: Google’s smarter, A.I.-powered translation system expands to more languages",
         "[Log] 44: https://techcrunch.com/2017/03/06/googles-smarter-a-i-powered-translation-system-expands-to-more-languages/?ncid=rss",
         2877.0,
         4.0,
         2,
         6,
         45,
         19420
        ],
        [
         "[Log] 45: Mark Zuckerberg’s ‘Jarvis’ Addresses AI’s Biggest Challenges",
         "[Log] 45: https://www.cygnismedia.com/blog/artificial-intelligence-challenges/",
         776.0,
         1.0,
         7,
         6,
         46,
         3298
        ],
        [
         "[Log] 46: Embark’s self-driving truck is ready to assist human drivers",
         "[Log] 46: https://techcrunch.com/2017/02/24/embarks-self-driving-truck-is-ready-to-assist-human-drivers/?ncid=rss",
         1284.0,
         8.0,
         5,
         2,
         47,
         31137
        ],
        [
         "\"[Log] 47: \"\"Zoom",
         " Enhance\"\" Could Become a Reality",
         1812.40625,
         9.7625,
         1145,
         6,
         11,
         2
        ],
        [
         "[Log] 48: FaceApp uses neural networks for photorealistic selfie tweaks",
         "[Log] 48: https://techcrunch.com/2017/02/08/faceapp-uses-neural-networks-for-photorealistic-selfie-tweaks/?ncid=rss",
         1793.0,
         7.0,
         13,
         4,
         49,
         34515
        ],
        [
         "[Log] 49: Mark Cuban on Why You Need to Study Artificial Intelligence or You’ll be a Dinosaur in 3 Years",
         "[Log] 49: https://bothsidesofthetable.com/mark-cuban-on-why-you-need-to-study-artificial-intelligence-or-youll-be-a-dinosaur-in-3-years-db3447bea1b4?source=rss----97f98e5df342---4",
         2904.0,
         7.0,
         14,
         1,
         50,
         7260
        ],
        [
         "[Log] 50: A First Brain-Imaging Study on the Effects of LSD",
         "[Log] 50: http://www.blog-thebrain.org/advanced/2017/01/09/1281/",
         1473.0,
         3.0,
         14,
         3,
         51,
         0
        ],
        [
         "[Log] 51: Mark Zuckerberg’s ‘Jarvis’ Addresses AI’s Biggest Challenges",
         "[Log] 51: http://www.cygnismedia.com/blog/artificial-intelligence-challenges/",
         2894.0,
         5.0,
         6,
         3,
         52,
         23152
        ],
        [
         "[Log] 52: Some Amazing Predictions Based on Brain Connectivity",
         "[Log] 52: http://www.blog-thebrain.org/advanced/2016/12/12/some-amazing-predictions-based-on-brain-connectivity/",
         1932.0,
         7.0,
         0,
         2,
         53,
         30912
        ],
        [
         "[Log] 53: Google’s AI Experiments help you understand neural networks by playing with them",
         "[Log] 53: http://feedproxy.google.com/~r/Techcrunch/~3/WUoKqCnvY5M/",
         3225.0,
         1.0,
         4,
         3,
         54,
         34669
        ],
        [
         "[Log] 54: Facebook Caffe2Go Deep-Learning System Powers Video ‘Style Transfer’ Test",
         "[Log] 54: http://www.adweek.com/socialtimes/caffe2go/647127",
         3185.0,
         4.0,
         6,
         5,
         55,
         12740
        ],
        [
         "[Log] 55: Is Machine Learning the Big Bad Wolf of Media? Whisper doesn’t think so.",
         "[Log] 55: https://blog.mixpanel.com/2016/11/08/whisper-machine-learning/",
         2068.0,
         7.0,
         3,
         2,
         56,
         36707
        ],
        [
         "[Log] 56: Os nosos centros tecnolóxicos e de investigación presentan este xoves no CESGA os seus avances en tecnoloxías intelixentes",
         "[Log] 56: http://www.codigocero.com/Os-nosos-centros-tecnoloxicos-e-de-investigacion-presentan-este-xoves-no-CESGA",
         2354.0,
         1.0,
         8,
         4,
         57,
         1177
        ],
        [
         "[Log] 57: Psychologist Scans Own Brain Twice per Week for a Year and a Half",
         "[Log] 57: http://www.blog-thebrain.org/advanced/2016/10/20/psychologist-scans-own-brain-twice-per-week-for-a-year-and-a-half/",
         2921.0,
         1.0,
         13,
         4,
         58,
         48927
        ],
        [
         "[Log] 58: Deep learning takes on GIFs, fashion, doodles and more at ACM Multimedia",
         "[Log] 58: http://feedproxy.google.com/~r/Techcrunch/~3/HZlZ28umjr4/",
         2211.0,
         8.0,
         7,
         3,
         59,
         11055
        ],
        [
         "[Log] 59: A xornada sobre Machine Learning do CESGA abranguerá máis de dúas ducias de relatorios",
         "[Log] 59: http://www.codigocero.com/A-xornada-sobre-Machine-Learning-do-CESGA-abranguera-mais-de-duas-ducias-de",
         2865.0,
         3.0,
         8,
         6,
         60,
         49421
        ],
        [
         "[Log] 60: Google unleashes deep learning tech on language with Neural Machine Translation",
         "[Log] 60: http://feedproxy.google.com/~r/Techcrunch/~3/YEhcHjfYfYs/",
         1674.0,
         5.0,
         2,
         2,
         61,
         23018
        ],
        [
         "[Log] 61: Facebook’s Artificial Intelligence Research lab releases open source fastText on GitHub",
         "[Log] 61: http://feedproxy.google.com/~r/Techcrunch/~3/ROB5oi8KuFI/",
         2282.0,
         1.0,
         1,
         3,
         62,
         54198
        ],
        [
         "[Log] 62: Hearing is like seeing for our brains and for machines",
         "[Log] 62: http://feedproxy.google.com/~r/Techcrunch/~3/E4r0_mb2r9E/",
         2636.0,
         3.0,
         10,
         2,
         63,
         659
        ],
        [
         "[Log] 63: The hard thing about machine learning",
         "[Log] 63: https://blog.mixpanel.com/2016/08/03/hard-thing-about-machine-learning/",
         774.0,
         3.0,
         1,
         1,
         64,
         16641
        ],
        [
         "[Log] 64: Convolutional Neural Networks in iOS 10 and macOS",
         "[Log] 64: http://invasivecode.tumblr.com/post/147955476650",
         1030.0,
         8.0,
         11,
         1,
         65,
         19828
        ],
        [
         "[Log] 65: Researchers use neural networks to turn face sketches into photos",
         "[Log] 65: http://feedproxy.google.com/~r/Techcrunch/~3/CXC0RaDqeKo/",
         734.0,
         8.0,
         9,
         2,
         66,
         15047
        ],
        [
         "[Log] 66: Machine Learning in Swift for iOS",
         "[Log] 66: http://invasivecode.tumblr.com/post/146272280155",
         743.0,
         3.0,
         5,
         4,
         67,
         16160
        ],
        [
         "[Log] 67: Introducing Gravity Jack Research: An Inside Look At The Heart of Our Innovation Center",
         "[Log] 67: https://gravityjack.com/news/gravity-jack-research-inside-look/",
         1514.0,
         2.0,
         7,
         1,
         68,
         34065
        ],
        [
         "[Log] 68: Twitter pays up to $150M for Magic Pony Technology, which uses neural networks to improve images",
         "[Log] 68: http://feedproxy.google.com/~r/Techcrunch/~3/YL8NcsD8nog/",
         2854.0,
         3.0,
         8,
         2,
         69,
         17124
        ],
        [
         "[Log] 69: Learn deeply, but baby, don’t fear the Skynet",
         "[Log] 69: http://feedproxy.google.com/~r/Techcrunch/~3/Y2-DiQSRzRo/",
         1443.0,
         5.0,
         12,
         4,
         70,
         15512
        ],
        [
         "[Log] 70: Neural networks: Artificial intelligence and our future",
         "[Log] 70: http://feedproxy.google.com/~r/Techcrunch/~3/vt6py_Preqg/",
         1817.0,
         5.0,
         13,
         2,
         71,
         9085
        ],
        [
         "[Log] 72: What Should We Do With All of That Content?",
         "[Log] 72: http://www.adweek.com/socialtimes/what-should-we-do-with-all-of-that-content/638662",
         1266.0,
         6.0,
         4,
         2,
         73,
         16458
        ],
        [
         "[Log] 73: ¿Qué es el Machine Learning?",
         "[Log] 73: http://jarroba.com/que-es-el-machine-learning/",
         2275.0,
         4.0,
         2,
         6,
         74,
         55738
        ],
        [
         "[Log] 74: Magic Pony’s neural network dreams up new imagery to expand an existing picture",
         "[Log] 74: http://feedproxy.google.com/~r/Techcrunch/~3/V2vOBiN91Y8/",
         1264.0,
         1.0,
         1,
         5,
         75,
         18012
        ],
        [
         "[Log] 75: From recording to reacting: Neural networks are changing notions of surveillance",
         "[Log] 75: http://feedproxy.google.com/~r/Techcrunch/~3/-ELdi2uNQ2A/",
         2212.0,
         3.0,
         13,
         6,
         76,
         35392
        ],
        [
         "[Log] 76: NVIDIA announces a supercomputer aimed at deep learning and AI",
         "[Log] 76: http://feedproxy.google.com/~r/Techcrunch/~3/3zv0iKyNavw/",
         1871.0,
         6.0,
         14,
         4,
         77,
         26194
        ],
        [
         "[Log] 77: Following Artificial Intelligence Breakthrough, European Go Champion Loses Against Computer",
         "[Log] 77: http://feedproxy.google.com/~r/Techcrunch/~3/R83TWzcalgI/",
         2513.0,
         7.0,
         3,
         4,
         78,
         55914
        ],
        [
         "[Log] 78: Years & Years Releases Music Video Created With Google’s DeepDream Technology",
         "[Log] 78: http://feedproxy.google.com/~r/Techcrunch/~3/WH1cezmHceA/",
         1443.0,
         7.0,
         8,
         1,
         79,
         3968
        ],
        [
         "[Log] 79: Facebook Updates Progress on Artificial Intelligence",
         "[Log] 79: http://www.adweek.com/socialtimes/artificial-intelligence-update/629412",
         912.0,
         5.0,
         14,
         6,
         80,
         1824
        ],
        [
         "[Log] 80: On Neuromarketing and Conversions – Interview with Tim Ash [+Webinar]",
         "[Log] 80: http://blog.getresponse.com/on-neuromarketing-and-conversions-interview-with-tim-ash-webinar.html",
         2366.0,
         2.0,
         12,
         1,
         81,
         2958
        ],
        [
         "[Log] 81: Understanding Artificial Intelligence &#8211; and Why We Fear It",
         "[Log] 81: http://rss.feedsportal.com/c/35261/f/656072/s/481c0ec8/sc/14/l/0L0Shongkiat0N0Cblog0Cunderstanding0Eartificial0Eintelligence0C/story01.htm",
         1542.0,
         6.0,
         1,
         6,
         82,
         22359
        ],
        [
         "[Log] 82: The “Coming Out” of the Electrical Synapse",
         "[Log] 82: http://www.blog-thebrain.org/advanced/2015/03/14/988/",
         1201.0,
         1.0,
         0,
         1,
         83,
         8707
        ],
        [
         "[Log] 83: How Google Uses Machine Learning And Neural Networks To Optimize Data Centers",
         "[Log] 83: http://feedproxy.google.com/~r/Techcrunch/~3/pqloDGxiqb8/",
         3239.0,
         3.0,
         11,
         1,
         84,
         3239
        ],
        [
         "[Log] 84: Zuck Knows If You've Been Bad Or Good, So Be Good For Goodness' Sake",
         "[Log] 84: http://feedproxy.google.com/~r/Techcrunch/~3/tFA-5Utj6vA/",
         2566.0,
         3.0,
         8,
         4,
         85,
         25019
        ],
        [
         "[Log] 85: Microsoft Improves Windows Phone Voice Recognition: 2X Faster, 15% More Accurate",
         "[Log] 85: http://feedproxy.google.com/~r/Techcrunch/~3/8me_bd7gHv0/",
         2089.0,
         4.0,
         4,
         1,
         86,
         49614
        ],
        [
         "[Log] 86: How Google's Acquisition Of DNNresearch Allowed It To Build Its Impressive Google+ Photo Search In 6 Months",
         "[Log] 86: http://feedproxy.google.com/~r/Techcrunch/~3/vW_ie-I_fss/",
         1530.0,
         4.0,
         12,
         3,
         87,
         33660
        ],
        [
         "[Log] 87: Google's Cloud Is Eating Apple's Lunch",
         "[Log] 87: http://feedproxy.google.com/~r/Techcrunch/~3/gRBLqOod1rs/",
         953.0,
         6.0,
         13,
         2,
         88,
         5956
        ]
       ],
       "datasetInfos": [],
       "dbfsResultPath": null,
       "isJsonSchema": true,
       "metadata": {},
       "overflow": false,
       "plotOptions": {
        "customPlotOptions": {},
        "displayType": "table",
        "pivotAggregation": null,
        "pivotColumns": null,
        "xColumns": null,
        "yColumns": null
       },
       "removedWidgets": [],
       "schema": [
        {
         "metadata": "{}",
         "name": "Title",
         "type": "\"string\""
        },
        {
         "metadata": "{}",
         "name": "url",
         "type": "\"string\""
        },
        {
         "metadata": "{}",
         "name": "Word count",
         "type": "\"double\""
        },
        {
         "metadata": "{}",
         "name": "# of Links",
         "type": "\"double\""
        },
        {
         "metadata": "{}",
         "name": "# of comments",
         "type": "\"long\""
        },
        {
         "metadata": "{}",
         "name": "# Images video",
         "type": "\"integer\""
        },
        {
         "metadata": "{}",
         "name": "Elapsed days",
         "type": "\"integer\""
        },
        {
         "metadata": "{}",
         "name": "# Shares",
         "type": "\"integer\""
        }
       ],
       "type": "table"
      }
     },
     "output_type": "display_data"
    }
   ],
   "source": [
    "articulos_pd = articulos_pd[(articulos_pd['Word count']<=3500) & (articulos_pd['# Shares']<=80000)]\n",
    "display(articulos_pd)"
   ]
  },
  {
   "cell_type": "markdown",
   "metadata": {
    "application/vnd.databricks.v1+cell": {
     "cellMetadata": {},
     "inputWidgets": {},
     "nuid": "39c27184-1c51-4285-9dae-9b44cbd5e1d0",
     "showTitle": false,
     "title": ""
    }
   },
   "source": [
    "##### Pasamos lo que hicimos en Pandas a Spark"
   ]
  },
  {
   "cell_type": "code",
   "execution_count": 0,
   "metadata": {
    "application/vnd.databricks.v1+cell": {
     "cellMetadata": {},
     "inputWidgets": {},
     "nuid": "9fde468e-3eac-41b4-82cc-4c39e078d7ea",
     "showTitle": false,
     "title": ""
    }
   },
   "outputs": [
    {
     "output_type": "display_data",
     "data": {
      "text/html": [
       "<style scoped>\n",
       "  .table-result-container {\n",
       "    max-height: 300px;\n",
       "    overflow: auto;\n",
       "  }\n",
       "  table, th, td {\n",
       "    border: 1px solid black;\n",
       "    border-collapse: collapse;\n",
       "  }\n",
       "  th, td {\n",
       "    padding: 5px;\n",
       "  }\n",
       "  th {\n",
       "    text-align: left;\n",
       "  }\n",
       "</style><div class='table-result-container'><table class='table-result'><thead style='background-color: white'><tr><th>Title</th><th>url</th><th>Word count</th><th># of Links</th><th># of comments</th><th># Images video</th><th>Elapsed days</th><th># Shares</th></tr></thead><tbody><tr><td>10 Companies Using Machine Learning in Cool Ways</td><td>null</td><td>1742.0</td><td>9.0</td><td>17</td><td>9</td><td>5</td><td>25000</td></tr><tr><td>How Artificial Intelligence Is Revolutionizing the Sector</td><td>null</td><td>962.0</td><td>6.0</td><td>0</td><td>1</td><td>10</td><td>42000</td></tr><tr><td>5 ways Data Science and Machine Learning impact business</td><td>null</td><td>761.0</td><td>0.0</td><td>17</td><td>1</td><td>14</td><td>21000</td></tr><tr><td>How Machine Learning can help Cryptocurrency Traders Maximize their Gains</td><td>https://cryptovest.com/news/how-machine-learning-can-help-cryptocurrency-traders-maximize-their-gains/?utm_source=SocialAnimal&utm_medium=referral</td><td>753.0</td><td>3.0</td><td>0</td><td>1</td><td>78</td><td>77000</td></tr><tr><td>Tech companies should stop pretending AI won’t destroy jobs</td><td>https://www.technologyreview.com/s/610298/tech-companies-should-stop-pretending-ai-wont-destroy-jobs/</td><td>1118.0</td><td>2.0</td><td>17</td><td>1</td><td>62</td><td>59400</td></tr><tr><td>Artificial intelligence is going to completely change your life</td><td>null</td><td>1581.0</td><td>4.0</td><td>17</td><td>2</td><td>60</td><td>35000</td></tr><tr><td>Google CEO Sundar Pichai says AI is more profound than electricity or fire</td><td>null</td><td>256.0</td><td>0.0</td><td>27</td><td>1</td><td>95</td><td>29000</td></tr><tr><td>How machine learning is changing the financial industry</td><td>null</td><td>1267.0</td><td>2.0</td><td>17</td><td>4</td><td>124</td><td>37000</td></tr><tr><td>New AI can work out whether you're gay or straight from a photograph</td><td>https://www.theguardian.com/technology/2017/sep/07/new-artificial-intelligence-can-tell-whether-youre-gay-or-straight-from-a-photograph</td><td>971.0</td><td>10.0</td><td>17</td><td>1</td><td>228</td><td>67300</td></tr><tr><td>Researchers have linked a human brain to the Internet for the first time ever</td><td>https://futurism.com/researchers-have-linked-a-human-brain-to-the-internet-for-the-first-time-ever/</td><td>369.0</td><td>6.0</td><td>17</td><td>1</td><td>222</td><td>60100</td></tr><tr><td>Who’s a good AI? Dog-based data creates a canine machine learning system</td><td>https://techcrunch.com/2018/04/11/whos-a-good-ai-dog-based-data-creates-a-canine-machine-learning-system/</td><td>635.0</td><td>3.0</td><td>1</td><td>2</td><td>12</td><td>3200</td></tr><tr><td>Which One to Choose for Your Problem</td><td>null</td><td>1631.0</td><td>6.0</td><td>6</td><td>9</td><td>180</td><td>37000</td></tr><tr><td>A computer was asked to predict which start-ups would be successful. The results were astonishing</td><td>null</td><td>571.0</td><td>4.0</td><td>17</td><td>1</td><td>277</td><td>55000</td></tr><tr><td>AI Is Inventing Languages Humans Can’t Understand. Should We Stop It?</td><td>https://www.fastcodesign.com/90132632/ai-is-inventing-its-own-perfect-languages-should-we-let-it</td><td>1333.0</td><td>8.0</td><td>17</td><td>4</td><td>284</td><td>54800</td></tr><tr><td>An Artificial Intelligence Developed Its Own Non-Human Language</td><td>https://www.theatlantic.com/technology/archive/2017/06/artificial-intelligence-develops-its-own-non-human-language/530436/</td><td>364.0</td><td>5.0</td><td>17</td><td>2</td><td>313</td><td>54600</td></tr><tr><td>Denmark's largest bank is using AI and machine learning to ‘tear everything apart’ – and it’s starting to pay off</td><td>null</td><td>515.0</td><td>2.0</td><td>17</td><td>5</td><td>173</td><td>27000</td></tr><tr><td>How Artificial Intelligence Is Key for Autonomous Vehicle Development</td><td>null</td><td>1135.0</td><td>8.0</td><td>0</td><td>1</td><td>146</td><td>20000</td></tr><tr><td>Machine Learning Zone: OpenAI competition takes on Sonic the Hedgehog</td><td>null</td><td>666.0</td><td>4.0</td><td>0</td><td>3</td><td>18</td><td>2400</td></tr><tr><td>Reverie Labs uses new machine learning algorithms to fix drug development bottlenecks</td><td>null</td><td>787.0</td><td>4.0</td><td>0</td><td>1</td><td>39</td><td>3800</td></tr><tr><td>Machine Learning Applied to Big Data, Explained</td><td>null</td><td>421.0</td><td>2.0</td><td>17</td><td>1</td><td>277</td><td>26000</td></tr><tr><td>Physicists have discovered what makes neural networks so extraordinarily powerful</td><td>null</td><td>1065.0</td><td>1.0</td><td>19</td><td>1</td><td>171</td><td>14000</td></tr><tr><td>A deep-learning machine was trained to spot criminals by looking at mugshots</td><td>null</td><td>908.0</td><td>2.0</td><td>17</td><td>1</td><td>226</td><td>14000</td></tr><tr><td>Getting Value from MachineLearning Isn’t About Fancier Algorithms — It’s About Making It Easier to Use</td><td>null</td><td>1260.0</td><td>6.0</td><td>4</td><td>1</td><td>49</td><td>3000</td></tr><tr><td>The Amazing Ways Tesla Is Using Artificial Intelligence And Big Data</td><td>null</td><td>950.0</td><td>6.0</td><td>17</td><td>1</td><td>106</td><td>5600</td></tr><tr><td>10 Machine LearningAlgorithms You Should Know to Become a Data Scientist - DZone AI</td><td>null</td><td>1761.0</td><td>49.0</td><td>4</td><td>10</td><td>30</td><td>1500</td></tr><tr><td>Google’s Artificial-Intelligence Wizard Unveils a New Twist on Neural Networks</td><td>null</td><td>911.0</td><td>10.0</td><td>23</td><td>1</td><td>174</td><td>8400</td></tr><tr><td>and the part artificial intelligence has to play</td><td>null</td><td>971.0</td><td>5.0</td><td>17</td><td>2</td><td>127</td><td>5300</td></tr><tr><td>Feature Labs launches out of MIT to accelerate the development of machinelearning algorithms</td><td>null</td><td>458.0</td><td>1.0</td><td>0</td><td>2</td><td>61</td><td>2500</td></tr><tr><td>CometML wants to do for machine learning what GitHub did for code</td><td>null</td><td>458.0</td><td>3.0</td><td>0</td><td>3</td><td>19</td><td>757</td></tr><tr><td>Why it’s a big deal that AI knows how to bluff in poker</td><td>null</td><td>782.0</td><td>8.0</td><td>5</td><td>1</td><td>176</td><td>6400</td></tr><tr><td>Discussing the limits of artificial intelligence</td><td>null</td><td>2080.0</td><td>4.0</td><td>0</td><td>4</td><td>127</td><td>3600</td></tr><tr><td>Crean inteligencia artificial para evaluar incendios y catástrofes naturales</td><td>https://www.fayerwayer.com/2018/04/crean-inteligencia-artificial-evaluar-incendios-catastrofes-naturales</td><td>250.0</td><td>4.0</td><td>1</td><td>2</td><td>1</td><td>22</td></tr><tr><td>What's the difference between data science, machinelearning, and artificialintelligence?</td><td>http://varianceexplained.org/r/ds-ml-ai/</td><td>1763.0</td><td>1.0</td><td>29</td><td>1</td><td>105</td><td>2300</td></tr><tr><td>The Artificial Intelligence Startups Redefining Industries</td><td>null</td><td>650.0</td><td>10.0</td><td>0</td><td>3</td><td>133</td><td>2800</td></tr><tr><td>Top 20 PythonAI and MachineLearning Open Source Projects</td><td>https://www.kdnuggets.com/2018/02/top-20-python-ai-machine-learning-open-source-projects.html</td><td>1184.0</td><td>39.0</td><td>8</td><td>1</td><td>63</td><td>1300</td></tr><tr><td>5 Key Artificial IntelligencePredictions For 2018: HowMachine Learning Will Change Everything</td><td>https://www.forbes.com/sites/bernardmarr/2017/12/18/5-key-artificial-intelligence-predictions-for-2018-how-machine-learning-will-change-everything/</td><td>957.0</td><td>9.0</td><td>17</td><td>1</td><td>127</td><td>2500</td></tr><tr><td>Pythonovertakes R, becomes the leader in Data Science, MachineLearningplatforms</td><td>https://www.kdnuggets.com/2017/08/python-overtakes-r-leader-analytics-data-science.html</td><td>627.0</td><td>2.0</td><td>5</td><td>4</td><td>239</td><td>4500</td></tr><tr><td>¿Podremos crear máquinas verdaderamente inteligentes?</td><td>https://elpais.com/tecnologia/2018/03/27/actualidad/1522139782_730950.html</td><td>895.0</td><td>1.0</td><td>13</td><td>1</td><td>23</td><td>422</td></tr><tr><td>Artificial Intelligence Isn't Killing Jobs; It's Killing Business Models</td><td>null</td><td>1097.0</td><td>2.0</td><td>17</td><td>1</td><td>89</td><td>1600</td></tr><tr><td>10 Ways Machine Learning Is Revolutionizing Manufacturing In 2018</td><td>https://www.forbes.com/sites/louiscolumbus/2018/03/11/10-ways-machine-learning-is-revolutionizing-manufacturing-in-2018/#7199e52623ac</td><td>1262.0</td><td>10.0</td><td>17</td><td>10</td><td>44</td><td>715</td></tr><tr><td>10 Ways Machine Learning Is Revolutionizing Marketing</td><td>https://www.forbes.com/sites/louiscolumbus/2018/02/25/10-ways-machine-learning-is-revolutionizing-marketing/#4219d395bb64</td><td>1738.0</td><td>32.0</td><td>17</td><td>9</td><td>58</td><td>907</td></tr><tr><td>Top 10 Machine LearningAlgorithms for Beginners</td><td>null</td><td>1813.0</td><td>6.0</td><td>17</td><td>5</td><td>186</td><td>2800</td></tr><tr><td>A Tour of The Top 10 Algorithms for MachineLearning Newbies</td><td>null</td><td>2400.0</td><td>5.0</td><td>21</td><td>11</td><td>94</td><td>1300</td></tr><tr><td>What’s the difference betweenartificial intelligence, machinelearning, and deep learning? | Qualcomm</td><td>https://www.qualcomm.com/news/onq/2017/09/01/whats-difference-between-artificial-intelligence-machine-learning-and-deep</td><td>662.0</td><td>2.0</td><td>17</td><td>4</td><td>234</td><td>3000</td></tr><tr><td>How Quantum Computers Will Revolutionize ArtificialIntelligence, MachineLearning And Big Data</td><td>https://www.forbes.com/sites/bernardmarr/2017/09/05/how-quantum-computers-will-revolutionize-artificial-intelligence-machine-learning-and-big-data/</td><td>800.0</td><td>6.0</td><td>17</td><td>2</td><td>231</td><td>2800</td></tr><tr><td>Jack Ma: Artificialintelligence, machine learningmay cause World War III</td><td>http://www.businessinsider.com/alibaba-stock-price-jack-ma-artificial-intelligence-machine-learning-may-cause-world-war-iii-2017-6</td><td>367.0</td><td>5.0</td><td>17</td><td>1</td><td>307</td><td>3300</td></tr><tr><td>Google and MIT’s new machine learning algorithmsretouch your photos before you take them</td><td>null</td><td>507.0</td><td>8.0</td><td>13</td><td>2</td><td>265</td><td>2600</td></tr><tr><td>How to create a NeuralNetwork in JavaScript in only 30 lines of code</td><td>null</td><td>992.0</td><td>10.0</td><td>30</td><td>6</td><td>250</td><td>2300</td></tr><tr><td>PythonOvertakes R for Data Science and MachineLearning</td><td>https://www.datasciencecentral.com/profiles/blogs/python-overtakes-r-for-data-science-and-machine-learning</td><td>499.0</td><td>10.0</td><td>5</td><td>2</td><td>237</td><td>1400</td></tr><tr><td>Salesforce created an algorithm that automatically summarizes text using machine learning</td><td>null</td><td>619.0</td><td>10.0</td><td>3</td><td>1</td><td>345</td><td>1800</td></tr><tr><td>Construir inteligencia artificial que construya inteligencia artificial</td><td>https://www.nytimes.com/es/2017/11/07/inteligencia-artificial-auto-ml-google/</td><td>1152.0</td><td>8.0</td><td>17</td><td>3</td><td>168</td><td>867</td></tr><tr><td>MachineLearningWorkflows in Python from Scratch Part 1: Data Preparation</td><td>https://www.kdnuggets.com/2017/05/machine-learning-workflows-python-scratch-part-1.html</td><td>2363.0</td><td>4.0</td><td>17</td><td>4</td><td>330</td><td>1500</td></tr><tr><td>Por qué ‘machine learning’ sera la tecnología más importante en 2018</td><td>https://elpais.com/tecnologia/2017/11/28/actualidad/1511866764_933798.html</td><td>988.0</td><td>1.0</td><td>0</td><td>1</td><td>147</td><td>631</td></tr><tr><td>Get started with machinelearning using Python</td><td>https://www.analyticsvidhya.com/blog/2017/05/pydata-amsterdam-2017-machine-learning-deep-learning-data-science/</td><td>759.0</td><td>20.0</td><td>1</td><td>1</td><td>328</td><td>1200</td></tr><tr><td>MachineLearningExercises in Python: An Introductory Tutorial Series</td><td>https://www.kdnuggets.com/2017/07/machine-learning-exercises-python-introductory-tutorial-series.html</td><td>1098.0</td><td>8.0</td><td>17</td><td>3</td><td>272</td><td>950</td></tr><tr><td>22 talks from PyData 2017 | Deep Learning, MachineLearning & NLP</td><td>https://www.analyticsvidhya.com/blog/2017/05/pydata-amsterdam-2017-machine-learning-deep-learning-data-science/</td><td>2797.0</td><td>22.0</td><td>7</td><td>22</td><td>349</td><td>1200</td></tr><tr><td>La inteligencia artificial ya diagnostica enfermedades tan bien como los médicos</td><td>http://www.lavanguardia.com/ciencia/cuerpo-humano/20180223/44950677766/inteligencia-artificial-machine-learning-diagnosticar-enfermedades-medicos-eficiencia.html?platform=hootsuite</td><td>1120.0</td><td>2.0</td><td>0</td><td>4</td><td>60</td><td>196</td></tr><tr><td>Modern Machine LearningAlgorithms: Strengths and Weaknesses</td><td>null</td><td>2488.0</td><td>11.0</td><td>17</td><td>5</td><td>343</td><td>1100</td></tr><tr><td>Core ML and Vision: MachineLearning in iOS 11 Tutorial</td><td>https://www.raywenderlich.com/164213/coreml-and-vision-machine-learning-in-ios-11-tutorial</td><td>2049.0</td><td>12.0</td><td>23</td><td>7</td><td>319</td><td>668</td></tr><tr><td>Tutorial to deploy Machine Learning models in Production as APIs (using Flask)</td><td>https://www.analyticsvidhya.com/blog/2017/09/machine-learning-models-as-apis-using-flask/</td><td>2542.0</td><td>2.0</td><td>0</td><td>4</td><td>208</td><td>424</td></tr><tr><td>Getting the NDA out of the Way with Machine Learning</td><td>https://blog.bigml.com/2018/04/18/getting-the-nda-out-of-the-way-with-machine-learning/</td><td>1011.0</td><td>15.0</td><td>0</td><td>2</td><td>6</td><td>8</td></tr><tr><td>Tutorial on Automated MachineLearning using MLBox</td><td>https://www.analyticsvidhya.com/blog/2017/07/mlbox-library-automated-machine-learning/</td><td>2189.0</td><td>3.0</td><td>11</td><td>8</td><td>292</td><td>367</td></tr><tr><td>[Log] 0: Allegro.AI nabs $11M for ‘deep learning as a service’, for businesses to build computer vision products</td><td>[Log] 0: https://techcrunch.com/2018/04/25/allegro-ai-nabs-11m-for-a-platform-that-helps-businesses-build-computer-vision-based-services/</td><td>1864.0</td><td>6.0</td><td>12</td><td>2</td><td>1</td><td>42406</td></tr><tr><td>[Log] 1: Want to fool a computer vision system? Just tweak some colors</td><td>[Log] 1: https://techcrunch.com/2018/04/16/want-to-fool-a-computer-vision-system-just-tweak-some-colors/</td><td>990.0</td><td>6.0</td><td>7</td><td>3</td><td>2</td><td>1733</td></tr><tr><td>[Log] 2: UK report urges action to combat AI bias</td><td>[Log] 2: https://techcrunch.com/2018/04/16/uk-report-urges-action-to-combat-ai-bias/</td><td>1741.0</td><td>5.0</td><td>10</td><td>3</td><td>3</td><td>35691</td></tr><tr><td>[Log] 3: The 10 most exciting open source projects of 2018</td><td>[Log] 3: http://blog.honeypot.io/most-exciting-open-source-projects-2018/</td><td>1229.0</td><td>5.0</td><td>6</td><td>4</td><td>4</td><td>11061</td></tr><tr><td>[Log] 4: Why 2018 will be the year apps go to the edge</td><td>[Log] 4: https://techcrunch.com/2018/04/03/why-2018-will-be-the-year-apps-go-to-the-edge/</td><td>2975.0</td><td>3.0</td><td>0</td><td>2</td><td>5</td><td>51319</td></tr><tr><td>[Log] 5: Arm chips with Nvidia AI could change the Internet of Things</td><td>[Log] 5: https://techcrunch.com/2018/03/27/arm-chips-will-with-nvidia-ai-could-change-the-internet-of-things/</td><td>1864.0</td><td>1.0</td><td>10</td><td>4</td><td>6</td><td>30756</td></tr><tr><td>[Log] 6: Precious uses artificial intelligence to help parents figure out what to do with all their baby photos</td><td>[Log] 6: https://techcrunch.com/2018/03/27/precious-uses-artificial-intelligence-to-help-parents-figure-out-what-to-do-with-all-their-baby-photos/</td><td>2460.0</td><td>1.0</td><td>12</td><td>2</td><td>7</td><td>58425</td></tr><tr><td>[Log] 7: Learning To See – Making deep neural network predictions on live camera input</td><td>[Log] 7: http://www.creativeapplications.net/openframeworks/learning-to-see-making-deep-neural-network-predictions-on-live-camera-input/</td><td>2136.0</td><td>5.0</td><td>9</td><td>3</td><td>8</td><td>48060</td></tr><tr><td>[Log] 8: IBM launches deep learning as a service inside its Watson Studio</td><td>[Log] 8: https://techcrunch.com/2018/03/19/ibm-launches-deep-learning-as-a-service-inside-its-watson-studio/</td><td>2833.0</td><td>7.0</td><td>0</td><td>2</td><td>9</td><td>0</td></tr><tr><td>[Log] 9: Here are 64 startups that launched today at Y Combinator’s W18 Demo Day</td><td>[Log] 9: https://techcrunch.com/2018/03/19/here-are-64-startups-that-launched-today-at-y-combinators-w18-demo-day/</td><td>1995.0</td><td>7.0</td><td>6</td><td>6</td><td>10</td><td>4988</td></tr><tr><td>[Log] 10: Voicery makes synthesized voices sound more like humans</td><td>[Log] 10: https://techcrunch.com/2018/03/14/voicery-makes-synthesized-voices-sound-more-like-humans/</td><td>2332.0</td><td>5.0</td><td>1</td><td>6</td><td>11</td><td>27984</td></tr><tr><td>[Log] 11: MIT’s new chip could bring neural nets to battery-powered gadgets</td><td>[Log] 11: https://techcrunch.com/2018/02/14/mits-new-chip-could-bring-neural-nets-to-battery-powered-gadgets/?ncid=rss</td><td>1998.0</td><td>6.0</td><td>3</td><td>3</td><td>12</td><td>45455</td></tr><tr><td>[Log] 12: Ingenieros de la Universidad de Chile sofistican mecanismos para interactuar con robots</td><td>[Log] 12: https://www.fayerwayer.com/2018/01/universidad-chile-interactuar-robots/</td><td>3442.0</td><td>3.0</td><td>9</td><td>2</td><td>13</td><td>76585</td></tr><tr><td>[Log] 13: Sleep deprivation is making product teams age faster and think slower</td><td>[Log] 13: https://mixpanel.com/blog/2018/01/11/well-slept-teams-build-better-products/</td><td>2696.0</td><td>6.0</td><td>5</td><td>1</td><td>14</td><td>24264</td></tr><tr><td>[Log] 14: Frank Chen will make you a believer in AI</td><td>[Log] 14: https://mixpanel.com/blog/2017/12/12/frank-chen-ai-andreessen-horowitz/</td><td>1913.0</td><td>5.0</td><td>1</td><td>6</td><td>15</td><td>5261</td></tr><tr><td>[Log] 15: Story roundup: data to be grateful for this holiday season</td><td>[Log] 15: https://mixpanel.com/blog/2017/11/22/story-roundup-data-to-be-grateful-for/</td><td>1858.0</td><td>8.0</td><td>5</td><td>2</td><td>16</td><td>25548</td></tr><tr><td>[Log] 16: Story roundup: data to be grateful for this holiday season</td><td>[Log] 16: https://mxpnlcms.wpengine.com/blog/2017/11/22/story-roundup-data-to-be-grateful-for/</td><td>2457.0</td><td>3.0</td><td>3</td><td>4</td><td>17</td><td>0</td></tr><tr><td>[Log] 17: Aprendizaje Profundo: una Guía rápida</td><td>[Log] 17: http://www.aprendemachinelearning.com/aprendizaje-profundo-una-guia-rapida/</td><td>2592.0</td><td>1.0</td><td>12</td><td>6</td><td>18</td><td>56376</td></tr><tr><td>[Log] 18: Principales Algoritmos usados en Machine Learning</td><td>[Log] 18: http://www.aprendemachinelearning.com/principales-algoritmos-usados-en-machine-learning/</td><td>1718.0</td><td>2.0</td><td>12</td><td>2</td><td>19</td><td>13315</td></tr><tr><td>[Log] 19: Aplicaciones del Machine Learning</td><td>[Log] 19: http://www.aprendemachinelearning.com/aplicaciones-del-machine-learning/</td><td>1293.0</td><td>8.0</td><td>7</td><td>6</td><td>20</td><td>27476</td></tr><tr><td>[Log] 20: Mapbox acquires neural network startup Mapdata to help it expand into AR maps</td><td>[Log] 20: https://techcrunch.com/2017/11/03/mapbox-acquires-mapdata-to-help-it-expand-into-ar-maps/?ncid=rss</td><td>3023.0</td><td>7.0</td><td>6</td><td>1</td><td>21</td><td>55170</td></tr><tr><td>[Log] 21: How video game tech makes neural networks possible</td><td>[Log] 21: https://techcrunch.com/2017/10/27/how-video-game-tech-makes-neural-networks-possible/?ncid=rss</td><td>3485.0</td><td>2.0</td><td>10</td><td>6</td><td>22</td><td>871</td></tr><tr><td>[Log] 22: Google introduces Neural Networks API in developer preview of Android 8.1</td><td>[Log] 22: https://techcrunch.com/2017/10/25/google-introduces-neural-networks-api-in-developer-preview-of-android-8-1/?ncid=rss</td><td>2093.0</td><td>3.0</td><td>14</td><td>2</td><td>23</td><td>39767</td></tr><tr><td>[Log] 23: The Brain and Body Are Really One, Especially When It Comes to Emotions</td><td>[Log] 23: http://www.blog-thebrain.org/advanced/2017/10/11/the-brain-and-body-are-really-one-especially-when-it-comes-to-emotions/</td><td>1490.0</td><td>7.0</td><td>0</td><td>1</td><td>24</td><td>16390</td></tr><tr><td>[Log] 24: The Brain: The History of an Organ Like No Other</td><td>[Log] 24: http://www.blog-thebrain.org/advanced/2017/09/26/1395/</td><td>1238.0</td><td>6.0</td><td>8</td><td>5</td><td>25</td><td>23832</td></tr><tr><td>[Log] 25: Apple’s new TrueDepth Camera System and its Implications</td><td>[Log] 25: https://www.cygnismedia.com/blog/true-depth-camera-system/</td><td>2583.0</td><td>1.0</td><td>8</td><td>6</td><td>26</td><td>12269</td></tr><tr><td>[Log] 26: Frank Lessons on AI from the Developer of the World’s First Hotdog Recognizer</td><td>[Log] 26: https://mxpnlcms.wpengine.com/blog/2017/08/31/frank-lessons-on-ai-from-tim-anglade/</td><td>1007.0</td><td>2.0</td><td>7</td><td>6</td><td>27</td><td>10574</td></tr><tr><td>[Log] 27: Humans Are the Product of Dynamic Processes on Multiple Time Scales</td><td>[Log] 27: http://www.blog-thebrain.org/advanced/2017/08/21/humans-are-the-product-of-dynamic-processes-on-multiple-time-scales/</td><td>978.0</td><td>8.0</td><td>0</td><td>1</td><td>28</td><td>24206</td></tr><tr><td>[Log] 28: Prisma shifts focus to b2b with an API for AI-powered mobile effects</td><td>[Log] 28: https://techcrunch.com/2017/08/19/prisma-shifts-focus-to-b2b-with-an-api-for-ai-powered-mobile-effects/?ncid=rss</td><td>3019.0</td><td>5.0</td><td>3</td><td>2</td><td>29</td><td>13586</td></tr><tr><td>[Log] 30: Facebook finishes its move to neural machine translation</td><td>[Log] 30: https://techcrunch.com/2017/08/03/facebook-finishes-its-move-to-neural-machine-translation/?ncid=rss</td><td>2347.0</td><td>5.0</td><td>3</td><td>1</td><td>31</td><td>21123</td></tr><tr><td>[Log] 31: What you should know about AI</td><td>[Log] 31: https://techcrunch.com/2017/08/01/what-you-should-know-about-ai/?ncid=rss</td><td>2224.0</td><td>8.0</td><td>2</td><td>3</td><td>32</td><td>32248</td></tr><tr><td>[Log] 32: HBO’s Silicon Valley on A.I. driven products: Not HotDog</td><td>[Log] 32: https://mxpnlcms.wpengine.com/blog/2017/07/27/ai-driven-products-hbo-silicon-valley/</td><td>1778.0</td><td>4.0</td><td>11</td><td>6</td><td>33</td><td>8001</td></tr><tr><td>[Log] 33: Why the future of deep learning depends on finding good data</td><td>[Log] 33: https://techcrunch.com/2017/07/21/why-the-future-of-deep-learning-depends-on-finding-good-data/?ncid=rss</td><td>1150.0</td><td>6.0</td><td>3</td><td>4</td><td>34</td><td>23288</td></tr><tr><td>[Log] 34: MIT is building a system that can identify a recipe using pictures of food</td><td>[Log] 34: https://techcrunch.com/2017/07/20/mit-is-building-a-system-that-can-identify-a-recipe-using-pictures-of-food/?ncid=rss</td><td>2528.0</td><td>5.0</td><td>6</td><td>2</td><td>35</td><td>53720</td></tr><tr><td>[Log] 35: Apple launches machine learning research site</td><td>[Log] 35: https://techcrunch.com/2017/07/19/apple-launches-machine-learning-research-site/?ncid=rss</td><td>2486.0</td><td>1.0</td><td>13</td><td>6</td><td>36</td><td>53449</td></tr><tr><td>[Log] 36: Metaphors for the Brain’s Anatomy and Functioning</td><td>[Log] 36: http://www.blog-thebrain.org/advanced/2017/07/14/1362/</td><td>2317.0</td><td>7.0</td><td>8</td><td>5</td><td>37</td><td>52712</td></tr><tr><td>[Log] 37: Computed Curation – Curating photography with neural networks</td><td>[Log] 37: http://www.creativeapplications.net/js/computed-curation-curating-photography-with-neural-networks/</td><td>2369.0</td><td>3.0</td><td>5</td><td>2</td><td>38</td><td>39681</td></tr><tr><td>[Log] 38: MIT CSAIL research offers a fully automated way to peer inside neural nets</td><td>[Log] 38: https://techcrunch.com/2017/06/30/mit-csail-research-offers-a-fully-automated-way-to-peer-inside-neural-nets/?ncid=rss</td><td>1612.0</td><td>5.0</td><td>5</td><td>2</td><td>39</td><td>39091</td></tr><tr><td>[Log] 39: Microsoft launches a new service for training deep neural networks on Azure</td><td>[Log] 39: https://techcrunch.com/2017/05/10/microsoft-launches-a-new-service-for-training-deep-neural-networks-on-azure/?ncid=rss</td><td>1136.0</td><td>6.0</td><td>14</td><td>3</td><td>40</td><td>28116</td></tr><tr><td>[Log] 40: Someone scraped 40,000 Tinder selfies to make a facial dataset for AI experiments</td><td>[Log] 40: https://techcrunch.com/2017/04/28/someone-scraped-40000-tinder-selfies-to-make-a-facial-dataset-for-ai-experiments/?ncid=rss</td><td>2721.0</td><td>3.0</td><td>14</td><td>6</td><td>41</td><td>25850</td></tr><tr><td>[Log] 41: 10 Machine Learning Examples in JavaScript</td><td>[Log] 41: http://tutorialzine.com/2017/04/10-machine-learning-examples-in-javascript/</td><td>3480.0</td><td>1.0</td><td>14</td><td>3</td><td>42</td><td>20880</td></tr><tr><td>[Log] 42: Neural networks made easy</td><td>[Log] 42: https://techcrunch.com/2017/04/13/neural-networks-made-easy/?ncid=rss</td><td>1143.0</td><td>8.0</td><td>5</td><td>6</td><td>43</td><td>17145</td></tr><tr><td>[Log] 43: Google DeepMind open sources Sonnet so you can build neural networks in TensorFlow even quicker</td><td>[Log] 43: https://techcrunch.com/2017/04/07/google-deepmind-open-sources-sonnet-so-you-can-build-neural-networks-in-tensorflow-even-quicker/?ncid=rss</td><td>2428.0</td><td>4.0</td><td>10</td><td>3</td><td>44</td><td>57058</td></tr><tr><td>[Log] 44: Google’s smarter, A.I.-powered translation system expands to more languages</td><td>[Log] 44: https://techcrunch.com/2017/03/06/googles-smarter-a-i-powered-translation-system-expands-to-more-languages/?ncid=rss</td><td>2877.0</td><td>4.0</td><td>2</td><td>6</td><td>45</td><td>19420</td></tr><tr><td>[Log] 45: Mark Zuckerberg’s ‘Jarvis’ Addresses AI’s Biggest Challenges</td><td>[Log] 45: https://www.cygnismedia.com/blog/artificial-intelligence-challenges/</td><td>776.0</td><td>1.0</td><td>7</td><td>6</td><td>46</td><td>3298</td></tr><tr><td>[Log] 46: Embark’s self-driving truck is ready to assist human drivers</td><td>[Log] 46: https://techcrunch.com/2017/02/24/embarks-self-driving-truck-is-ready-to-assist-human-drivers/?ncid=rss</td><td>1284.0</td><td>8.0</td><td>5</td><td>2</td><td>47</td><td>31137</td></tr><tr><td>\"[Log] 47: \"\"Zoom</td><td> Enhance\"\" Could Become a Reality</td><td>1812.40625</td><td>9.7625</td><td>1145</td><td>6</td><td>11</td><td>2</td></tr><tr><td>[Log] 48: FaceApp uses neural networks for photorealistic selfie tweaks</td><td>[Log] 48: https://techcrunch.com/2017/02/08/faceapp-uses-neural-networks-for-photorealistic-selfie-tweaks/?ncid=rss</td><td>1793.0</td><td>7.0</td><td>13</td><td>4</td><td>49</td><td>34515</td></tr><tr><td>[Log] 49: Mark Cuban on Why You Need to Study Artificial Intelligence or You’ll be a Dinosaur in 3 Years</td><td>[Log] 49: https://bothsidesofthetable.com/mark-cuban-on-why-you-need-to-study-artificial-intelligence-or-youll-be-a-dinosaur-in-3-years-db3447bea1b4?source=rss----97f98e5df342---4</td><td>2904.0</td><td>7.0</td><td>14</td><td>1</td><td>50</td><td>7260</td></tr><tr><td>[Log] 50: A First Brain-Imaging Study on the Effects of LSD</td><td>[Log] 50: http://www.blog-thebrain.org/advanced/2017/01/09/1281/</td><td>1473.0</td><td>3.0</td><td>14</td><td>3</td><td>51</td><td>0</td></tr><tr><td>[Log] 51: Mark Zuckerberg’s ‘Jarvis’ Addresses AI’s Biggest Challenges</td><td>[Log] 51: http://www.cygnismedia.com/blog/artificial-intelligence-challenges/</td><td>2894.0</td><td>5.0</td><td>6</td><td>3</td><td>52</td><td>23152</td></tr><tr><td>[Log] 52: Some Amazing Predictions Based on Brain Connectivity</td><td>[Log] 52: http://www.blog-thebrain.org/advanced/2016/12/12/some-amazing-predictions-based-on-brain-connectivity/</td><td>1932.0</td><td>7.0</td><td>0</td><td>2</td><td>53</td><td>30912</td></tr><tr><td>[Log] 53: Google’s AI Experiments help you understand neural networks by playing with them</td><td>[Log] 53: http://feedproxy.google.com/~r/Techcrunch/~3/WUoKqCnvY5M/</td><td>3225.0</td><td>1.0</td><td>4</td><td>3</td><td>54</td><td>34669</td></tr><tr><td>[Log] 54: Facebook Caffe2Go Deep-Learning System Powers Video ‘Style Transfer’ Test</td><td>[Log] 54: http://www.adweek.com/socialtimes/caffe2go/647127</td><td>3185.0</td><td>4.0</td><td>6</td><td>5</td><td>55</td><td>12740</td></tr><tr><td>[Log] 55: Is Machine Learning the Big Bad Wolf of Media? Whisper doesn’t think so.</td><td>[Log] 55: https://blog.mixpanel.com/2016/11/08/whisper-machine-learning/</td><td>2068.0</td><td>7.0</td><td>3</td><td>2</td><td>56</td><td>36707</td></tr><tr><td>[Log] 56: Os nosos centros tecnolóxicos e de investigación presentan este xoves no CESGA os seus avances en tecnoloxías intelixentes</td><td>[Log] 56: http://www.codigocero.com/Os-nosos-centros-tecnoloxicos-e-de-investigacion-presentan-este-xoves-no-CESGA</td><td>2354.0</td><td>1.0</td><td>8</td><td>4</td><td>57</td><td>1177</td></tr><tr><td>[Log] 57: Psychologist Scans Own Brain Twice per Week for a Year and a Half</td><td>[Log] 57: http://www.blog-thebrain.org/advanced/2016/10/20/psychologist-scans-own-brain-twice-per-week-for-a-year-and-a-half/</td><td>2921.0</td><td>1.0</td><td>13</td><td>4</td><td>58</td><td>48927</td></tr><tr><td>[Log] 58: Deep learning takes on GIFs, fashion, doodles and more at ACM Multimedia</td><td>[Log] 58: http://feedproxy.google.com/~r/Techcrunch/~3/HZlZ28umjr4/</td><td>2211.0</td><td>8.0</td><td>7</td><td>3</td><td>59</td><td>11055</td></tr><tr><td>[Log] 59: A xornada sobre Machine Learning do CESGA abranguerá máis de dúas ducias de relatorios</td><td>[Log] 59: http://www.codigocero.com/A-xornada-sobre-Machine-Learning-do-CESGA-abranguera-mais-de-duas-ducias-de</td><td>2865.0</td><td>3.0</td><td>8</td><td>6</td><td>60</td><td>49421</td></tr><tr><td>[Log] 60: Google unleashes deep learning tech on language with Neural Machine Translation</td><td>[Log] 60: http://feedproxy.google.com/~r/Techcrunch/~3/YEhcHjfYfYs/</td><td>1674.0</td><td>5.0</td><td>2</td><td>2</td><td>61</td><td>23018</td></tr><tr><td>[Log] 61: Facebook’s Artificial Intelligence Research lab releases open source fastText on GitHub</td><td>[Log] 61: http://feedproxy.google.com/~r/Techcrunch/~3/ROB5oi8KuFI/</td><td>2282.0</td><td>1.0</td><td>1</td><td>3</td><td>62</td><td>54198</td></tr><tr><td>[Log] 62: Hearing is like seeing for our brains and for machines</td><td>[Log] 62: http://feedproxy.google.com/~r/Techcrunch/~3/E4r0_mb2r9E/</td><td>2636.0</td><td>3.0</td><td>10</td><td>2</td><td>63</td><td>659</td></tr><tr><td>[Log] 63: The hard thing about machine learning</td><td>[Log] 63: https://blog.mixpanel.com/2016/08/03/hard-thing-about-machine-learning/</td><td>774.0</td><td>3.0</td><td>1</td><td>1</td><td>64</td><td>16641</td></tr><tr><td>[Log] 64: Convolutional Neural Networks in iOS 10 and macOS</td><td>[Log] 64: http://invasivecode.tumblr.com/post/147955476650</td><td>1030.0</td><td>8.0</td><td>11</td><td>1</td><td>65</td><td>19828</td></tr><tr><td>[Log] 65: Researchers use neural networks to turn face sketches into photos</td><td>[Log] 65: http://feedproxy.google.com/~r/Techcrunch/~3/CXC0RaDqeKo/</td><td>734.0</td><td>8.0</td><td>9</td><td>2</td><td>66</td><td>15047</td></tr><tr><td>[Log] 66: Machine Learning in Swift for iOS</td><td>[Log] 66: http://invasivecode.tumblr.com/post/146272280155</td><td>743.0</td><td>3.0</td><td>5</td><td>4</td><td>67</td><td>16160</td></tr><tr><td>[Log] 67: Introducing Gravity Jack Research: An Inside Look At The Heart of Our Innovation Center</td><td>[Log] 67: https://gravityjack.com/news/gravity-jack-research-inside-look/</td><td>1514.0</td><td>2.0</td><td>7</td><td>1</td><td>68</td><td>34065</td></tr><tr><td>[Log] 68: Twitter pays up to $150M for Magic Pony Technology, which uses neural networks to improve images</td><td>[Log] 68: http://feedproxy.google.com/~r/Techcrunch/~3/YL8NcsD8nog/</td><td>2854.0</td><td>3.0</td><td>8</td><td>2</td><td>69</td><td>17124</td></tr><tr><td>[Log] 69: Learn deeply, but baby, don’t fear the Skynet</td><td>[Log] 69: http://feedproxy.google.com/~r/Techcrunch/~3/Y2-DiQSRzRo/</td><td>1443.0</td><td>5.0</td><td>12</td><td>4</td><td>70</td><td>15512</td></tr><tr><td>[Log] 70: Neural networks: Artificial intelligence and our future</td><td>[Log] 70: http://feedproxy.google.com/~r/Techcrunch/~3/vt6py_Preqg/</td><td>1817.0</td><td>5.0</td><td>13</td><td>2</td><td>71</td><td>9085</td></tr><tr><td>[Log] 72: What Should We Do With All of That Content?</td><td>[Log] 72: http://www.adweek.com/socialtimes/what-should-we-do-with-all-of-that-content/638662</td><td>1266.0</td><td>6.0</td><td>4</td><td>2</td><td>73</td><td>16458</td></tr><tr><td>[Log] 73: ¿Qué es el Machine Learning?</td><td>[Log] 73: http://jarroba.com/que-es-el-machine-learning/</td><td>2275.0</td><td>4.0</td><td>2</td><td>6</td><td>74</td><td>55738</td></tr><tr><td>[Log] 74: Magic Pony’s neural network dreams up new imagery to expand an existing picture</td><td>[Log] 74: http://feedproxy.google.com/~r/Techcrunch/~3/V2vOBiN91Y8/</td><td>1264.0</td><td>1.0</td><td>1</td><td>5</td><td>75</td><td>18012</td></tr><tr><td>[Log] 75: From recording to reacting: Neural networks are changing notions of surveillance</td><td>[Log] 75: http://feedproxy.google.com/~r/Techcrunch/~3/-ELdi2uNQ2A/</td><td>2212.0</td><td>3.0</td><td>13</td><td>6</td><td>76</td><td>35392</td></tr><tr><td>[Log] 76: NVIDIA announces a supercomputer aimed at deep learning and AI</td><td>[Log] 76: http://feedproxy.google.com/~r/Techcrunch/~3/3zv0iKyNavw/</td><td>1871.0</td><td>6.0</td><td>14</td><td>4</td><td>77</td><td>26194</td></tr><tr><td>[Log] 77: Following Artificial Intelligence Breakthrough, European Go Champion Loses Against Computer</td><td>[Log] 77: http://feedproxy.google.com/~r/Techcrunch/~3/R83TWzcalgI/</td><td>2513.0</td><td>7.0</td><td>3</td><td>4</td><td>78</td><td>55914</td></tr><tr><td>[Log] 78: Years & Years Releases Music Video Created With Google’s DeepDream Technology</td><td>[Log] 78: http://feedproxy.google.com/~r/Techcrunch/~3/WH1cezmHceA/</td><td>1443.0</td><td>7.0</td><td>8</td><td>1</td><td>79</td><td>3968</td></tr><tr><td>[Log] 79: Facebook Updates Progress on Artificial Intelligence</td><td>[Log] 79: http://www.adweek.com/socialtimes/artificial-intelligence-update/629412</td><td>912.0</td><td>5.0</td><td>14</td><td>6</td><td>80</td><td>1824</td></tr><tr><td>[Log] 80: On Neuromarketing and Conversions – Interview with Tim Ash [+Webinar]</td><td>[Log] 80: http://blog.getresponse.com/on-neuromarketing-and-conversions-interview-with-tim-ash-webinar.html</td><td>2366.0</td><td>2.0</td><td>12</td><td>1</td><td>81</td><td>2958</td></tr><tr><td>[Log] 81: Understanding Artificial Intelligence &#8211; and Why We Fear It</td><td>[Log] 81: http://rss.feedsportal.com/c/35261/f/656072/s/481c0ec8/sc/14/l/0L0Shongkiat0N0Cblog0Cunderstanding0Eartificial0Eintelligence0C/story01.htm</td><td>1542.0</td><td>6.0</td><td>1</td><td>6</td><td>82</td><td>22359</td></tr><tr><td>[Log] 82: The “Coming Out” of the Electrical Synapse</td><td>[Log] 82: http://www.blog-thebrain.org/advanced/2015/03/14/988/</td><td>1201.0</td><td>1.0</td><td>0</td><td>1</td><td>83</td><td>8707</td></tr><tr><td>[Log] 83: How Google Uses Machine Learning And Neural Networks To Optimize Data Centers</td><td>[Log] 83: http://feedproxy.google.com/~r/Techcrunch/~3/pqloDGxiqb8/</td><td>3239.0</td><td>3.0</td><td>11</td><td>1</td><td>84</td><td>3239</td></tr><tr><td>[Log] 84: Zuck Knows If You've Been Bad Or Good, So Be Good For Goodness' Sake</td><td>[Log] 84: http://feedproxy.google.com/~r/Techcrunch/~3/tFA-5Utj6vA/</td><td>2566.0</td><td>3.0</td><td>8</td><td>4</td><td>85</td><td>25019</td></tr><tr><td>[Log] 85: Microsoft Improves Windows Phone Voice Recognition: 2X Faster, 15% More Accurate</td><td>[Log] 85: http://feedproxy.google.com/~r/Techcrunch/~3/8me_bd7gHv0/</td><td>2089.0</td><td>4.0</td><td>4</td><td>1</td><td>86</td><td>49614</td></tr><tr><td>[Log] 86: How Google's Acquisition Of DNNresearch Allowed It To Build Its Impressive Google+ Photo Search In 6 Months</td><td>[Log] 86: http://feedproxy.google.com/~r/Techcrunch/~3/vW_ie-I_fss/</td><td>1530.0</td><td>4.0</td><td>12</td><td>3</td><td>87</td><td>33660</td></tr><tr><td>[Log] 87: Google's Cloud Is Eating Apple's Lunch</td><td>[Log] 87: http://feedproxy.google.com/~r/Techcrunch/~3/gRBLqOod1rs/</td><td>953.0</td><td>6.0</td><td>13</td><td>2</td><td>88</td><td>5956</td></tr></tbody></table></div>"
      ]
     },
     "metadata": {
      "application/vnd.databricks.v1+output": {
       "addedWidgets": {},
       "aggData": [],
       "aggError": "",
       "aggOverflow": false,
       "aggSchema": [],
       "aggSeriesLimitReached": false,
       "aggType": "",
       "arguments": {},
       "columnCustomDisplayInfos": {},
       "data": [
        [
         "10 Companies Using Machine Learning in Cool Ways",
         null,
         1742.0,
         9.0,
         17,
         9,
         5,
         25000
        ],
        [
         "How Artificial Intelligence Is Revolutionizing the Sector",
         null,
         962.0,
         6.0,
         0,
         1,
         10,
         42000
        ],
        [
         "5 ways Data Science and Machine Learning impact business",
         null,
         761.0,
         0.0,
         17,
         1,
         14,
         21000
        ],
        [
         "How Machine Learning can help Cryptocurrency Traders Maximize their Gains",
         "https://cryptovest.com/news/how-machine-learning-can-help-cryptocurrency-traders-maximize-their-gains/?utm_source=SocialAnimal&utm_medium=referral",
         753.0,
         3.0,
         0,
         1,
         78,
         77000
        ],
        [
         "Tech companies should stop pretending AI won’t destroy jobs",
         "https://www.technologyreview.com/s/610298/tech-companies-should-stop-pretending-ai-wont-destroy-jobs/",
         1118.0,
         2.0,
         17,
         1,
         62,
         59400
        ],
        [
         "Artificial intelligence is going to completely change your life",
         null,
         1581.0,
         4.0,
         17,
         2,
         60,
         35000
        ],
        [
         "Google CEO Sundar Pichai says AI is more profound than electricity or fire",
         null,
         256.0,
         0.0,
         27,
         1,
         95,
         29000
        ],
        [
         "How machine learning is changing the financial industry",
         null,
         1267.0,
         2.0,
         17,
         4,
         124,
         37000
        ],
        [
         "New AI can work out whether you're gay or straight from a photograph",
         "https://www.theguardian.com/technology/2017/sep/07/new-artificial-intelligence-can-tell-whether-youre-gay-or-straight-from-a-photograph",
         971.0,
         10.0,
         17,
         1,
         228,
         67300
        ],
        [
         "Researchers have linked a human brain to the Internet for the first time ever",
         "https://futurism.com/researchers-have-linked-a-human-brain-to-the-internet-for-the-first-time-ever/",
         369.0,
         6.0,
         17,
         1,
         222,
         60100
        ],
        [
         "Who’s a good AI? Dog-based data creates a canine machine learning system",
         "https://techcrunch.com/2018/04/11/whos-a-good-ai-dog-based-data-creates-a-canine-machine-learning-system/",
         635.0,
         3.0,
         1,
         2,
         12,
         3200
        ],
        [
         "Which One to Choose for Your Problem",
         null,
         1631.0,
         6.0,
         6,
         9,
         180,
         37000
        ],
        [
         "A computer was asked to predict which start-ups would be successful. The results were astonishing",
         null,
         571.0,
         4.0,
         17,
         1,
         277,
         55000
        ],
        [
         "AI Is Inventing Languages Humans Can’t Understand. Should We Stop It?",
         "https://www.fastcodesign.com/90132632/ai-is-inventing-its-own-perfect-languages-should-we-let-it",
         1333.0,
         8.0,
         17,
         4,
         284,
         54800
        ],
        [
         "An Artificial Intelligence Developed Its Own Non-Human Language",
         "https://www.theatlantic.com/technology/archive/2017/06/artificial-intelligence-develops-its-own-non-human-language/530436/",
         364.0,
         5.0,
         17,
         2,
         313,
         54600
        ],
        [
         "Denmark's largest bank is using AI and machine learning to ‘tear everything apart’ – and it’s starting to pay off",
         null,
         515.0,
         2.0,
         17,
         5,
         173,
         27000
        ],
        [
         "How Artificial Intelligence Is Key for Autonomous Vehicle Development",
         null,
         1135.0,
         8.0,
         0,
         1,
         146,
         20000
        ],
        [
         "Machine Learning Zone: OpenAI competition takes on Sonic the Hedgehog",
         null,
         666.0,
         4.0,
         0,
         3,
         18,
         2400
        ],
        [
         "Reverie Labs uses new machine learning algorithms to fix drug development bottlenecks",
         null,
         787.0,
         4.0,
         0,
         1,
         39,
         3800
        ],
        [
         "Machine Learning Applied to Big Data, Explained",
         null,
         421.0,
         2.0,
         17,
         1,
         277,
         26000
        ],
        [
         "Physicists have discovered what makes neural networks so extraordinarily powerful",
         null,
         1065.0,
         1.0,
         19,
         1,
         171,
         14000
        ],
        [
         "A deep-learning machine was trained to spot criminals by looking at mugshots",
         null,
         908.0,
         2.0,
         17,
         1,
         226,
         14000
        ],
        [
         "Getting Value from MachineLearning Isn’t About Fancier Algorithms — It’s About Making It Easier to Use",
         null,
         1260.0,
         6.0,
         4,
         1,
         49,
         3000
        ],
        [
         "The Amazing Ways Tesla Is Using Artificial Intelligence And Big Data",
         null,
         950.0,
         6.0,
         17,
         1,
         106,
         5600
        ],
        [
         "10 Machine LearningAlgorithms You Should Know to Become a Data Scientist - DZone AI",
         null,
         1761.0,
         49.0,
         4,
         10,
         30,
         1500
        ],
        [
         "Google’s Artificial-Intelligence Wizard Unveils a New Twist on Neural Networks",
         null,
         911.0,
         10.0,
         23,
         1,
         174,
         8400
        ],
        [
         "and the part artificial intelligence has to play",
         null,
         971.0,
         5.0,
         17,
         2,
         127,
         5300
        ],
        [
         "Feature Labs launches out of MIT to accelerate the development of machinelearning algorithms",
         null,
         458.0,
         1.0,
         0,
         2,
         61,
         2500
        ],
        [
         "CometML wants to do for machine learning what GitHub did for code",
         null,
         458.0,
         3.0,
         0,
         3,
         19,
         757
        ],
        [
         "Why it’s a big deal that AI knows how to bluff in poker",
         null,
         782.0,
         8.0,
         5,
         1,
         176,
         6400
        ],
        [
         "Discussing the limits of artificial intelligence",
         null,
         2080.0,
         4.0,
         0,
         4,
         127,
         3600
        ],
        [
         "Crean inteligencia artificial para evaluar incendios y catástrofes naturales",
         "https://www.fayerwayer.com/2018/04/crean-inteligencia-artificial-evaluar-incendios-catastrofes-naturales",
         250.0,
         4.0,
         1,
         2,
         1,
         22
        ],
        [
         "What's the difference between data science, machinelearning, and artificialintelligence?",
         "http://varianceexplained.org/r/ds-ml-ai/",
         1763.0,
         1.0,
         29,
         1,
         105,
         2300
        ],
        [
         "The Artificial Intelligence Startups Redefining Industries",
         null,
         650.0,
         10.0,
         0,
         3,
         133,
         2800
        ],
        [
         "Top 20 PythonAI and MachineLearning Open Source Projects",
         "https://www.kdnuggets.com/2018/02/top-20-python-ai-machine-learning-open-source-projects.html",
         1184.0,
         39.0,
         8,
         1,
         63,
         1300
        ],
        [
         "5 Key Artificial IntelligencePredictions For 2018: HowMachine Learning Will Change Everything",
         "https://www.forbes.com/sites/bernardmarr/2017/12/18/5-key-artificial-intelligence-predictions-for-2018-how-machine-learning-will-change-everything/",
         957.0,
         9.0,
         17,
         1,
         127,
         2500
        ],
        [
         "Pythonovertakes R, becomes the leader in Data Science, MachineLearningplatforms",
         "https://www.kdnuggets.com/2017/08/python-overtakes-r-leader-analytics-data-science.html",
         627.0,
         2.0,
         5,
         4,
         239,
         4500
        ],
        [
         "¿Podremos crear máquinas verdaderamente inteligentes?",
         "https://elpais.com/tecnologia/2018/03/27/actualidad/1522139782_730950.html",
         895.0,
         1.0,
         13,
         1,
         23,
         422
        ],
        [
         "Artificial Intelligence Isn't Killing Jobs; It's Killing Business Models",
         null,
         1097.0,
         2.0,
         17,
         1,
         89,
         1600
        ],
        [
         "10 Ways Machine Learning Is Revolutionizing Manufacturing In 2018",
         "https://www.forbes.com/sites/louiscolumbus/2018/03/11/10-ways-machine-learning-is-revolutionizing-manufacturing-in-2018/#7199e52623ac",
         1262.0,
         10.0,
         17,
         10,
         44,
         715
        ],
        [
         "10 Ways Machine Learning Is Revolutionizing Marketing",
         "https://www.forbes.com/sites/louiscolumbus/2018/02/25/10-ways-machine-learning-is-revolutionizing-marketing/#4219d395bb64",
         1738.0,
         32.0,
         17,
         9,
         58,
         907
        ],
        [
         "Top 10 Machine LearningAlgorithms for Beginners",
         null,
         1813.0,
         6.0,
         17,
         5,
         186,
         2800
        ],
        [
         "A Tour of The Top 10 Algorithms for MachineLearning Newbies",
         null,
         2400.0,
         5.0,
         21,
         11,
         94,
         1300
        ],
        [
         "What’s the difference betweenartificial intelligence, machinelearning, and deep learning? | Qualcomm",
         "https://www.qualcomm.com/news/onq/2017/09/01/whats-difference-between-artificial-intelligence-machine-learning-and-deep",
         662.0,
         2.0,
         17,
         4,
         234,
         3000
        ],
        [
         "How Quantum Computers Will Revolutionize ArtificialIntelligence, MachineLearning And Big Data",
         "https://www.forbes.com/sites/bernardmarr/2017/09/05/how-quantum-computers-will-revolutionize-artificial-intelligence-machine-learning-and-big-data/",
         800.0,
         6.0,
         17,
         2,
         231,
         2800
        ],
        [
         "Jack Ma: Artificialintelligence, machine learningmay cause World War III",
         "http://www.businessinsider.com/alibaba-stock-price-jack-ma-artificial-intelligence-machine-learning-may-cause-world-war-iii-2017-6",
         367.0,
         5.0,
         17,
         1,
         307,
         3300
        ],
        [
         "Google and MIT’s new machine learning algorithmsretouch your photos before you take them",
         null,
         507.0,
         8.0,
         13,
         2,
         265,
         2600
        ],
        [
         "How to create a NeuralNetwork in JavaScript in only 30 lines of code",
         null,
         992.0,
         10.0,
         30,
         6,
         250,
         2300
        ],
        [
         "PythonOvertakes R for Data Science and MachineLearning",
         "https://www.datasciencecentral.com/profiles/blogs/python-overtakes-r-for-data-science-and-machine-learning",
         499.0,
         10.0,
         5,
         2,
         237,
         1400
        ],
        [
         "Salesforce created an algorithm that automatically summarizes text using machine learning",
         null,
         619.0,
         10.0,
         3,
         1,
         345,
         1800
        ],
        [
         "Construir inteligencia artificial que construya inteligencia artificial",
         "https://www.nytimes.com/es/2017/11/07/inteligencia-artificial-auto-ml-google/",
         1152.0,
         8.0,
         17,
         3,
         168,
         867
        ],
        [
         "MachineLearningWorkflows in Python from Scratch Part 1: Data Preparation",
         "https://www.kdnuggets.com/2017/05/machine-learning-workflows-python-scratch-part-1.html",
         2363.0,
         4.0,
         17,
         4,
         330,
         1500
        ],
        [
         "Por qué ‘machine learning’ sera la tecnología más importante en 2018",
         "https://elpais.com/tecnologia/2017/11/28/actualidad/1511866764_933798.html",
         988.0,
         1.0,
         0,
         1,
         147,
         631
        ],
        [
         "Get started with machinelearning using Python",
         "https://www.analyticsvidhya.com/blog/2017/05/pydata-amsterdam-2017-machine-learning-deep-learning-data-science/",
         759.0,
         20.0,
         1,
         1,
         328,
         1200
        ],
        [
         "MachineLearningExercises in Python: An Introductory Tutorial Series",
         "https://www.kdnuggets.com/2017/07/machine-learning-exercises-python-introductory-tutorial-series.html",
         1098.0,
         8.0,
         17,
         3,
         272,
         950
        ],
        [
         "22 talks from PyData 2017 | Deep Learning, MachineLearning & NLP",
         "https://www.analyticsvidhya.com/blog/2017/05/pydata-amsterdam-2017-machine-learning-deep-learning-data-science/",
         2797.0,
         22.0,
         7,
         22,
         349,
         1200
        ],
        [
         "La inteligencia artificial ya diagnostica enfermedades tan bien como los médicos",
         "http://www.lavanguardia.com/ciencia/cuerpo-humano/20180223/44950677766/inteligencia-artificial-machine-learning-diagnosticar-enfermedades-medicos-eficiencia.html?platform=hootsuite",
         1120.0,
         2.0,
         0,
         4,
         60,
         196
        ],
        [
         "Modern Machine LearningAlgorithms: Strengths and Weaknesses",
         null,
         2488.0,
         11.0,
         17,
         5,
         343,
         1100
        ],
        [
         "Core ML and Vision: MachineLearning in iOS 11 Tutorial",
         "https://www.raywenderlich.com/164213/coreml-and-vision-machine-learning-in-ios-11-tutorial",
         2049.0,
         12.0,
         23,
         7,
         319,
         668
        ],
        [
         "Tutorial to deploy Machine Learning models in Production as APIs (using Flask)",
         "https://www.analyticsvidhya.com/blog/2017/09/machine-learning-models-as-apis-using-flask/",
         2542.0,
         2.0,
         0,
         4,
         208,
         424
        ],
        [
         "Getting the NDA out of the Way with Machine Learning",
         "https://blog.bigml.com/2018/04/18/getting-the-nda-out-of-the-way-with-machine-learning/",
         1011.0,
         15.0,
         0,
         2,
         6,
         8
        ],
        [
         "Tutorial on Automated MachineLearning using MLBox",
         "https://www.analyticsvidhya.com/blog/2017/07/mlbox-library-automated-machine-learning/",
         2189.0,
         3.0,
         11,
         8,
         292,
         367
        ],
        [
         "[Log] 0: Allegro.AI nabs $11M for ‘deep learning as a service’, for businesses to build computer vision products",
         "[Log] 0: https://techcrunch.com/2018/04/25/allegro-ai-nabs-11m-for-a-platform-that-helps-businesses-build-computer-vision-based-services/",
         1864.0,
         6.0,
         12,
         2,
         1,
         42406
        ],
        [
         "[Log] 1: Want to fool a computer vision system? Just tweak some colors",
         "[Log] 1: https://techcrunch.com/2018/04/16/want-to-fool-a-computer-vision-system-just-tweak-some-colors/",
         990.0,
         6.0,
         7,
         3,
         2,
         1733
        ],
        [
         "[Log] 2: UK report urges action to combat AI bias",
         "[Log] 2: https://techcrunch.com/2018/04/16/uk-report-urges-action-to-combat-ai-bias/",
         1741.0,
         5.0,
         10,
         3,
         3,
         35691
        ],
        [
         "[Log] 3: The 10 most exciting open source projects of 2018",
         "[Log] 3: http://blog.honeypot.io/most-exciting-open-source-projects-2018/",
         1229.0,
         5.0,
         6,
         4,
         4,
         11061
        ],
        [
         "[Log] 4: Why 2018 will be the year apps go to the edge",
         "[Log] 4: https://techcrunch.com/2018/04/03/why-2018-will-be-the-year-apps-go-to-the-edge/",
         2975.0,
         3.0,
         0,
         2,
         5,
         51319
        ],
        [
         "[Log] 5: Arm chips with Nvidia AI could change the Internet of Things",
         "[Log] 5: https://techcrunch.com/2018/03/27/arm-chips-will-with-nvidia-ai-could-change-the-internet-of-things/",
         1864.0,
         1.0,
         10,
         4,
         6,
         30756
        ],
        [
         "[Log] 6: Precious uses artificial intelligence to help parents figure out what to do with all their baby photos",
         "[Log] 6: https://techcrunch.com/2018/03/27/precious-uses-artificial-intelligence-to-help-parents-figure-out-what-to-do-with-all-their-baby-photos/",
         2460.0,
         1.0,
         12,
         2,
         7,
         58425
        ],
        [
         "[Log] 7: Learning To See – Making deep neural network predictions on live camera input",
         "[Log] 7: http://www.creativeapplications.net/openframeworks/learning-to-see-making-deep-neural-network-predictions-on-live-camera-input/",
         2136.0,
         5.0,
         9,
         3,
         8,
         48060
        ],
        [
         "[Log] 8: IBM launches deep learning as a service inside its Watson Studio",
         "[Log] 8: https://techcrunch.com/2018/03/19/ibm-launches-deep-learning-as-a-service-inside-its-watson-studio/",
         2833.0,
         7.0,
         0,
         2,
         9,
         0
        ],
        [
         "[Log] 9: Here are 64 startups that launched today at Y Combinator’s W18 Demo Day",
         "[Log] 9: https://techcrunch.com/2018/03/19/here-are-64-startups-that-launched-today-at-y-combinators-w18-demo-day/",
         1995.0,
         7.0,
         6,
         6,
         10,
         4988
        ],
        [
         "[Log] 10: Voicery makes synthesized voices sound more like humans",
         "[Log] 10: https://techcrunch.com/2018/03/14/voicery-makes-synthesized-voices-sound-more-like-humans/",
         2332.0,
         5.0,
         1,
         6,
         11,
         27984
        ],
        [
         "[Log] 11: MIT’s new chip could bring neural nets to battery-powered gadgets",
         "[Log] 11: https://techcrunch.com/2018/02/14/mits-new-chip-could-bring-neural-nets-to-battery-powered-gadgets/?ncid=rss",
         1998.0,
         6.0,
         3,
         3,
         12,
         45455
        ],
        [
         "[Log] 12: Ingenieros de la Universidad de Chile sofistican mecanismos para interactuar con robots",
         "[Log] 12: https://www.fayerwayer.com/2018/01/universidad-chile-interactuar-robots/",
         3442.0,
         3.0,
         9,
         2,
         13,
         76585
        ],
        [
         "[Log] 13: Sleep deprivation is making product teams age faster and think slower",
         "[Log] 13: https://mixpanel.com/blog/2018/01/11/well-slept-teams-build-better-products/",
         2696.0,
         6.0,
         5,
         1,
         14,
         24264
        ],
        [
         "[Log] 14: Frank Chen will make you a believer in AI",
         "[Log] 14: https://mixpanel.com/blog/2017/12/12/frank-chen-ai-andreessen-horowitz/",
         1913.0,
         5.0,
         1,
         6,
         15,
         5261
        ],
        [
         "[Log] 15: Story roundup: data to be grateful for this holiday season",
         "[Log] 15: https://mixpanel.com/blog/2017/11/22/story-roundup-data-to-be-grateful-for/",
         1858.0,
         8.0,
         5,
         2,
         16,
         25548
        ],
        [
         "[Log] 16: Story roundup: data to be grateful for this holiday season",
         "[Log] 16: https://mxpnlcms.wpengine.com/blog/2017/11/22/story-roundup-data-to-be-grateful-for/",
         2457.0,
         3.0,
         3,
         4,
         17,
         0
        ],
        [
         "[Log] 17: Aprendizaje Profundo: una Guía rápida",
         "[Log] 17: http://www.aprendemachinelearning.com/aprendizaje-profundo-una-guia-rapida/",
         2592.0,
         1.0,
         12,
         6,
         18,
         56376
        ],
        [
         "[Log] 18: Principales Algoritmos usados en Machine Learning",
         "[Log] 18: http://www.aprendemachinelearning.com/principales-algoritmos-usados-en-machine-learning/",
         1718.0,
         2.0,
         12,
         2,
         19,
         13315
        ],
        [
         "[Log] 19: Aplicaciones del Machine Learning",
         "[Log] 19: http://www.aprendemachinelearning.com/aplicaciones-del-machine-learning/",
         1293.0,
         8.0,
         7,
         6,
         20,
         27476
        ],
        [
         "[Log] 20: Mapbox acquires neural network startup Mapdata to help it expand into AR maps",
         "[Log] 20: https://techcrunch.com/2017/11/03/mapbox-acquires-mapdata-to-help-it-expand-into-ar-maps/?ncid=rss",
         3023.0,
         7.0,
         6,
         1,
         21,
         55170
        ],
        [
         "[Log] 21: How video game tech makes neural networks possible",
         "[Log] 21: https://techcrunch.com/2017/10/27/how-video-game-tech-makes-neural-networks-possible/?ncid=rss",
         3485.0,
         2.0,
         10,
         6,
         22,
         871
        ],
        [
         "[Log] 22: Google introduces Neural Networks API in developer preview of Android 8.1",
         "[Log] 22: https://techcrunch.com/2017/10/25/google-introduces-neural-networks-api-in-developer-preview-of-android-8-1/?ncid=rss",
         2093.0,
         3.0,
         14,
         2,
         23,
         39767
        ],
        [
         "[Log] 23: The Brain and Body Are Really One, Especially When It Comes to Emotions",
         "[Log] 23: http://www.blog-thebrain.org/advanced/2017/10/11/the-brain-and-body-are-really-one-especially-when-it-comes-to-emotions/",
         1490.0,
         7.0,
         0,
         1,
         24,
         16390
        ],
        [
         "[Log] 24: The Brain: The History of an Organ Like No Other",
         "[Log] 24: http://www.blog-thebrain.org/advanced/2017/09/26/1395/",
         1238.0,
         6.0,
         8,
         5,
         25,
         23832
        ],
        [
         "[Log] 25: Apple’s new TrueDepth Camera System and its Implications",
         "[Log] 25: https://www.cygnismedia.com/blog/true-depth-camera-system/",
         2583.0,
         1.0,
         8,
         6,
         26,
         12269
        ],
        [
         "[Log] 26: Frank Lessons on AI from the Developer of the World’s First Hotdog Recognizer",
         "[Log] 26: https://mxpnlcms.wpengine.com/blog/2017/08/31/frank-lessons-on-ai-from-tim-anglade/",
         1007.0,
         2.0,
         7,
         6,
         27,
         10574
        ],
        [
         "[Log] 27: Humans Are the Product of Dynamic Processes on Multiple Time Scales",
         "[Log] 27: http://www.blog-thebrain.org/advanced/2017/08/21/humans-are-the-product-of-dynamic-processes-on-multiple-time-scales/",
         978.0,
         8.0,
         0,
         1,
         28,
         24206
        ],
        [
         "[Log] 28: Prisma shifts focus to b2b with an API for AI-powered mobile effects",
         "[Log] 28: https://techcrunch.com/2017/08/19/prisma-shifts-focus-to-b2b-with-an-api-for-ai-powered-mobile-effects/?ncid=rss",
         3019.0,
         5.0,
         3,
         2,
         29,
         13586
        ],
        [
         "[Log] 30: Facebook finishes its move to neural machine translation",
         "[Log] 30: https://techcrunch.com/2017/08/03/facebook-finishes-its-move-to-neural-machine-translation/?ncid=rss",
         2347.0,
         5.0,
         3,
         1,
         31,
         21123
        ],
        [
         "[Log] 31: What you should know about AI",
         "[Log] 31: https://techcrunch.com/2017/08/01/what-you-should-know-about-ai/?ncid=rss",
         2224.0,
         8.0,
         2,
         3,
         32,
         32248
        ],
        [
         "[Log] 32: HBO’s Silicon Valley on A.I. driven products: Not HotDog",
         "[Log] 32: https://mxpnlcms.wpengine.com/blog/2017/07/27/ai-driven-products-hbo-silicon-valley/",
         1778.0,
         4.0,
         11,
         6,
         33,
         8001
        ],
        [
         "[Log] 33: Why the future of deep learning depends on finding good data",
         "[Log] 33: https://techcrunch.com/2017/07/21/why-the-future-of-deep-learning-depends-on-finding-good-data/?ncid=rss",
         1150.0,
         6.0,
         3,
         4,
         34,
         23288
        ],
        [
         "[Log] 34: MIT is building a system that can identify a recipe using pictures of food",
         "[Log] 34: https://techcrunch.com/2017/07/20/mit-is-building-a-system-that-can-identify-a-recipe-using-pictures-of-food/?ncid=rss",
         2528.0,
         5.0,
         6,
         2,
         35,
         53720
        ],
        [
         "[Log] 35: Apple launches machine learning research site",
         "[Log] 35: https://techcrunch.com/2017/07/19/apple-launches-machine-learning-research-site/?ncid=rss",
         2486.0,
         1.0,
         13,
         6,
         36,
         53449
        ],
        [
         "[Log] 36: Metaphors for the Brain’s Anatomy and Functioning",
         "[Log] 36: http://www.blog-thebrain.org/advanced/2017/07/14/1362/",
         2317.0,
         7.0,
         8,
         5,
         37,
         52712
        ],
        [
         "[Log] 37: Computed Curation – Curating photography with neural networks",
         "[Log] 37: http://www.creativeapplications.net/js/computed-curation-curating-photography-with-neural-networks/",
         2369.0,
         3.0,
         5,
         2,
         38,
         39681
        ],
        [
         "[Log] 38: MIT CSAIL research offers a fully automated way to peer inside neural nets",
         "[Log] 38: https://techcrunch.com/2017/06/30/mit-csail-research-offers-a-fully-automated-way-to-peer-inside-neural-nets/?ncid=rss",
         1612.0,
         5.0,
         5,
         2,
         39,
         39091
        ],
        [
         "[Log] 39: Microsoft launches a new service for training deep neural networks on Azure",
         "[Log] 39: https://techcrunch.com/2017/05/10/microsoft-launches-a-new-service-for-training-deep-neural-networks-on-azure/?ncid=rss",
         1136.0,
         6.0,
         14,
         3,
         40,
         28116
        ],
        [
         "[Log] 40: Someone scraped 40,000 Tinder selfies to make a facial dataset for AI experiments",
         "[Log] 40: https://techcrunch.com/2017/04/28/someone-scraped-40000-tinder-selfies-to-make-a-facial-dataset-for-ai-experiments/?ncid=rss",
         2721.0,
         3.0,
         14,
         6,
         41,
         25850
        ],
        [
         "[Log] 41: 10 Machine Learning Examples in JavaScript",
         "[Log] 41: http://tutorialzine.com/2017/04/10-machine-learning-examples-in-javascript/",
         3480.0,
         1.0,
         14,
         3,
         42,
         20880
        ],
        [
         "[Log] 42: Neural networks made easy",
         "[Log] 42: https://techcrunch.com/2017/04/13/neural-networks-made-easy/?ncid=rss",
         1143.0,
         8.0,
         5,
         6,
         43,
         17145
        ],
        [
         "[Log] 43: Google DeepMind open sources Sonnet so you can build neural networks in TensorFlow even quicker",
         "[Log] 43: https://techcrunch.com/2017/04/07/google-deepmind-open-sources-sonnet-so-you-can-build-neural-networks-in-tensorflow-even-quicker/?ncid=rss",
         2428.0,
         4.0,
         10,
         3,
         44,
         57058
        ],
        [
         "[Log] 44: Google’s smarter, A.I.-powered translation system expands to more languages",
         "[Log] 44: https://techcrunch.com/2017/03/06/googles-smarter-a-i-powered-translation-system-expands-to-more-languages/?ncid=rss",
         2877.0,
         4.0,
         2,
         6,
         45,
         19420
        ],
        [
         "[Log] 45: Mark Zuckerberg’s ‘Jarvis’ Addresses AI’s Biggest Challenges",
         "[Log] 45: https://www.cygnismedia.com/blog/artificial-intelligence-challenges/",
         776.0,
         1.0,
         7,
         6,
         46,
         3298
        ],
        [
         "[Log] 46: Embark’s self-driving truck is ready to assist human drivers",
         "[Log] 46: https://techcrunch.com/2017/02/24/embarks-self-driving-truck-is-ready-to-assist-human-drivers/?ncid=rss",
         1284.0,
         8.0,
         5,
         2,
         47,
         31137
        ],
        [
         "\"[Log] 47: \"\"Zoom",
         " Enhance\"\" Could Become a Reality",
         1812.40625,
         9.7625,
         1145,
         6,
         11,
         2
        ],
        [
         "[Log] 48: FaceApp uses neural networks for photorealistic selfie tweaks",
         "[Log] 48: https://techcrunch.com/2017/02/08/faceapp-uses-neural-networks-for-photorealistic-selfie-tweaks/?ncid=rss",
         1793.0,
         7.0,
         13,
         4,
         49,
         34515
        ],
        [
         "[Log] 49: Mark Cuban on Why You Need to Study Artificial Intelligence or You’ll be a Dinosaur in 3 Years",
         "[Log] 49: https://bothsidesofthetable.com/mark-cuban-on-why-you-need-to-study-artificial-intelligence-or-youll-be-a-dinosaur-in-3-years-db3447bea1b4?source=rss----97f98e5df342---4",
         2904.0,
         7.0,
         14,
         1,
         50,
         7260
        ],
        [
         "[Log] 50: A First Brain-Imaging Study on the Effects of LSD",
         "[Log] 50: http://www.blog-thebrain.org/advanced/2017/01/09/1281/",
         1473.0,
         3.0,
         14,
         3,
         51,
         0
        ],
        [
         "[Log] 51: Mark Zuckerberg’s ‘Jarvis’ Addresses AI’s Biggest Challenges",
         "[Log] 51: http://www.cygnismedia.com/blog/artificial-intelligence-challenges/",
         2894.0,
         5.0,
         6,
         3,
         52,
         23152
        ],
        [
         "[Log] 52: Some Amazing Predictions Based on Brain Connectivity",
         "[Log] 52: http://www.blog-thebrain.org/advanced/2016/12/12/some-amazing-predictions-based-on-brain-connectivity/",
         1932.0,
         7.0,
         0,
         2,
         53,
         30912
        ],
        [
         "[Log] 53: Google’s AI Experiments help you understand neural networks by playing with them",
         "[Log] 53: http://feedproxy.google.com/~r/Techcrunch/~3/WUoKqCnvY5M/",
         3225.0,
         1.0,
         4,
         3,
         54,
         34669
        ],
        [
         "[Log] 54: Facebook Caffe2Go Deep-Learning System Powers Video ‘Style Transfer’ Test",
         "[Log] 54: http://www.adweek.com/socialtimes/caffe2go/647127",
         3185.0,
         4.0,
         6,
         5,
         55,
         12740
        ],
        [
         "[Log] 55: Is Machine Learning the Big Bad Wolf of Media? Whisper doesn’t think so.",
         "[Log] 55: https://blog.mixpanel.com/2016/11/08/whisper-machine-learning/",
         2068.0,
         7.0,
         3,
         2,
         56,
         36707
        ],
        [
         "[Log] 56: Os nosos centros tecnolóxicos e de investigación presentan este xoves no CESGA os seus avances en tecnoloxías intelixentes",
         "[Log] 56: http://www.codigocero.com/Os-nosos-centros-tecnoloxicos-e-de-investigacion-presentan-este-xoves-no-CESGA",
         2354.0,
         1.0,
         8,
         4,
         57,
         1177
        ],
        [
         "[Log] 57: Psychologist Scans Own Brain Twice per Week for a Year and a Half",
         "[Log] 57: http://www.blog-thebrain.org/advanced/2016/10/20/psychologist-scans-own-brain-twice-per-week-for-a-year-and-a-half/",
         2921.0,
         1.0,
         13,
         4,
         58,
         48927
        ],
        [
         "[Log] 58: Deep learning takes on GIFs, fashion, doodles and more at ACM Multimedia",
         "[Log] 58: http://feedproxy.google.com/~r/Techcrunch/~3/HZlZ28umjr4/",
         2211.0,
         8.0,
         7,
         3,
         59,
         11055
        ],
        [
         "[Log] 59: A xornada sobre Machine Learning do CESGA abranguerá máis de dúas ducias de relatorios",
         "[Log] 59: http://www.codigocero.com/A-xornada-sobre-Machine-Learning-do-CESGA-abranguera-mais-de-duas-ducias-de",
         2865.0,
         3.0,
         8,
         6,
         60,
         49421
        ],
        [
         "[Log] 60: Google unleashes deep learning tech on language with Neural Machine Translation",
         "[Log] 60: http://feedproxy.google.com/~r/Techcrunch/~3/YEhcHjfYfYs/",
         1674.0,
         5.0,
         2,
         2,
         61,
         23018
        ],
        [
         "[Log] 61: Facebook’s Artificial Intelligence Research lab releases open source fastText on GitHub",
         "[Log] 61: http://feedproxy.google.com/~r/Techcrunch/~3/ROB5oi8KuFI/",
         2282.0,
         1.0,
         1,
         3,
         62,
         54198
        ],
        [
         "[Log] 62: Hearing is like seeing for our brains and for machines",
         "[Log] 62: http://feedproxy.google.com/~r/Techcrunch/~3/E4r0_mb2r9E/",
         2636.0,
         3.0,
         10,
         2,
         63,
         659
        ],
        [
         "[Log] 63: The hard thing about machine learning",
         "[Log] 63: https://blog.mixpanel.com/2016/08/03/hard-thing-about-machine-learning/",
         774.0,
         3.0,
         1,
         1,
         64,
         16641
        ],
        [
         "[Log] 64: Convolutional Neural Networks in iOS 10 and macOS",
         "[Log] 64: http://invasivecode.tumblr.com/post/147955476650",
         1030.0,
         8.0,
         11,
         1,
         65,
         19828
        ],
        [
         "[Log] 65: Researchers use neural networks to turn face sketches into photos",
         "[Log] 65: http://feedproxy.google.com/~r/Techcrunch/~3/CXC0RaDqeKo/",
         734.0,
         8.0,
         9,
         2,
         66,
         15047
        ],
        [
         "[Log] 66: Machine Learning in Swift for iOS",
         "[Log] 66: http://invasivecode.tumblr.com/post/146272280155",
         743.0,
         3.0,
         5,
         4,
         67,
         16160
        ],
        [
         "[Log] 67: Introducing Gravity Jack Research: An Inside Look At The Heart of Our Innovation Center",
         "[Log] 67: https://gravityjack.com/news/gravity-jack-research-inside-look/",
         1514.0,
         2.0,
         7,
         1,
         68,
         34065
        ],
        [
         "[Log] 68: Twitter pays up to $150M for Magic Pony Technology, which uses neural networks to improve images",
         "[Log] 68: http://feedproxy.google.com/~r/Techcrunch/~3/YL8NcsD8nog/",
         2854.0,
         3.0,
         8,
         2,
         69,
         17124
        ],
        [
         "[Log] 69: Learn deeply, but baby, don’t fear the Skynet",
         "[Log] 69: http://feedproxy.google.com/~r/Techcrunch/~3/Y2-DiQSRzRo/",
         1443.0,
         5.0,
         12,
         4,
         70,
         15512
        ],
        [
         "[Log] 70: Neural networks: Artificial intelligence and our future",
         "[Log] 70: http://feedproxy.google.com/~r/Techcrunch/~3/vt6py_Preqg/",
         1817.0,
         5.0,
         13,
         2,
         71,
         9085
        ],
        [
         "[Log] 72: What Should We Do With All of That Content?",
         "[Log] 72: http://www.adweek.com/socialtimes/what-should-we-do-with-all-of-that-content/638662",
         1266.0,
         6.0,
         4,
         2,
         73,
         16458
        ],
        [
         "[Log] 73: ¿Qué es el Machine Learning?",
         "[Log] 73: http://jarroba.com/que-es-el-machine-learning/",
         2275.0,
         4.0,
         2,
         6,
         74,
         55738
        ],
        [
         "[Log] 74: Magic Pony’s neural network dreams up new imagery to expand an existing picture",
         "[Log] 74: http://feedproxy.google.com/~r/Techcrunch/~3/V2vOBiN91Y8/",
         1264.0,
         1.0,
         1,
         5,
         75,
         18012
        ],
        [
         "[Log] 75: From recording to reacting: Neural networks are changing notions of surveillance",
         "[Log] 75: http://feedproxy.google.com/~r/Techcrunch/~3/-ELdi2uNQ2A/",
         2212.0,
         3.0,
         13,
         6,
         76,
         35392
        ],
        [
         "[Log] 76: NVIDIA announces a supercomputer aimed at deep learning and AI",
         "[Log] 76: http://feedproxy.google.com/~r/Techcrunch/~3/3zv0iKyNavw/",
         1871.0,
         6.0,
         14,
         4,
         77,
         26194
        ],
        [
         "[Log] 77: Following Artificial Intelligence Breakthrough, European Go Champion Loses Against Computer",
         "[Log] 77: http://feedproxy.google.com/~r/Techcrunch/~3/R83TWzcalgI/",
         2513.0,
         7.0,
         3,
         4,
         78,
         55914
        ],
        [
         "[Log] 78: Years & Years Releases Music Video Created With Google’s DeepDream Technology",
         "[Log] 78: http://feedproxy.google.com/~r/Techcrunch/~3/WH1cezmHceA/",
         1443.0,
         7.0,
         8,
         1,
         79,
         3968
        ],
        [
         "[Log] 79: Facebook Updates Progress on Artificial Intelligence",
         "[Log] 79: http://www.adweek.com/socialtimes/artificial-intelligence-update/629412",
         912.0,
         5.0,
         14,
         6,
         80,
         1824
        ],
        [
         "[Log] 80: On Neuromarketing and Conversions – Interview with Tim Ash [+Webinar]",
         "[Log] 80: http://blog.getresponse.com/on-neuromarketing-and-conversions-interview-with-tim-ash-webinar.html",
         2366.0,
         2.0,
         12,
         1,
         81,
         2958
        ],
        [
         "[Log] 81: Understanding Artificial Intelligence &#8211; and Why We Fear It",
         "[Log] 81: http://rss.feedsportal.com/c/35261/f/656072/s/481c0ec8/sc/14/l/0L0Shongkiat0N0Cblog0Cunderstanding0Eartificial0Eintelligence0C/story01.htm",
         1542.0,
         6.0,
         1,
         6,
         82,
         22359
        ],
        [
         "[Log] 82: The “Coming Out” of the Electrical Synapse",
         "[Log] 82: http://www.blog-thebrain.org/advanced/2015/03/14/988/",
         1201.0,
         1.0,
         0,
         1,
         83,
         8707
        ],
        [
         "[Log] 83: How Google Uses Machine Learning And Neural Networks To Optimize Data Centers",
         "[Log] 83: http://feedproxy.google.com/~r/Techcrunch/~3/pqloDGxiqb8/",
         3239.0,
         3.0,
         11,
         1,
         84,
         3239
        ],
        [
         "[Log] 84: Zuck Knows If You've Been Bad Or Good, So Be Good For Goodness' Sake",
         "[Log] 84: http://feedproxy.google.com/~r/Techcrunch/~3/tFA-5Utj6vA/",
         2566.0,
         3.0,
         8,
         4,
         85,
         25019
        ],
        [
         "[Log] 85: Microsoft Improves Windows Phone Voice Recognition: 2X Faster, 15% More Accurate",
         "[Log] 85: http://feedproxy.google.com/~r/Techcrunch/~3/8me_bd7gHv0/",
         2089.0,
         4.0,
         4,
         1,
         86,
         49614
        ],
        [
         "[Log] 86: How Google's Acquisition Of DNNresearch Allowed It To Build Its Impressive Google+ Photo Search In 6 Months",
         "[Log] 86: http://feedproxy.google.com/~r/Techcrunch/~3/vW_ie-I_fss/",
         1530.0,
         4.0,
         12,
         3,
         87,
         33660
        ],
        [
         "[Log] 87: Google's Cloud Is Eating Apple's Lunch",
         "[Log] 87: http://feedproxy.google.com/~r/Techcrunch/~3/gRBLqOod1rs/",
         953.0,
         6.0,
         13,
         2,
         88,
         5956
        ]
       ],
       "datasetInfos": [],
       "dbfsResultPath": null,
       "isJsonSchema": true,
       "metadata": {},
       "overflow": false,
       "plotOptions": {
        "customPlotOptions": {},
        "displayType": "table",
        "pivotAggregation": null,
        "pivotColumns": null,
        "xColumns": null,
        "yColumns": null
       },
       "removedWidgets": [],
       "schema": [
        {
         "metadata": "{}",
         "name": "Title",
         "type": "\"string\""
        },
        {
         "metadata": "{}",
         "name": "url",
         "type": "\"string\""
        },
        {
         "metadata": "{}",
         "name": "Word count",
         "type": "\"double\""
        },
        {
         "metadata": "{}",
         "name": "# of Links",
         "type": "\"double\""
        },
        {
         "metadata": "{}",
         "name": "# of comments",
         "type": "\"long\""
        },
        {
         "metadata": "{}",
         "name": "# Images video",
         "type": "\"integer\""
        },
        {
         "metadata": "{}",
         "name": "Elapsed days",
         "type": "\"integer\""
        },
        {
         "metadata": "{}",
         "name": "# Shares",
         "type": "\"integer\""
        }
       ],
       "type": "table"
      }
     },
     "output_type": "display_data"
    }
   ],
   "source": [
    "spark.conf.set(\"spark.sql.execution.arrow.enabled\",\"true\")\n",
    "articulos=spark.createDataFrame(articulos_pd)\n",
    "display(articulos)"
   ]
  },
  {
   "cell_type": "markdown",
   "metadata": {
    "application/vnd.databricks.v1+cell": {
     "cellMetadata": {},
     "inputWidgets": {},
     "nuid": "8f643a09-3fc9-4d2f-8a35-7cc8d6e8adf6",
     "showTitle": false,
     "title": ""
    }
   },
   "source": [
    "#### Dividir aleatoriamente los datos en conjuntos de entrenamiento(train) y prueba(test)."
   ]
  },
  {
   "cell_type": "code",
   "execution_count": 0,
   "metadata": {
    "application/vnd.databricks.v1+cell": {
     "cellMetadata": {},
     "inputWidgets": {},
     "nuid": "17c6a988-d365-46b1-82c5-459ac82aa286",
     "showTitle": false,
     "title": ""
    }
   },
   "outputs": [
    {
     "output_type": "stream",
     "name": "stdout",
     "output_type": "stream",
     "text": [
      "115\n33\n"
     ]
    }
   ],
   "source": [
    "# La mayor parte se utilizan para el conjunto de datos de entrenamiento, por ejemplo: 80%\n",
    "# La menor parte se utilizan para el conjunto de datos de prueba, por ejemplo 20%\n",
    "\n",
    "# seed : para umentar la reproductibilidad del modelo\n",
    "trainDF, testDF = articulos.randomSplit([0.8,0.2], seed=42) # Definimos que el 80% de los datos serán para entrenamiento y el 20% para test\n",
    "\n",
    "# Almacenamos la data de entrenamiento en caché, para que su uso se más rápido\n",
    "print(trainDF.cache().count()) # cantidad de datos definidos para entrenamiento (train)\n",
    "print(testDF.count()) # cantidad de datos definidos para prueba (test)"
   ]
  },
  {
   "cell_type": "markdown",
   "metadata": {
    "application/vnd.databricks.v1+cell": {
     "cellMetadata": {},
     "inputWidgets": {},
     "nuid": "5c1cdaa9-92ef-4cbc-aed6-44ad42e1790c",
     "showTitle": false,
     "title": ""
    }
   },
   "source": [
    "### Paso 2: Preprocesamiento de características\n",
    "- Categorizaremos solo columnas numéricas, en este caso no consideraremos las de cadena, ya que no son relevantes para la predicción"
   ]
  },
  {
   "cell_type": "code",
   "execution_count": 0,
   "metadata": {
    "application/vnd.databricks.v1+cell": {
     "cellMetadata": {},
     "inputWidgets": {},
     "nuid": "7ef87137-c1af-4046-8a56-1c6f72f6afbd",
     "showTitle": false,
     "title": ""
    }
   },
   "outputs": [],
   "source": [
    "# Importamos la libería que utilizaremos\n",
    "from pyspark.ml.feature import VectorAssembler\n",
    "\n",
    "# Definimos las columnas numéricas\n",
    "numCols=[\"Word count\",\"# of Links\",\"# of comments\",\"# Images video\",\"Elapsed days\"]\n",
    "\n",
    "# Definimos el conjunto de variables que vienen de las variables categóricas que solo serían numéricas\n",
    "assemblerInputs=numCols\n",
    "\n",
    "# Varibale objetivo: # Shared\n",
    "labelToIndex = \"# Shares\"\n",
    "#vecAssembler = VectorAssembler(inputCol=\"# Shares\", outputCol=\"label\")\n",
    "\n",
    "# Definimos una sola columna de características (entrada)\n",
    "vecAssembler = VectorAssembler(inputCols=assemblerInputs, outputCol=\"features\")"
   ]
  },
  {
   "cell_type": "markdown",
   "metadata": {
    "application/vnd.databricks.v1+cell": {
     "cellMetadata": {},
     "inputWidgets": {},
     "nuid": "c601fbcd-cfc7-46bf-80da-e74e76c2d4f3",
     "showTitle": false,
     "title": ""
    }
   },
   "source": [
    "### Averiguar como definir el label para una columna numérica"
   ]
  },
  {
   "cell_type": "markdown",
   "metadata": {
    "application/vnd.databricks.v1+cell": {
     "cellMetadata": {},
     "inputWidgets": {},
     "nuid": "3df9fc12-7dff-47a7-92f7-3eb62c0784bc",
     "showTitle": false,
     "title": ""
    }
   },
   "source": [
    "### Paso 3: Definir el modelo"
   ]
  },
  {
   "cell_type": "markdown",
   "metadata": {
    "application/vnd.databricks.v1+cell": {
     "cellMetadata": {},
     "inputWidgets": {},
     "nuid": "30a15eaa-d6a3-4b68-931f-eb8ca75297e3",
     "showTitle": false,
     "title": ""
    }
   },
   "source": [
    "Utilizaremos un modelo de **regresión logística**, ya que se trata de un caso de clasificación binaria"
   ]
  },
  {
   "cell_type": "code",
   "execution_count": 0,
   "metadata": {
    "application/vnd.databricks.v1+cell": {
     "cellMetadata": {},
     "inputWidgets": {},
     "nuid": "25ecf37c-fe2f-4968-9e7b-a94e80ca3ebb",
     "showTitle": false,
     "title": ""
    }
   },
   "outputs": [],
   "source": [
    "# Importamos la librería necesaria\n",
    "from pyspark.ml.classification import LogisticRegression\n",
    "\n",
    "# Definimos el modelo\n",
    "# features : variables predictoras\n",
    "# label : varibale objetivo\n",
    "lr=LogisticRegression(featuresCol=\"features\", labelCol=\"label\", regParam=1.0)"
   ]
  },
  {
   "cell_type": "markdown",
   "metadata": {
    "application/vnd.databricks.v1+cell": {
     "cellMetadata": {},
     "inputWidgets": {},
     "nuid": "30c89d34-19c4-487b-881c-f03520a116f3",
     "showTitle": false,
     "title": ""
    }
   },
   "source": [
    "## Paso 4. Construir la canalización"
   ]
  },
  {
   "cell_type": "code",
   "execution_count": 0,
   "metadata": {
    "application/vnd.databricks.v1+cell": {
     "cellMetadata": {},
     "inputWidgets": {},
     "nuid": "28a3dc24-546b-45c5-88ca-537cbafd248c",
     "showTitle": false,
     "title": ""
    }
   },
   "outputs": [],
   "source": [
    "# Importamos la libería necesaria\n",
    "from pyspark.ml import Pipeline\n",
    "\n",
    "# Definimos la canalización en función de las etapas creadas en los pasos anteriores\n",
    "pipeline = Pipeline(stages=[labelToIndex,vecAssembler, lr])\n",
    "\n",
    "# Definimos el modelo de canalización y entrenamos el dataset de entrenamiento\n",
    "#pipelineModel = pipeline.fit(trainDF)\n",
    "\n",
    "# Aplicamos el modelo de canalización al dataset de prueba\n",
    "predDF=pipelineModel.transform(testDF) # realizamos una predicción con la función transforma con el dataset de test"
   ]
  },
  {
   "cell_type": "markdown",
   "metadata": {
    "application/vnd.databricks.v1+cell": {
     "cellMetadata": {},
     "inputWidgets": {},
     "nuid": "ac501f96-21a9-4025-80c2-e416190a473f",
     "showTitle": false,
     "title": ""
    }
   },
   "source": [
    "Mostramos los resultados de la predicción"
   ]
  },
  {
   "cell_type": "code",
   "execution_count": 0,
   "metadata": {
    "application/vnd.databricks.v1+cell": {
     "cellMetadata": {},
     "inputWidgets": {},
     "nuid": "408d4d03-b34f-436c-9f78-b3f76938cc3a",
     "showTitle": false,
     "title": ""
    }
   },
   "outputs": [],
   "source": [
    "# features : conjunto de variables que unificamos\n",
    "# label : variable objetivo, que convertimos a 0 y 1\n",
    "# prediction: resultado que devuleve el modelo\n",
    "# probability : certeza del modelo y la probabilidad que asigna a una clase\n",
    "\n",
    "#display(predDF.select(\"features\",\"label\",\"prediction\",\"probability\"))"
   ]
  }
 ],
 "metadata": {
  "application/vnd.databricks.v1+notebook": {
   "dashboards": [],
   "language": "python",
   "notebookMetadata": {
    "pythonIndentUnit": 4
   },
   "notebookName": "ML Articulos Blog",
   "widgets": {}
  }
 },
 "nbformat": 4,
 "nbformat_minor": 0
}
